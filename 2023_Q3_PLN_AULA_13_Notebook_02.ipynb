{
  "nbformat": 4,
  "nbformat_minor": 0,
  "metadata": {
    "colab": {
      "provenance": [],
      "include_colab_link": true
    },
    "kernelspec": {
      "name": "python3",
      "display_name": "Python 3"
    },
    "widgets": {
      "application/vnd.jupyter.widget-state+json": {
        "2f2f6b5b7c5645ee860744611f0c3979": {
          "model_module": "@jupyter-widgets/controls",
          "model_name": "HBoxModel",
          "model_module_version": "1.5.0",
          "state": {
            "_dom_classes": [],
            "_model_module": "@jupyter-widgets/controls",
            "_model_module_version": "1.5.0",
            "_model_name": "HBoxModel",
            "_view_count": null,
            "_view_module": "@jupyter-widgets/controls",
            "_view_module_version": "1.5.0",
            "_view_name": "HBoxView",
            "box_style": "",
            "children": [
              "IPY_MODEL_b852654ffd724504a4d037eb0d100b85",
              "IPY_MODEL_9f0d42b9a86c4c7d8ff2ff7efaed474f",
              "IPY_MODEL_c0dbbdad52954d98b5518ca5e8b74a84"
            ],
            "layout": "IPY_MODEL_e02286e8f96148399c073fac80cd9750"
          }
        },
        "b852654ffd724504a4d037eb0d100b85": {
          "model_module": "@jupyter-widgets/controls",
          "model_name": "HTMLModel",
          "model_module_version": "1.5.0",
          "state": {
            "_dom_classes": [],
            "_model_module": "@jupyter-widgets/controls",
            "_model_module_version": "1.5.0",
            "_model_name": "HTMLModel",
            "_view_count": null,
            "_view_module": "@jupyter-widgets/controls",
            "_view_module_version": "1.5.0",
            "_view_name": "HTMLView",
            "description": "",
            "description_tooltip": null,
            "layout": "IPY_MODEL_93dec76c3ef045e8815c988e5f55574f",
            "placeholder": "​",
            "style": "IPY_MODEL_3f9a9b5f02af4ba88696d7dcc1dde019",
            "value": "Downloading (…)okenizer_config.json: 100%"
          }
        },
        "9f0d42b9a86c4c7d8ff2ff7efaed474f": {
          "model_module": "@jupyter-widgets/controls",
          "model_name": "FloatProgressModel",
          "model_module_version": "1.5.0",
          "state": {
            "_dom_classes": [],
            "_model_module": "@jupyter-widgets/controls",
            "_model_module_version": "1.5.0",
            "_model_name": "FloatProgressModel",
            "_view_count": null,
            "_view_module": "@jupyter-widgets/controls",
            "_view_module_version": "1.5.0",
            "_view_name": "ProgressView",
            "bar_style": "success",
            "description": "",
            "description_tooltip": null,
            "layout": "IPY_MODEL_659e259c76874cc2ab0ceb0d9dd12c06",
            "max": 155,
            "min": 0,
            "orientation": "horizontal",
            "style": "IPY_MODEL_099a9b56eef14db7aa6741cfacdf6858",
            "value": 155
          }
        },
        "c0dbbdad52954d98b5518ca5e8b74a84": {
          "model_module": "@jupyter-widgets/controls",
          "model_name": "HTMLModel",
          "model_module_version": "1.5.0",
          "state": {
            "_dom_classes": [],
            "_model_module": "@jupyter-widgets/controls",
            "_model_module_version": "1.5.0",
            "_model_name": "HTMLModel",
            "_view_count": null,
            "_view_module": "@jupyter-widgets/controls",
            "_view_module_version": "1.5.0",
            "_view_name": "HTMLView",
            "description": "",
            "description_tooltip": null,
            "layout": "IPY_MODEL_25b9d457b2c44c39a5f0242590294c15",
            "placeholder": "​",
            "style": "IPY_MODEL_e41d0da8c9b141cb9618019b94ea783f",
            "value": " 155/155 [00:00&lt;00:00, 3.91kB/s]"
          }
        },
        "e02286e8f96148399c073fac80cd9750": {
          "model_module": "@jupyter-widgets/base",
          "model_name": "LayoutModel",
          "model_module_version": "1.2.0",
          "state": {
            "_model_module": "@jupyter-widgets/base",
            "_model_module_version": "1.2.0",
            "_model_name": "LayoutModel",
            "_view_count": null,
            "_view_module": "@jupyter-widgets/base",
            "_view_module_version": "1.2.0",
            "_view_name": "LayoutView",
            "align_content": null,
            "align_items": null,
            "align_self": null,
            "border": null,
            "bottom": null,
            "display": null,
            "flex": null,
            "flex_flow": null,
            "grid_area": null,
            "grid_auto_columns": null,
            "grid_auto_flow": null,
            "grid_auto_rows": null,
            "grid_column": null,
            "grid_gap": null,
            "grid_row": null,
            "grid_template_areas": null,
            "grid_template_columns": null,
            "grid_template_rows": null,
            "height": null,
            "justify_content": null,
            "justify_items": null,
            "left": null,
            "margin": null,
            "max_height": null,
            "max_width": null,
            "min_height": null,
            "min_width": null,
            "object_fit": null,
            "object_position": null,
            "order": null,
            "overflow": null,
            "overflow_x": null,
            "overflow_y": null,
            "padding": null,
            "right": null,
            "top": null,
            "visibility": null,
            "width": null
          }
        },
        "93dec76c3ef045e8815c988e5f55574f": {
          "model_module": "@jupyter-widgets/base",
          "model_name": "LayoutModel",
          "model_module_version": "1.2.0",
          "state": {
            "_model_module": "@jupyter-widgets/base",
            "_model_module_version": "1.2.0",
            "_model_name": "LayoutModel",
            "_view_count": null,
            "_view_module": "@jupyter-widgets/base",
            "_view_module_version": "1.2.0",
            "_view_name": "LayoutView",
            "align_content": null,
            "align_items": null,
            "align_self": null,
            "border": null,
            "bottom": null,
            "display": null,
            "flex": null,
            "flex_flow": null,
            "grid_area": null,
            "grid_auto_columns": null,
            "grid_auto_flow": null,
            "grid_auto_rows": null,
            "grid_column": null,
            "grid_gap": null,
            "grid_row": null,
            "grid_template_areas": null,
            "grid_template_columns": null,
            "grid_template_rows": null,
            "height": null,
            "justify_content": null,
            "justify_items": null,
            "left": null,
            "margin": null,
            "max_height": null,
            "max_width": null,
            "min_height": null,
            "min_width": null,
            "object_fit": null,
            "object_position": null,
            "order": null,
            "overflow": null,
            "overflow_x": null,
            "overflow_y": null,
            "padding": null,
            "right": null,
            "top": null,
            "visibility": null,
            "width": null
          }
        },
        "3f9a9b5f02af4ba88696d7dcc1dde019": {
          "model_module": "@jupyter-widgets/controls",
          "model_name": "DescriptionStyleModel",
          "model_module_version": "1.5.0",
          "state": {
            "_model_module": "@jupyter-widgets/controls",
            "_model_module_version": "1.5.0",
            "_model_name": "DescriptionStyleModel",
            "_view_count": null,
            "_view_module": "@jupyter-widgets/base",
            "_view_module_version": "1.2.0",
            "_view_name": "StyleView",
            "description_width": ""
          }
        },
        "659e259c76874cc2ab0ceb0d9dd12c06": {
          "model_module": "@jupyter-widgets/base",
          "model_name": "LayoutModel",
          "model_module_version": "1.2.0",
          "state": {
            "_model_module": "@jupyter-widgets/base",
            "_model_module_version": "1.2.0",
            "_model_name": "LayoutModel",
            "_view_count": null,
            "_view_module": "@jupyter-widgets/base",
            "_view_module_version": "1.2.0",
            "_view_name": "LayoutView",
            "align_content": null,
            "align_items": null,
            "align_self": null,
            "border": null,
            "bottom": null,
            "display": null,
            "flex": null,
            "flex_flow": null,
            "grid_area": null,
            "grid_auto_columns": null,
            "grid_auto_flow": null,
            "grid_auto_rows": null,
            "grid_column": null,
            "grid_gap": null,
            "grid_row": null,
            "grid_template_areas": null,
            "grid_template_columns": null,
            "grid_template_rows": null,
            "height": null,
            "justify_content": null,
            "justify_items": null,
            "left": null,
            "margin": null,
            "max_height": null,
            "max_width": null,
            "min_height": null,
            "min_width": null,
            "object_fit": null,
            "object_position": null,
            "order": null,
            "overflow": null,
            "overflow_x": null,
            "overflow_y": null,
            "padding": null,
            "right": null,
            "top": null,
            "visibility": null,
            "width": null
          }
        },
        "099a9b56eef14db7aa6741cfacdf6858": {
          "model_module": "@jupyter-widgets/controls",
          "model_name": "ProgressStyleModel",
          "model_module_version": "1.5.0",
          "state": {
            "_model_module": "@jupyter-widgets/controls",
            "_model_module_version": "1.5.0",
            "_model_name": "ProgressStyleModel",
            "_view_count": null,
            "_view_module": "@jupyter-widgets/base",
            "_view_module_version": "1.2.0",
            "_view_name": "StyleView",
            "bar_color": null,
            "description_width": ""
          }
        },
        "25b9d457b2c44c39a5f0242590294c15": {
          "model_module": "@jupyter-widgets/base",
          "model_name": "LayoutModel",
          "model_module_version": "1.2.0",
          "state": {
            "_model_module": "@jupyter-widgets/base",
            "_model_module_version": "1.2.0",
            "_model_name": "LayoutModel",
            "_view_count": null,
            "_view_module": "@jupyter-widgets/base",
            "_view_module_version": "1.2.0",
            "_view_name": "LayoutView",
            "align_content": null,
            "align_items": null,
            "align_self": null,
            "border": null,
            "bottom": null,
            "display": null,
            "flex": null,
            "flex_flow": null,
            "grid_area": null,
            "grid_auto_columns": null,
            "grid_auto_flow": null,
            "grid_auto_rows": null,
            "grid_column": null,
            "grid_gap": null,
            "grid_row": null,
            "grid_template_areas": null,
            "grid_template_columns": null,
            "grid_template_rows": null,
            "height": null,
            "justify_content": null,
            "justify_items": null,
            "left": null,
            "margin": null,
            "max_height": null,
            "max_width": null,
            "min_height": null,
            "min_width": null,
            "object_fit": null,
            "object_position": null,
            "order": null,
            "overflow": null,
            "overflow_x": null,
            "overflow_y": null,
            "padding": null,
            "right": null,
            "top": null,
            "visibility": null,
            "width": null
          }
        },
        "e41d0da8c9b141cb9618019b94ea783f": {
          "model_module": "@jupyter-widgets/controls",
          "model_name": "DescriptionStyleModel",
          "model_module_version": "1.5.0",
          "state": {
            "_model_module": "@jupyter-widgets/controls",
            "_model_module_version": "1.5.0",
            "_model_name": "DescriptionStyleModel",
            "_view_count": null,
            "_view_module": "@jupyter-widgets/base",
            "_view_module_version": "1.2.0",
            "_view_name": "StyleView",
            "description_width": ""
          }
        },
        "a4fe805471614d6389b70e757663f5e5": {
          "model_module": "@jupyter-widgets/controls",
          "model_name": "HBoxModel",
          "model_module_version": "1.5.0",
          "state": {
            "_dom_classes": [],
            "_model_module": "@jupyter-widgets/controls",
            "_model_module_version": "1.5.0",
            "_model_name": "HBoxModel",
            "_view_count": null,
            "_view_module": "@jupyter-widgets/controls",
            "_view_module_version": "1.5.0",
            "_view_name": "HBoxView",
            "box_style": "",
            "children": [
              "IPY_MODEL_e9cedc231fac4de696bf545accda17db",
              "IPY_MODEL_6ff4d762f600462ea6f6df49400ff0a8",
              "IPY_MODEL_525841454131444097848d696d5c9ea0"
            ],
            "layout": "IPY_MODEL_bde69d8fa52c4c1fb3521ed02dd4b49f"
          }
        },
        "e9cedc231fac4de696bf545accda17db": {
          "model_module": "@jupyter-widgets/controls",
          "model_name": "HTMLModel",
          "model_module_version": "1.5.0",
          "state": {
            "_dom_classes": [],
            "_model_module": "@jupyter-widgets/controls",
            "_model_module_version": "1.5.0",
            "_model_name": "HTMLModel",
            "_view_count": null,
            "_view_module": "@jupyter-widgets/controls",
            "_view_module_version": "1.5.0",
            "_view_name": "HTMLView",
            "description": "",
            "description_tooltip": null,
            "layout": "IPY_MODEL_18a44bc6d727421abccf9df3d2836ad0",
            "placeholder": "​",
            "style": "IPY_MODEL_e6d8801824b54066a6dfcbe4c50d6ae1",
            "value": "Downloading (…)lve/main/config.json: 100%"
          }
        },
        "6ff4d762f600462ea6f6df49400ff0a8": {
          "model_module": "@jupyter-widgets/controls",
          "model_name": "FloatProgressModel",
          "model_module_version": "1.5.0",
          "state": {
            "_dom_classes": [],
            "_model_module": "@jupyter-widgets/controls",
            "_model_module_version": "1.5.0",
            "_model_name": "FloatProgressModel",
            "_view_count": null,
            "_view_module": "@jupyter-widgets/controls",
            "_view_module_version": "1.5.0",
            "_view_name": "ProgressView",
            "bar_style": "success",
            "description": "",
            "description_tooltip": null,
            "layout": "IPY_MODEL_5625f52e08f843d186911121c8a2e40e",
            "max": 648,
            "min": 0,
            "orientation": "horizontal",
            "style": "IPY_MODEL_8b6493bf4f744219a4ca0e288d4e84fc",
            "value": 648
          }
        },
        "525841454131444097848d696d5c9ea0": {
          "model_module": "@jupyter-widgets/controls",
          "model_name": "HTMLModel",
          "model_module_version": "1.5.0",
          "state": {
            "_dom_classes": [],
            "_model_module": "@jupyter-widgets/controls",
            "_model_module_version": "1.5.0",
            "_model_name": "HTMLModel",
            "_view_count": null,
            "_view_module": "@jupyter-widgets/controls",
            "_view_module_version": "1.5.0",
            "_view_name": "HTMLView",
            "description": "",
            "description_tooltip": null,
            "layout": "IPY_MODEL_b360dc4814984f2f898e03aaadd11c01",
            "placeholder": "​",
            "style": "IPY_MODEL_2500bf657cb944a48ea509507ef5b485",
            "value": " 648/648 [00:00&lt;00:00, 31.3kB/s]"
          }
        },
        "bde69d8fa52c4c1fb3521ed02dd4b49f": {
          "model_module": "@jupyter-widgets/base",
          "model_name": "LayoutModel",
          "model_module_version": "1.2.0",
          "state": {
            "_model_module": "@jupyter-widgets/base",
            "_model_module_version": "1.2.0",
            "_model_name": "LayoutModel",
            "_view_count": null,
            "_view_module": "@jupyter-widgets/base",
            "_view_module_version": "1.2.0",
            "_view_name": "LayoutView",
            "align_content": null,
            "align_items": null,
            "align_self": null,
            "border": null,
            "bottom": null,
            "display": null,
            "flex": null,
            "flex_flow": null,
            "grid_area": null,
            "grid_auto_columns": null,
            "grid_auto_flow": null,
            "grid_auto_rows": null,
            "grid_column": null,
            "grid_gap": null,
            "grid_row": null,
            "grid_template_areas": null,
            "grid_template_columns": null,
            "grid_template_rows": null,
            "height": null,
            "justify_content": null,
            "justify_items": null,
            "left": null,
            "margin": null,
            "max_height": null,
            "max_width": null,
            "min_height": null,
            "min_width": null,
            "object_fit": null,
            "object_position": null,
            "order": null,
            "overflow": null,
            "overflow_x": null,
            "overflow_y": null,
            "padding": null,
            "right": null,
            "top": null,
            "visibility": null,
            "width": null
          }
        },
        "18a44bc6d727421abccf9df3d2836ad0": {
          "model_module": "@jupyter-widgets/base",
          "model_name": "LayoutModel",
          "model_module_version": "1.2.0",
          "state": {
            "_model_module": "@jupyter-widgets/base",
            "_model_module_version": "1.2.0",
            "_model_name": "LayoutModel",
            "_view_count": null,
            "_view_module": "@jupyter-widgets/base",
            "_view_module_version": "1.2.0",
            "_view_name": "LayoutView",
            "align_content": null,
            "align_items": null,
            "align_self": null,
            "border": null,
            "bottom": null,
            "display": null,
            "flex": null,
            "flex_flow": null,
            "grid_area": null,
            "grid_auto_columns": null,
            "grid_auto_flow": null,
            "grid_auto_rows": null,
            "grid_column": null,
            "grid_gap": null,
            "grid_row": null,
            "grid_template_areas": null,
            "grid_template_columns": null,
            "grid_template_rows": null,
            "height": null,
            "justify_content": null,
            "justify_items": null,
            "left": null,
            "margin": null,
            "max_height": null,
            "max_width": null,
            "min_height": null,
            "min_width": null,
            "object_fit": null,
            "object_position": null,
            "order": null,
            "overflow": null,
            "overflow_x": null,
            "overflow_y": null,
            "padding": null,
            "right": null,
            "top": null,
            "visibility": null,
            "width": null
          }
        },
        "e6d8801824b54066a6dfcbe4c50d6ae1": {
          "model_module": "@jupyter-widgets/controls",
          "model_name": "DescriptionStyleModel",
          "model_module_version": "1.5.0",
          "state": {
            "_model_module": "@jupyter-widgets/controls",
            "_model_module_version": "1.5.0",
            "_model_name": "DescriptionStyleModel",
            "_view_count": null,
            "_view_module": "@jupyter-widgets/base",
            "_view_module_version": "1.2.0",
            "_view_name": "StyleView",
            "description_width": ""
          }
        },
        "5625f52e08f843d186911121c8a2e40e": {
          "model_module": "@jupyter-widgets/base",
          "model_name": "LayoutModel",
          "model_module_version": "1.2.0",
          "state": {
            "_model_module": "@jupyter-widgets/base",
            "_model_module_version": "1.2.0",
            "_model_name": "LayoutModel",
            "_view_count": null,
            "_view_module": "@jupyter-widgets/base",
            "_view_module_version": "1.2.0",
            "_view_name": "LayoutView",
            "align_content": null,
            "align_items": null,
            "align_self": null,
            "border": null,
            "bottom": null,
            "display": null,
            "flex": null,
            "flex_flow": null,
            "grid_area": null,
            "grid_auto_columns": null,
            "grid_auto_flow": null,
            "grid_auto_rows": null,
            "grid_column": null,
            "grid_gap": null,
            "grid_row": null,
            "grid_template_areas": null,
            "grid_template_columns": null,
            "grid_template_rows": null,
            "height": null,
            "justify_content": null,
            "justify_items": null,
            "left": null,
            "margin": null,
            "max_height": null,
            "max_width": null,
            "min_height": null,
            "min_width": null,
            "object_fit": null,
            "object_position": null,
            "order": null,
            "overflow": null,
            "overflow_x": null,
            "overflow_y": null,
            "padding": null,
            "right": null,
            "top": null,
            "visibility": null,
            "width": null
          }
        },
        "8b6493bf4f744219a4ca0e288d4e84fc": {
          "model_module": "@jupyter-widgets/controls",
          "model_name": "ProgressStyleModel",
          "model_module_version": "1.5.0",
          "state": {
            "_model_module": "@jupyter-widgets/controls",
            "_model_module_version": "1.5.0",
            "_model_name": "ProgressStyleModel",
            "_view_count": null,
            "_view_module": "@jupyter-widgets/base",
            "_view_module_version": "1.2.0",
            "_view_name": "StyleView",
            "bar_color": null,
            "description_width": ""
          }
        },
        "b360dc4814984f2f898e03aaadd11c01": {
          "model_module": "@jupyter-widgets/base",
          "model_name": "LayoutModel",
          "model_module_version": "1.2.0",
          "state": {
            "_model_module": "@jupyter-widgets/base",
            "_model_module_version": "1.2.0",
            "_model_name": "LayoutModel",
            "_view_count": null,
            "_view_module": "@jupyter-widgets/base",
            "_view_module_version": "1.2.0",
            "_view_name": "LayoutView",
            "align_content": null,
            "align_items": null,
            "align_self": null,
            "border": null,
            "bottom": null,
            "display": null,
            "flex": null,
            "flex_flow": null,
            "grid_area": null,
            "grid_auto_columns": null,
            "grid_auto_flow": null,
            "grid_auto_rows": null,
            "grid_column": null,
            "grid_gap": null,
            "grid_row": null,
            "grid_template_areas": null,
            "grid_template_columns": null,
            "grid_template_rows": null,
            "height": null,
            "justify_content": null,
            "justify_items": null,
            "left": null,
            "margin": null,
            "max_height": null,
            "max_width": null,
            "min_height": null,
            "min_width": null,
            "object_fit": null,
            "object_position": null,
            "order": null,
            "overflow": null,
            "overflow_x": null,
            "overflow_y": null,
            "padding": null,
            "right": null,
            "top": null,
            "visibility": null,
            "width": null
          }
        },
        "2500bf657cb944a48ea509507ef5b485": {
          "model_module": "@jupyter-widgets/controls",
          "model_name": "DescriptionStyleModel",
          "model_module_version": "1.5.0",
          "state": {
            "_model_module": "@jupyter-widgets/controls",
            "_model_module_version": "1.5.0",
            "_model_name": "DescriptionStyleModel",
            "_view_count": null,
            "_view_module": "@jupyter-widgets/base",
            "_view_module_version": "1.2.0",
            "_view_name": "StyleView",
            "description_width": ""
          }
        },
        "26e64e46ad4840308d5141df8fbd3c78": {
          "model_module": "@jupyter-widgets/controls",
          "model_name": "HBoxModel",
          "model_module_version": "1.5.0",
          "state": {
            "_dom_classes": [],
            "_model_module": "@jupyter-widgets/controls",
            "_model_module_version": "1.5.0",
            "_model_name": "HBoxModel",
            "_view_count": null,
            "_view_module": "@jupyter-widgets/controls",
            "_view_module_version": "1.5.0",
            "_view_name": "HBoxView",
            "box_style": "",
            "children": [
              "IPY_MODEL_77f9ec13f0c24a33b5c26cbc5981438e",
              "IPY_MODEL_6b37fccd82a2484fa3625f3aa85b4a31",
              "IPY_MODEL_3ff80a3242b44d498d410837e76b1a7d"
            ],
            "layout": "IPY_MODEL_a875ff6e39aa4a748fa9e583adaed62b"
          }
        },
        "77f9ec13f0c24a33b5c26cbc5981438e": {
          "model_module": "@jupyter-widgets/controls",
          "model_name": "HTMLModel",
          "model_module_version": "1.5.0",
          "state": {
            "_dom_classes": [],
            "_model_module": "@jupyter-widgets/controls",
            "_model_module_version": "1.5.0",
            "_model_name": "HTMLModel",
            "_view_count": null,
            "_view_module": "@jupyter-widgets/controls",
            "_view_module_version": "1.5.0",
            "_view_name": "HTMLView",
            "description": "",
            "description_tooltip": null,
            "layout": "IPY_MODEL_edf0c26722c44352aa60fc7eccf4e370",
            "placeholder": "​",
            "style": "IPY_MODEL_4b769fa883d54d1d9593e5518ca62c42",
            "value": "Downloading (…)solve/main/vocab.txt: 100%"
          }
        },
        "6b37fccd82a2484fa3625f3aa85b4a31": {
          "model_module": "@jupyter-widgets/controls",
          "model_name": "FloatProgressModel",
          "model_module_version": "1.5.0",
          "state": {
            "_dom_classes": [],
            "_model_module": "@jupyter-widgets/controls",
            "_model_module_version": "1.5.0",
            "_model_name": "FloatProgressModel",
            "_view_count": null,
            "_view_module": "@jupyter-widgets/controls",
            "_view_module_version": "1.5.0",
            "_view_name": "ProgressView",
            "bar_style": "success",
            "description": "",
            "description_tooltip": null,
            "layout": "IPY_MODEL_d783ac70921141b1bc826d10afb772fc",
            "max": 209528,
            "min": 0,
            "orientation": "horizontal",
            "style": "IPY_MODEL_069f0ac3e99149dc808985b783500a57",
            "value": 209528
          }
        },
        "3ff80a3242b44d498d410837e76b1a7d": {
          "model_module": "@jupyter-widgets/controls",
          "model_name": "HTMLModel",
          "model_module_version": "1.5.0",
          "state": {
            "_dom_classes": [],
            "_model_module": "@jupyter-widgets/controls",
            "_model_module_version": "1.5.0",
            "_model_name": "HTMLModel",
            "_view_count": null,
            "_view_module": "@jupyter-widgets/controls",
            "_view_module_version": "1.5.0",
            "_view_name": "HTMLView",
            "description": "",
            "description_tooltip": null,
            "layout": "IPY_MODEL_7c52ed5ec335478da51a62716d11a091",
            "placeholder": "​",
            "style": "IPY_MODEL_9c18f686d7954ea7a3837b0fdd04d008",
            "value": " 210k/210k [00:00&lt;00:00, 2.67MB/s]"
          }
        },
        "a875ff6e39aa4a748fa9e583adaed62b": {
          "model_module": "@jupyter-widgets/base",
          "model_name": "LayoutModel",
          "model_module_version": "1.2.0",
          "state": {
            "_model_module": "@jupyter-widgets/base",
            "_model_module_version": "1.2.0",
            "_model_name": "LayoutModel",
            "_view_count": null,
            "_view_module": "@jupyter-widgets/base",
            "_view_module_version": "1.2.0",
            "_view_name": "LayoutView",
            "align_content": null,
            "align_items": null,
            "align_self": null,
            "border": null,
            "bottom": null,
            "display": null,
            "flex": null,
            "flex_flow": null,
            "grid_area": null,
            "grid_auto_columns": null,
            "grid_auto_flow": null,
            "grid_auto_rows": null,
            "grid_column": null,
            "grid_gap": null,
            "grid_row": null,
            "grid_template_areas": null,
            "grid_template_columns": null,
            "grid_template_rows": null,
            "height": null,
            "justify_content": null,
            "justify_items": null,
            "left": null,
            "margin": null,
            "max_height": null,
            "max_width": null,
            "min_height": null,
            "min_width": null,
            "object_fit": null,
            "object_position": null,
            "order": null,
            "overflow": null,
            "overflow_x": null,
            "overflow_y": null,
            "padding": null,
            "right": null,
            "top": null,
            "visibility": null,
            "width": null
          }
        },
        "edf0c26722c44352aa60fc7eccf4e370": {
          "model_module": "@jupyter-widgets/base",
          "model_name": "LayoutModel",
          "model_module_version": "1.2.0",
          "state": {
            "_model_module": "@jupyter-widgets/base",
            "_model_module_version": "1.2.0",
            "_model_name": "LayoutModel",
            "_view_count": null,
            "_view_module": "@jupyter-widgets/base",
            "_view_module_version": "1.2.0",
            "_view_name": "LayoutView",
            "align_content": null,
            "align_items": null,
            "align_self": null,
            "border": null,
            "bottom": null,
            "display": null,
            "flex": null,
            "flex_flow": null,
            "grid_area": null,
            "grid_auto_columns": null,
            "grid_auto_flow": null,
            "grid_auto_rows": null,
            "grid_column": null,
            "grid_gap": null,
            "grid_row": null,
            "grid_template_areas": null,
            "grid_template_columns": null,
            "grid_template_rows": null,
            "height": null,
            "justify_content": null,
            "justify_items": null,
            "left": null,
            "margin": null,
            "max_height": null,
            "max_width": null,
            "min_height": null,
            "min_width": null,
            "object_fit": null,
            "object_position": null,
            "order": null,
            "overflow": null,
            "overflow_x": null,
            "overflow_y": null,
            "padding": null,
            "right": null,
            "top": null,
            "visibility": null,
            "width": null
          }
        },
        "4b769fa883d54d1d9593e5518ca62c42": {
          "model_module": "@jupyter-widgets/controls",
          "model_name": "DescriptionStyleModel",
          "model_module_version": "1.5.0",
          "state": {
            "_model_module": "@jupyter-widgets/controls",
            "_model_module_version": "1.5.0",
            "_model_name": "DescriptionStyleModel",
            "_view_count": null,
            "_view_module": "@jupyter-widgets/base",
            "_view_module_version": "1.2.0",
            "_view_name": "StyleView",
            "description_width": ""
          }
        },
        "d783ac70921141b1bc826d10afb772fc": {
          "model_module": "@jupyter-widgets/base",
          "model_name": "LayoutModel",
          "model_module_version": "1.2.0",
          "state": {
            "_model_module": "@jupyter-widgets/base",
            "_model_module_version": "1.2.0",
            "_model_name": "LayoutModel",
            "_view_count": null,
            "_view_module": "@jupyter-widgets/base",
            "_view_module_version": "1.2.0",
            "_view_name": "LayoutView",
            "align_content": null,
            "align_items": null,
            "align_self": null,
            "border": null,
            "bottom": null,
            "display": null,
            "flex": null,
            "flex_flow": null,
            "grid_area": null,
            "grid_auto_columns": null,
            "grid_auto_flow": null,
            "grid_auto_rows": null,
            "grid_column": null,
            "grid_gap": null,
            "grid_row": null,
            "grid_template_areas": null,
            "grid_template_columns": null,
            "grid_template_rows": null,
            "height": null,
            "justify_content": null,
            "justify_items": null,
            "left": null,
            "margin": null,
            "max_height": null,
            "max_width": null,
            "min_height": null,
            "min_width": null,
            "object_fit": null,
            "object_position": null,
            "order": null,
            "overflow": null,
            "overflow_x": null,
            "overflow_y": null,
            "padding": null,
            "right": null,
            "top": null,
            "visibility": null,
            "width": null
          }
        },
        "069f0ac3e99149dc808985b783500a57": {
          "model_module": "@jupyter-widgets/controls",
          "model_name": "ProgressStyleModel",
          "model_module_version": "1.5.0",
          "state": {
            "_model_module": "@jupyter-widgets/controls",
            "_model_module_version": "1.5.0",
            "_model_name": "ProgressStyleModel",
            "_view_count": null,
            "_view_module": "@jupyter-widgets/base",
            "_view_module_version": "1.2.0",
            "_view_name": "StyleView",
            "bar_color": null,
            "description_width": ""
          }
        },
        "7c52ed5ec335478da51a62716d11a091": {
          "model_module": "@jupyter-widgets/base",
          "model_name": "LayoutModel",
          "model_module_version": "1.2.0",
          "state": {
            "_model_module": "@jupyter-widgets/base",
            "_model_module_version": "1.2.0",
            "_model_name": "LayoutModel",
            "_view_count": null,
            "_view_module": "@jupyter-widgets/base",
            "_view_module_version": "1.2.0",
            "_view_name": "LayoutView",
            "align_content": null,
            "align_items": null,
            "align_self": null,
            "border": null,
            "bottom": null,
            "display": null,
            "flex": null,
            "flex_flow": null,
            "grid_area": null,
            "grid_auto_columns": null,
            "grid_auto_flow": null,
            "grid_auto_rows": null,
            "grid_column": null,
            "grid_gap": null,
            "grid_row": null,
            "grid_template_areas": null,
            "grid_template_columns": null,
            "grid_template_rows": null,
            "height": null,
            "justify_content": null,
            "justify_items": null,
            "left": null,
            "margin": null,
            "max_height": null,
            "max_width": null,
            "min_height": null,
            "min_width": null,
            "object_fit": null,
            "object_position": null,
            "order": null,
            "overflow": null,
            "overflow_x": null,
            "overflow_y": null,
            "padding": null,
            "right": null,
            "top": null,
            "visibility": null,
            "width": null
          }
        },
        "9c18f686d7954ea7a3837b0fdd04d008": {
          "model_module": "@jupyter-widgets/controls",
          "model_name": "DescriptionStyleModel",
          "model_module_version": "1.5.0",
          "state": {
            "_model_module": "@jupyter-widgets/controls",
            "_model_module_version": "1.5.0",
            "_model_name": "DescriptionStyleModel",
            "_view_count": null,
            "_view_module": "@jupyter-widgets/base",
            "_view_module_version": "1.2.0",
            "_view_name": "StyleView",
            "description_width": ""
          }
        },
        "605b9902798b4892976d93289a6c2e82": {
          "model_module": "@jupyter-widgets/controls",
          "model_name": "HBoxModel",
          "model_module_version": "1.5.0",
          "state": {
            "_dom_classes": [],
            "_model_module": "@jupyter-widgets/controls",
            "_model_module_version": "1.5.0",
            "_model_name": "HBoxModel",
            "_view_count": null,
            "_view_module": "@jupyter-widgets/controls",
            "_view_module_version": "1.5.0",
            "_view_name": "HBoxView",
            "box_style": "",
            "children": [
              "IPY_MODEL_1aee22b3fdb944b88c142960cf45d9d2",
              "IPY_MODEL_5faee4ff29de4cc789a5fd8bbfded5b8",
              "IPY_MODEL_3e5e4abdf756439f9754a402006e6ac1"
            ],
            "layout": "IPY_MODEL_a11a87378f844d5081c3d4d147e8911c"
          }
        },
        "1aee22b3fdb944b88c142960cf45d9d2": {
          "model_module": "@jupyter-widgets/controls",
          "model_name": "HTMLModel",
          "model_module_version": "1.5.0",
          "state": {
            "_dom_classes": [],
            "_model_module": "@jupyter-widgets/controls",
            "_model_module_version": "1.5.0",
            "_model_name": "HTMLModel",
            "_view_count": null,
            "_view_module": "@jupyter-widgets/controls",
            "_view_module_version": "1.5.0",
            "_view_name": "HTMLView",
            "description": "",
            "description_tooltip": null,
            "layout": "IPY_MODEL_e6b1499519314f60b993cb7f3b60891e",
            "placeholder": "​",
            "style": "IPY_MODEL_07198d79536a48539464bfba7a292c71",
            "value": "Downloading (…)in/added_tokens.json: 100%"
          }
        },
        "5faee4ff29de4cc789a5fd8bbfded5b8": {
          "model_module": "@jupyter-widgets/controls",
          "model_name": "FloatProgressModel",
          "model_module_version": "1.5.0",
          "state": {
            "_dom_classes": [],
            "_model_module": "@jupyter-widgets/controls",
            "_model_module_version": "1.5.0",
            "_model_name": "FloatProgressModel",
            "_view_count": null,
            "_view_module": "@jupyter-widgets/controls",
            "_view_module_version": "1.5.0",
            "_view_name": "ProgressView",
            "bar_style": "success",
            "description": "",
            "description_tooltip": null,
            "layout": "IPY_MODEL_37d773a3c6ad4b5380c7ea02c3096106",
            "max": 2,
            "min": 0,
            "orientation": "horizontal",
            "style": "IPY_MODEL_e0d511a7d1a84554a7af8f5428383476",
            "value": 2
          }
        },
        "3e5e4abdf756439f9754a402006e6ac1": {
          "model_module": "@jupyter-widgets/controls",
          "model_name": "HTMLModel",
          "model_module_version": "1.5.0",
          "state": {
            "_dom_classes": [],
            "_model_module": "@jupyter-widgets/controls",
            "_model_module_version": "1.5.0",
            "_model_name": "HTMLModel",
            "_view_count": null,
            "_view_module": "@jupyter-widgets/controls",
            "_view_module_version": "1.5.0",
            "_view_name": "HTMLView",
            "description": "",
            "description_tooltip": null,
            "layout": "IPY_MODEL_d039ff02ea8e40b0a89f1f049ecb603a",
            "placeholder": "​",
            "style": "IPY_MODEL_3453b8554efc45f2b380abd50ac6126f",
            "value": " 2.00/2.00 [00:00&lt;00:00, 64.8B/s]"
          }
        },
        "a11a87378f844d5081c3d4d147e8911c": {
          "model_module": "@jupyter-widgets/base",
          "model_name": "LayoutModel",
          "model_module_version": "1.2.0",
          "state": {
            "_model_module": "@jupyter-widgets/base",
            "_model_module_version": "1.2.0",
            "_model_name": "LayoutModel",
            "_view_count": null,
            "_view_module": "@jupyter-widgets/base",
            "_view_module_version": "1.2.0",
            "_view_name": "LayoutView",
            "align_content": null,
            "align_items": null,
            "align_self": null,
            "border": null,
            "bottom": null,
            "display": null,
            "flex": null,
            "flex_flow": null,
            "grid_area": null,
            "grid_auto_columns": null,
            "grid_auto_flow": null,
            "grid_auto_rows": null,
            "grid_column": null,
            "grid_gap": null,
            "grid_row": null,
            "grid_template_areas": null,
            "grid_template_columns": null,
            "grid_template_rows": null,
            "height": null,
            "justify_content": null,
            "justify_items": null,
            "left": null,
            "margin": null,
            "max_height": null,
            "max_width": null,
            "min_height": null,
            "min_width": null,
            "object_fit": null,
            "object_position": null,
            "order": null,
            "overflow": null,
            "overflow_x": null,
            "overflow_y": null,
            "padding": null,
            "right": null,
            "top": null,
            "visibility": null,
            "width": null
          }
        },
        "e6b1499519314f60b993cb7f3b60891e": {
          "model_module": "@jupyter-widgets/base",
          "model_name": "LayoutModel",
          "model_module_version": "1.2.0",
          "state": {
            "_model_module": "@jupyter-widgets/base",
            "_model_module_version": "1.2.0",
            "_model_name": "LayoutModel",
            "_view_count": null,
            "_view_module": "@jupyter-widgets/base",
            "_view_module_version": "1.2.0",
            "_view_name": "LayoutView",
            "align_content": null,
            "align_items": null,
            "align_self": null,
            "border": null,
            "bottom": null,
            "display": null,
            "flex": null,
            "flex_flow": null,
            "grid_area": null,
            "grid_auto_columns": null,
            "grid_auto_flow": null,
            "grid_auto_rows": null,
            "grid_column": null,
            "grid_gap": null,
            "grid_row": null,
            "grid_template_areas": null,
            "grid_template_columns": null,
            "grid_template_rows": null,
            "height": null,
            "justify_content": null,
            "justify_items": null,
            "left": null,
            "margin": null,
            "max_height": null,
            "max_width": null,
            "min_height": null,
            "min_width": null,
            "object_fit": null,
            "object_position": null,
            "order": null,
            "overflow": null,
            "overflow_x": null,
            "overflow_y": null,
            "padding": null,
            "right": null,
            "top": null,
            "visibility": null,
            "width": null
          }
        },
        "07198d79536a48539464bfba7a292c71": {
          "model_module": "@jupyter-widgets/controls",
          "model_name": "DescriptionStyleModel",
          "model_module_version": "1.5.0",
          "state": {
            "_model_module": "@jupyter-widgets/controls",
            "_model_module_version": "1.5.0",
            "_model_name": "DescriptionStyleModel",
            "_view_count": null,
            "_view_module": "@jupyter-widgets/base",
            "_view_module_version": "1.2.0",
            "_view_name": "StyleView",
            "description_width": ""
          }
        },
        "37d773a3c6ad4b5380c7ea02c3096106": {
          "model_module": "@jupyter-widgets/base",
          "model_name": "LayoutModel",
          "model_module_version": "1.2.0",
          "state": {
            "_model_module": "@jupyter-widgets/base",
            "_model_module_version": "1.2.0",
            "_model_name": "LayoutModel",
            "_view_count": null,
            "_view_module": "@jupyter-widgets/base",
            "_view_module_version": "1.2.0",
            "_view_name": "LayoutView",
            "align_content": null,
            "align_items": null,
            "align_self": null,
            "border": null,
            "bottom": null,
            "display": null,
            "flex": null,
            "flex_flow": null,
            "grid_area": null,
            "grid_auto_columns": null,
            "grid_auto_flow": null,
            "grid_auto_rows": null,
            "grid_column": null,
            "grid_gap": null,
            "grid_row": null,
            "grid_template_areas": null,
            "grid_template_columns": null,
            "grid_template_rows": null,
            "height": null,
            "justify_content": null,
            "justify_items": null,
            "left": null,
            "margin": null,
            "max_height": null,
            "max_width": null,
            "min_height": null,
            "min_width": null,
            "object_fit": null,
            "object_position": null,
            "order": null,
            "overflow": null,
            "overflow_x": null,
            "overflow_y": null,
            "padding": null,
            "right": null,
            "top": null,
            "visibility": null,
            "width": null
          }
        },
        "e0d511a7d1a84554a7af8f5428383476": {
          "model_module": "@jupyter-widgets/controls",
          "model_name": "ProgressStyleModel",
          "model_module_version": "1.5.0",
          "state": {
            "_model_module": "@jupyter-widgets/controls",
            "_model_module_version": "1.5.0",
            "_model_name": "ProgressStyleModel",
            "_view_count": null,
            "_view_module": "@jupyter-widgets/base",
            "_view_module_version": "1.2.0",
            "_view_name": "StyleView",
            "bar_color": null,
            "description_width": ""
          }
        },
        "d039ff02ea8e40b0a89f1f049ecb603a": {
          "model_module": "@jupyter-widgets/base",
          "model_name": "LayoutModel",
          "model_module_version": "1.2.0",
          "state": {
            "_model_module": "@jupyter-widgets/base",
            "_model_module_version": "1.2.0",
            "_model_name": "LayoutModel",
            "_view_count": null,
            "_view_module": "@jupyter-widgets/base",
            "_view_module_version": "1.2.0",
            "_view_name": "LayoutView",
            "align_content": null,
            "align_items": null,
            "align_self": null,
            "border": null,
            "bottom": null,
            "display": null,
            "flex": null,
            "flex_flow": null,
            "grid_area": null,
            "grid_auto_columns": null,
            "grid_auto_flow": null,
            "grid_auto_rows": null,
            "grid_column": null,
            "grid_gap": null,
            "grid_row": null,
            "grid_template_areas": null,
            "grid_template_columns": null,
            "grid_template_rows": null,
            "height": null,
            "justify_content": null,
            "justify_items": null,
            "left": null,
            "margin": null,
            "max_height": null,
            "max_width": null,
            "min_height": null,
            "min_width": null,
            "object_fit": null,
            "object_position": null,
            "order": null,
            "overflow": null,
            "overflow_x": null,
            "overflow_y": null,
            "padding": null,
            "right": null,
            "top": null,
            "visibility": null,
            "width": null
          }
        },
        "3453b8554efc45f2b380abd50ac6126f": {
          "model_module": "@jupyter-widgets/controls",
          "model_name": "DescriptionStyleModel",
          "model_module_version": "1.5.0",
          "state": {
            "_model_module": "@jupyter-widgets/controls",
            "_model_module_version": "1.5.0",
            "_model_name": "DescriptionStyleModel",
            "_view_count": null,
            "_view_module": "@jupyter-widgets/base",
            "_view_module_version": "1.2.0",
            "_view_name": "StyleView",
            "description_width": ""
          }
        },
        "4399437db45448719882a0eeb804b71c": {
          "model_module": "@jupyter-widgets/controls",
          "model_name": "HBoxModel",
          "model_module_version": "1.5.0",
          "state": {
            "_dom_classes": [],
            "_model_module": "@jupyter-widgets/controls",
            "_model_module_version": "1.5.0",
            "_model_name": "HBoxModel",
            "_view_count": null,
            "_view_module": "@jupyter-widgets/controls",
            "_view_module_version": "1.5.0",
            "_view_name": "HBoxView",
            "box_style": "",
            "children": [
              "IPY_MODEL_9bb65d125d5845f594d512bcbdbf87d1",
              "IPY_MODEL_13a2c0b0bf054621a7b01e5f537eb1b0",
              "IPY_MODEL_e3173f93bcf546cfb108fafcd78bc345"
            ],
            "layout": "IPY_MODEL_980b4db0a26a448db94a53623452faf2"
          }
        },
        "9bb65d125d5845f594d512bcbdbf87d1": {
          "model_module": "@jupyter-widgets/controls",
          "model_name": "HTMLModel",
          "model_module_version": "1.5.0",
          "state": {
            "_dom_classes": [],
            "_model_module": "@jupyter-widgets/controls",
            "_model_module_version": "1.5.0",
            "_model_name": "HTMLModel",
            "_view_count": null,
            "_view_module": "@jupyter-widgets/controls",
            "_view_module_version": "1.5.0",
            "_view_name": "HTMLView",
            "description": "",
            "description_tooltip": null,
            "layout": "IPY_MODEL_ef9a81b323ce421482dea44943e3c93d",
            "placeholder": "​",
            "style": "IPY_MODEL_5d77a88e0eb04ecd9f916adc6c99f1a0",
            "value": "Downloading (…)cial_tokens_map.json: 100%"
          }
        },
        "13a2c0b0bf054621a7b01e5f537eb1b0": {
          "model_module": "@jupyter-widgets/controls",
          "model_name": "FloatProgressModel",
          "model_module_version": "1.5.0",
          "state": {
            "_dom_classes": [],
            "_model_module": "@jupyter-widgets/controls",
            "_model_module_version": "1.5.0",
            "_model_name": "FloatProgressModel",
            "_view_count": null,
            "_view_module": "@jupyter-widgets/controls",
            "_view_module_version": "1.5.0",
            "_view_name": "ProgressView",
            "bar_style": "success",
            "description": "",
            "description_tooltip": null,
            "layout": "IPY_MODEL_45b51e01e53e4b6587a35fdda83f8cae",
            "max": 112,
            "min": 0,
            "orientation": "horizontal",
            "style": "IPY_MODEL_6ade30ba4eb241719e3112eaf9a13974",
            "value": 112
          }
        },
        "e3173f93bcf546cfb108fafcd78bc345": {
          "model_module": "@jupyter-widgets/controls",
          "model_name": "HTMLModel",
          "model_module_version": "1.5.0",
          "state": {
            "_dom_classes": [],
            "_model_module": "@jupyter-widgets/controls",
            "_model_module_version": "1.5.0",
            "_model_name": "HTMLModel",
            "_view_count": null,
            "_view_module": "@jupyter-widgets/controls",
            "_view_module_version": "1.5.0",
            "_view_name": "HTMLView",
            "description": "",
            "description_tooltip": null,
            "layout": "IPY_MODEL_aa15a7895508441fbc7121bda4f11b25",
            "placeholder": "​",
            "style": "IPY_MODEL_afbdfeb67c4c4bbcaefbf9c90e64b24d",
            "value": " 112/112 [00:00&lt;00:00, 3.44kB/s]"
          }
        },
        "980b4db0a26a448db94a53623452faf2": {
          "model_module": "@jupyter-widgets/base",
          "model_name": "LayoutModel",
          "model_module_version": "1.2.0",
          "state": {
            "_model_module": "@jupyter-widgets/base",
            "_model_module_version": "1.2.0",
            "_model_name": "LayoutModel",
            "_view_count": null,
            "_view_module": "@jupyter-widgets/base",
            "_view_module_version": "1.2.0",
            "_view_name": "LayoutView",
            "align_content": null,
            "align_items": null,
            "align_self": null,
            "border": null,
            "bottom": null,
            "display": null,
            "flex": null,
            "flex_flow": null,
            "grid_area": null,
            "grid_auto_columns": null,
            "grid_auto_flow": null,
            "grid_auto_rows": null,
            "grid_column": null,
            "grid_gap": null,
            "grid_row": null,
            "grid_template_areas": null,
            "grid_template_columns": null,
            "grid_template_rows": null,
            "height": null,
            "justify_content": null,
            "justify_items": null,
            "left": null,
            "margin": null,
            "max_height": null,
            "max_width": null,
            "min_height": null,
            "min_width": null,
            "object_fit": null,
            "object_position": null,
            "order": null,
            "overflow": null,
            "overflow_x": null,
            "overflow_y": null,
            "padding": null,
            "right": null,
            "top": null,
            "visibility": null,
            "width": null
          }
        },
        "ef9a81b323ce421482dea44943e3c93d": {
          "model_module": "@jupyter-widgets/base",
          "model_name": "LayoutModel",
          "model_module_version": "1.2.0",
          "state": {
            "_model_module": "@jupyter-widgets/base",
            "_model_module_version": "1.2.0",
            "_model_name": "LayoutModel",
            "_view_count": null,
            "_view_module": "@jupyter-widgets/base",
            "_view_module_version": "1.2.0",
            "_view_name": "LayoutView",
            "align_content": null,
            "align_items": null,
            "align_self": null,
            "border": null,
            "bottom": null,
            "display": null,
            "flex": null,
            "flex_flow": null,
            "grid_area": null,
            "grid_auto_columns": null,
            "grid_auto_flow": null,
            "grid_auto_rows": null,
            "grid_column": null,
            "grid_gap": null,
            "grid_row": null,
            "grid_template_areas": null,
            "grid_template_columns": null,
            "grid_template_rows": null,
            "height": null,
            "justify_content": null,
            "justify_items": null,
            "left": null,
            "margin": null,
            "max_height": null,
            "max_width": null,
            "min_height": null,
            "min_width": null,
            "object_fit": null,
            "object_position": null,
            "order": null,
            "overflow": null,
            "overflow_x": null,
            "overflow_y": null,
            "padding": null,
            "right": null,
            "top": null,
            "visibility": null,
            "width": null
          }
        },
        "5d77a88e0eb04ecd9f916adc6c99f1a0": {
          "model_module": "@jupyter-widgets/controls",
          "model_name": "DescriptionStyleModel",
          "model_module_version": "1.5.0",
          "state": {
            "_model_module": "@jupyter-widgets/controls",
            "_model_module_version": "1.5.0",
            "_model_name": "DescriptionStyleModel",
            "_view_count": null,
            "_view_module": "@jupyter-widgets/base",
            "_view_module_version": "1.2.0",
            "_view_name": "StyleView",
            "description_width": ""
          }
        },
        "45b51e01e53e4b6587a35fdda83f8cae": {
          "model_module": "@jupyter-widgets/base",
          "model_name": "LayoutModel",
          "model_module_version": "1.2.0",
          "state": {
            "_model_module": "@jupyter-widgets/base",
            "_model_module_version": "1.2.0",
            "_model_name": "LayoutModel",
            "_view_count": null,
            "_view_module": "@jupyter-widgets/base",
            "_view_module_version": "1.2.0",
            "_view_name": "LayoutView",
            "align_content": null,
            "align_items": null,
            "align_self": null,
            "border": null,
            "bottom": null,
            "display": null,
            "flex": null,
            "flex_flow": null,
            "grid_area": null,
            "grid_auto_columns": null,
            "grid_auto_flow": null,
            "grid_auto_rows": null,
            "grid_column": null,
            "grid_gap": null,
            "grid_row": null,
            "grid_template_areas": null,
            "grid_template_columns": null,
            "grid_template_rows": null,
            "height": null,
            "justify_content": null,
            "justify_items": null,
            "left": null,
            "margin": null,
            "max_height": null,
            "max_width": null,
            "min_height": null,
            "min_width": null,
            "object_fit": null,
            "object_position": null,
            "order": null,
            "overflow": null,
            "overflow_x": null,
            "overflow_y": null,
            "padding": null,
            "right": null,
            "top": null,
            "visibility": null,
            "width": null
          }
        },
        "6ade30ba4eb241719e3112eaf9a13974": {
          "model_module": "@jupyter-widgets/controls",
          "model_name": "ProgressStyleModel",
          "model_module_version": "1.5.0",
          "state": {
            "_model_module": "@jupyter-widgets/controls",
            "_model_module_version": "1.5.0",
            "_model_name": "ProgressStyleModel",
            "_view_count": null,
            "_view_module": "@jupyter-widgets/base",
            "_view_module_version": "1.2.0",
            "_view_name": "StyleView",
            "bar_color": null,
            "description_width": ""
          }
        },
        "aa15a7895508441fbc7121bda4f11b25": {
          "model_module": "@jupyter-widgets/base",
          "model_name": "LayoutModel",
          "model_module_version": "1.2.0",
          "state": {
            "_model_module": "@jupyter-widgets/base",
            "_model_module_version": "1.2.0",
            "_model_name": "LayoutModel",
            "_view_count": null,
            "_view_module": "@jupyter-widgets/base",
            "_view_module_version": "1.2.0",
            "_view_name": "LayoutView",
            "align_content": null,
            "align_items": null,
            "align_self": null,
            "border": null,
            "bottom": null,
            "display": null,
            "flex": null,
            "flex_flow": null,
            "grid_area": null,
            "grid_auto_columns": null,
            "grid_auto_flow": null,
            "grid_auto_rows": null,
            "grid_column": null,
            "grid_gap": null,
            "grid_row": null,
            "grid_template_areas": null,
            "grid_template_columns": null,
            "grid_template_rows": null,
            "height": null,
            "justify_content": null,
            "justify_items": null,
            "left": null,
            "margin": null,
            "max_height": null,
            "max_width": null,
            "min_height": null,
            "min_width": null,
            "object_fit": null,
            "object_position": null,
            "order": null,
            "overflow": null,
            "overflow_x": null,
            "overflow_y": null,
            "padding": null,
            "right": null,
            "top": null,
            "visibility": null,
            "width": null
          }
        },
        "afbdfeb67c4c4bbcaefbf9c90e64b24d": {
          "model_module": "@jupyter-widgets/controls",
          "model_name": "DescriptionStyleModel",
          "model_module_version": "1.5.0",
          "state": {
            "_model_module": "@jupyter-widgets/controls",
            "_model_module_version": "1.5.0",
            "_model_name": "DescriptionStyleModel",
            "_view_count": null,
            "_view_module": "@jupyter-widgets/base",
            "_view_module_version": "1.2.0",
            "_view_name": "StyleView",
            "description_width": ""
          }
        },
        "a2b45729732d4dfcadde940f6764559f": {
          "model_module": "@jupyter-widgets/controls",
          "model_name": "HBoxModel",
          "model_module_version": "1.5.0",
          "state": {
            "_dom_classes": [],
            "_model_module": "@jupyter-widgets/controls",
            "_model_module_version": "1.5.0",
            "_model_name": "HBoxModel",
            "_view_count": null,
            "_view_module": "@jupyter-widgets/controls",
            "_view_module_version": "1.5.0",
            "_view_name": "HBoxView",
            "box_style": "",
            "children": [
              "IPY_MODEL_f22a9a320e744cbba044ffa3048c5fe6",
              "IPY_MODEL_377d9fcbbf7f43bcbf934ad0ed8dbeeb",
              "IPY_MODEL_cd98a75a8cf44664a0dbac2d3a5d0866"
            ],
            "layout": "IPY_MODEL_ca7c273c2675496aa80b9f69531785e7"
          }
        },
        "f22a9a320e744cbba044ffa3048c5fe6": {
          "model_module": "@jupyter-widgets/controls",
          "model_name": "HTMLModel",
          "model_module_version": "1.5.0",
          "state": {
            "_dom_classes": [],
            "_model_module": "@jupyter-widgets/controls",
            "_model_module_version": "1.5.0",
            "_model_name": "HTMLModel",
            "_view_count": null,
            "_view_module": "@jupyter-widgets/controls",
            "_view_module_version": "1.5.0",
            "_view_name": "HTMLView",
            "description": "",
            "description_tooltip": null,
            "layout": "IPY_MODEL_8b911c7662354f428ad9273998f95cf6",
            "placeholder": "​",
            "style": "IPY_MODEL_05a7db4f1f9849dab1d73e768db647e5",
            "value": "Downloading pytorch_model.bin: 100%"
          }
        },
        "377d9fcbbf7f43bcbf934ad0ed8dbeeb": {
          "model_module": "@jupyter-widgets/controls",
          "model_name": "FloatProgressModel",
          "model_module_version": "1.5.0",
          "state": {
            "_dom_classes": [],
            "_model_module": "@jupyter-widgets/controls",
            "_model_module_version": "1.5.0",
            "_model_name": "FloatProgressModel",
            "_view_count": null,
            "_view_module": "@jupyter-widgets/controls",
            "_view_module_version": "1.5.0",
            "_view_name": "ProgressView",
            "bar_style": "success",
            "description": "",
            "description_tooltip": null,
            "layout": "IPY_MODEL_cc594ac2bc5c40e2b94f1f17c1430e49",
            "max": 1342014951,
            "min": 0,
            "orientation": "horizontal",
            "style": "IPY_MODEL_0d24c22dd9bf4bbea366e661d11aab3d",
            "value": 1342014951
          }
        },
        "cd98a75a8cf44664a0dbac2d3a5d0866": {
          "model_module": "@jupyter-widgets/controls",
          "model_name": "HTMLModel",
          "model_module_version": "1.5.0",
          "state": {
            "_dom_classes": [],
            "_model_module": "@jupyter-widgets/controls",
            "_model_module_version": "1.5.0",
            "_model_name": "HTMLModel",
            "_view_count": null,
            "_view_module": "@jupyter-widgets/controls",
            "_view_module_version": "1.5.0",
            "_view_name": "HTMLView",
            "description": "",
            "description_tooltip": null,
            "layout": "IPY_MODEL_f9589e3b6e374da386789a38f0150109",
            "placeholder": "​",
            "style": "IPY_MODEL_a9fba265d0554df4ad18fcd0ed8e52ce",
            "value": " 1.34G/1.34G [00:15&lt;00:00, 95.9MB/s]"
          }
        },
        "ca7c273c2675496aa80b9f69531785e7": {
          "model_module": "@jupyter-widgets/base",
          "model_name": "LayoutModel",
          "model_module_version": "1.2.0",
          "state": {
            "_model_module": "@jupyter-widgets/base",
            "_model_module_version": "1.2.0",
            "_model_name": "LayoutModel",
            "_view_count": null,
            "_view_module": "@jupyter-widgets/base",
            "_view_module_version": "1.2.0",
            "_view_name": "LayoutView",
            "align_content": null,
            "align_items": null,
            "align_self": null,
            "border": null,
            "bottom": null,
            "display": null,
            "flex": null,
            "flex_flow": null,
            "grid_area": null,
            "grid_auto_columns": null,
            "grid_auto_flow": null,
            "grid_auto_rows": null,
            "grid_column": null,
            "grid_gap": null,
            "grid_row": null,
            "grid_template_areas": null,
            "grid_template_columns": null,
            "grid_template_rows": null,
            "height": null,
            "justify_content": null,
            "justify_items": null,
            "left": null,
            "margin": null,
            "max_height": null,
            "max_width": null,
            "min_height": null,
            "min_width": null,
            "object_fit": null,
            "object_position": null,
            "order": null,
            "overflow": null,
            "overflow_x": null,
            "overflow_y": null,
            "padding": null,
            "right": null,
            "top": null,
            "visibility": null,
            "width": null
          }
        },
        "8b911c7662354f428ad9273998f95cf6": {
          "model_module": "@jupyter-widgets/base",
          "model_name": "LayoutModel",
          "model_module_version": "1.2.0",
          "state": {
            "_model_module": "@jupyter-widgets/base",
            "_model_module_version": "1.2.0",
            "_model_name": "LayoutModel",
            "_view_count": null,
            "_view_module": "@jupyter-widgets/base",
            "_view_module_version": "1.2.0",
            "_view_name": "LayoutView",
            "align_content": null,
            "align_items": null,
            "align_self": null,
            "border": null,
            "bottom": null,
            "display": null,
            "flex": null,
            "flex_flow": null,
            "grid_area": null,
            "grid_auto_columns": null,
            "grid_auto_flow": null,
            "grid_auto_rows": null,
            "grid_column": null,
            "grid_gap": null,
            "grid_row": null,
            "grid_template_areas": null,
            "grid_template_columns": null,
            "grid_template_rows": null,
            "height": null,
            "justify_content": null,
            "justify_items": null,
            "left": null,
            "margin": null,
            "max_height": null,
            "max_width": null,
            "min_height": null,
            "min_width": null,
            "object_fit": null,
            "object_position": null,
            "order": null,
            "overflow": null,
            "overflow_x": null,
            "overflow_y": null,
            "padding": null,
            "right": null,
            "top": null,
            "visibility": null,
            "width": null
          }
        },
        "05a7db4f1f9849dab1d73e768db647e5": {
          "model_module": "@jupyter-widgets/controls",
          "model_name": "DescriptionStyleModel",
          "model_module_version": "1.5.0",
          "state": {
            "_model_module": "@jupyter-widgets/controls",
            "_model_module_version": "1.5.0",
            "_model_name": "DescriptionStyleModel",
            "_view_count": null,
            "_view_module": "@jupyter-widgets/base",
            "_view_module_version": "1.2.0",
            "_view_name": "StyleView",
            "description_width": ""
          }
        },
        "cc594ac2bc5c40e2b94f1f17c1430e49": {
          "model_module": "@jupyter-widgets/base",
          "model_name": "LayoutModel",
          "model_module_version": "1.2.0",
          "state": {
            "_model_module": "@jupyter-widgets/base",
            "_model_module_version": "1.2.0",
            "_model_name": "LayoutModel",
            "_view_count": null,
            "_view_module": "@jupyter-widgets/base",
            "_view_module_version": "1.2.0",
            "_view_name": "LayoutView",
            "align_content": null,
            "align_items": null,
            "align_self": null,
            "border": null,
            "bottom": null,
            "display": null,
            "flex": null,
            "flex_flow": null,
            "grid_area": null,
            "grid_auto_columns": null,
            "grid_auto_flow": null,
            "grid_auto_rows": null,
            "grid_column": null,
            "grid_gap": null,
            "grid_row": null,
            "grid_template_areas": null,
            "grid_template_columns": null,
            "grid_template_rows": null,
            "height": null,
            "justify_content": null,
            "justify_items": null,
            "left": null,
            "margin": null,
            "max_height": null,
            "max_width": null,
            "min_height": null,
            "min_width": null,
            "object_fit": null,
            "object_position": null,
            "order": null,
            "overflow": null,
            "overflow_x": null,
            "overflow_y": null,
            "padding": null,
            "right": null,
            "top": null,
            "visibility": null,
            "width": null
          }
        },
        "0d24c22dd9bf4bbea366e661d11aab3d": {
          "model_module": "@jupyter-widgets/controls",
          "model_name": "ProgressStyleModel",
          "model_module_version": "1.5.0",
          "state": {
            "_model_module": "@jupyter-widgets/controls",
            "_model_module_version": "1.5.0",
            "_model_name": "ProgressStyleModel",
            "_view_count": null,
            "_view_module": "@jupyter-widgets/base",
            "_view_module_version": "1.2.0",
            "_view_name": "StyleView",
            "bar_color": null,
            "description_width": ""
          }
        },
        "f9589e3b6e374da386789a38f0150109": {
          "model_module": "@jupyter-widgets/base",
          "model_name": "LayoutModel",
          "model_module_version": "1.2.0",
          "state": {
            "_model_module": "@jupyter-widgets/base",
            "_model_module_version": "1.2.0",
            "_model_name": "LayoutModel",
            "_view_count": null,
            "_view_module": "@jupyter-widgets/base",
            "_view_module_version": "1.2.0",
            "_view_name": "LayoutView",
            "align_content": null,
            "align_items": null,
            "align_self": null,
            "border": null,
            "bottom": null,
            "display": null,
            "flex": null,
            "flex_flow": null,
            "grid_area": null,
            "grid_auto_columns": null,
            "grid_auto_flow": null,
            "grid_auto_rows": null,
            "grid_column": null,
            "grid_gap": null,
            "grid_row": null,
            "grid_template_areas": null,
            "grid_template_columns": null,
            "grid_template_rows": null,
            "height": null,
            "justify_content": null,
            "justify_items": null,
            "left": null,
            "margin": null,
            "max_height": null,
            "max_width": null,
            "min_height": null,
            "min_width": null,
            "object_fit": null,
            "object_position": null,
            "order": null,
            "overflow": null,
            "overflow_x": null,
            "overflow_y": null,
            "padding": null,
            "right": null,
            "top": null,
            "visibility": null,
            "width": null
          }
        },
        "a9fba265d0554df4ad18fcd0ed8e52ce": {
          "model_module": "@jupyter-widgets/controls",
          "model_name": "DescriptionStyleModel",
          "model_module_version": "1.5.0",
          "state": {
            "_model_module": "@jupyter-widgets/controls",
            "_model_module_version": "1.5.0",
            "_model_name": "DescriptionStyleModel",
            "_view_count": null,
            "_view_module": "@jupyter-widgets/base",
            "_view_module_version": "1.2.0",
            "_view_name": "StyleView",
            "description_width": ""
          }
        }
      }
    }
  },
  "cells": [
    {
      "cell_type": "markdown",
      "metadata": {
        "id": "view-in-github",
        "colab_type": "text"
      },
      "source": [
        "<a href=\"https://colab.research.google.com/github/adalves-ufabc/2023.Q3-PLN/blob/main/2023_Q3_PLN_AULA_13_Notebook_02.ipynb\" target=\"_parent\"><img src=\"https://colab.research.google.com/assets/colab-badge.svg\" alt=\"Open In Colab\"/></a>"
      ]
    },
    {
      "cell_type": "markdown",
      "source": [
        "# **Processamento de Linguagem Natural [2023.Q3]**\n",
        "Prof. Alexandre Donizeti Alves"
      ],
      "metadata": {
        "id": "ns-w1C6OptzG"
      }
    },
    {
      "cell_type": "markdown",
      "source": [
        "## **Representação de Textos**\n",
        "---\n"
      ],
      "metadata": {
        "id": "Afnbf6Gwpww2"
      }
    },
    {
      "cell_type": "markdown",
      "metadata": {
        "id": "yb1KG_Me9VQ0"
      },
      "source": [
        "### Álgebra Linear\n",
        "\n",
        "Ramo da matemática que estuda os espaços vetoriais e as operações em vetores. Em Python, a manipulação de vetores de acordo com a álgebra linear pode ser facilmente feita através da biblioteca `numpy`."
      ]
    },
    {
      "cell_type": "code",
      "metadata": {
        "id": "YfJ0CzR98_Ls"
      },
      "source": [
        "import numpy as np"
      ],
      "execution_count": 1,
      "outputs": []
    },
    {
      "cell_type": "markdown",
      "metadata": {
        "id": "7FLp-Rlb9ut_"
      },
      "source": [
        "Vetores podem ser instanciados pelo método *`array`* e variantes como *`zeros`* e *`ones`*"
      ]
    },
    {
      "cell_type": "code",
      "metadata": {
        "colab": {
          "base_uri": "https://localhost:8080/"
        },
        "id": "gBC-YR-s9uCa",
        "outputId": "6c51d108-529d-49ce-adec-6de70007327d"
      },
      "source": [
        "vetor1 = np.array([1., 2., 1., 4.])\n",
        "vetor2 = np.zeros(4)\n",
        "vetor3 = np.ones(4)\n",
        "\n",
        "print('Vetor 1:', vetor1)\n",
        "print('Vetor 2:', vetor2)\n",
        "print('Vetor 3:', vetor3)"
      ],
      "execution_count": 2,
      "outputs": [
        {
          "output_type": "stream",
          "name": "stdout",
          "text": [
            "Vetor 1: [1. 2. 1. 4.]\n",
            "Vetor 2: [0. 0. 0. 0.]\n",
            "Vetor 3: [1. 1. 1. 1.]\n"
          ]
        }
      ]
    },
    {
      "cell_type": "markdown",
      "metadata": {
        "id": "4c5RXrx6-C96"
      },
      "source": [
        "Soma"
      ]
    },
    {
      "cell_type": "code",
      "metadata": {
        "colab": {
          "base_uri": "https://localhost:8080/"
        },
        "id": "Gmocm70X98n7",
        "outputId": "39e9a11f-0791-4b34-cf3a-59f712f5d46e"
      },
      "source": [
        "vetor1 + vetor3"
      ],
      "execution_count": 3,
      "outputs": [
        {
          "output_type": "execute_result",
          "data": {
            "text/plain": [
              "array([2., 3., 2., 5.])"
            ]
          },
          "metadata": {},
          "execution_count": 3
        }
      ]
    },
    {
      "cell_type": "markdown",
      "metadata": {
        "id": "5Q_6S-v6-HAO"
      },
      "source": [
        "Subtração"
      ]
    },
    {
      "cell_type": "code",
      "metadata": {
        "colab": {
          "base_uri": "https://localhost:8080/"
        },
        "id": "V5TLyiUU-F8R",
        "outputId": "4734061b-7813-40a0-b47a-29a404890e88"
      },
      "source": [
        "vetor1 - vetor3"
      ],
      "execution_count": 4,
      "outputs": [
        {
          "output_type": "execute_result",
          "data": {
            "text/plain": [
              "array([0., 1., 0., 3.])"
            ]
          },
          "metadata": {},
          "execution_count": 4
        }
      ]
    },
    {
      "cell_type": "markdown",
      "metadata": {
        "id": "ksiakISU-Lqq"
      },
      "source": [
        "Multiplicação"
      ]
    },
    {
      "cell_type": "code",
      "metadata": {
        "colab": {
          "base_uri": "https://localhost:8080/"
        },
        "id": "sO0UkH1u-J8f",
        "outputId": "ca2a71fe-a47f-43b2-8d7c-ffa89097ae8a"
      },
      "source": [
        "vetor1 * vetor2"
      ],
      "execution_count": 5,
      "outputs": [
        {
          "output_type": "execute_result",
          "data": {
            "text/plain": [
              "array([0., 0., 0., 0.])"
            ]
          },
          "metadata": {},
          "execution_count": 5
        }
      ]
    },
    {
      "cell_type": "markdown",
      "metadata": {
        "id": "IpGVngni-SCI"
      },
      "source": [
        "Divisão"
      ]
    },
    {
      "cell_type": "code",
      "metadata": {
        "colab": {
          "base_uri": "https://localhost:8080/"
        },
        "id": "O6syCeCu-P7i",
        "outputId": "81eb46e2-0fc3-4373-e685-ebbd89807b79"
      },
      "source": [
        "vetor3 / vetor1"
      ],
      "execution_count": 6,
      "outputs": [
        {
          "output_type": "execute_result",
          "data": {
            "text/plain": [
              "array([1.  , 0.5 , 1.  , 0.25])"
            ]
          },
          "metadata": {},
          "execution_count": 6
        }
      ]
    },
    {
      "cell_type": "markdown",
      "metadata": {
        "id": "2DfPaSnr-VoC"
      },
      "source": [
        "Multiplicação de Matrizes"
      ]
    },
    {
      "cell_type": "code",
      "metadata": {
        "colab": {
          "base_uri": "https://localhost:8080/"
        },
        "id": "J3XUzVGZ-U1p",
        "outputId": "a5c17653-7364-4a41-f075-06bb897877f0"
      },
      "source": [
        "np.dot(vetor1, vetor3)"
      ],
      "execution_count": 7,
      "outputs": [
        {
          "output_type": "execute_result",
          "data": {
            "text/plain": [
              "8.0"
            ]
          },
          "metadata": {},
          "execution_count": 7
        }
      ]
    },
    {
      "cell_type": "markdown",
      "metadata": {
        "id": "7n_ugocM_Dyh"
      },
      "source": [
        "## Similaridade por Cossenos\n",
        "\n",
        "Normalmente em PLN, a distância entre dois vetores é calculada através da **similaridade por cosseno**."
      ]
    },
    {
      "cell_type": "markdown",
      "source": [
        "![image.png](data:image/png;base64,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)"
      ],
      "metadata": {
        "id": "D0ygExN2sDJM"
      }
    },
    {
      "cell_type": "code",
      "metadata": {
        "colab": {
          "base_uri": "https://localhost:8080/"
        },
        "id": "i5LnXwJO-bng",
        "outputId": "e5500340-a4a1-48f9-d668-fbcbdb6cdc03"
      },
      "source": [
        "from sklearn.metrics.pairwise import cosine_similarity\n",
        "\n",
        "# vetor de 2 dimensoes (x, y)\n",
        "po = np.array([[5, 10]])\n",
        "mestre_tigresa = np.array([[5, 2.5]])\n",
        "\n",
        "cosine_similarity(po, mestre_tigresa)[0][0]"
      ],
      "execution_count": 13,
      "outputs": [
        {
          "output_type": "execute_result",
          "data": {
            "text/plain": [
              "0.7999999999999999"
            ]
          },
          "metadata": {},
          "execution_count": 13
        }
      ]
    },
    {
      "cell_type": "code",
      "metadata": {
        "colab": {
          "base_uri": "https://localhost:8080/"
        },
        "id": "j2A5PgmXA4hA",
        "outputId": "ca0cf5df-e741-4ef5-eccb-66edcf7f4ec6"
      },
      "source": [
        "v1 = np.array([[0, 0]])\n",
        "v2 = np.array([[1, 1]])\n",
        "\n",
        "cosine_similarity(v1, v2)[0][0]"
      ],
      "execution_count": 14,
      "outputs": [
        {
          "output_type": "execute_result",
          "data": {
            "text/plain": [
              "0.0"
            ]
          },
          "metadata": {},
          "execution_count": 14
        }
      ]
    },
    {
      "cell_type": "code",
      "metadata": {
        "colab": {
          "base_uri": "https://localhost:8080/"
        },
        "id": "ZVsRORDYN_JY",
        "outputId": "cd9a547b-52ac-4e6d-f3dd-c7bc2ef2bdbb"
      },
      "source": [
        "henrique_v = np.array([13, 89, 4, 3])\n",
        "\n",
        "julio_cesar = np.array([7, 62, 1, 2])\n",
        "\n",
        "cosine_similarity([henrique_v], [julio_cesar])"
      ],
      "execution_count": 17,
      "outputs": [
        {
          "output_type": "execute_result",
          "data": {
            "text/plain": [
              "array([[0.99906525]])"
            ]
          },
          "metadata": {},
          "execution_count": 17
        }
      ]
    },
    {
      "cell_type": "code",
      "metadata": {
        "colab": {
          "base_uri": "https://localhost:8080/"
        },
        "id": "6FBXShy9ORcb",
        "outputId": "c87df060-f5b6-4d37-e988-8635015b985c"
      },
      "source": [
        "henrique_v = np.array([13, 89, 4, 3])\n",
        "\n",
        "noite_reis = np.array([0, 80, 58, 15])\n",
        "\n",
        "cosine_similarity([henrique_v], [noite_reis])"
      ],
      "execution_count": 18,
      "outputs": [
        {
          "output_type": "execute_result",
          "data": {
            "text/plain": [
              "array([[0.82158093]])"
            ]
          },
          "metadata": {},
          "execution_count": 18
        }
      ]
    },
    {
      "cell_type": "markdown",
      "metadata": {
        "id": "qVRLxc6kBmwT"
      },
      "source": [
        "## Representação *One-Hot*\n",
        "\n",
        "Palavras e documentos são representados por vetores de dimensão do tamanho do vocabulário. Os vetores assumem valores binários (0 ou 1)\n",
        "\n",
        "Mais Informações: [Scikit Learn](https://scikit-learn.org/stable/modules/generated/sklearn.preprocessing.OneHotEncoder.html)"
      ]
    },
    {
      "cell_type": "code",
      "metadata": {
        "colab": {
          "base_uri": "https://localhost:8080/"
        },
        "id": "XaTSGFhq_2YT",
        "outputId": "d4ce1d93-06f6-4d25-bf4a-6a3f3798967a"
      },
      "source": [
        "from sklearn.preprocessing import OneHotEncoder\n",
        "\n",
        "enc = OneHotEncoder(handle_unknown='ignore')\n",
        "\n",
        "X = [[\"no\"], [\"meio\"], [\"do\"], [\"caminho\"], [\"tinha\"], [\"uma\"], [\"pedra\"]]\n",
        "\n",
        "enc.fit(X)\n",
        "vocab = list(enc.categories_[0])\n",
        "vetores = enc.transform(X).toarray()\n",
        "\n",
        "print('Vocabulario: ', vocab)\n",
        "print()\n",
        "print('Vetores')\n",
        "vetores"
      ],
      "execution_count": 19,
      "outputs": [
        {
          "output_type": "stream",
          "name": "stdout",
          "text": [
            "Vocabulario:  ['caminho', 'do', 'meio', 'no', 'pedra', 'tinha', 'uma']\n",
            "\n",
            "Vetores\n"
          ]
        },
        {
          "output_type": "execute_result",
          "data": {
            "text/plain": [
              "array([[0., 0., 0., 1., 0., 0., 0.],\n",
              "       [0., 0., 1., 0., 0., 0., 0.],\n",
              "       [0., 1., 0., 0., 0., 0., 0.],\n",
              "       [1., 0., 0., 0., 0., 0., 0.],\n",
              "       [0., 0., 0., 0., 0., 1., 0.],\n",
              "       [0., 0., 0., 0., 0., 0., 1.],\n",
              "       [0., 0., 0., 0., 1., 0., 0.]])"
            ]
          },
          "metadata": {},
          "execution_count": 19
        }
      ]
    },
    {
      "cell_type": "markdown",
      "metadata": {
        "id": "OxoXrM7hDaqz"
      },
      "source": [
        "Vetor One-Hot de *pedra*"
      ]
    },
    {
      "cell_type": "code",
      "metadata": {
        "colab": {
          "base_uri": "https://localhost:8080/"
        },
        "id": "E2Q28fcQCR0z",
        "outputId": "95115f91-37e2-4f43-b102-51b5b98a9460"
      },
      "source": [
        "vetores[vocab.index('pedra')]"
      ],
      "execution_count": 20,
      "outputs": [
        {
          "output_type": "execute_result",
          "data": {
            "text/plain": [
              "array([0., 0., 0., 0., 0., 1., 0.])"
            ]
          },
          "metadata": {},
          "execution_count": 20
        }
      ]
    },
    {
      "cell_type": "markdown",
      "source": [
        "## Hipótese Distributiva"
      ],
      "metadata": {
        "id": "S9ziw8VCvKcK"
      }
    },
    {
      "cell_type": "markdown",
      "source": [
        "Formulada pela primeira vez pelos linguistas Joos (1950), Harris (1954) e Firth (1957).\n",
        "\n",
        "\n",
        "Assume que palavras semelhantes (e.g., oculista e oftalmologista) tendem a ocorrer no mesmo contexto (e.g., próximas de palavras como olhos e examinar).\n",
        "\n",
        "\n",
        "A diferença de significado entre 2 palavras corresponde à diferença entre seus contextos."
      ],
      "metadata": {
        "id": "wxDOMJ2lvv4B"
      }
    },
    {
      "cell_type": "markdown",
      "metadata": {
        "id": "YQlvjzNnEUJk"
      },
      "source": [
        "## Matriz de Frequência Termo-Documento\n",
        "\n",
        "Dado um vocabulário e um conjunto de documentos, as representações das palavras e dos documentos podem ser calculadas a partir da contagem de cada palavra em cada documento.\n",
        "\n",
        "Mais informações: [Scikit Learn](https://scikit-learn.org/stable/modules/generated/sklearn.feature_extraction.text.CountVectorizer.html)"
      ]
    },
    {
      "cell_type": "code",
      "metadata": {
        "colab": {
          "base_uri": "https://localhost:8080/"
        },
        "id": "o5tH6TC1EE1R",
        "outputId": "d8b31cd9-0fcd-415c-a121-189cb9ac5313"
      },
      "source": [
        "from sklearn.feature_extraction.text import CountVectorizer\n",
        "\n",
        "corpus = ['no meio do caminho tinha uma pedra',\n",
        " 'tinha uma pedra no meio do caminho',\n",
        " 'tinha uma pedra',\n",
        " 'no meio do caminho tinha uma pedra']\n",
        "\n",
        "vectorizer = CountVectorizer()\n",
        "\n",
        "vetores = vectorizer.fit_transform(corpus)\n",
        "vocab = vectorizer.get_feature_names_out()\n",
        "\n",
        "print('Vocabulario')\n",
        "print(vocab)\n",
        "print()\n",
        "print('Matriz')\n",
        "print(vetores.toarray())"
      ],
      "execution_count": 21,
      "outputs": [
        {
          "output_type": "stream",
          "name": "stdout",
          "text": [
            "Vocabulario\n",
            "['caminho' 'do' 'meio' 'no' 'pedra' 'tinha' 'uma']\n",
            "\n",
            "Matriz\n",
            "[[1 1 1 1 1 1 1]\n",
            " [1 1 1 1 1 1 1]\n",
            " [0 0 0 0 1 1 1]\n",
            " [1 1 1 1 1 1 1]]\n"
          ]
        }
      ]
    },
    {
      "cell_type": "markdown",
      "metadata": {
        "id": "1_xa8vIKIWZb"
      },
      "source": [
        "Acessando o vetor da palavra *meio*"
      ]
    },
    {
      "cell_type": "code",
      "source": [
        "vetores[:, list(vocab).index('meio')].transpose().toarray()"
      ],
      "metadata": {
        "colab": {
          "base_uri": "https://localhost:8080/"
        },
        "id": "1709i2lsJAnm",
        "outputId": "a5a14589-c9d7-4b21-de26-14657bcd8684"
      },
      "execution_count": null,
      "outputs": [
        {
          "output_type": "execute_result",
          "data": {
            "text/plain": [
              "array([[1, 1, 0, 1]])"
            ]
          },
          "metadata": {},
          "execution_count": 33
        }
      ]
    },
    {
      "cell_type": "markdown",
      "metadata": {
        "id": "OktxOJ0zIisc"
      },
      "source": [
        "Acessando o vetor do verso 3: *tinha uma pedra*"
      ]
    },
    {
      "cell_type": "code",
      "metadata": {
        "colab": {
          "base_uri": "https://localhost:8080/"
        },
        "id": "rt4pS6YZIcYH",
        "outputId": "80da0453-8762-4133-af1a-0717cd9d6811"
      },
      "source": [
        "vetores[2, :].toarray()"
      ],
      "execution_count": null,
      "outputs": [
        {
          "output_type": "execute_result",
          "data": {
            "text/plain": [
              "array([[0, 0, 0, 0, 1, 1, 1]])"
            ]
          },
          "metadata": {},
          "execution_count": 34
        }
      ]
    },
    {
      "cell_type": "markdown",
      "metadata": {
        "id": "ewPe4oIyBGb0"
      },
      "source": [
        "Customizando o contador com um tokenizador próprio:"
      ]
    },
    {
      "cell_type": "code",
      "source": [
        "import nltk\n",
        "nltk.download('punkt')"
      ],
      "metadata": {
        "colab": {
          "base_uri": "https://localhost:8080/"
        },
        "id": "dGSnVha7w7OX",
        "outputId": "41428979-6e54-421f-dea9-b2449365830a"
      },
      "execution_count": 22,
      "outputs": [
        {
          "output_type": "stream",
          "name": "stderr",
          "text": [
            "[nltk_data] Downloading package punkt to /root/nltk_data...\n",
            "[nltk_data]   Unzipping tokenizers/punkt.zip.\n"
          ]
        },
        {
          "output_type": "execute_result",
          "data": {
            "text/plain": [
              "True"
            ]
          },
          "metadata": {},
          "execution_count": 22
        }
      ]
    },
    {
      "cell_type": "code",
      "metadata": {
        "colab": {
          "base_uri": "https://localhost:8080/"
        },
        "id": "FFhaSN0rBFzf",
        "outputId": "ae68099c-222d-4b5f-ead3-0f41fab05f32"
      },
      "source": [
        "def tokenize(texto):\n",
        "  return nltk.word_tokenize(texto, language='portuguese')\n",
        "\n",
        "vectorizer = CountVectorizer(tokenizer=tokenize)\n",
        "\n",
        "vetores = vectorizer.fit_transform(corpus)\n",
        "vocab = vectorizer.get_feature_names_out()\n",
        "\n",
        "print('Vocabulario')\n",
        "print(vocab)\n",
        "print()\n",
        "print('Matriz')\n",
        "print(vetores.toarray())"
      ],
      "execution_count": 23,
      "outputs": [
        {
          "output_type": "stream",
          "name": "stdout",
          "text": [
            "Vocabulario\n",
            "['caminho' 'do' 'meio' 'no' 'pedra' 'tinha' 'uma']\n",
            "\n",
            "Matriz\n",
            "[[1 1 1 1 1 1 1]\n",
            " [1 1 1 1 1 1 1]\n",
            " [0 0 0 0 1 1 1]\n",
            " [1 1 1 1 1 1 1]]\n"
          ]
        },
        {
          "output_type": "stream",
          "name": "stderr",
          "text": [
            "/usr/local/lib/python3.10/dist-packages/sklearn/feature_extraction/text.py:528: UserWarning: The parameter 'token_pattern' will not be used since 'tokenizer' is not None'\n",
            "  warnings.warn(\n"
          ]
        }
      ]
    },
    {
      "cell_type": "markdown",
      "metadata": {
        "id": "cH74ZUhZJb3h"
      },
      "source": [
        "## Matriz Termo-Termo\n",
        "\n",
        "Dado um vocabulário, a representação de uma palavra pode ser calculada a partir da contagem de sua **coocorrência** com cada palavra do vocabulário num determinado contexto (e.g. documento, sentença etc.)."
      ]
    },
    {
      "cell_type": "markdown",
      "source": [
        "![image.png](data:image/png;base64,iVBORw0KGgoAAAANSUhEUgAAAfIAAAEtCAYAAADz+eIqAAAgAElEQVR4Xu2dTWsc2dXHjyBxcFAIVhIsg8lKPQnGC2njhfQFJDnE2cg4K6MEWktpY7Lx0ptkNtImIG2EFkPAs7EXVvsDWAKbgAU2w2S6V0pglBcLjM1jRsTRc291lVRdkqxTb/fUufffMOBRn64+L/ecX/1vVXcPHZrHX//6V7p69SrhcTID+/v7dPHixeg/nx7//e9/6c2bN3T58mWfwmLF8u7du8juRz/6Ectem9E///lP+slPfkLf+973tLleqb++1zlJVsi9HHLs//vf/+hf//oXjY+P09C33357+PTpUxodHa20iXw52Nu3b+nChQvegfzg4IDev39PIyMjvpSKHYeN2z6Gh4fZr9FkaE8+bWx23Yb88L3OSW1D7uWQY//48SPZXv/1r39NQ1aRr6+v0/z8fMg9f2bsz549i1Rrq9XyKj97e3u0s7ND09PTXsXFCebly5eR2cTEBMdcnY09Mbdn6aGfnPte52RhhtzLIcduT1Q7nQ7Nzc0B5OdNaYD8vAzpe973AQ+Q99ek73UGyIkAcoCcRSCAnJUmVUa+D3iAHCBX1ZAlnAXIAXLW8gHIWWlSZQSQqypXYWd9rzMUORQ5ttaZ4wEgZyZKkZnvAx6KHIpcUTuWchWKHIqctYAAclaaVBkB5KrKVdhZ3+sMRQ5FDkXOHA8AOTNRisx8H/BQ5FDkitqxlKtQ5FDkrAUEkLPSpMoIIFdVrsLO+l5nKHIocihy5ngAyJmJUmTm+4CHIociV9SOpVyFIociZy0ggJyVJlVGALmqchV21vc6Q5FDkUORM8cDQM5MlCIz3wc8FDkUuaJ2LOUqFDkUOWsBAeSsNKkyAshVlauws77XGYocihyKnDkeAHJmohSZ+T7gG6HIeys01Vqi65uHtDrzicUR29Fyl7YWxypdRb7XGSAHyAFy5sgAyJmJqsSsRytTLVrabtPm4Sp9av6XeTs3A95NLKfloREg5xZIBcjz1rJDC0OztDa5TN2tRar29ORkYkPeXm5O7HnXCLdBzrbDj6bkyCFAniNZpU3dNANAflyo3soC3V1ao23zp8n2Jm0Y+WzB01mYotk1+1f792XzdwOkRGW32/R6LXnNMt2mh7QU2U5Se3mDVq2yTivyVl+dk3nd9ddrZE3te21ZqZ6AfLJNtH3sR/ScfXTMax8s0Xbkijn+pjn+DA+NZercM+/7+TefmVisH3nXJUBeehQwDwCQ4xo5a6kA5Kw0qTIqM+D5geYd/vwjn2fJVuSdBRqafW12tbdokWLY2i3uzz6noQfX+mryFJttA+GuBe3KFLWWtmky3hbvw/96fzflFJAPvo4G3vdTzyXb7r34/drnbdfHCSpc59h369PhJ68LnFUJgPy8NVrV8wA5QM5aS9WCPGnwNi1ff32sYja3jq8j9jq08vmD+DmjQcz23P2NRWKKEFZM1qiSBjgaeMu0nFZlm/eJHpitxSMVlYnvromvL7GO1V70f6fAr4Z8FB7w52U3yUcc1/XXSyYHqcsENcRymktckPfBGIM3c6BIkT56aJT3dqTWI3jGyvrouncE+bX+c5G4tscbBHRkmyjy5Dr4WScQVsmnnrv5JOtfv39eM6+nF6tzsgaThNj63aNvBi75nNfHyfNmB8Fk7/Q+WKGFu3Z9xO9jdiSWN1apyG0ClfTyUf2zJyGZnizU89XFml3vxWM/rmHbzOK1ZEcpO4vPnFV2XPVPfvu7Wctmtynd78drYNJYbCdzwLymqrpja/28gZx6vhaQmy3CSAWNZZsm/n/T/ptde43YQP3ubC3XjIs3QCo5Rws58TdZ2MkWaJcWpizQE5gdx7tpT05MfAut9LXELMjryUexAX/eosnU0gBpykBu29Yyut5fTyx1gDwBst3GvkefUyuB9akgjxV9tJvuA8hTA/pIkZ+1Ls/r43Oej3c2xpK1UfCaeiW9nBfkRzOK2fMVxVo5yKOT1G50Itq/P+dkzU6fVdx+T45nPY9fU1EuAPLzZnLdID9q2MyAiBVOslUZuXHa33L4f5ZpJc1/YgvynLP5U2IZGP5jbvJRC8hPxOYmljIgT9ZWX1Efq937X7XMFnn/BKSV3s52DPKB7X4jVQfXyvlNULjOJ9b1GSA/q49PgPn0yyy9ToeePHpED819A/0NqmI3eVbSy3lBfnSSc07Px8etKtbKQZ4+eUrvMFF/tyk9iwfWXzf7/Hlr5NjzqnIBkJ8/A44salHkZwyAgaGZ3LLtEciT+E5Lfx8mg81QVz4KD/hPrJuT12/dxFIK5JH4TN/sNnhTW3/L0NyEZm5si65T33wy+JGy9BZ5DYo8umfObPHfdX2zW+0gN/CLdqrszYH36d5Nos/tzpSXIK82Vhcgt/DeoLvR/R9nzap73/TvDzm+X4MD8mpzAZA3FOQzASrywVK4UbF1gPzkzombWMqCPEcrqDMtXOe6QZ65t+Boy1XT1jpXkVccqwuQR3A+RZEPvPd5O3CnXS6pOBcAeY6R5FKRu7yOWsl2XN6t9dTijq47ZbfST9zsVs915cID/pPr5uQ1M7s1d7xdWk8sAPnZRSle5+Nrmf271s9TWzmfjwe6kXPRXfHJbk4zttbPuLkt2S3I2/MVx1o5yG2HDlwjP+N+nhOzitnvp2zdV1V3gLyxILczQ+Nd68nHdBjXy0x8C+YGvvTdupvmbt3+Xfm4az3H0jzTlHvXehXv1eRjFAd5+nP09kZOc9f63fQXFZ23zs97fvBz+ub6RfwplviOf97H5I9SX8lJebqQRzdqnnI3dl6Qm+Omv5OgbKyVg/wo9/3vQejfhBy/yydnlR1XnLvWB78UqMpcAOQ5pk+1ijzHG9dsWnnz1+xvlYcvM+Cr9KOuYwHk/cz6Xudk/YTcy8Vjd/tZ/zp6HSDPkVWAPEeylJj6PuABcoBcSSuWdhMgxxfCsBYRQM5KkyojgFxVuQo763udocjLfLEVFHnhxtL4QoBcY9U+7bPvAx6KHIrcv649PaLiilx/hrC1nqOGAHmOZCkxBciVFKqkm77XGYq8jCIvubga8HKAPEcRAPIcyVJi6vuAhyKHIlfSiqXdhCLHNXLWIgLIWWlSZQSQqypXYWd9rzMUORR5x3zN79zcHA0dmsf6+jrNz88XbhifXwiQ+1dd3wc8FDkUuX9di2vk2Qxgaz3HKgfIcyRLiSlArqRQJd30vc5Q5FDkUOTMIQGQMxOlyMz3AQ9FDkWuqB1LuYpr5NhaZy0ggJyVJlVGALmqchV21vc6Q5FDkUORM8cDQM5MlCIz3wc8FDkUuaJ2LOUqFDkUOWsBAeSsNKkyAshVlauws77XGYocivxIkb958+bw8ePHdOXKlcIN4/ML3759SxcuXKCLFy96FebBwQHZux5HRka8iosTjI3bPoaHhznm6mz29/ej2Oy6Dfnhe52T2obcyyHH/vHjRzL8Hvz42czMn0Lu+TNjf/Vqli5d2qWrV197lZ/9/Z9TrzdFN278xau4OMF0u1ORWau1xTFXZ/PixW9pbGzLnKTtqvO9Sod9r3OSq5B7OeTYP3z4MT1/vkR37txJf478d1X2kDfHevbs93T58tfeDf29vV/Szs4tmp7+oze14gby8uWtyHRi4jH3Jarsnj79A42PP6bR0a9V+V21s77XOclXyL0ccuzv3/+UOp0/Z78QBiA/bZAA5FWPV/nj+T7gAfL+GvO9zgC5vUYeriAByHOwBCDPkSwlpr4PeIAcIFfSiqXdBMihyFmLCCBnpUmVEUCuqlyFnfW9zlDkUOTYWmeOB4CcmShFZr4PeChyKHJF7VjKVShyKHLWAgLIWWlSZQSQqypXYWd9rzMUORQ5FDlzPADkzEQpMvN9wEORQ5ErasdSrkKRQ5GzFhBAzkqTKiOAXFW5Cjvre52hyKHIociZ4wEgZyZKkZnvAx6KHIpcUTuWchWKHIqctYAAclaaVBkB5KrKVdhZ3+sMRQ5FDkXOHA8AOTNRisx8H/BQ5FDkitqxlKtQ5FDkrAUEkLPSpMoIIFdVrsLO+l5nKHIocihy5nhwBfIV8zseS9t9pzYPiWaY/hU1EzuT7RANzR57vdwlWhwrGkWx1zkd8ALxiipygXjPWgVO62ydEIo95F4OOXZ8RWuO+e8C5J0FIsu2w1UzC1L/zuFmblORBugRTbWIbifwjgefixOXdIKcDXiheMVALhRvI0AuGHvIvRxy7M0AebzwqU103fxC6JpRo+1lotXFuC3N8wt3+3+nSaLlDffKzXriAuQLQ0TXErjFeblfsyoXaYBTJu5A7LlPR4q9wBnIheIVA7lQvI0AuWDsIfdyyLE3CuTbBtJd87PQT+Kt5USd2QG/ZiDfNSqVVsxvRy8ZmAtsw9YO8lPA7QJuTWiAnq3rw379Xe6uS4HcVbxNAbmreJsIcpexh9zLIcfeKJCTUeFbRoVHW8pr/evDrSy4E/Ue2xbTYcVeBZAXy9snXxXX0262SJycOQe543jFQe443kaBXCB2UZgJxJuud8ix6wO5qVyi0O11ZJcPgLzGbPt+jTybOkfxioM8idtRvI0CuUDsojATiLcxIBeOXR/Iocgrp2kjmj8+QTu6P6DyKE8/oHNFnnLDxWWTxoBcqL5JuiXrbH1wUWv7PiH3csixNx7kM8l2TQjXyLMNj5vdase55IB3MdwB8v4SkqwzQF57G0dvAJBLfyFMRmWnr5FHn6EO6K71YD5+lt1qtWvAfDJhw9eb3YTiFQO5ULyN2FoXjF0EZoLxim+tNyT2ZihyNydspd+l9mvksYfRPQDxv118rlqk+e35WXwjY1IYF7FmF4FLpSYRrxjIG1Jfqa11iVpLqlKpeMVB3pB1DpDnwLsrkOdwqRJTKZBX4nzJg7gEeUlXC71cEuSFHK7pRb7XOUlbyL0ccuwAeY7BAZDnSJYSU98HPEDeX4i+1xkgb841conRB5DnyDpAniNZSkx9H/AAOUCupBVLuwlFLn2zW+kSujkAQO4mzy7fBSB3mW259/K9zlDkUOT49TPmfAHImYlSZOb7gIcihyJX1I6lXIUihyJnLSCAnJUmVUYAuapyFXbW9zpDkUORQ5EzxwNAzkyUIjPfBzwUORS5onYs5SoUORQ5awEB5Kw0qTICyFWVq7CzvtcZihyKHIqcOR4AcmaiFJn5PuChyKHIFbVjKVehyKHIWQsIIGelSZURQK6qXIWd9b3OUORQ5FDkzPEAkDMTpcjM9wEPRQ5FrqgdS7kKRQ5FzlpAADkrTaqMAHJV5SrsrO91hiKHIociZ44HgJyZKEVmvg94KHIockXtWMpVKPJYkX/33XeHX3zxBY2PPy6VUF9fvLs7QcPD/6GRkb97FaL9nt69vV/Q2Jj5DdHAHjZu+xgd/ZuXkfd6U1Fsdt2G/PC9zkltQ+7lkGM/OPgh9Xo36c6dOzT07t27wy+//NKAfDzknj8z9t3dXTMQhw3IR7zKz/v37w3I9wzIx7yKixOMjbsP8lGOuTqbXq8XxWbXbcgP3+t8DPJweznkOXZwcGBA3qO5uTkaOjSP9fV1mp+fD7nnz4z92bNndPnyZWq1Wl7lxw65nZ0dmp6e9iouTjAvX76MzCYmJjjm6myePn0anZj7eqLCLYjvdU7yEHIvhxy7PYnpdDoAOWcgAOScLOmy8X3AA+T99eh7nQFye7NbuIIEIM/BHYA8R7KUmPo+4AFygFxJK5Z2EyCHImctIoCclSZVRgC5qnIVdtb3OkORQ5Fja505HgByZqIUmfk+4KHIocgVtWMpV6HIochZCwggZ6VJlRFArqpchZ31vc5Q5FDkUOTM8QCQMxOlyMz3AQ9FDkWuqB1LuQpFDkXOWkAAOStNqowAclXlKuys73WGIocihyJnjgeAnJkoRWa+D3gocihyRe1YylUocihy1gICyFlpUmUEkKsqV2Fnfa8zFDkUORQ5czwA5MxEKTLzfcBDkUORK2rHUq5CkUORsxYQQM5KkyojgFxVuQo763udocihyKHImeMBIGcmSpGZ7wMeihyKXFE7lnIVilyTIu8s0NDsGrU3D2l1plTdc7/YCcjj+PrOTdJyd4sWa/5RMrkG6NHKVIuWtm2sbdo8XCXHJXX7HdwCtRUFuUC8ZzW18xM2odjFelko3nS9Q44d37WeA+e1g7y3QlOth3Q7gXfUHFQ74KQaoLMwRLO0SYfmjCz97xwlKW3qbMAL1VYM5ELxNgLkgrGL9LJgvOIgb0js7kAen7FNttt0/fUarRkVNtlepvvXvqIHS2u0bdRne3mDVhP5aRK0cHcpsjOGtLyx2lemWUV+ll3pEX/yALWD/MRbdmhh6AFdq1mVizQ/ZWKLGuIruu9YlTsDuVBtxUAuFG8jQC4Yu0wvZwN2M7ey7xpy7M5BTpPL1N1aJLOnSi27p9repK5RZF2rztbi7dVoqC+R2Vcma9pZaB0/NwByu2BmaS0+Rv+Y9mX1bEe7BnnPxvPwdpSvOnfXRRrgBLhlml8K5K5q2xSQu4q3iSB3GbtIL2eS7jJecUXekNidg3wygrPBUkZZR8WPIXzzSQbIaVs6vkZ+75uM3cAJQPXocwbyOA67S1HXSYl4A4QKcse1FQe543gbBXKB2EVBLhCv+BxLHBCOvcEgj+6AGnhEJwGffX50s9sJkEfbtX2Fbq+7Vv1wBvLEcZ+vkYcKcse1FQe543gbBXKB2EVBLhBvY0AuHHuDQX7GFnlKnXuryI9Wp5vtZpHmDx3k2XsEqj7rjI/XGJA7ireRIHcYu0gvC94T0DiQO6x1OvZGgnyR0tfIxyi97b7YTX38rNW32/b0Grm5/oCb3WoCXHJYqWvkrmoLkPcrLVdn++5u+ti+E0C+Q9PT0zVPjU8d3l2tmw/y+O70KfN58f4Gu7mjfXOr/7lxn+9az26lW9V6l2jDx5vdolIG9PEzodqKgVwo3kYocsHYRUAuGK+4Im9I7O4UueA5UlVv7eIaeX/3Ibk/wM2XpIg0f1SU+J6G6N9uYs2uBZdKTaK2YiA3iZaItxEgF4xdqpebUOuQYwfIc1DeBchzuFOZqVQDVBZAiQO5BHkJNwu/VBLkhZ2u4YW+1zlJWci9HHLsAHmOoQGQ50iWElPfBzxA3l+IvtcZIG/K/QEygw8gz5F3gDxHspSY+j7gAXKAXEkrlnYTilzTj6aULnfxAwDkxXPX1FcC5E2tTLV++V5nKHIocvyMKXNmAOTMRCky833AQ5FDkStqx1KuQpFDkbMWEEDOSpMqI4BcVbkKO+t7naHIocihyJnjASBnJkqRme8DHoocilxRO5ZyFYocipy1gAByVppUGQHkqspV2Fnf6wxFDkUORc4cDwA5M1GKzHwf8FDkUOSK2rGUq1DkUOSsBQSQs9KkygggV1Wuws76XmcocihyKHLmeADImYlSZOb7gIcihyJX1I6lXIUihyJnLSCAnJUmVUYAuapyFXbW9zpDkUORn1DkMzP2Z8bwyGbg1atXdOnSJbp69apXydnf36der0c3btzwKi5OMN1uNzJrtVocc3U2L168oLGxMRoZGVHne5UO+17nJFch93LIsX/48IGeP39Od+7coaFvv/320FL9ypW/VdlD3hzr7dsrdOHC/9HFi2+9ickGcnDwQ3r//qdm2O96FRcnGBu3fQwP/4djrs5mf//nUWx23Yb88L3OSW1D7uWQY//48fv05k2Lbt26RUOH5rG+vk7z878LuefPjP3Zs9/T5ctfG/W25VV+9vZ+STs7t2h6+o9excUJ5uXLW5HZxMRjjrk6m6dP/0Dj449pdPRrdb5X6bDvdU5yFXIvhxy7PVHtdP5Mc3NzAPl5gwMgPy9D+p73fcAD5P016XudAXJ7jTxcQQKQ52APQJ4jWUpMfR/wADlArqQVS7sJkEORsxYRQM5KkyojgFxVuQo763udocihyLG1zhwPADkzUYrMfB/wUORQ5IrasZSrUORQ5KwFBJCz0qTKCCBXVa7CzvpeZyhyKHIocuZ4AMiZiVJk5vuAhyKHIlfUjqVchSKHImctIICclSZVRgC5qnIVdtb3OkORQ5FDkTPHA0DOTJQiM98HPBQ5FLmidizlKhQ5FDlrAQHkrDSpMgLIVZWrsLO+1xmKHIocipw5HgByZqIUmfk+4KHIocgVtWMpV6HIochZCwggZ6VJlRFArqpchZ31vc5Q5FDkUOTM8QCQMxOlyMz3AQ9FDkWuqB1LuQpF3jBF3lkgml0j2jwkatIPqjoBeYdoaPZ4PS+bX9lcHCu1vs99sVgDCMSaTYZrkK9MES1t971wsb5FQd6A+ib1dl1nEoo95F4OOfZGftd6sCDvEU2Zn8W+ncA7HgZ1D3yRBhCKVRLk0bo2DhyuEqX/fe6ZVgkDMZA3pL4iIBeMPeReDjn2xoC8t0LUWjJtN0nUvk60llbkpjEW7pq/WSVjnl/eqF+lnjY7nSjyzBsvDBFdq1mVizTAKQl2EaskyAfii4f9/Zp3ncRA3pD6ioBcMPaQeznk2JsB8nio0TLR1qKBtoGX4fjR1mP0/22irlEyFAPfxZZzth9dgzw6uXlo4jY/f17n7noTGsBVrGIgPwXcLk5cmgJyqfo2AeQuYw+5l0OOvREgT9R4Auf01norC+4M9EvsOuZ+qTOQxzHaDQgXJyyiDeA4VoA897Iv9wLh+oqCXCD2kHs55NgbCfIE7Pba8AmQm85MFLq91ujy4QzkSVA+XyPPFs5RrAC5y45JvZdQfUVB7riP7duJwkwg3vRqDjn2RoI8eEWeWp0utl8b0QDxCVrd9wMA5EIgF6pvI0DuMPaQeznk2BsBcvrUNfJkeyrAa+R2CAHk9YLH5ceScLNb/TdunrVaXNb5NB9c9HFjFLmjuZXNM0DegM+R4651syyz24/2JMbcrb/h481uQrGKKXJb3pA+ftaQ+ooocsHYRWAmGK/41npDYm+GIq9XdFV2dBfXyI9OaGKv6/4MueRZvESskiBPdljsJzLsw0VtJe9ab0J9RUBu3lQqdhGQC8YrDvKGxA6Q58C8C5DncKcyU6nmryyAEgeS3nIt4TrrpZIgZznoyMj3OidpDLmXQ44dIM8xSADyHMlSYur7gAfI+wvR9zoD5A25Y19o7gHkORIPkOdIlhJT3wc8QA6QK2nF0m5CkTfgZrfSVXRwAIDcQZIdvwVA7jjhQm/ne52hyKHI8TOmzOECkDMTpcjM9wEPRQ5FrqgdS7kKRQ5FzlpAADkrTaqMAHJV5SrsrO91hiKHIociZ44HgJyZKEVmvg94KHIockXtWMpVKHIoctYCAshZaVJlBJCrKldhZ32vMxQ5FDkUOXM8AOTMRCky833AQ5FDkStqx1KuQpFDkbMWEEDOSpMqI4BcVbkKO+t7naHIocihyJnjASBnJkqRme8DHoocilxRO5ZyFYocipy1gAByVppUGQHkqspV2Fnf6wxFDkUORc4cDwA5M1GKzHwf8FDkUOSK2rGUq1DksSJ/8+bN4ePHj+nKlb+VSqivL3779gpduPB/dPHiW69CPDj4Idnv6h0Z2fUqLk4wNm77GB7+D8dcnc3+/s+j2Oy6Dfnhe52T2obcyyHH/vHj9+nNmxbNzc3R0KF5rK+v08zMTMg9f2bsr169okuXLtHVq1e9ys/+/j71ej26ceOGV3Fxgul2u5FZq9XimKuzefHiBY2NjZmTtBF1vlfpsO91TnIVci+HHPuHDx/o+fPndOfOnWOQz8/PV9lD3hzr2bNndPnyZe+G/t7eHu3s7ND09LQ3teIG8vLly8h0YmKC+xJVdk+fPqXx8XEaHR1V5XfVzvpe5yRfIfdyyLG/f/+eOp3OoCIHyE8fIwB51eNV/ni+D3iAvL/GfK8zQG5vdgtXkADkOVgCkOdIlhJT3wc8QA6QK2nF0m4C5FDkrEUEkLPSpMoIIFdVrsLO+l5nKHIocmytM8cDQM5MlCIz3wc8FDkUuaJ2LOUqFDkUOWsBAeSsNKkyAshVlauws77XGYocihyKnDkeAHJmohSZ+T7gocihyBW1YylXocihyFkLCCBnpUmVEUCuqlyFnfW9zlDkUORQ5MzxAJAzE6XIzPcBD0UORa6oHUu5CkUORc5aQAA5K02qjAByVeUq7KzvdYYihyKHImeOB4CcmShFZr4PeChyKHJF7VjKVShyKHLWAgLIWWlSZQSQqypXYWd9rzMUORR5sxV5Z4GGZteovXlIq5/6LZfeCk21loiWu7S1OFa44T/1Qicgj+Pt+zFpwtmimsI5ClXsTFYg1mx9nQ54gXhlFXmPVqZatLRts96mzcNVkvo5Jqd1tuEK1Nq+bci9HHLs/nxFqw8gj2J4SLcTeEfDgGofgCINIBSrGMiF4pUEeWdhiGZpkw7NGXj637WcZZ9zUKcgF6q1GMgF402XPeQ5Vh7kpogLd5doLTrrnqT28gatxhKyt7JAd5fWKHoq/Vx8tjrZbtP112vRayfby3T/2lf0ILJPHSetyFux6j56XcouAflkm2g7cwz79mk/jc3yxmpupetEkQ8MpA4tDD2gazWrcpEGODF43cQqBnKheOVAnqln1J9f0X0hVe4U5EK1FgO5YLziIG9I7CVBbpt1ltbam9S1+94Guq1kGzyC7rG6jM7I1+LttWTbaXKZuluLZPbfqGX33+LjdE+xjbbWY5BvR6+7SU+ibbv4mDHIT32OMn5G72d34fNtW7sGec/6+fB2lKN6Lhb0V2ETQO4q1qaA3FW8YiA/AW6ZE7Wk3pIgd1Xr0Hs55DlWDuTnXr/uUWflCT16+NCobqvL42u+3f5178nkenbmONHCT0Ab26ZBnlwHHzg5yGytp59rZcFdcBveGciTkxLfr5HHOyX23ga7C5P3xKqKLVrnA95xbQHy/ipxXmehtS0KM8drO9v/IcdeCuR94G6ffiPakUI229j379Fnj1pGkTcE5CmFbq/fcR/OQJ445Ld1PKQAABdpSURBVPM18mzSHcXaFEXevxmq/vsfAHJBkDvu46Yocldru1EgF6h1Ov5SIE/uzDztjvIBVW32hU/bWociP+8Uws12pOiZ7FEK3MTaGJBHJ5P13/8AkDcA5I5q3RiQO4w33c8hz7FyIM9cex5LbVlv0N1jtd4yQ6tlrqULba3PJLsDybV8JdfIzemPk2EfcgOIbLlG08dNbcVAno0PN7vVftMqQL5HOzs7ND09fZ5CqvF5N32dDaAkyM3hBu5at3efb9JWtF2d/gypubvc3Ey+Zm5Pj9Q7ub1GHm2ea7hrPbvdaoffXaINH292E4pVTJELxSsH8ngXLsSPnwnVWgzkgvGKK/KGxF4e5DWe2zTt0C6ukSf3HfRjd/MlGlKKXCJWMZBH55LxpzMc1lYS5P1dB7sT524tnzUzXO+8SNRaDORCaztb65DnGECe42zBBchzuFOZqVQDVBZAiQO5HvAlXC30UlmQF3K5lhf5XuckaSH3csixA+Q5xgZAniNZSkx9H/AAeX8h+l5ngLwZ34chNfYA8hyZB8hzJEuJqe8DHiAHyJW0Ymk3ocjx62esRQSQs9KkygggV1Wuws76XmcocijyZv/6WeHWrf6FAHn1OZU+ou8DHoocily6x1y9PxQ5FDlrrQHkrDSpMgLIVZWrsLO+1xmKHIocipw5HgByZqIUmfk+4KHIocgVtWMpV6HIochZCwggZ6VJlRFArqpchZ31vc5Q5FDkUOTM8QCQMxOlyMz3AQ9FDkWuqB1LuQpFDkXOWkAAOStNqowAclXlKuys73WGIocihyJnjgeAnJkoRWa+D3gocihyRe1YylUocihy1gICyFlpUmUEkKsqV2Fnfa8zFDkUORQ5czwA5MxEKTLzfcBDkUORK2rHUq5CkceK/Lvvvjv84osvaHx8vFRCfX3x7u4uDQ8P08jIiFch2u/ptU0wNjbmVVycYGzc9jE6OsoxV2fT6/Wi2Oy6Dfnhe52T2obcyyHHfnBwQLbX79y5Q0Pv3r07/PLLLw3IH4fc82fGvrs7YQbifwzI/+5Vft6//6kB+S8MyLe8iosTjI27D/K/cczV2fR6U1Fsdt2G/PC9zscgD7eXQ55jBwc/NCC/SXNzczR0aB7r6+s0P/+7kHv+zNifPfs9Xb78NbVafgFvb++XtLNzi6an/xhc3V++vBXFPDHh58nr06d/iE7MR0e/Dq626YB9r3MSa8i9HHLs9iSm0/kzQM6ZcgA5J0u6bHwf8AB5fz36XmeA3N7sFq4gAchzcAcgz5EsJaa+D3iAHCBX0oql3QTIochZiwggZ6VJlRFArqpchZ31vc5Q5FDk2FpnjgeAnJkoRWa+D3gocihyRe1YylUocihy1gICyFlpUmUEkKsqV2Fnfa8zFDkUORQ5czwA5MxEKTLzfcBDkUORK2rHUq5CkUORsxYQQM5KkyojgFxVuQo763udocihyKHImeMBIGcmSpGZ7wMeihyKXFE7lnIVihyKnLWAAHJWmlQZAeSqylXYWd/rDEUORQ5FzhwPADkzUYrMfB/wUORQ5IrasZSrUORQ5KwFBJCz0qTKCCBXVa7CzvpeZyhyKHIocuZ4AMiZiVJk5vuAhyKHIlfUjqVchSJ3pMh7HaLPvyFaXTT1Mv8emiVqb5r/n/lE/XpEUy3z/DLRln2d4MMJyOO8JGEud4kWa/51UbEGEIg1u3ycglwgXlGQC8R71nhwWufYiZUpoqXt/v9sHhJ9asxVNdbEejkJIJ7X9x3Fm85byLE7/a71hSGitTbR4WqOZRsSyONYbyfwjgdh3UNApAGEYhUDuVC8YiAXircpIO8sEBmdEs269L9zTL5CpiK9nPI0inXN3YlLk0AuGbszkKfPTmmSqHufqJUocqO4I9VtIH/9tYG9OYttGwUeKfcE5OY1ZP5uT3CPnrNPrxDdXer/3T7SzxXqhE+8yIkiz7y/Pfm5VrMql27+JGQXsYqB/JR15SJeMZALxdsUkA/U1qFKFe1lKzweEE2aYRycIheO3RnIbYMNKPL01noM8m0LePNT30/iLalIicZN8KnnEgVb9xmRa5Dbk5TWw35O6txdF23+ePK6irUpIHcVb1NA7ireRoD8FHC7OGmzsUv2shVrn20QPTDzPDSQS8feKJAn18EHgJzZWj8N1h0DvEcGeFbJ20dd15WdgTw5eakxlsZsSTmOVRzkjuMVB7njeAFymd/kjnZGTfK3bvZ3V0MCeRNi1w3ylFpfNlv1nz3qX59RD/JkGvl8jTw7cR3FKg5yx7UVB7njeAFyGZAvGDV+z+4cOryMkK211G5EE2JXDfKW3Xo218cTcPu2tZ5cjsA18qrvdjg+nsTdzC7vCWgMyONLa3WvZYDcPcjt3H30m/jTR4GBvCmxewHy6CNsZjtnwfxnBLk/itzR8JM6k80OXVfXEdPvC5DXd5LUhPomPriuc0g3u0X3Pp2yjM79aHHFS09ijjUldqcgj254MQraPjYNfGezd63HnxXPc408fTd829z1vmZWVF0LqPZr5NntZXt2ay48bfh4s5tQrGJb60LxiilyoXgbociNE6F+/Cz5lFFI18iP1pzgboRTkFd8Aub8cLWD3ESUPtmJTngcfLGCxJmsjU0iVjGQC8UrBnKheJsCcutHWq256GP7nlK93ASYhRw7QJ7jdMAFyHO4U5mpeANUFkn+A7necs3vYblXSIK8nOfVvtr3OifZCrmXQ44dIM8xLwDyHMlSYur7gAfI+wvR9zoD5A3YjRCceQB5juQD5DmSpcTU9wEPkAPkSlqxtJtQ5I5+NKV0pYQPAJALF6CGtwfIa0hqAw/pe52hyKHI8TOmzMEDkDMTpcjM9wEPRQ5FrqgdS7kKRQ5FzlpAADkrTaqMAHJV5SrsrO91hiKHIociZ44HgJyZKEVmvg94KHIockXtWMpVKHIoctYCAshZaVJlBJCrKldhZ32vMxQ5FDkUOXM8AOTMRCky833AQ5FDkStqx1KuQpFDkbMWEEDOSpMqI4BcVbkKO+t7naHIocihyJnjASBnJkqRme8DHoocilxRO5ZyFYocipy1gAByVppUGQHkqspV2Fnf6wxFDkV+QpHPzPypcMP4/MJXr2bp0qVdunr1tVdh7u//nHq9Kbpx4y9excUJptudisxaLfMTcx4+Xrz4LY2NbdHIyK6H0fFD8r3OSSZC7uWQY//w4cf0/PkS3blzh4a+/fbbw06nQ1euXOF3SECWb9++pQsXLtDFixe9ivrg4IDev39vhv2IV3FxgrFx28fw8DDHXJ3N/v5+FJtdtyE/fK9zUtuQeznk2D9+/Ehv3ryhW7du0dCheayvr9P8/HzIPX9m7M+ePaPLly8b9dbyKj97e3u0s7ND09PTXsXFCebly5eR2cTEBMdcnc3Tp09pfHycRkdH1flepcO+1znJVci9HHLs9kTVivC5uTmA/LzBAZCflyF9z/s+4AHy/pr0vc4Aub1GHq4gAchzsAcgz5EsJaa+D3iAHCBX0oql3QTIochZiwggZ6VJlRFArqpchZ31vc5Q5FDk2FpnjgeAnJkoRWa+D3gocihyRe1YylUocihy1gICyFlpUmUEkKsqV2Fnfa8zFDkUORQ5czwA5MxEKTLzfcBDkUORK2rHUq5CkUORsxYQQM5KkyojgFxVuQo763udocihyKHImeMBIGcmSpGZ7wMeihyKXFE7lnIVihyKnLWAAHJWmlQZAeSqylXYWd/rDEUORQ5FzhwPADkzUYrMfB/wUORQ5IrasZSrUORQ5KwFBJCz0qTKCCBXVa7CzvpeZyhyKHIocuZ4AMiZiVJk5vuAhyKHIlfUjqVchSKHImctICcg7yzQ0Oxa7M8kLXe3aHGM5V5hI7EGEIg1mySnIBeIVxTkAvGe1QRO65x2ordCU62v6P7hKs0U7lD+C8V6mXq0MtWipW3ra5s2HcWbzoxc7LEXjmudjh3ftc7vEaod5NFCeEi3E3hHg5BqbwqRBhCKVQzkQvGKgVwo3qaBvLMwRLNr7sAm0ssm6VGctEmHqzMD/84xXkubSsWeOO661nIgj8/QJ5e7tGVk5kDgyXPtNl1/vUZr5sxusr1M9699RQ+W1mibJqm9vEGrsTztrSzQ3ejv9jH4XOkVccYBagf5ifft0MLQA7pWsyqXboB+2G5iFQO5UG3FQC4Ub6NAbmfag9c0uX3dc0We6V0hZSo6xwRq3WiQ0+QydbcWyezTUMvu07Q3qWvO8rrpM9vM2b6rMyHXIO/ZHDy8HeWjzt110QY42pVyE2tTQO6qtk0Buat4mwNyu9X8OX22cY0e+L61fgLcMiflcnNMptaNBnmi1o1cj64VtzcPyXCcokGwRKlrxj3qrDyhRw8fGvVudXn915OdgTxqjKVoF8Lra+R2JTqOVRzkjuMVB7njeJsCcjuv7tIGbd184v818sBBLlVr/SCnGHSTbVq+f48+e9Qy16Hqh54zkB9fdPH3Gnl24jq6H0Ac5I5rKw5yx/E2A+RGkU59Q/fsTprjbWYRVRo0yOVqrR7kN58MqnNft9ZdXTcWaf6GXEMVu5vZ0T0BjQG5o3ibAHI7jx79pr+T2N9x8vyu9YBBLllrOZDH22xmv9jc7NY1N3LNktk879+VnbkR7lNb632Qb/e33VvmjKhlj+OhInc0/AByoomJibMYUNPf3VxHBMj75XN3wmbraufRyUdymbCmBRUdVqaXQ73ZTbbWciA379xZmDLb4NEt6dS+bu5OTz6akQPki2PpzyyaO9bbZI4Tg73GD2vWvrWe3V62Jz53iTZ8vNlNKFaxrXWheMVALhRvExT5gA8hKPJoruPjZ653X0RBXufZaN3Hrh3k0U5cfLd+FIybz5/KnMXLxCoGcqHaioFcKF6AfI92dnZoenq67nGYOX5anbqZW9kApebYkR+OT9oA8oJL3AXIC7pW6mXiDVDK+3IvdrflWs7Poq+WBHlRn+t4ne91TnIWci+HHDu+2S3H1ADIcyRLianvAx4g7y9E3+sMkEvdH9CMQQeQ56gDQJ4jWUpMfR/wADlArqQVS7sJRY4fTWEtIoCclSZVRgC5qnIVdtb3OkORQ5HjZ0yZ4wEgZyZKkZnvAx6KHIpcUTuWchWKHIqctYAAclaaVBkB5KrKVdhZ3+sMRQ5FDkXOHA8AOTNRisx8H/BQ5FDkitqxlKtQ5FDkrAUEkLPSpMoIIFdVrsLO+l5nKHIocihy5ngAyJmJUmTm+4CHIociV9SOpVyFIociZy0ggJyVJlVGALmqchV21vc6Q5FDkUORM8cDQM5MlCIz3wc8FDkUuaJ2LOUqFDkUOWsBAeSsNKkyAshVlauws77XGYocihyKnDkeAHJmohSZ+T7gocihyBW1YylXochjRf7mzZvDx48f05UrV0ol1NcXv337li5cuEAXL170KsSDgwOy39U7MjLiVVycYGzc9jE8PMwxV2ezv78fxWbXbcgP3+uc1DbkXg459o8fP5LhN83NzdHQoXmsr6/TzMyfQu75M2N/9WqWLl3apatXX3uVn/39n1OvN0U3bvzFq7g4wXS7U5FZq7XFMVdn8+LFb2lsbMucpO2q871Kh32vc5KrkHs55Ng/fPgxPX++RHfu3DkG+fz876rsIW+O9ezZ7+ny5a+9G/p7e780v2F8y/yG8R+9qRU3kJcvb0WmExOPuS9RZff06R9ofPwxjY5+rcrvqp31vc5JvkLu5ZBjf//+p9Tp/HlQkQPkp48RgLzq8Sp/PN8HPEDeX2O+1xkgtze7hStIAPIcLAHIcyRLianvAx4gB8iVtGJpNwFyKHLWIgLIWWlSZQSQqypXYWd9rzMUORQ5ttaZ4wEgZyZKkZnvAx6KHIpcUTuWchWKHIqctYAAclaaVBkB5KrKVdhZ3+sMRQ5FDkXOHA8AOTNRisx8H/BQ5FDkitqxlKtQ5FDkrAUEkLPSpMoIIFdVrsLO+l5nKHIocihy5ngAyJmJUmTm+4CHIociV9SOpVyFIociZy0ggJyVJlVGALmqchV21vc6Q5FDkUORM8cDQM5MlCIz3wc8FDkUuaJ2LOUqFDkUOWsBAeSsNKkyAshVlauws77XGYocirzxiryzQDS7RrR5SDRTuJXLv9AJyDtEQ7PHvi53iRbHyvv+qSOInckKxJrNg9MBLxCvqCIXiPesde60zmknekRTLaL7jmaXWC8nMTuON51qydhXzG8vLW33vZHglIqvaA0G5HET3E7gHQ/CuheGSAMIxSoGcqF4xUAuFG/TQO56don0cirpruNtAsijmI0jh6tE6X/XK78Gj14vyGMQTbbNmxpFbU9YJpeJthZjJ0yzL9w1T0VPEC1vHKvP3or5acml/t/b141NSpEvDJn/N3+fNK+zL9004Gs9Ibpr7OOTImqb91lN3qeijDpR5BlfbazXalbl0s2fhOwiVjGQn7IGXcQrBnKheBsFcjv/HvTnVBCKXCDeJoB8oI+FdiScgNzCuGt/7jmGc3vTQNZsN9ktJ4rBPnAmFycjeS4Cd2rLIvv/lDn7r+us0DXIo5OZh/3c1bm73gSQu4q1KSB3FW9TQO4q3iaB3G63fmbEyYNAttYl4hUH+SngdnGCnl3nTkB+pMJTgDbrO1LcR9eAY/VuIX/vm8HnsmCOQG5Uvt3KSD86BnyPDPgihW/PESpWss5AHufJhlF1DKcNOlGQO45VHOSO4xUHueN4mwJye+JiNhtp62YY18il4gXI+xlwAvJIgcd3qSUQ7l6Lt84znWehn4V8ss2eXCs+AfJkWNjt+fvmLPhR/+a4qiHoDORJTny+Rp6duI5iFQe549qKg9xxvE0B+YJR4/fsTprjrVapk3KpeAFyhyBnKfJURRJwJyA+T5GfZ39Wc+f9u3OQGwddbNNINX82/y5ibQzIHdW2MSB3FG8TQG7n1aPfxOIlAJBLxguQOwR59hp5BGjz/ulr5AMwzjx36jXy1NZ68trk2vuCuSZlr6mrV+SOhh9ATjQx8TjveV1pexcnLgB5v0wuP36WzKvsAknvTJZePGccQKKXJeMVB3l2Rjs+cUvid7K1bu9av/66f+164G5ys506Ze7bP7rTPLUFf+5d65lr5OnP8bXNc/Yu96obp3ZFnt1etovCXGjb8PFmN6FYxRS5ULxiIBeKtwmKfMAHx4NdAuSS8TYB5OF8/Cz9kbO6TkUdHLd2kJsYjk5g4njq/gy5fRup5peIVQzkQrUVA7lQvAD5L2ln5xZNT//RwUQ85S0cn7g0AeTWh/SuhIuZnc28G0UOkMs0FfNdpUDOdK9WM5dbrrUGcsbBJUEuEW/jQO44CSH3csix1wtyx4u47rdzocjrjuG044fcAAC5xIpz/56+1znJaMi9HHLsAHmOmQKQ50iWElPfBzwUeX8h+l5ngFzuEmETRh1AnqMKAHmOZCkx9X3AA+QAuZJWLO0mFDl+xpS1iAByVppUGQHkqspV2Fnf6wxFDkXe+J8xLdy9Fb8QIK84oQ04nO8DHoocirwBbebEBShyKHLWQgPIWWlSZQSQqypXYWd9rzMUORQ5FDlzPADkzEQpMvN9wEORQ5ErasdSrkKRQ5GzFhBAzkqTKiOAXFW5Cjvre52hyKHIociZ4wEgZyZKkZnvAx6KHIpcUTuWchWKHIqctYAAclaaVBkB5KrKVdhZ3+sMRQ5FDkXOHA8AOTNRisx8H/BQ5FDkitqxlKtQ5FDkrAUEkLPSpMoIIFdVrsLO+l5nKHIo8iNF/u7du8Mvv/ySxsfd/zZz4Q51+MLd3QkaHv4PjYz83eG71v9W9uv99vZ+QWNj5vdSA3vYuO1jdPRvXkbe601Fsdl1G/LD9zontQ25l0OO/eDgh9Tr3aS5uTkasiDvdDpmoI+F3PNnxr63t2cG4nD0n0+P7777jv7973/T1atXfQqLFcv+/n5kNzIywrLXZvSPf/yDfvazn9EPfvADba5X6q/vdU6SFXIvhxz7x48faXd3l371q1/R/wPRzdxxzGAUfwAAAABJRU5ErkJggg==)"
      ],
      "metadata": {
        "id": "lLI6MjADxV2C"
      }
    },
    {
      "cell_type": "code",
      "metadata": {
        "colab": {
          "base_uri": "https://localhost:8080/"
        },
        "id": "F9B34l9QIpAy",
        "outputId": "3310fea3-f2c1-4698-f1c7-6bfdc8558ebf"
      },
      "source": [
        "corpus = ['no meio do caminho tinha uma pedra',\n",
        " 'tinha uma pedra no meio do caminho',\n",
        " 'tinha uma pedra',\n",
        " 'no meio do caminho tinha uma pedra']\n",
        "\n",
        "corpus_tok = [verso.split() for verso in corpus]\n",
        "\n",
        "vocab = [\"no\", \"meio\", \"do\", \"caminho\", \"tinha\", \"uma\", \"pedra\"]\n",
        "vetores = np.zeros((len(vocab), len(vocab)))\n",
        "\n",
        "for verso in corpus_tok:\n",
        "  for i, w1 in enumerate(vocab):\n",
        "    for j, w2 in enumerate(vocab):\n",
        "      if i != j:\n",
        "        if w1 in verso and w2 in verso:\n",
        "          vetores[i, j] += 1\n",
        "\n",
        "print('Vocabulaaio')\n",
        "print(vocab)\n",
        "print()\n",
        "print('Matriz')\n",
        "print(vetores)"
      ],
      "execution_count": 24,
      "outputs": [
        {
          "output_type": "stream",
          "name": "stdout",
          "text": [
            "Vocabulaaio\n",
            "['no', 'meio', 'do', 'caminho', 'tinha', 'uma', 'pedra']\n",
            "\n",
            "Matriz\n",
            "[[0. 3. 3. 3. 3. 3. 3.]\n",
            " [3. 0. 3. 3. 3. 3. 3.]\n",
            " [3. 3. 0. 3. 3. 3. 3.]\n",
            " [3. 3. 3. 0. 3. 3. 3.]\n",
            " [3. 3. 3. 3. 0. 4. 4.]\n",
            " [3. 3. 3. 3. 4. 0. 4.]\n",
            " [3. 3. 3. 3. 4. 4. 0.]]\n"
          ]
        }
      ]
    },
    {
      "cell_type": "markdown",
      "metadata": {
        "id": "x0jWD6BSNMnD"
      },
      "source": [
        "## Remoção de *stopwords*\n",
        "\n",
        "Palavras muito frequentes recebem um peso maior, apesar de não serem boas variáveis para distinguir documentos.\n",
        "\n",
        "*Stopwords* (e.g., artigos, preposições etc.), que possuem alta frequência em todos os documentos, podem ser removidas da contagem para melhorar a distinção entre documentos."
      ]
    },
    {
      "cell_type": "markdown",
      "source": [
        "Por exemplo, a dimensão da palavra bom não é boa para distinguir os documentos, já que possui alta frequência em todos eles."
      ],
      "metadata": {
        "id": "4iEsJSd0zG6T"
      }
    },
    {
      "cell_type": "markdown",
      "source": [
        "Frequência de 4 palavras em 4 peças teatrais de William Shakespeare:"
      ],
      "metadata": {
        "id": "c4WtRpnezTft"
      }
    },
    {
      "cell_type": "markdown",
      "source": [
        "![image.png](data:image/png;base64,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)"
      ],
      "metadata": {
        "id": "Dw2VuFQJzIlS"
      }
    },
    {
      "cell_type": "code",
      "source": [
        "import nltk\n",
        "\n",
        "nltk.download('stopwords')\n",
        "stopwords = nltk.corpus.stopwords.words('portuguese')"
      ],
      "metadata": {
        "colab": {
          "base_uri": "https://localhost:8080/"
        },
        "id": "Q34W0RyLzl4R",
        "outputId": "b86b8496-af0c-4cb8-8acc-6b0e9663ac82"
      },
      "execution_count": 25,
      "outputs": [
        {
          "output_type": "stream",
          "name": "stderr",
          "text": [
            "[nltk_data] Downloading package stopwords to /root/nltk_data...\n",
            "[nltk_data]   Unzipping corpora/stopwords.zip.\n"
          ]
        }
      ]
    },
    {
      "cell_type": "code",
      "metadata": {
        "colab": {
          "base_uri": "https://localhost:8080/"
        },
        "id": "7KJ-zRZmJpCy",
        "outputId": "8c05e338-eb65-48d7-ea77-060fd844ebb6"
      },
      "source": [
        "from sklearn.feature_extraction.text import CountVectorizer\n",
        "\n",
        "corpus = ['no meio do caminho tinha uma pedra',\n",
        " 'tinha uma pedra no meio do caminho',\n",
        " 'tinha uma pedra',\n",
        " 'no meio do caminho tinha uma pedra']\n",
        "\n",
        "vectorizer = CountVectorizer(stop_words=stopwords)\n",
        "\n",
        "vetores = vectorizer.fit_transform(corpus)\n",
        "vocab = vectorizer.get_feature_names_out()\n",
        "\n",
        "print('Vocabulario')\n",
        "print(vocab)\n",
        "print()\n",
        "print('Matriz')\n",
        "print(vetores.toarray())"
      ],
      "execution_count": 26,
      "outputs": [
        {
          "output_type": "stream",
          "name": "stdout",
          "text": [
            "Vocabulario\n",
            "['caminho' 'meio' 'pedra']\n",
            "\n",
            "Matriz\n",
            "[[1 1 1]\n",
            " [1 1 1]\n",
            " [0 0 1]\n",
            " [1 1 1]]\n"
          ]
        }
      ]
    },
    {
      "cell_type": "markdown",
      "metadata": {
        "id": "t91hl7BKN5Yj"
      },
      "source": [
        "## TF-IDF\n",
        "\n",
        "Mais informações: [Scikit Learn](https://scikit-learn.org/stable/modules/generated/sklearn.feature_extraction.text.TfidfTransformer.html)"
      ]
    },
    {
      "cell_type": "markdown",
      "source": [
        "![image.png](data:image/png;base64,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)"
      ],
      "metadata": {
        "id": "ADuMq9Fp7Z2Q"
      }
    },
    {
      "cell_type": "markdown",
      "source": [
        "![image.png](data:image/png;base64,iVBORw0KGgoAAAANSUhEUgAAA4gAAAHWCAYAAAA1q6dgAAAgAElEQVR4XuydB3hU1db+V5QiigVUbNgJKGL5LCjBdsWrEizYQBSNiiZYiQWxxI4V1MQexBIVC5aLIslnuV7LDTb0rxdEJbFi+a5Kx4aF/3n3zJmc6XudaZmZd/vwIJl19tnnt/dM9jtr7bVKVjpN2EiABEiABEiABEiABEiABEiABIqeQAkFYtGvAQIgARIgARIgARIgARIgARIgAUOAApELgQRIgARIgARIgARIgARIgARIgAKRa4AESIAESIAESIAESIAESIAESKCNAD2IXA0kQAIkQAIkQAIkQAIkQAIkQAL0IHINkAAJkAAJkAAJkAAJkAAJkAAJ0IPINUACJEACJEACJEACJEACJEACJBBBgCGmXBIkQAIkQAIkQAIkQAIkQAIkQAKGAAUiFwIJkAAJkAAJkAAJkAAJ5BGBzz//XBYtWiRdunQRlDTfbLPNpGvXrmFP8Oeff8rHH38sf/zxh3Tu3FlWrFghq6yyivTt29f8zUYC8QhQIHJtkAAJkAAJkAAJkAAJkEAeEXjooYfkySeflIULF8ovv/wip556qlRVVYU9wW+//SZ33nmnvPTSS7J48WLp2LGjDBkyRM4991xZddVV8+hpOdRsE6BAzDZx3o8ESIAESIAESIAESIAEUiAAr2FLS4ucfPLJ8u2330qfPn3kkUcekW7duoX1Cru6ujq5+eab5YorrpCTTjpJSkpKUrgzLy0GAhSIxTDLfEYSIAESIAESIAESIIGCIrBs2TI5/PDDjUCE6Lv22mvlsMMOi3pGCMOXX35Zpk2bJt27dy8oBnyYzBCgQMwMV/ZKAiRAAiRAAiRAAiRAAhkj0NjYKDfccIPgrOH3338v++67r9x9991h5wt//fVXGTZsmJSWlspNN92UsbGw48IiQIFYWPPJpyEBEiABEiABEiABEigCApdddpl8/fXXMnDgQCP+kLDmnnvukZ133jn09LNnz5aRI0fKuHHj5Nhjjy0CKnzEdBCgQEwHRfZBAiRAAiRAAiRAAiRAAlkisHz5cqmoqDDisLKyUg455BD58ssvzZnEmpqa0Cgee+wxufHGG+Xpp5+WLbbYIkuj423ynQAFYr7PIMdPAiRAAiRAAiRAAiRQVATmzp0rxx9/vNx+++0yYMAAGT9+vEyePFm23nprk6xmgw02MDzOOuss+b//+z954okniooPHzY1AhSIqfHj1SRAAiRAAiRAAiRAAiSQVQIPPvig1NfXy3PPPWcyl86aNUtGjx4tS5culUsuucR4F+FlHDx4sDmDCKHIRgK2BCgQbUnRjgRIgARIgARIgARIgATaAQGUq1h99dWNBxEZTFHOYtSoUSZbKcJOUSfx3XffNfURUQuxrKysHYyaQ8gXAhSI+TJTHCcJkAAJkAAJkAAJkEDRE/jhhx/kiCOOMF7CU045JcTjmWeekQsuuEA6deokjz76qLz++uvm7OHjjz/O8hZFv2p0ACgQdbxoTQIkQAIkQAIkQAIkQAI5I/D888/LxRdfbEpa7LbbbqFxLFy4UOBZxPnE8vJyWbJkiay99tpSV1eXs7HyxvlJgAIxP+eNoyYBEiABEiABEiABEihCAtdff7289NJLMmPGDOncuXMYAYhBhJQi/HSVVVYx5xHhbWQjAQ0BCkQNLdqSAAmQAAmQAAmQAAmQQI4I/P7773LUUUdJ7969ZcKECVGjaG1tlRNOOMF4D9daay2TvbRnz545Gi1vm68EKBDzdeY4bhIgARIgARIgARIggaIi8Oabb5pah/AiHnrooTGfHecQUf/woIMOkjvuuEM6duxYVIz4sKkToEBMnSF7IAESIAESIAESIAESyDMCf/31lwnDzIf2559/yr///W+55ppr5P3335fhw4fL6aefLn369Il6hldeeUVGjhxpwktPO+20fHg8jrGdEaBAbGcTwuGQAAmQAAmQAAmQQHshsGLFCvnHP/5hSiag+Pp+++0n//M//9NehqcaB8Izv/jiC/Pntddekx122EGOPvpoVR/pNJ49e7Z89NFHpk5hsob6hpMnT5Zvv/3WnC/EvGy66abGm9ilS5ewy3/++WcZN26cEZF77rlnsq7jvt7c3Czz58+XY445xncfvDA/CVAg5ue8cdQkQAIkQAIkQAIkkFECv/32m1x++eXyxhtvSGVlpUycOFFWW201QTmFHj16ZPTemegcNQIhsv7f//t/smjRIjn//PPNn1y0F154wfBEncJMiNRly5YZ4dihQwffjwfxeuGFF8ruu+9u/s4Xb6vvB+aFIQIUiFwMJEACJEACJEACJEACUQRQRuHaa6+V++67T/bff38ZMWKEwAt37733mvIJ+dYw9u+++86IwrffflvOOeccGTNmTNYf45FHHpHa2lpTsxAJZ9pzgwexqqpKdtppJ7nyyit5nrE9T1Yax0aBmEaY7IoESIAESIAESIAE8okAwhFRVw8JTbyhit98840RLxtvvLE8/PDD5jXU2Vt11VWzJg5xRnDBggWy/vrrJ0X6xx9/mMyd6667blJbeMPwTGPHjs26QHzxxRdl9OjRcsYZZ8i5556bdKztweC9996T4447zoStnnjiie1hSBxDhglQIGYYMLsnARIgARIgARIggfZKAF6hWbNmybRp04z4c1tDQ4Mpxl5dXW2EVLYbxOGtt94qzz33nCnnkOzc4w033CBIzgLbfv36xR3uypUrjefu0UcfzbpA/L//+z9zLhBnCJFlNJ+8sEh48+yzz5qyGdtss022lwPvl2UCFIhZBs7bkQAJkAAJkAAJZJfAf//7X+nWrZt06tQp7Ma//PKLOaPllgGAKIHteuutV/ChdAi1vOuuu2TKlCkxvVkVFRXy1ltvGZF2wAEHZHfCnLshHBQZO+vr603NP4xjxx13jBoH5uyWW24xr8PTiDOGCIeM12wE4ieffCLwmv3444+yxhpryHbbbSe77rprmID29g+BjSQ+8GJuttlmsv3228sWW2wRNYTbbrtNIGQhykeNGpV1pqnccM6cOSbE+O9//7vcfPPNqXTFa/OAAAViHkwSh0gCJEACJEACJKAj8NVXXxlx8fHHHwsyQMIb9re//S3UyfLly00CFoTMYUOPNmPGDLniiitMaOV5552XUoIP3WijrSF8tM0miQgE0gMPPGD+/PDDD0b0bLjhhkaEIcwU5+NKSkrks88+EwjozTff3PwbZRMykUwl0TMiSY57BnKrrbYy5/a8nkSvONxkk03M6/3790+ILZFA/PXXXwXnLpG1FWsCHj4IRZzD22uvvUyIpVf44f51dXXy+OOPS1lZmeGFUhRI4LPRRhsJ1hj6ueqqqwS2hx9+uGBdwjsbS+xq5zub9siaeuSRR5ovUMAHvNkKlwAFYuHOLZ+MBEiABEiABIqWAEThBx98IPDaIPQQQuOUU04J8Zg0aZLJIgmP0957721+7p4Pg8fooYceigoBhLiAWNI0P9fg3v/85z+jyhfEuy/uATE1ePDgpCUTYIti6++8846AAYQMvIU4uwfxA0ENzyFCCfv27WsENDxjKAmx7bbbah49ytYPC4g2zN39998vW2+9tRFkrrjC/GF+cU4SP08mDjGgRALxxhtvNJ5IJLFBaC3a4sWLTUgqvjyASMT93DORTz31lLFDhtdLL73U2MPr6SbxOfjgg00GUPwN3rADZ2SBhWcy3xqS+iAUGV+iYM2wFS4BCsTCnVs+GQmQAAmQAAkUPQF4xLCxPeuss6SmpsbwQAjhCSecYDw8EB+HHXZYiBMKi6MoOTxJrkfu888/N+evIJBswi3hSYIo/fDDD02hcq0YgLfzySeflK5du1rNH7xTEFJIfuIKm2QXQgwjzBFeLYgrb4PAwZkzJFJxhY/7OpLGNDU1mft5BXei+6GsBM4SQmyidp+2QfyOHz/eeN5KS0uNCIPguummm4z3E+OHELNp8QQiPIXggVBkCLg111wz1N2nn35qPKgIy73ssstM7UGskTPPPNOsC3hjEXqJBs8rQjHB55577gmJVqxDzOvOO+9szh9GhjvbjD3XNhDkCC+F0IVIZCtcAhSIhTu3fDISIAESIAESKHoCqDeHDe2QIUPkjjvuMB4klDaAIEDWS4hHbPjRsOlHSn/YQjhBeEEAYEOPWoDYFJ900kkJmba2tpoEKFOnTjWF5f14i5DMBJ4rm5BRdzB4LoQ2QuDYNCSewRiR0RMi1m3wFoIPPEUQA0iq4jZ4FvFsCDEsLy83ZxgTNdQahCcS4ggF3pEtdcstt7QZXpSNG26K/iDeIMK7d+8u1113nQwYMMC6z3gCEV8IIBQUcw/PqtdTjGvOPvtsI3JReB4eXtQZxFrAOrr++utDnluMEwLx/fffN2cj3S8f0CfOHg4aNMh4GN1zr5EDRwgn1qU3YZD1w6VoiPUPj7JXHHu7vPPOO82zItQUa0PrTU9xeLw8iwQoELMIm7ciARIgARIgARLILgF4mlCMvFevXsYrh/NiKJi+xx57GK8UvG5ulk6ID3jHcHYRG3iIJXiN5s6da4QkxBQ8j4na999/b4QlPJYIc3366afVHsRME0Jpi2OOOcZ4u+CV22WXXUK3hDA94ogjTCF5iCbXMweRBBZ4JnjTcOYO4ZiJGoQOhBz6AXsIrFjJW2yfF+PGvZEwBYzhkXPFvW0f8QQixBuEG4QvhFCkOIe3Es/bp08fE24KcYS1A9ELwYTzj2jof9iwYYIi8162uBYhrBCg6D+eAISHMlcZTjFfELUYY6yGMF+I6H322cc8A7KxshUmAQrEwpxXPhUJkAAJkAAJkIBDAOGkCIVEmCcySCIxDTyBP/30k/GO4TX8G2IJog4bYK9gAkScZYRXyEYgutAhZJAExo9ARPZMCDFbDyJECRq8h+uss07SeUeReIgbeOAwvrXWWit0jZutEslp4CmL9EhCRCCZDbJ64jyeTUMIKM56whvr14MIQYj7QcShwduFjKHwaGkSvsQTiBdddJERZkiCgy8RIj18GD9EJM5lwruKupDTp083IhViD+HLBx54oLhsDznkEFNywxWCCDfF9fvtt19CDyLmHt5J27m34W9rA8Y4XxkvtBleUIRkI8z69ttvz8swWVsWxW5HgVjsK4DPTwIkQAIkQAIFTAAF3yEC4RFDJkwkOrn66qtNWYKhQ4cajyA27gizhNDAubLIBtvjjz9eJRBRWBybfT8CEYIVYZy2ZxAhenDmDYlDEB6arD344IOhoucI0fQ2hJDi3CGEDARBZMMZRHiYdtttN2uBCK/Ufffdl5JAdD14OMOI8blJdjCn6D9ZnUT3OeIJRPQPIYszjgi9RTIZb3NDRCECIfZc4QdRiS8dkCgHZ1QRHoyQV4Qqe4U3PKjIgoo1lq9nEMEZnI499ljjDWUrXAIUiIU7t3wyEiABEiABEih6AvB4IfkIzoThfBXOw0FkwFOG0MD999/fnBVE+CTCBDt37pxzgYiQTITB2obwuVlMcW7Se2Yw1uTDS4SsnOCAUFoIPYgat3YgxA5CCZHJE+fuci0Q3VISmBvMH0QKBJibuAYJYiKzmyZa9GAFoYbnBwf3GZG0Bwl+cD8wQAiutyFpD7yX8Bi61yAcFwlzUDcTHmOMCUJxtdVWixoCzm9CNMIWHkhb8d+e3sDgAqGP53fDstvT+DiW9BGgQEwfS/ZEAiRAAiRAAiTQzgigfhuyZ77++usmMydCK9GQmRI/h2cRAgNiCRkxY7VsexBRJB4hlNqGzJjJQhPxvDhjiP5xBhMeTpRhgFDGmUt4UiGW4GV0y394x5FNDyLGiLBSiEKIePw9cODA0HAwt/AG46yfWyfRFbqJ2MHLihIVEDmuxxV9IWsrwkZRLxMhpW72WawVMINXEWG3qAEIIQlxCIGKUFKUAenQoYPhD+8ibL1CER5eeN6QERfXaMJitesgU/YIs0ZGWrBBsh62wiVAgVi4c8snIwESIAESIIGiJwCPEQrfL1y40Igh90wdPIbw+kAwYcOL8gPxWrYFYiYnDZ5T8IB3smfPniZcFJ4tNBRxh2iGWEKYJbxhkS1bAhECDIIQnkMIMmTNRGKcyObWSYTogmcYmVUh1mI1eJNfeuklc44O8w87nB3EeUqIufnz5xvPaXNzszlPiJBdnAXFlwc4s4rzqa4wgniFBxKCEmNF0hqcS0Q/+BtsDz30UJOwxs326Z5DhDAH53Q1rHH8SfblQCr3Axs8CzygOKNp691O5Z68NncEKBBzx553JgESIAESIAESyAIBeImwsT/66KNDd0MiEIQawlvk/Xms4aCUAcSkJklNKmcQM4kEwghnHCGYUbsPJUDchjBIiACEqkKQxRIcfgQiRB7CMzVJaiB44KHDNTgbmKiUBQQtwh9fe+01k10znndu5syZRtBBsMHLB08tvK44h4ost2gQkVOmTDFlTZCoBiUf4FmGDYSqt6G/c88915xbhEjEmkKYKUQrOOMZ4AFFUh80nIeFOEd/uEcqIuvVV18198Af9AuRj3FENmSO/fe//22SF2Gt29aLjOwH4hbeWoh2hGazFTaBEmchr0QhV8R1s7VPAgj5wAcywivY7Anglx++xcMftuQEUHsJITEIkWFLHwGuw/Sx9PaEjZj7LX1m7sBeC4kA3ofwHEbWtoP3EJk8kzWcX0R4ILxN+NttECbwrGAPFbnZh0DE727UQYx1rjHZPTP5OsYNQRN5Vg6hmgjDReIaJOWJ1eBRg7BEmRAIN7dBDMEDCQ7IhOltrkBECRF41mwbhBbKhiBbabKGEhjgDS9iOhqeB8+69tprx+wO844Q1e23396IRHgUMQaITvzBZxT44HokdnEbSmQgWy4SI8VjbDN+hMgiDBjebYRIwzvuTayD+UXoK36Oeo0QpDgziQQ52223nc0tQjZff/218YZizjGXENVshU2gxBGHK7G4It/Mhf3Y+fV0+CBfvny51S+x/HqyzI4W3wLiQ4wC0Y4zNlA4NM8PfjtetlZch7akdHb4TMRaxaaFjQQySQCbfiRtwYYe9RSRpAQiCGITggrlESAGkdURP8OXuhAP+BnCElFbEaUd4hVGz+TYk/UNAYaxYnz4chAhlV9++aWpWYhQwsiG/Qg8a/CmISQXXkEIIHjjsJfE9RArSGQCseKKLCQ1wblG2MOLFSuJS7KxtrfXEYoK8d/Y2BjTc4fx4gsF7EEgur0NawkCD6HN/fv39/1oOA+Je7i1Fb0dYQ7PO+8844WF9xtnS1taWkwGVk2pEaxhnM2EuMS11Au+pyuvLixxvuFYiW90koVX5NVTFdhgkV0M3166IQoF9ngZexyEVMDrGivkImM3zeOO//d//9dksYuXpCGPHy2nQ+c6zAx+JEpAs01tn5lRsNdiIIAQx3/9618mbBCeQNRIRIZLCL4XXnjBFIFHMXic2UM4Iuop4owWwv4gkBCWiHIaqJ/X3hqKt2P8yOiJ58FeEOfq4p2PmzVrlim/AbEAUYii8Qg3xO8N1JtEf7NnzzYeSCSTwRc58FwhUg3CGV5cJMOBSMznBm8hwnBRHxNrAZ5AeEaxPiCoILrBae7cuSYkM9KrCRbwKiL8EwIuVjIgGz4o9wGRiS8nvN5IeD7xBQU85LgHwksxZ7hvLOEf716ILMK5S3zROXHiRO4PbCalQGwoEPNgIikQ/U0SN+Y6bhSIOl621lyHtqR0dhSIOl60zhwBeJGQ1ASiyK2Nl7m7pbdnnDNEGCLCZiFoIfjgIfUbEtva2mqExGWXXRYzwU16R5/b3uC9gyBG+CXClJFFFfMPgQhhjC8S4GXcYost4g4UNSexxzvnnHPUD4NwWnhy8YUExoJEO25DGCvOlqL+J7yVfhv2BRD88D7mY1kOv8/N60QoEPNgFVAg+pskbsx13CgQdbxsrbkObUnp7CgQdbxonRkC2JzjHBg8bomEQGbunnqvEDPPP/+8KfmBjJ7I3Om3wcMKbxm8Yd5SFH77y4frIJ7AD+Ia3jqE1SJyadCgQUYg2jScFbTNPgrPJcpkILsswkWR8AbzBi+im50X94TIR1g0zkAi6ZDfhvvl25cefp+V14UToEDMgxVBgehvkrgx13GjQNTxsrXmOrQlpbOjQNTxonVmCCARCTb3br28zNwlP3pFYhaENnoTpeTHyNMzSjx/ps6ZIjMqwpaRgRV8cdYVf1CyAyG+8F4jnBXeWwh1nCPF2kTYKzx/BxxwgPEmspGALQEKRFtSObSjQPQHnxtzHTcKRB0vW2uuQ1tSOjsKRB0vWpMACeQngW+//daE7KKkBpL9DB8+3JxvxNlFJEvCazg7inIXb775pgkJxXlYZNZFUiU05GLgee38nP9cjZoCMVfkFfelQFTA8phyY67jRoGo42VrzXVoS0pnR4Go40VrEiCB/COAc4YoifH666+bs6JIiIOGf59++ukmQyrEoDe8GWUskFkXyYCQdTSyIRPtjz/+WPBnRPNvttvXiCkQ29d8xBwNBaK/SeLGXMeNAlHHy9aa69CWlM6OAlHHi9YkQAL5RwDlMVAyBBlKkanUbfAgwpuI85543ZtUCNfgXCxqNMLGbTgjCS8kEtrsuOOORkSykUA8AhSIebA2KBD9TRI35jpuFIg6XrbWXIe2pHR2FIg6XrQmARLILwKvvvqqjB492tSZfOCBB2SbbbYJPQCyz95www1G5FVXV4d+jpqdVVVVgt87uGafffYxryERDsQhajaidmeq2U3ziyRH64cABaIfalm+hgLRH3BuzHXcKBB1vGytuQ5tSensKBB1vGhNAiSQXwTOPPNMc9ZwxIgRJvmM2+AJRFkSZDNFmQ0koHEbyoyg9AWyj6KEBkpvoKEeJ0Ti999/L4cccoiUl5eb+oZsJBCPAAViHqwNCkR/k8SNuY4bBaKOl60116EtKZ0dBaKOF61JgATyhwASzqB0yhdffCHjx483SWjchjOGCCPt1auXCRft0aNH6DWcTUQ4KkJP7777bpPExtu++uor0xfKmVAg5s96yMVIKRBzQV15TwpEJbCgOTfmOm4UiDpettZch7akdHYUiDpetCYBEsgfArNmzTJJaFA6A2cM3QykEI6jRo2Sjz/+2HgBb7/9dlMPcfPNN5dOnTqZpDSXX365yV565ZVXRj0wyl9AIB500EEUiPmzHHIyUgrEnGDX3ZQCUcfLtebGXMeNAlHHy9aa69CWlM6OAlHHi9YkQAL5Q+Ddd9+V0047TXCmEEIPtQ6//vprI/7ee+89QSZSeBFRf/ONN94wYg8C8YwzzpCmpiZzDTyJkY0CMX/WQK5HSoGY6xmwuD8FogWkGCbcmOu4USDqeNlacx3aktLZUSDqeNGaBEggfwigyP1JJ51kxB9qGA4YMEDef/99+dvf/mbCTmfMmGEykXbr1k0uvvhi6dOnj/z2229yxBFHmHqICEPt3bs3BWL+THm7GykFYrubkugBUSD6myRuzHXcKBB1vGytuQ5tSensKBB1vGhNAiSQXwTeeecdmTx5smAP2LFjRzn88MPluOOOM1lIH3nkESMKUSMRAhLto48+MucWe/bsKY8//rh06NCBAjG/prxdjZYCsV1NR+zBUCD6myRuzHXcKBB1vGytuQ5tSensKBB1vGhNAiSQnwQWLlxoPIUlJSXmAZCRFD9bd911wx4IGU+R+fTCCy80wjFWY5Ka/FwDuRg1BWIuqCvvSYGoBBY058Zcx40CUcfL1prr0JaUzo4CUceL1iRAAoVFAGUrPv3001CCGpxJfO655+Spp54yGU5jNZxjHDJkiPFGXnHFFYUFhE+TVgIUiGnFmZnOKBD9ceXGXMeNAlHHy9aa69CWlM6OAlHHi9YkQAKFRWDKlCmmPuLVV18tu+++uwwaNMiEoI4bNy7mg3722WemNiJqJ+60004yduxYc92aa65ZWGD4NGkhQIGYFoyZ7YQC0R9fbsx13CgQdbxsrbkObUnp7CgQdbxoTQIkUFgEHnzwQbn00ktlv/32M+cNO3fuLNddd11cwYczinPmzJGuXbua8hk414jkN+uss05hgeHTpIUABWJaMGa2EwpEf3y5Mddxo0DU8bK15jq0JaWzo0DU8aI1CZBAYRFAqYsXX3xRPvzwQ5OxFKGjEH1sJJAOAhSI6aCY4T78C8RWqRtYKtUzK6VxZb0MTjTO1joZWFotM702Zc51Dc51sUPZEz91U5WUlE+SysaVUp/oxhF2rU11MmFeb6kfk3C0VsS5MbfCFDKiQNTxsrXmOrQlpbOjQNTxojUJkAAJkAAJ2BKgQLQllUM7XwKxtUmqKsplklF89gJRalukeQwUoUJcpo2NM+YSZ8yVjbIyoaq0uyE35nacXCsKRB0vW2uuQ1tSOjsKRB0vWpMACZAACZCALQEKRFtSObTTC8Sg0JIy57+Zzn9+BKLzwJFeQMfLWFVRHRCdjnex1vEuGi0Zq9leG7Jrkb7j4e0MdlZWKy3NY6SX5p4R4+DGXLdoKRB1vGytuQ5tSensKBB1vGhNAiRAAiRAArYEKBBtSeXQzo9ArKuaJ73HDpF5FboQ0zYPovPAwbDTwM9aQt69Fnj36gaKE5HqvNQcWyR6BWJpIHw10A90Z6mUTwqK1jAhGelBbPu31T0pEFNapRSIKeGLezEFYma4UiBmhit7JQESIAESIAEKxDxYA3qB6D6UIkw0TAy6bkGPQOs7PlwQxrT3wPQIv7HzIsSkVxSK96xiuEBsjRShye5JgZjSaqZATAkfBWJm8MXtlQIxy8B5OxIgARIggaIhQIGYB1OdM4HoEWQNUhHhMUxyXjBKIIalvzHUy+BR7D3Bk8wmiUAU3RlFem50i5sCUcfL1prr0JaUzo4CUceL1iRAAiRAAiRgS4AC0ZZUDu1yLRD7OZlIo7yAybx5iTyIXpYJQkzpQczuostXgRi1TrKLLendKBCTIvJlQIHoCxsvIgESIAESIFpBwsEAACAASURBVIGkBCgQkyLKvUFaBWK88hNRgq81/KygWwbDyTBqdR4w7hnEXs7RRk/IaUv8EFP3DORM23tGTFU6N+atzvNUOGU7An7QMqd8R4NTviNB/Q+Xl5tsx7nKWshksPRHotWcaYEYxjBZkqOogcYLlw78fG6Np5xK3BDm3LyXfa/D4HMYT3vcbFBmYXnO+AbWpPVa0yKxLV+j7deHPQWiD2i8hARIgAQcAn/88Yfceuut0r17dznxxBPJhASiCFAg5sGiyKZATFgHUZNRNHIj6fx7YJjAag7UR4wUQ0Y8YhTBJDaae2ZKIKJkSGm5zHGEarMzaKvNt6eupFsL0uq6qPWoC6tNZTlnVCAGGQZKmJTa1+cMPZDiPG07EjEYvj+B6D5vMBS7vQjEVBZYmq+lQEwzUHZHAiRQNAQeeughGTdunBx22GFy5513SklJSdE8Ox/UjgAFoh2nnFr5F4g5HHY72KT725hbMLN5No9AdA5bmpIdUZlf44nfDJb+SPR0GRWIYTcOih8JljKxQB5VlzPCu9ZUVRI7M25YEiTnRil84WA1zBhGftZh4MuEoL86HR7EeM/teh8rK6XfnElOCRvHO17reMeNIA1+OVHmlMuZGSyXUytSXj3J8aAHPLatdY5n3fn3THjVK/vJpEnB14LcXe9n2PyAURrmgQLR74rkdSRAAsVMYPbs2TJq1ChZsGCBHH744TJhgpMLggKxmJdEzGenQMyDJZFvAjG0ufWEV+YCs5+Nuc04A5tdx8cZ3CTHvMbdeDub65nO5hq24ec4E5TwsAi7jVkyxGbwCWyyIxDbanTGLZESG2i419GXQEytbIpfvOp16BFtjuIKlodJHs7sLVET5q2WBGVmwkKhh8gMJ1y3eqZbN9WdK08d1Rih4wgBh1c4UL4m+L5IJBDDQmIjyt4oIFMgKmDRlARIgAQcAj/99JOcdtpp8vnnn8v3338vhxxyCAUiVwYFYr6ugXwTiO2Fs3pjbjHwpqqBzibY8ewkE7+hTXCjDJtaLtWOt6xx2FTH+xKoHTlkRkTpD++mWZPZ1cabafFcMMmOQAwMJsqjlHSMESGmPgSiOtFS0jHZGejWoce72iBSEaofmlwgxsgTHHutJTgfHD4vMcKbY2QnDn1REuPsZywPYmlk+Rqfa5gC0W790YoESIAEXAJXXXWVfPbZZzJo0CC55JJL5Oijj5aJEyfSg8glEkWAHsQ8WBQUiP4mSbcxT36PkDh0wumSer9iCL4y402MIxC9JTyGTktS+iNOyZBE59SSP15WBWLk2dPkw8uAQFSWTUk+xtgWmnUY3/OXXCDG8yAGvoyIs2aGzAhLcKMXiIH1HIhI9SScSuBBDAjE1NcwBaLfFcnrSIAEipHASy+9JDU1NfLII4/Ip59+KieccIIce+yxFIjFuBgsnpkC0QJSrk2KUiDaZnBMMDmajXmyOW47E4YMpsEEO4kuigijQ6bNwJ44IC7T5kFMNnDF69n0INoIxHCxEnFusSA9iG2JaaKmzYRxIqtTjJYki2nUWvN2EXGtRiDWGxE4x6dA9AhLxRr1mlIg+gTHy0iABIqOAPaRI0aMkOHDh8vo0aPl6aefljPOOIMCsehWgv0DUyDas8qZZfEJRIS2jZe+jTUyt9z52/VQKGcgbQIxRkbS0FBsy4YE7VyBOCZ4LixmCQ/rM4gRJUMSOJls0GVUIIYJuohzZ3EYhmd9jQh3DBM2Lc56KRcnPYo0rqyXwfHKXJQGzuL5LZtiwzCWje91GCn8bNeaM4hEnshEr6kEoodnW2ba4BnE4GsBr2bE/EQ8l7/sviIUiH5XJK8jARIoNgJnnXWWLF26VCZPniwdO3akQCy2BeDjeSkQfUDL9iXFJxDTQ9j3xjzi9t6Mkt6XzNmryCyZrkGMupIBL6InPDVpFlM3U2RE6Y94JUNSxJZRgWhEi5vx0vmHUwexscERc5GhiWFOMsejVlUh1TjzaS6plYb6MeLq4LbzoJVS2c/JwDkpiUBE32nInqnF7HsdpksgBhnHLDOTigcRWUxD9UEjspg6r8WdHwBMwxqmQNSuRNqTAAkUI4FHH31UbrvtNpkyZYpsueWWBgE9iMW4EnTPTIGo45UT61QEYmbT0EeWK4j28lRVVDup8wOCoNYRBKFjct6NOlLkh1Lrp28T73tjnpNZzv1NMy0Qc/+EuRlB0axDn8lm/M4KBaJfcryOBEigWAjMmzfPKUFUKeedd57JWOq26dOny6mnnmrOId54443FgoPPqSBAgaiAlStT3wLRDY3MYBr6sJC04P36mfIPiUoKRLzmbCxLnfz4xiMXFprmPwU+5qpoNuZpWpgUiGkCGdFN0axDCsTMLCD2SgIkQAI+CCxfvtycM1y0aJERgX/88YfppVOnTvLCCy+Y8hYHHHCAIPx0tdVWk6222ko6dOjg4068pBAJUCDmwaz6FYhuaGRG09BHpb3vZ86BRaWyj1vGIXwCos4jpbDpLJqNeZrWMAVimkAWq0DMDL64vdKDmGXgvB0JkEBeEUCtwyOOOEJ+//13WWONNUICcZVVVpG//vorVNpixYoVsvbaa8tdd90l/fr1y6tn5GAzR4ACMXNs09ZzagIx02no27yBjVLu/BfIthideMLjNew73qS5j1VoPt55P7eemgYqBaKGVnbrIOpGlt/WXIeZmT8KxMxwZa8kQAKFQWDBggVy5513muQ0K1euDAnCVVddVebPny8ffPCBbLDBBkYUrrnmmibkdPPNNy+Mh+dTpEyAAjFlhJnvwK9ADJQSyHwa+kCYaZmUlc2UfjXexCoecerXg5gCXm7MdfDapQcxBQ+y7ukzZ811mBm2FIiZ4cpeSYAECp/AtGnT5LTTTjNlLm666abCf2A+oZoABaIaWfYv8C0QI84gurX4os/6pZiGPlTCIZhFEog8925B/TZTHNsVjOFnEHt5xWNE4W6/KfAxhExtzMNLAViuB0+pjLYrIpLzxOsqSyIpuwKx1fn+osL5YiFYML3Mye5a0yBjTFpTtwWSIE0dhlIJKdbwsJymTJhlah2mPla37qLnfWs6Db4/y2qlpbkta2zq90tvDxSI6eXJ3kiABIqHwD/+8Q85/fTT5bjjjpOJEycWz4PzSa0JUCBao8qdoW+BCJ2WlTT0EdlLQ/v7OrHLYookp43S7BYCT0MK/PYqEAN14QJiJ1AGIPWC4elamdkTiG3ZbxsbxjilLhyxWOeIxdAXCOl6ovbRT/sViG69xIhw77Cale1XmFMgto/1zVGQQC4IeEMmc3F/7z3//PNPwbm+kpKSXA/F+v6PPfaYVFRUyMknn2zCUPNp7NYPScOUCFAgpoQvOxenIhDDRpglT1R2qCS/Szo35qGzkU65jrCaexiGTW29qLqIRiE6IcDB7K2JavRF2IXVE0SJkMZmJ2tsch7JLLImEG3WYQKmiZ4/6rVQ+RTXK+aEQs+cKY4kksaWYB3GZGBSfD2d6zDFoURfHhZlEFhEqXjt0z6+BB1SIGaTNu9FAu2DwFtvvSWzZs2SUaNGmcybuWrffvutoITEf/7zH1m4cKGcffbZ0r1795wM5+eff5apU6eajKQbb7yx1Rjee+89eeSRR5yjQWUmkU289vrrr8sXX3whxx9/vFW/NCocAhSIeTCXFIj+JiltG/MwcZcoHDdBWY4YAtE9u1nb0ixjpE4GBmJwHQ9jRD9eQeWWAQl6XH2Fu8bBmS2BmFSAhLGKYOG+Fuv5zWtTZRh4Oo6vcDZBgQhh6GTZTYOetl6UaVuH1nfUGEaGmUbWNtX0lV1bCsTs8ubdSCBXBOChe+edd4wIevnll2X11VeXf/7zn9KlS5ecDOn777+X2tpaM4avv/5adthhB3nggQdMwpdsNwjVSy65RNZdd125/PLLTbKZdDaI4HHjxslOO+1k7sMyGOmk2777okBs3/NjRpc2gZgHz5rOIaZrYx4paLzCI6qcRzzvWKwziJ5zdwnLe4jH0xgUiDMdz2FZZY00jB0svdIUBZgtgZhM1CZkkfT5Ea46Q6Y5G4lJjqfQCV52NDcEY5ww6HQuuDh9pWsdZmqoYeVwwuqQpmlhZWjgFIgZAstuSaAdEYA4vO++++T999+XlpYW+eyzz6S0tFSefvrpnAlElIhAaYh7773XCMXttttOJk2aJD169MgquY8//tjUMNxmm23khhtuMMI5E+27776TyspK6dOnj1x77bWmjiJb4ROgQMyDOaZA9DdJ6dqYRwqWwL+99R6DiVY8w4wqy5HIC+lcl7C8R+8JYaGoTc79y50yIW4rq6yVhvrUk4lkSyAm8yAmK3US9/ldEe6EAdfWjJXe00pNdl0KxCTvH8/abJAKTzIpf++7bF1FgZgt0rwPCeSOAMQYvGTwkOHc3JVXXmmECrJwajyI6MM2/NLW9tVXXzWlIfr27Zt1gfjDDz/IyJEjzcQ89dRT0rVr14xOEkJpjznmGDn33HPllFNOyei92Hn7IECB2D7mIeEoKBD9TVKmBGJCD2K8oUaGmLqZX51Qydh1Iz0dxfRKtjoJiGbIhPHVjqdMYtaU1FLLlkCMOnsZMdBkAjJgHv38Y+d5M+XGCTEN8tayScU+XeswlTEkvtYNK3XO18ok57/2nb3UfRYKxMytCPZMAu2RAEJML7roItl6663lmWeesRaI06dPN54veNtQ1iFRwz1uvfVWOf/882Xo0KEJbRFiilIRuRCIV1xxhTQ0NBgv5n777ZeV6brsssuM5/bxxx83XlO2wiZAgZgH85uvArG1qU4mzOst9WOyeeKrbULTtjG3PoPYK36Cj6gziO7Zr6CHK+wMYkQ/LZ4Q02C4qeuhRFKW0mpPopsU1nPWBKIj7kzJFUeIhGcxDWbTjAhzDBOMQRaxnj8gEN0+nJDS0nJH7NCDaLMkvF7bKO+3TQc5sKFAzAF03pIEckgAHkScg9MKxCeeeMJchwLxEFbDhw+P+RRPPvmkef2XX36RG2+8UY488siUBCKS18DL+M0335iQ1K222kp233132WijjWL2C7sXXnhBUOAeCW8gwrbffvuo0FGElg4bNky23XZb41XNVgbSuXPnGi/i3/72N6mrq8vhSuCts0GAAjEblFO8R34KxNyd+XJxp00gOh0mzGJqU5YjQRZTx/1nvIjwrA10spoGgkc92Ukjs5iGSpcE7UKZOlNbaNkTiBinIxKdOojV8eogJmDaVrol8vld0R38eaU4YT9uCYfcrcd0rsPUZjjB1aEzsq6gztid0tYxBWLaULIjEkiJwO+//64WKRBrWmHjVyDi4XDt1VdfLTjTeNVVVxmB5W0Qh0jygtfhbUyU2dO9LpEHEa/dfPPNxsu54447mjDZmc65eAg/1B88+uijw+7/r3/9y4TPbrLJJkYA43pkJ91yyy1NCQ20iy++WHbeeWfj4URxe/SDBDLZaphniGY8C+oobrrpptm6Ne+TAwIUiDmArr1lNgSiVwCVOX6XmTPDi97Hq2cYu+SAd6MOrRMIWXMUgVQ43q6QAEqTsInHMy825trFkEH77ArEDD5IO+ua6zAzE0KBmBmu7JUEbAlAMECsoGSC7XlAnCnEdSibgLIMmpaKQMR9UNZh/PjxghqKXk8ixCHCJzG2WOIx3hjjCURkXD3ppJOM0Lv//vtD5S9wn0svvdR0B/E4eHAgumr+/PmmYD2EIIRXt27d5N1335XRo0cbb+Jee+0lBx54oOy7774hgQlBicQ4f//73zUIU7bFGUSEmUJM4xnZCpcABWIezG3GBWLCBCptnpcWeLlMgpZgcXc3LDJmyYUIj03CEgSZmQRuzHVcKRB1vGytuQ5tSensKBB1vGhNAukm8Ouvv5pzfc3NzbLGGmtYde8KxJqamigvXrIOUhWI6H/KlCnGQwiRCDEITybE4W+//WY8jPHCT2ONLZZARHgqmLz44otSX18vBx10UNil1dXVRgQi1HTy5Mmy1lprmX/jLCPOR0I4ug39QIwhgygEGRrKaiBJzOeff24E7y677JIMW1pfnzhxohkjxgSRzVa4BCgQ82BuMy0QVWUcvGJyyAxTuy92yYVYIX3xShBkZhK4MddxpUDU8bK15jq0JaWzo0DU8aI1CaSbAEQW9icIhXTDIJPdA9cgtBQlIWxFpdtnOgQi+kI/CNGEJ9Md94UXXqgWrLEEIs4HVlRUyE8//WSyiyLjqrfh9+yYMWOkY8eORqwi/PSuu+6S6667TgYNGmT+f7XVVjOX3HPPPUbEIqwT5TTQPvroI+O5W7p0qUkWgzOKsdrixYuNmIQA1jSE2CJ0dO2114552Z133inXX3+9CcG95ZZb1GHCmrHQNrcEKBBzy9/q7tkWiNFlHIIeQ1MWLVz4xS+5EMuD6IjJmCUIrDCojbgx1yGjQNTxsrXmOrQlpbOjQNTxojUJ5DuBdAlEcMDZPXjn4NE89NBDjdjRtlgCEd7UUaNGGZGH8aJGobfhc+uEE04wZx2R6AUhogg9Pe+888z5Q4hGnDtEe+ihh0zW1jPOOMP8jYbrTzzxROMBffTRR+NmE4VXEs+4zjrrqB5ryZIlxkM4ZMiQmNchZBaide+99zZiNlO1F1WDpnFGCFAgZgRrejvNtkBMWMYhVrKVGCUH6geHC8REXspM5Tjlxly3DikQdbxsrbkObUnp7CgQdbxoTQLpJgCRgoQl8JZpPIgYxwYbbGDCKzUtXQIRnr0JEybI8uXLjYcN3jyIqcjEMcnGFksgImspwi9RTB5iatdddw3rBh7Ak08+WRYtWiR33HGH8Rpij4fQU5xdLC8vlwsuuMAIwDPPPFPgCUQpi9LSUtPPJ598Yq5HhlSU5IjnQYRXFza28+IOEoIZiXTiCT+ce0SILs5E3n777YYdW2ESoEDMg3nNtEB0UnSaUFGnorg0j2mRqhKUBwgmqXGzGzrnDKPOICYoORBbIMYrQZCZSeDGXMeVAlHHy9aa69CWlM6OAlHHi9YkkG4COIMIYYPsnLaeJPcMIgQZSiZoWjoEIsShm60Uf0OIXXPNNcajhyyikdlNE40vlkB0PXwIX0X/kWcaUSoCHkScVcTzuALvv//9r5x66qnmbCHOFYITQnDPOecc6d27d2gYrh2EJjyIkQJUw9OPLTytCM/FeUmUAmErXAIUiHkwtxkXiA6DhGUcHJEYN4tpgpILbbXVIDbHyjzUvjMpTJ0SDmElCDIzCdyY67hSIOp42VpzHdqS0tlRIOp40ZoE0k0Atf1wNm727Nmhc3PJ7gHhAzGGc3qop6dp8Jgh1BLZQZ999lnre7r3QEgpsohCvEEMjhgxwryEZC8QiRhbojqJkWNFJtGqqioT5gnP2vrrr2/OBsKD+MYbbxjvIBLReL14r7zyijlDuNNOOxkPoxsCiqL3r7/+upx//vnmZwhRjRUeirEjoc1LL71kQjzdTKgajqnYIqEPxo1zlBgrW+ESoEDMg7nNuEAM1tkLFMhGNQpHyM0JlKYwxw7ztHFjrps4CkQdL1trrkNbUjo7CkQdL1qTQCYI/PHHH0ZYaWsa+glNxJk8ZD/Fub6mpiZV+CTO5OFajBfiMNJ76YpEiFeUwjjqqKOS4nr++edNxlIkonnwwQdNeQo0nCmEkIXIg4CGUHQbwkafeeYZue2222To0KHmx/DAwiOHxC8Ql2Dp1olcc801TUIfb0N2VCSKQTbTSy65JOk402kAbh988IEJey0rK0tn1+yrnRGgQGxnExJrOBkXiM5Nm6oGSnmoaHml1DbUy5h8VofOM3FjrlvcFIg6XrbWXIe2pHR2FIg6XrQmgXwl8MMPPxiPHM68zZkzR7p27WrO5+Ec3BZbbCGdO3dO+GgQh8hSihZLHLoXuyIRnlGcs4t3JhGv4/MH4Zbw+qEGJDxqEJUbbbSREcwQhshCinOWGOtmm20mjY2NAlGJJDMQlm6GUYhdeOMgXlFuA8ISz4Q/6667ruy8886mJqJbmP6rr76Sww47zJxLhFc1Ww33RQguzo8iPNa29mW2xsf7pJcABWJ6eWakt2wIxIwMPMedcmOumwAKRB0vW2uuQ1tSOjsKRB0vWpNAvhJ4+eWXBaGZOC8I0QQvH8QUQjpRAgLZPxO1adOmmRqHKPKOgvSJ2sMPPyy33nqr8QAefvjhMU0hWBESigQyGI97rnKPPfaQgw8+OHQNxv3cc8/Jjz/+aLyLEIsHHHCAKXzvbRCc8CAisczmm28uCxYsEJzvxB9kFZ0/f77xNqLEhNtwvhFjhSdv3333tZraN9980yTCQf8Qmzj/2L9/f6trYXT33Xcb4Qw+rvfT+mIa5h0BCsQ8mDIKRH+TxI25jhsFoo6XrTXXoS0pnR0Foo4XrUmgmAmgJmDPnj2tEECQud46qwuSGEH4Iatphw4doiwhLpH0BeINwmvDDTc05xhx1hAiGCIRIagIYUVSGngU0ZChFGco4U3Fz9F/vIZ74IwlBCW8k/g3RCtCV1Fe4/jjj08aIvzll18aryXKW2C8fkKE08GSfWSPAAVi9lj7vhMFoj903JjruFEg6njZWnMd2pLS2VEg6njRmgRIoP0RwO/d008/3SS7QWbXWA1hrAhZhUhEZlO3zZo1y5xZxNlFnK+M1xDqinOLCGvdbbfdjACFqJwxY4YRnMjsmkg8L1u2zIS4IvwVyXhQBoOt8AlQIObBHFMg+pskbsx13CgQdbxsrbkObUnp7CgQdbxoTQIk0P4IwGuIhDM77LCDEXA77rijyV4KD+J3330nb731ljnvBxEJD15kw9lMJKpBIhx4A+Eh9DZ4TiHucAZzzz33DL0ED+LIkSMFnsG6ujoT+hqroc4lzm1CHE6cOFHWW2+99geRI8oIAQrEjGBNb6cUiP54cmOu40aBqONla811aEtKZ0eBqONFaxIggfZH4NNPPzUC7+233xacRUQJD5xVRGjpTz/9ZBLCIMmNNxNq5FOgdiLKaZxxxhmy8cYbh73c2toqX3zxhey///5RDw+BiNBWJOeJdxYRSXVQcxEeTialaX/rJ5MjokDMJN009U2B6A8kN+Y6bhSIOl621lyHtqR0dhSIOl60JgESaJ8Eli9fbuo6trS0GK8hvIAQhv369ZODDjrI+rwfkvjYlhuBaETJii233NIkull99dVjwsF5RW8dx/ZJkKPKBAEKxExQTXOfFIj+gHJjruNGgajjZWvNdWhLSmdHgajjRWsSIIH2TyAbggyZUZHRFcl4UFsSYpSNBCIJUCDmwZqgQPQ3SdyY67hRIOp42VpzHdqS0tlRIOp40ZoESKC4CSA5zauvvmqS3bz//vvGe4hzj4ccckhxg+HTxyRAgZgHC4MC0d8kcWOu40aBqONla811aEtKZ0eBqONFaxIggeIm8Pjjj5uMpUhcAy8i6kmi9AaS5HjrNxY3JT69S4ACMQ/WAgWiv0nixlzHjQJRx8vWmuvQlpTOjgJRx4vWJEACxU0AiW+QCAc1FF977TVB+QtkKR0wYIApg+EtoVHcpPj0IECBmAfrgALR3yRxY67jRoGo42VrzXVoS0pnR4Go40VrEiABEvASePLJJ00GVZxBRKKa0tJSAiKBEAEKxDxYDBSI/iaJG3MdNwpEHS9ba65DW1I6OwpEHS9akwAJkICXwKJFi+TYY481mVMbGhpMDUY2EnAJUCDmwVqgQPQ3SdyY67hRIOp42VpzHdqS0tlRIOp40ZoESIAEvASWLVsmFRUVJuT04Ycflp49exIQCYQIUCDmwWKgQPQ3SdyY67hRIOp42VpzHdqS0tlRIOp40ZoESIAEvAS++uork5xmzz33lFtvvdUkrGEjAZcABWIerAUKRH+TxI25jhsFoo6XrTXXoS0pnR0Foo4XrUmABIqPwOLFi2X69Omy5ppryoEHHihdunQJQbj00kvlmWeekfvvv1922WWX4oPDJ05IgAIxDxYIBaK/SeLGXMeNAlHHy9aa69CWlM6OAlHHi9YkQALFR+CFF16QU045xTz4wIED5bDDDpPVVltNXnnlFcFn6IUXXiiDBw8uPjB84qQEKBCTIsq9AQWivzngxlzHjQJRx8vWmuvQlpTOjgJRx4vWJEACxUfghx9+kDvuuEM+/PBDgTdx7bXXlo033li22GILGT58uGyyySbFB4VPbEWgxDmcuvL555+Xfffd1+oCGmWfAA4Qt7a2Sv/+/bN/8zy+4+zZs6Vbt248eG05h2+//bb06tVLunfvbnkFzWwIcB3aUNLbtLS0SMeOHWWPPfbQX8wrSIAESKCICCxZskRQBxGfmfwdX0QTn8Kjlnz22WcrX3/9denRo0cK3fDSTBJAYdPly5fzTa2EjA/ETp06hcXcK7soKnN8EdG1a1fDjC19BLgO08fS2xMy8KGwc3l5eWZuwF5JgARIgARIoEgJMMQ0DyaeIab+JomhfTpuDDHV8bK15jq0JaWzY4ipjhetSYAESIAESMCWAAWiLakc2lEg+oPPjbmOGwWijpetNdehLSmdHQWijhetSYAESIAESMCWAAWiLakc2lEg+oPPjbmOGwWijpetNdehLSmdHQWijhetSYAESIAESMCWAAWiLakc2lEg+oPPjbmOGwWijpetNdehLSmdHQWijhetSYAESIAESMCWAAWiLakc2lEg+oPPjbmOGwWijpetNdehLSmdHQWijhetSYAESIAESMCWAAWiLakc2lEg+oPPjbmOGwWijpetNdehLSmdHQWijhetSYAESIAESMCWAAWiLakc2lEg+oPPjbmOGwWijpetNdehLSmdHQWijhetSYAESIAESMCWAAWiLakc2lEg+oPPjbmOGwWijpetNdehLSmdHQWijhetSYAESIAESMCWAAWiLakc2lEg+oPPjbmOGwWijpetNdehLSmdHQWijhetSYAEogn88ssvgt99W2+9teywww7tAtHixYvltdde6439CQAAIABJREFUk08++URWWWUV2XnnnWWvvfaSDh06pDS+L774Qj788EP56quvZNVVV5U+ffrIgAEDpFOnTjH7/fzzz+Xdd9+VTz/9VNZaay3ZfffdzVjYioMABWIezDMFor9J4sZcx40CUcfL1prr0JaUzo4CUceL1iRAAm0Eli1bJk1NTfLss88KPqOvu+46GTFiRM4R4XPtsssukx9++EEqKipkwYIF8thjj8k+++wjV155pay33nq+xviPf/xDrr/+eiP2IAhXW2016dy5s+y7775y6aWXysYbbxzW79NPPy033nijbLfddkYUvvrqqzJ79mypqqqSM888M2Wx6usheFFWCVAgZhW3v5tRIPrjxo25jhsFoo6XrTXXoS0pnR0Foo4XrUmABAIE5s2bJ5MmTRJ41CB6SkpK5JprrpEjjzwyp4jmz58vJ598shFxGN/+++9vxlNbWyvXXnutjBw50oi8eB6/eINvbm6WU089VbbffnvjBfztt98EP2ttbZVff/1Vhg0bZvp3PZTPP/+8nH766eb+d911l/FiLl++XM477zx55pln5Pzzzzd/2AqbAAViHswvBaK/SeLGXMeNAlHHy9aa69CWlM6OAlHHi9YkQAIBAv/973+N4IEwPO2004wgu+GGG1QC8c8//zTiao011kiK9ffff5c//vhDunTpktC2rq7OCEAINvy/2xYtWiTHH3+8EbYPPfSQEXm27a+//jKeUXgeJ0yYIKuvvrq59JtvvpELLrjAhJCus846ct9990nfvn0F94KX8O2335aHH35Y9txzz9Ct3nnnHSM0IVAbGhpk2223tR0G7fKQgE+B2Cp1A0ulemalNK6sl8GJHry1TgaWVsvMMJsyqaxtkPoxvZIia22qkwnzeju2Ce8i0lQlJeWTpLJxpdSXBu4ptS3SbHGPpIPIsQEFYnACzFqaKzXJ1lzQvDg35k1SVVIuk8CgrFZamsdI8ndZABgFYuw3emvdQCmtDv8Eg6X5rEnysQS74lyHMVjGev8GP7cD1ha/TzzdUiDm+BcTb08CeU5g6dKlcsopp8isWbOMeLL1IELwQch99tlnJjR1ww03jEsCwvDyyy+X77//3ngpe/ToEdMW5w4RUorPNYjVyHDXsWPHyqOPPhryItqih4f0wgsvlPr6eunZs2fYZQgbRbgoPIqTJ0+WvffeW9577z057rjjjJjF/XBO0W0rVqyQY445xojHMWPGCMbEVrgE9AKx1dmAVjgbULNfsviFHhSIXrHWVDVQHC3n/KhZEuu34Ga3slFWJtuJUSAW7irFk4U2khZrLkii+DbmgS9u5tYEhIsRNnNrkr93grwoEC3fQliL4/tai+/iW4cxOMZ6/0YIRu16pUC0XK80IwESiElg4cKFxlsGL5pGIML7WFlZKS+99JIMGTLEnNVbf/31o+4BQTV+/Hi59957jdC65557TDKcWA0hn6NHjzbhnHfffbdJHuNt999/vxGYpaWlgv9PJEq917lJaQYPjv42E0lojjrqKEGiHngQ99hjD5kxY4ZUV1eb/h944IGo8cKDiL0CxPQtt9xivLBshUlAKRBd70SZlDk+wZk+BWKYt89sZKukonpS0Mvoehcl6KUMgg96QySmreMjiSUQyypFZqLfcI9l7PvZ+lmyvxCK3YPYVFXifKFQJrWNw2RqOT2I8Vcg3p/TZKjrYVV6XCkQbd7bYDxe+ib9cqutr2IXiNbvX+V6pUC0Wa+0IQESiEfAr0BEfwhTPffcc+Xll1+WAw880Hj9Nthgg9Ct4DlEUhmIrG222UYmTpwoO+64Y9zJQCIa2ENowtsXGb6Jc4E4A7jmmmsaAZmoL9sZb2lpkaFDh5oENRjnJptsIo8//rjxeCIU9ZFHHjFj9zaEpT755JMmzBXjWHvttW1vR7s8I6AWiHVV86T32CEyr0IXYhruQcSGP+gJMpuCqTIsuOEKbCZcL1GEBzGRbQyBONOIyiEywxsOm/B+7XP2il0ghmZFuYEsuo05+FSINITCSnVihgIx+ftf6+VCj0W3DuNhTPL+1bKlQEy+XmlBAvlGYM6cOcabhYQptt4peOoQPgnBZnsNuKQiEF2ReM4558i//vUvIxIRdgrPG8Zz9dVXG9HVu3dvufnmm5MKuttuu01uvfVW2XLLLY1AxN/eht8jCAdFeOsdd9xhso+m2qZNmyZnn322SYxzxRVXmO5eeeUV41VFGQx4VeEh9TZ4MeHBxHPBM7rRRhulOgxe304JKAWi+xSpnkF0jkc5YaMNThxcwG/XKk11M2Ta1KlO6CpiVx1vkRGMsUJM49i2xD+DGC46E92vfc4SBWJwXigQEy/QqNBHCsT0vqN1PN17UyAmef+Gzqm7n/t2s0aBaMeJViSQTwSmT58uZ5xxhkn+Yiv2ECKJGoYQPLbXgEmqAhF9YH8GkQhhBTGF8344u4cspAgHhefQpnYgvHYPPvigyTSKayNDSHE2EOGdOKsIMVleXp7StCLJDhLf4BwlvIabb7656e+7776TE044wSTuKSsrM2GxbnIdXIMzm6jRuMsuuxgh261bt5TGwYvbL4GsCUSvB7HV2ciWOocQy5BEZsiMQBIbJxy0tmas9J5WGggnjCUQ3Y1ELFtbgZioj3YaZUqBSIFo9RFCD6IVJt9GyrOHFIgRpJN+waMT4BSIvlcyLySBdksAWTQhTnAWz7YhUycKucOrpWnpEIi4H2oWwnuJLJ8Qdvj3pptuakpH2IhD9IEQVQhDhHRClEXWJUTf8OyhfuPtt99uPJapNDeUFAL24IMPDutqypQpctVVVxlP6AEHHGDCUPH/L7zwgrz11luyZMkSOeigg0ymVc08pTJeXpt9AjkRiM6BwUCmRceL2NJ3vJMhsC1hTaIQ00A2wTi2CZLUePssTdRH9vlb3ZECkQLRaqGY9xXPINqx0lvhc2R8X31mZHoQ7d+/YDxtqF12WApE/RrmFSRAAm0E0iUQ0SMSviDzKDx8KEKPcFOIKNuGsFqIRITKQihGJrNBxlGEg65cudKEmO611162XUfZffDBB8YTCA8i+ozVnnjiCZnqRPV9/PHH0rVrV9liiy3MGUUIVZTIwHXxrvU9MF7YrgikTyB6BZo3WVKMLKZeD2KDVJgU8oHyFM4GtxQp+mN7EN108zFtLT2IAYEY737tam5Cg6FAtN9gemew+DbmgdDvqcMCIkZ7potnEBO9/8HWHPBMknk5uo/iW4dxOEZ6EFMMiaZAbJ+/rzgqEkiFAGoLQmRpPFMQTR07dpTu3burbp0ugYhzgSh3AUGFsSAUc7/99gslnbEZFLKHomwEahIidBOhpt6G0FuEr7qv9+vXz6bbKJv58+ebM4cIH8W5w0QhufBWIuQUNhCHTU1NctFFF5nENDiH6HcMvgbOi7JOIGsCMbKKWNsZRPc8I57dyTbqJB6d5NTQcGuMtdUgQ+KasTLPJJyJYSu2ZxAT3y/rM2BxQwpECkSLZRI0YR1Ee1YaS134Y3F/UWEpEB2z8BqTPIOoWZG0JYFCJICsoJdeemmooLvNM0JUIrwUtfyyfQYR4hDhmG7h+NNPP92chUTWUTdxjTe7abzn+eKLL+TYY4+VBQsWyJ133imDBg0KM0WiGySxQfZQiDO34L0NH9cGoa8opbHVVlsZDycS0Xgbwkg7deoUs0uI9pNOOsnUjMTfeGa2wibgUyAWNpT29nQUiP5mhJ4bHTd6EHW8bK25Dm1J6ezoQdTxojUJ5AMBJECBeHETo9iMGYXekRAGIkojEHHeEef6IHpwFu+II46wuV3Ixq1zCMHWq1cvk/Vz1113NYlrcCbRzW6Kn8eqk+i9GcpiINnNU089JZdccolJ1ONtqLvY2NhovIwoUu82ePlQ+iJZW7p0qQkJxTgwnsiGc48IJUWYbGTD2FDeAsl3UCsRIa6RZyST3Z+v5x8BCsQ8mDMKRH+TxI25jhsFoo6XrTXXoS0pnR0Foo4XrUkgHwjAI/fzzz+rhJ4bYqr1qkE0wWv30UcfyU033WSSsdg2hJGibqErDiEwkdnTbaiTiILzyG6Ks4gQvck8iRCAEIaogQgx5tYYxGcdwkJR+gM/hxhFYh4INYR9Ihz14osvjluTEB5W1FB8++23jXBF5lFwdsU0Sovg9z88l3379g1DABENQfnwww+b50MobWRtRFtmtMsvAhSIeTBfFIj+Jokbcx03CkQdL1trrkNbUjo7CkQdL1qTAAkECEBc4Sze008/bTKCQiwhpPP888835R7gSUvUILgQYomyFPBcQlzGylbq9STuv//+JglNIs8bRCfqDOIM4jHHHCM1NTXmPCaE5ocffmiyog4bNswMDcLt8MMPl7lz55qkOBBxw4cPjxo2rod4hGcSwhDPDo+gt0Eo435g4Tb0D3GLhDmtra3GuwoPZ2T5Da6pwiVAgZgHc0uB6G+SuDHXcaNA1PGyteY6tCWls6NA1PGiNQmQQIDAjz/+aEpJfPXVV+YcHhLiQCQiAcyAAQPk0EMPTYjqp59+Mmf5cG6wtrY2zHMYeSE8ifAKQqjhjCSygSZqEIk4z4gzjPCIYlxoI0eODMuKCpEHDyK8gp988okJDYWXMLLhcxKewc6dO5vnhECMbAjRRQjrbrvtZpLs3HXXXYKzoLDfcsst5cgjj5T+/ftz+RQZAQrEPJhwCkR/k8SNuY4bBaKOl60116EtKZ0dBaKOF61JgATSRwAJXyD64EFM1rCH++WXX4zYsm3wUn755ZcmOyuui3e2EmcQ4UnE+cJkwtbm3hCQ7mdrnz59knpTbfqkTX4SoEDMg3mjQPQ3SdyY67hRIOp42VpzHdqS0tlRIOp40ZoESKCwCKBMx9VXXy3waCLM1SZZTWER4NNkkgAFYibppqlvCkR/ILkx13GjQNTxsrXmOrQlpbOjQNTxojUJkEBhEcAZSPx+GT9+vPTo0aOwHo5Pk3MCFIg5n4LkA6BATM4olgU35jpuFIg6XrbWXIe2pHR2FIg6XrQmARIoLAJLliwxIaCR9QwL6yn5NLkiQIGYK/KK+1IgKmB5TLkx13GjQNTxsrXmOrQlpbOjQNTxojUJkAAJkAAJ2BKgQLQllUM7CkR/8Lkx13GjQNTxsrXmOrQlpbOjQNTxojUJkAAJkAAJ2BKgQLQllUM7CkR/8Lkx13GjQNTxsrXmOrQlpbOjQNTxojUJkAAJkAAJ2BKgQLQllUM7CkR/8Lkx13GjQNTxsrXmOrQlpbOjQNTxojUJkAAJkAAJ2BKgQLQllUM7CkR/8Lkx13GjQNTxsrXmOrQlpbOjQNTxojUJkAAJkAAJ2BKgQLQllUM7CkR/8Lkx13GjQNTxsrXmOrQlpbOjQNTxojUJkAAJkAAJ2BKgQLQllUM7CkR/8Lkx13GjQNTxsrXmOrQlpbOjQNTxojUJkAAJkAAJ2BKgQLQllUM7CkR/8Lkx13GjQNTxsrXmOrQlpbOjQNTxojUJkAAJkAAJ2BKgQLQllUM7CkR/8Lkx13GjQNTxsrXmOrQlpbOjQNTxojUJkAAJkAAJ2BKgQLQllUM7CkR/8Lkx13GjQNTxsrXmOrQlpbOjQNTxojUJkAAJkAAJ2BKgQLQllUM7CkR/8Lkx13GjQNTxsrXmOrQlpbOjQNTxojUJkAAJkAAJ2BIo+fjjj1e+9dZb0qNHD9traJdlAitWrJDly5dL9+7ds3zn/L7dkiVLpFOnTtKlS5f8fpAsjX7hwoXStWtXw4wtfQS4DtPH0tvTsmXLZLXVVpNDDjkkMzdgryRAAiSQAwJLly6V5uZm+eijj2TVVVeVnXfeWQYOHCirrLJKSqOZP3++6fPLL7+UDh06SO/evWX33Xc3/x+rffXVV4Iv4lpbW2XttdeW/v37yw477JDSGHhx/hAocTaFK59//nnZd99982fURTZSbNzxBsWbk82ewOzZs6Vbt27Ss2dP+4uK2PLtt9+WXr168YuINK8BrsM0Aw1219LSIh07dpQ99tgjMzdgryRAAiSQZQL/+c9/5PLLL5dvv/1WRo4cKQsWLJAnn3xSBg0aZH7u11Ewffp0ue6668T93MQX5/iCbb/99pOamhrZYIMNwp7UtS8tLTUC9bXXXhPHoSSnnXaa+QPhylbYBBhimgfzyxBTf5PE0D4dN4aY6njZWnMd2pLS2THEVMeL1iRAAu2bwDfffCOjRo2STz75RO6++2458MADzYAnTpwoN9xwg5x44oly7bXXmi/GNO3NN980/W6zzTbG0YCotJkzZ8rnn38uv/76q4wYMUKuvvrqkCfxpZdeMiJwn332kbvuusvcD17Nc889V2bMmCEXXHCBnHPOOZoh0DYPCVAg5sGkUSD6myRuzHXcKBB1vGytuQ5tSensKBB1vGhNAiTQvgncdtttRgAeffTRcuutt4YGiyiy448/3nj/pkyZIrvttpv1g/z1119y3HHHmRBRCE0cI0FD+Oi4ceNMCCkire677z7ZdtttZfHixTJ69Gh544035KGHHpK99947dC8cR6usrDSexwcffFD69OljPQ4a5h8BCsQ8mDMKRH+TxI25jhsFoo6XrTXXoS0pnR0Foo4XrUmABNovAZxVr6iokPfee894C+HV87axY8fKo48+aoQiQkVt25w5c4zHDx7JzTbbLOyyV155Rc466yz57bffZPLkyUYM4nMVghIiEPfzikDYYVw4jlJdXS3nn3++7TBol4cEKBDzYNIoEP1NEjfmOm4UiDpettZch7akdHYUiDpetCYBEmi/BBDyWVVVJSUlJUbMlZWVhQ0WHj54F5FY5v777486MxjvyXAG/osvvoiZzAshpkceeaT88ssvxoM4YMAAaWxslDFjxsiGG24oDzzwgGy99dZhXZ966qmCvQKuu+WWW8x42QqTAAViHswrBaK/SeLGXMeNAlHHy9aa69CWlM6OAlHHi9YkQALtl8Djjz8uV1xxhay//vpSX19vwj29DckkzzvvPFlrrbWMgExHNlEkPzzssMNko402MmIQCf0ee+wxM47VV189yoOI8cAbiaQ5yH6KcSB0la0wCVAg5sG8UiD6myRuzHXcKBB1vGytuQ5tSensKBB1vGhNAiSQGoEXX3zReM8Qfmnbfv75Z+OZGzZsWMJLcP4Q5w633HJLIxDxt7fh98iZZ54pv//+u9xxxx1pqTzw7LPPmj6R/Oaqq64yt0PYKTyZKH0xYcIEKS8vDxvHNddcYzyY8GTee++9RlyyFSYBCsQ8mFcKRH+TxI25jhsFoo6XrTXXoS0pnR0Foo4XrUmABFIjgLN/dXV1ss4661h3hLOFJ5xwgjlXmKihhAUSv/Tr10/uueceE+LpbTibiPBOJJGBmIwUbtYDChoieQ3GNW/ePIH30hWkKK+Bc44IS0XtRYylc+fO5qqVK1eabKivvvqq7LLLLkbIIsENW2ESoEDMg3mlQPQ3SdyY67hRIOp42VpzHdqS0tlRIOp40ZoESCA1Asj8iWLz8QrLx+r9zz//lI033li22GKLhDeHgJw0aZIpRQFRhmu87Z133jGevWXLlhmBeNBBB6X0ME899ZRcfPHFRrgOHTo0rC8I1fHjx8sff/xhhCheR4IaeFDx+wyiF/eHWF5llVVSGgcvbr8EKBDb79yERkaB6G+SuDHXcaNA1PGyteY6tCWls6NA1PGiNQmQQPslgHDNG2+80ZwDhFCMTA4Drx2Sx8DzhxDTvfbay/fDILPpySefLMccc4ypbRirIYPpE088IR9//LE597j55psb0QpPJuo1IvspxsNWuAQoEPNgbikQ/U0SN+Y6bhSIOl621lyHtqR0dhSIOl60JgESSI3ATz/9JDhTqMncibDMLl26hOoPxhvBc889ZxLAIHwVoZvbb799mOn06dPlwgsvNElhYr1u+2QQdxCHu+66q1x99dUJPYDwFMIeXsJNNtnEeBAvuugiIxiR9TRyjLZjoF1+EKBAzIN5okD0N0ncmOu4USDqeNlacx3aktLZUSDqeNGaBEggNQLw7DU0NMiaa65p3RFCQpEpFOIvUUPJiWOPPVYWLlwod955pwwaNCjMHCUlENLZv39/kyRmjTXWsB6Da7hgwQIZPXq08VIiAU1kqCxCSuOFzy5dulROOukkUwMRZxcRgqoRyurB8oKcE1ALxNamKqkonyQzzdDLpLKxQeoH94r/II59iWNfVtsizWMS2OUcRfsdQMEJxNY6GVg6V2pW1svgSOyJXpNWqRtYKnNrVjprLvl8FezG3DCqDr4HK6UxjGOTVJWUyyTz9qyVluYxYvuuo0AMrK9q8+FWJrUtzRL6yApjLs7nnt0aRE8Fuw6TvwUDFonWa8K1nPgGFIi2E0A7EiCBdBCA12zKlClqgXjooYcmDceEOEPx+aefflpqamrk9NNPDxsyzh/OmDHDFKeHndvg1bQRi8uXLzdjgPcPYjOyQXSitMXw4cOjXkNY67hx4+Thhx+W3XbbzYS4brrppulAyj7aMQGdQGx1Np+l5TKnslGanR16a91Acfap4RupyIelQEx5+gtKIAbXg7PFjhA2DqZEr5l9JtbbTOvNeWFuzCEAx0vfoHgxTKYOCwrBcAFtXptbIytt1LTDt9gFYlNViUwbGhR+WIvj+wa5hjMPCJ6pMswrIBO8ywtzHdp+rCVar4EvM5wPAvOFT/haTt4/BWJyRrQgARJIHwEUlMcfrecMIaY2pTEQZoqyE8hk+sgjjxgxh/bBBx8Y7x3uizqFpaWl5iwiQk1R2B41ESHgXPvIJ0aCmbFjx8rMmTONJ7N79+6mXIb7HDiTiHvffvvt5t7ehjDTm266ydRJ3GmnneT666+Xvn37pg8qe2q3BHQCMY74S/htuisQKyvFOXlrvB5h3kRns1VVUS2TzAuVUttQH/jW3nNdvzmTzOtllbVS03eujK9GP473stbxXhaBV7JQBCI24OWTHM9M4zCZWh7uQUz0mll22JRXzJV+8I0VswfRcBBpCHkGscmeJkONF9H7/0Fm8Ty1MT6SilsgRrDz8sFn0bShYUI7TEwm+XgvaoGYaL3GfK3ty49kvzUpEJMR4uskQAL5RAAZT6+88kqZPHmyjBw50ngSUdYCHsP3339fUINwxIgR5pEWLVokhx9+uMydO9eIT4i4o48+OupxIfAuvfRSmTp1qilJgTOR8FZGikDUaYRn0G0IKX3ttdfk7rvvlo8++shkMkVCG5xFZCsOAikJxMCmPkm4lesVCoa7OTFcHi9QMBzO8Ui24Ctkr0eyJRCa6obJudc57iNj22LuHcMLVYDzVigCMTQ16hBTeMagihpEKoo9xDSBRybFDXdRC8Qgu2H9qsX5/gnfViWIjIjwKFIgJiCQufVKgViAv+z4SCRQ5AQg3hDK+sILLxiP4IoVKwTC8bjjjpODDz44RAd2OJOIM4GffvqpEY7nnXdeFD1kHUVZjE6dOplkMxCIke3XX3+V0047TXbffXfzOjyT//znP83/b7bZZnLUUUfJgAED1J7TIp/KvH983wKxqWqgI9Dg1ktyzikyxDR45sTZfUmDVISHqHpea+49IfzsYrAf11tpFd6a99MTeIBiF4iY6wpntThOM55BNCsizjnDsLBI187eI1P0AtGJl+/nni2MEtvuh0kgjHfqMPsz1UXtQUy0XoPrOCzENNmRBc9nOgVigfyC42OQAAlEEUC2VCSugbBDyYt49Qbh6TviiCNM2Qkkw0m1IXR11qxZRhxuu+22ccNWU70Pr2//BHwJxJA4TPgte/DhI4RdaHMLT2Df8RFnGNs8iiuHTqNADCIsaoEYtlFnkpqo82/m/YVjXE6IKT2I/j9xrdgFPp/mKBNuFbVAjDyv6V2vmC1Pkpqy2kYZNnU84qfbkgMlmFEKRP/LnVeSAAnkPwGEnyLsFJlPkXgm3hnE/H9SPkEuCKgFopsoJJDBtDl5Nkl6EFOe12IWiG3rLRyjTVbcgtyYJ/QS8gyi/zebw27gPBkbdrbT430NCpmQh1Fxo4Jch7bPr/JqJzgHGuN+FIi2k0A7EiCBQiSAkhuvvvqqXHvttbLhhhsW4iPymXJIQCcQPd/2RiWmifIUhnsQw88SBjOfSjBdf4IziCEhwBBTOeigg3K4VNJ4a/UZRPfe9CAm9CAGy4C44Y/MYqpbs2GJZ7wexRTEIUZQ1AIxoQcxxvlERdZdCkTd+qY1CZBAYRFAopquXbtKx44dC+vB+DTtgoBKIMbz5hixKIGkMvGEY5nfLKZuOBcFIgUi6yAGPjRC5UDwj8hkKqyD6P+T1cPOU4Yl4edeMdfjtAWdaL16X0t2nj3ifhSIthNAOxIgARIgARLQEVAJRF3XtE4XgYILMU0XmCT9FLXnxgfjok5S44OX7SVch7akdHYUiDpetCYBEiABEiABWwIUiLakcmhHgegPPjfmOm4UiDpettZch7akdHYUiDpetCYBEiABEiABWwIUiLakcmhHgegPPjfmOm4UiDpettZch7akdHYUiDpetCYBEiABEiABWwIUiLakcmhHgegPPjfmOm4UiDpettZch7akdHYUiDpetCYBEiABEiABWwIUiLakcmhHgegPPjfmOm4UiDpettZch7akdHYUiDpetCYBEiABEiABWwIUiLakcmhHgegPPjfmOm4UiDpettZch7akdHYUiDpetCYBEiABEiABWwIUiLakcmhHgegPPjfmOm4UiDpettZch7akdHYUiDpetCYBEiABEiABWwIUiLakcmhHgegPPjfmOm4UiDpettZch7akdHYUiDpetCYBEiABEiABWwIUiLakcmhHgegPPjfmOm4UiDpettZch7akdHYUiDpetCYBEiABEiABWwIUiLakcmhHgegPPjfmOm4UiDpettZch7akdHYUiDpetCYBEiABEiABWwIUiLakcmhHgegPPjfmOm4UiDovaF9uAAAgAElEQVRettZch7akdHYUiDpeOutWqRtYKtUzE1xV2Sgr60vj25nXBye+bWudDCydKsNammVMrwT3jOor8fgqG1dKslubgTVVSUm5SOPKekkyUh0+G+uwZ7e5IHs2rXUDpXTqMGlpHiO9fN221UE7Q6R+jBXXsPvlck58Pau7jiZFXV1WWSsNDgN/DIPdKXiEz5tuDvw+ej5eZzg5H25ltS3SPCal2Unh8dv//FAgpjC92bqUAtEfaW7MddwoEHW8bK25Dm1J6ewoEHW8UrKOK2YCQm3qsMiNVlDASW1ikRFDINr1Fe++yqdUbL6VPSc3b8cCsamqRMrFQuDHeUqtwPTeL9V7JweffovYzwsBUCHlk/rl5AsI7Rykn0r77LHVec9XjO8rDQ0iFaVzpSYXXw45aPJhfigQ2+caDhsVBaK/SeLGXMeNAlHHy9aa69CWlM6OAlHHKyVrtUDE3ZqkKuCei+/NsxKIsfqiQExpPhNenDpbiLzxfW29M977SZwvHDL3tKn3HPwypF8sQZ06S7/j082B37vwOr8E8mF+KBD9zm4Wr6NA9AebG3MdNwpEHS9ba65DW1I6OwpEHa+UrH0JxOC35HNr4oeaWgvEyL78brwDojUQDFgmtbX9pLraE2JqxlMt3sjauGFo7thNH8HwwrIIj2mi/iKZxrWNLZoCYXKOd6qlr4x3PCHDauc448DIKwMeK82zhC2OoLCvrZU5Dhz0WOaE+DZ7YnZbm+ocL4zzWhAUXm9wXu8lEaG/wdDg+PZO52Ec3C8VWqTvtAqpnuTcoKxSahvqnRDkwCAT9hVzkUeGIwf5mM6CIc6Nw2Rqedu8mzkfMiNsLcQPWw6MeU6ccMUoT5Fzz6qKasGjYQ1W1jY4kbjxwhwjvmRJeC1sx0vfFuMaawsPd8OzVfdtYz3BmefANDjhsmM9XrcYnwmpPGtsz3HE+zzZM7Q2Sd2E8YF1Y/A6c+2sncEu3mTXe9ePx9Y8+1Dn2cs9HsdkfYW97h2Lj/dISh/e/i+mQPTPLmtXUiD6Q82NuY4bBaKOl60116EtKZ0dBaKOV0rWPgWiOePnhHPFPcumEIjhffkRiJEbeVcsuoIh2uMZEmGxwtBCAsy9PtKTlKS/mMKozdvqvXdp1JlAz/O7QibsnKbyWbyLw4TdOoLX6a8Foi/4nP1cT7B5fY7UmnOjRrFJValHIEWulWT23jBfl6kjtBsbnPOL7rlU1zuXrK+oRR7t3QsTMZ77uWvUPZ/mHFALrVubdRDiEzGG6POVkxy0LY5X3YEHEeF8IRFPXAYEbFCUBLn2a3QEpefakIc+iqN7ttcZUHBOre+LZwiyrgzer7XOCc10vgiZ6XKJEZ4dJvKSjTcRJ/c17z2SPoP7/na+rBgT+LKiqapUyucE51EzHnedOc8+xmEd+9kTzWNArDuLODBXccYSOHvdxjrueyqlD2//F1Mg+meXtSspEP2h5sZcx40CUcfL1prr0JaUzo4CUccrJetUBGKiJDBagRjqK36Smrgevxgb2rCNf2urtPbqFZ5QJO5zY88X8DaGCQOvvbMpTNifeBL0aGzNftN7baxxKJ/FsziixVAyMR7xetJzneH2XgHlxJcGvKIhQZ4ofBODTjK2mGPxiOfSeHOYYF4jnX2RojWu8BkiM2Kc1010Fq3ttdjXegVZ/EQ/sRklPgMX65rwL1iirw9cM7cGX3LEvmfC86VRc+X9kiP5M7Tg3KwrBt05CL1PAl7VyPPNVl5L05d3HQYSc0X2FfuLB8f7XTPWiMywpnyPpPTZncLFFIgpwMvWpRSI/khzY67jRoGo42VrzXVoS0pnR4Go45WSdSoCsZ14EGNuiL0eGheQ60ELAXNCUd1v+r0QYzKJce4yXn9egejuH+PeO76oCnj4PN4i7xhtn8VzTfSmOXJz7nhm6ibItLnORXPmyBwnCBWhpq4wj3W9rX30tZE8E987co2HvIExFn9bGGkEu1g8EzBO6F107hs6a2Y8vdHzlEiohXiMnRcV+hx6pKDnOG6inzhjTygQY17jFYCB5wpLZBTjS4uYSZDjZTeOuGe04ErErrdMSHTeOeTtj7EQIseT4NmNKLSdR3iH3VDiiDBp7Xskpc/uFC6mQEwBXrYupUD0R5obcx03CkQdL1trrkNbUjo7CkQdr5SsfQrEKA+Hp25G9AY9sTcofFOVzKsV/bTJBaIbcuoRhEk9iJGbVq+gSdJfmEC0uHcoXDfCm5RAqE7COctQKGgCIRnCFS4CAj/2eo5apGogznA6IaA1Q6S0VByPq/MzJ8Q0EOoYOS/OtQntk3iJwp4tWV+Wc55M5CsFYkKvmLevltglVeJf72HZe0KSciwJEv3E8VbpvHkOtGTe/qhwUG35mEjPbmSIbHR/4QI6zpckZgkrytkk8zqLbh5bnRDsCRXOe2am+17UvkdS+uRO6WIKxJTwZediCkR/nLkx13GjQNTxsrXmOrQlpbOjQNTxSsnal0BsZ1lMY238Ije1kd7OROGDcUNMg2fGYp2/9PbnFYgQD0nvHUxCYhKqhCfLiPJMJbt33NJv8TygwTOHsUROGNeI65MxjxSAkV6gZKIj2cY/SfhnuOgJvkNUAlHxpUasscZaQ6E3qpt0xjmnZrh7zn1GvpkTcVTfN7agCveURq8TI9bcEM9k3GN+GLWxrJnrnB30lllJ9gwmVDiZQEzAzzueZGs22VhiCsjoL45inh11x5FsXaf0YW5/ccnixYtXNjU1yb777mt/FS2zSmDhwoXS6pyP6N+/f1bvm+83mz17tnTr1k169uyZ74+SlfG//fbb0ss5g9O9e/es3K9YbsJ1mJmZbmlpkU6dOsnuu++emRuw1zYCaoEYPLPTruogBr10oZCyiCQ1kZvaUFhaohBTZL6Mk6QmWX+RAjEs8YubTTX83mYTjoSp3rC4WHOT7N5xk2YGEtSUOYlIGpqdAu9xEtC4iVJMRlGT/dObOdWzUQ+OLa69dyMc4zkSJT2JuncC0VHtXYfxRLon02WU2Ii7/uN9CRKsgThnmCdBU0QSFWTcdDxLYWOLK1Ta1q5JHGSSnjg1Fuc45zWbnSydCTkq72vGEHHe0J1nT0ZUMOrX2Gy8xk11zlgQHRD53nITHUWON85na0BklkmZ01UogUvYeIIJaKLYtZ0RDPBB7iQnqY7zngqMMQm/sPFE8gq+F0NJi5LwDH5uSK2bLCcwllL3/R0ZWp7sPZLD30MlH3744cpZs2ZJjx49cjgM3joRgRUrVsjy5cu5cVcukyVLlpgNZJcuXZRXFqc5vojo2rWrYcaWPgJch+lj6e1p2bJlZq0edthhmbkBe7UWiJ7I0dA1cZPFeLnGCFuz60sfYhq4rSsK8f/RZS5CAszYQpzVyNxQ+GTEgnDH7i1zEXGeKWF/EV4Pq3sHzxSGlVyII16s+ot6JCdJzFRH1NTMdTbXTsbKGGUYQhkdDSJHGA4TRxy44X+O6HFCSgNaIZCRNZG9NzurSVCDe0OYmnFFz3Hie8d7w0YmNEoSdqvxIAbnI+rOZU75ipoGGeskJwnT4hDcJtwwsL7KKmuC5UGixx5dMsJ7baD0SKC0SGTR9eg5MJlmLe8bGonzbAPNGgiUuOg3x8m2ijN4wZIcTVUDnS8rzKvOXDdI3/ERiVvC7hk+3rgzZZIUOasuVsmQpM8QDEF2K1w4a7MmrMRFfH5R4/GcH8SzD3NkfLXXo5lsLN7zh8H3SVupFt17xHkL5awxxDRn6O1vzBBTe1ZeS4b26bgxxFTHy9aa69CWlM6OIaY6XrROM4FE5xPTfCt2V3wEEp4RzDoOi3DxrI8pWzf0+2VUtsaXuftQIGaObdp6pkD0h5Ibcx03CkQdL1trrkNbUjo7CkQdL1qnmQAFYpqBsrs2Au1MkBXRWg87S+lMCLzWTjUbT+mV4lmnFIh5MNcUiP4miRtzHTcKRB0vW2uuQ1tSOjsKRB0vWqeZQBFtmtNMjt3FJRAs7u6cM0VoY0O9G26bW2SJaybmdmzpvztCVcc7YcBurKpTy9AJVQ1G1qb/du24RwrEdjw57tAoEP1NEjfmOm4UiDpettZch7akdHYUiDpetCYBEiABEiABWwIUiLakcmhHgegPPjfmOm4UiDpettZch7akdHYUiDpetCYBEiABEiABWwIUiLakcmhHgegPPjfmOm4UiDpettZch7akdHYUiDpetCYBEiABEiABWwIUiLakcmhHgegPPjfmOm4UiDpettZch7akdHYUiDpetCYBEiABEiABWwIUiLakcmhHgegPPjfmOm4UiDpettZch7akdHYUiDpetCYBEiABEiABWwIUiLakcmhHgegPPjfmOm4UiDpettZch7akdHYUiDpetCYBEiABEiABWwIUiLakcmhHgegPPjfmOm4UiDpettZch7akdHYUiDpetCYBEiABEiABWwIUiLakcmhHgegPPjfmOm4UiDpettZch7akdHYUiDpetCYBEiABEiABWwIUiLakcmhHgegPPjfmOm4UiDpettZch7akdHYUiDpetCYBEiABEiABWwJqgdjaVCUV5ZNkJu5QVim1DfUyplfi27U21cmEeb2lfszgxIZO3yVO35WNK6U+iantAxaCXVEIxODcB+arUhpX1kvbEmiVuoGlUh1YdFLb0px0zcGyUDfmrXUDpTQAI9g8vFrrZGBpdeD9GcUx8buBAtHi08LwnSs1Yesz8XWFug4taClMAu/xuTX2n/0UiAq8NCUBEiABEiABBQGdQGxtkqrScplU2Sgr60uDm/bIzXzk3Z1rStxrKBAVcxMyLXiBGLHpNgJobo2zxgLrpamqRKYNDW4cISTH95WW5jGS5HuJghWIYTzCFhTea+Olb1BAG45Th1mxQjcUiEnenaEvMZJ95oX3Q4GY/FPP/dJD8+UgBWJyrrQgARIgARIgAT8EdAIx7A5Br47UJtiAej0/zsVlQVtHEFRVVMskuDm8XshID2I8Oz9PmsfXFLxAjJybMMEI0TNNhio8Nm53hbkxx3uqQqQhhhcV3MxLrnjWsaNAjP8hAVFePsnxXjcOk6nl9CCm9ePUrNu50k8mieOatY4eoUBM6yywMxIgARIgARIIEfApEINeQatwv0gPYtu/W+AhMuFyEggbbPGGmCawS+Y6KrAJLjaBGOZBDIqeYf2qpdrZPzLE1H3vtS3yNq8LPYgZf+szxDTNiN0vPBpEKhhimma47I4ESIAESIAEfBHwKRAD9wp8q54s3CpcIAZCiYKCEEIveGbKUYjS3HtC6Azi2HkJ7JIdevSFov1eVDQCMXR+znPOMPizfu651CgvWfx5K0gPouExVYaFzmFGehQ9AtL12FsubXoQLUBRIFpAsjfB74MKaRDH6c0ziPbYaEkCJEACJEACGSWQkkB0FKJFUpkkAlE8rw+dFl8geu2KLINN0QjE0FL3eMIkVthk2zm7RO+OghSIMR44dCaxNEI8mvenRCT8iU+MAtHis5YC0QKSpUnYlz1MUmNJjWYkQAIkQAIkkHECuReI9CAmneTiE4jexDSOWBw4T8aGnaujQPQumpBAlMgEPuEhp8kWGgViMkLO6xSIFpDsTKKz8QauK0M0iUWUCM8g2nGmFQmQAAmQAAloCegEYtBjGPgFjk18aVuIaVxvYsQZRDeM0MmEmvAMovGGOOn6Y9nxDKJ2ntu3fVRm0nBhE5a1s9hDTKNYwfMyQXo3O2VBIsNP6UFM/7qnQEw/U9MjPYgZAstuSYAESIAESEBNQCcQzRfoTh1EJ1uIWwex0amDOBiCLUG4ads3xcHzisxiqpqoYvAghnsTImsdehOzJDvz2oa2UENME7IKqydpXzMS1OhBtHhbUiBaQPJjQoHohxqvIQESIAESIIFMEFALxEwMgn0mJlAMAjETa6BQBWImWFEgZoqqFGw9zswRs+uZIaZ2nGhFAiRAAiRAAloCFIhaYjmwp0D0B50CUceNHkQdL1trrkNbUjo7CkQdL1qTAAmQAAmQgC0BCkRbUjm0o0D0B58bcx03CkQdL1trrkNbUjo7CkQdL1qTAAmQAAmQgC0BCkRbUjm0o0D0B58bcx03CkQdL1trrkNbUjo7CkQdL1qTAAmQgF8CS5culcWLF0uHDh1k5cqV0qlTJ1lvvfWkpKQkqstFixbJkiVLjA3aX3/9JaussopstNFGMe39jonXZZYABWJm+aaldwpEfxi5Mddxo0DU8bK15jq0JaWzo0DU8aI1CZAACfglgP3BPffcIytWrDAiEcLwmmuukW233Taqy+nTp8vDDz8sv/32m3kN1wwYMEAuueQSIxTZ8oMABWIezBMFor9J4sZcx40CUcfL1prr0JaUzo4CUceL1iRAAiTglwA8iJ9//rnceOON8tZbbxkv4qhRo+Tiiy+O6hK2H330kYwbN06+/vprOfvss2X48OGywQYb+L09r8sBAQrEHEDX3pICUUssYM+NuY4bBaKOl60116EtKZ0dBaKOF61JgARIIFUC9fX1csMNN0jXrl2N4JsyZYr06NEjqluEmI4YMcJ4G5966inp2LFjqrfm9VkmQIGYZeB+bkeB6IcaBaKWGgWilpidPQWiHSetFQWilhjtSYAESMA/gd9//10uuugiQQhply5d5M8//5SxY8fKCSecENXpf/7zH+M1rKqqkurqav835ZU5I0CBmDP09jemQLRn5bXkxlzHjQJRx8vWmuvQlpTO7v+3dx5gUlV3Hz7Ye8NesIEFsRML2Luo0VhjCxEVLCho7GLH3iAaBKxYULEX4CP2AhpbNCFEBHuLvWE0iPrte3ZnmZ2dcu9sm13e8zw86s65p7znsN7f/JsCMR0ve0tAAhJoCIH33nsvHHLIIaFjx47RhZR308022yxcffXVYb755qsz9E033RQuuOCCcMstt4SNN964IdP6bAsRUCC2EPg00yoQ09Ca2dcX83TcFIjpeCXt7T1MSipdPwViOl72loAEJNAQAo8//njo27dvQPxhRbzjjjuiMBwyZEjo3r17naF79eoV4w9JVpPPBbUh6/DZ5iGgQGwezg2aRYFYHj5fzNNxUyCm45W0t/cwKal0/RSI6XjZWwISkEBDCJx11llhwoQJ4cEHHwzPP/986NevX8xUuvfee8eMppn2+eefh9133z1svvnm4cILL7S0RUOgt+CzCsQWhJ90agViUlJ1+/lino6bAjEdr6S9vYdJSaXrp0BMx8veEpCABMolQPzhLrvsEtZdd91w6aWXhh9++CG6m77yyiuxviGupB06dIjDjxkzJpx00kkxXvHAAw8sd0qfa2ECCsQWPoAk0ysQk1Cq38cX83TcFIjpeCXt7T1MSipdPwViOl72loAEJFAuAZLOkIwGqyHCkHbdddeFK6+8Mpa8wPX0qKOOij8n9vC+++4LI0eODJ06dSp3Sp9rYQIKxBY+gCTTKxCTUFIglkdp5lMKxIYSzP+8ArFpuCoQm4aro0pAAhLIJTB06NBw/fXXh+HDh4f1118/fvzhhx9GCyH/5Gc33HBDmHvuuaOAxMJ49913617aiq+SArEVHJ4CsbxD8sU8HTcFYjpeSXt7D5OSStdPgZiOl70lIAEJlEPgl19+icXu33777XDvvfdGEZhp55xzTkxEM88888RkNausskqMPzzggAPC8ccfX850PlMhBBSIFXIQxZahQCzvkHwxT8dNgZiOV9Le3sOkpNL1UyCm42VvCUhAAuUQePfdd8Mf//jHWK7ioosuqjPEc889F4455pjw3XffhT333DP85je/CaeddloUjV27di1nOp+pEAIKxAo5CAVi4x+EL+bpmCoQ0/FK2tt7mJRUun4KxHS87C0BCUigHAJPPPFELHg/ePDgsPPOO9cZYsaMGTH28Kmnngrt27cPSy+9dJg+fXoYMWJE/G9b6yWgQGwFZ6cFsbxD8sU8HTcFYjpeSXt7D5OSStdPgZiOl70lIAEJlEPgkksuCbfffnssb7HCCivUG2LUqFGxzEW7du2iJRFr4+mnnx5mm222cqbzmQohoECskIMotgwFYnmH5It5Om4KxHS8kvb2HiYlla6fAjEdL3tLQAISSEuAOod77LFHtAwSYzjvvPPWG+Krr76KMYcffPBBoBwGYnGvvfZKO5X9K4xAu/fff/9XTMOdO3eusKW5nAyBadOmBURix44dhZKCwHvvvRcWWGCBsNhii6V4atbtOnXq1Pg/AZjZGo+A97DxWGaPxO/EueaaK2y77bZNM4GjSkACEpjFCYwbNy4cffTR4YgjjggnnHBCQRpXXXVVuPzyy8Nqq60Wrr766vhPW+sm0O6TTz759ZFHHlEgVvA5KhDLOxxfzNNxUyCm45W0t/cwKal0/RCIfJu91VZbpXvQ3hKQgASakMDPP/8c3S1bs4sllsOHH344DBo0KEyZMiWWsSCTaffu3cNCCy1Uj96kSZPCfvvtF9Zbb71w0003hdlnn70JCTt0cxDQxbQ5KDdwDl1MywOoa186brqYpuOVtLf3MCmpdP10MU3Hy94SaAkCFFF/7LHHwpNPPhkF0yabbBK6desWFllkkZZYTpPN+eWXX8YyEK+//nrgdxMWt0ry+qJo/TrrrBO6dOmSiAGZS6l5+P3338eyFriOcn6IQDKV5jZKYQwYMCAsscQS4bjjjks0R7FOb731Vrw3ZEY12U2DcZY1gAKxLGzN+5ACsTzevpin46ZATMcraW/vYVJS6fopENPxsrcEmpsAogHXw+uuuy707NkzvPbaa4H/z1A7j8yXbaX97W9/i2LqH//4R/jiiy/CwgsvHG688cZoTWvp9t///jcMHDgw/POf/4zWwFVXXbXJlvT555+HOeaYo1HEP++9J554YuALhgsvvDBvcpwm24gDRwIKxFZwERSI5R2SL+bpuCkQ0/FK2tt7mJRUun4KxHS87C2B5iZw8803hzPPPDNa00455ZRYQ48EJmeffXb405/+1NzLabL5vv766/DRRx+Fv/zlL4GSELhgIhix2LVkY01kE/3www+jUF999dVbcjmp5yYjKtbIzz77LFx22WWhU6dOqcfwgfIJKBDLZ9dsTyoQy0Pti3k6bgrEdLyS9vYeJiWVrp8CMR0ve0ugKQiQuRJ30dzkZh9//HE4+OCDY9mD2267LbpbTp48Obz66qthyy23jAnR2lq75557onWU2Ohrr722RQUiLq8klyF+EGvm2muv3Spxs48DDzwwzDPPPHEfbc01uZIPRYFYyadTszYFYnmH5It5Om4KxHS8kvb2HiYlla6fAjEdL3tLoLEJ4DJ61llnhYsvvriedYqX+dNOOy38/ve/D1dccUVM2tKSDVfFsWPHxlIMhx9+eKL1/Otf/wpk8USgLLXUUiWXf99990UeLS0Qce1FqOLay3p69+5dcu2V3IFz69u3bzjssMOiJbql71Ils2rMtSkQG5NmE42lQCwPrC/m6bgpENPxStrbe5iUVLp+CsR0vOwtgcYkQDIWYsRIXoIwyq6PN2PGjFgsndg8XBz595Zub775ZoyDxO2yf//+MSNnsYbl7aSTTgoTJkwIxx9/fDj55JNLbuHee++N7rNJBSKciNlL2hC5/CmVHfW5554LvXr1CmussUbMKEpMZGtuZIXt06dPeP7556PoJdGRrekJKBCbnnGDZ1AglofQF/N03BSI6Xgl7e09TEoqXT8FYjpe9q4mwMsmiUR+/PHHGJuFtWXjjTeu96KOpYlU/9lJPcjsiNVsgw02CMsvv/wsifTTTz8Njz/+eLj++usDpZEoiI4r4+KLLx5++OGHQFIUSvsQO4al59RTTw0bbrhhFE1JrHBNBRVX12uuuSa6KXLmrLmQSET8su4XX3wxrLvuuuGCCy6I/yzVkghEYhSxiBFX9+2334ZFF100Cp4dd9yxYCIWxC3rJksqgpxMoRtttFHo2rVrrfjLuPkiIBHADz30UEwEVKx2Yan9VNLnsGUvu+++e7jyyisraWltdi0KxFZwtArE8g7JF/N03BSI6Xgl7e09TEoqXT8FYjpe9q4mQEKRwYMHh0cffTQKxWWXXTbGyGWLl+nTp0c3RGq/8bKdabi38aK+zz77hEsvvbSO1awl+WaEWSnLUu4aERPUq1twwQVLWqV4lncRGLz00ktR/M0555xRWDPOMcccEwXVCy+8EKdByPDz+eabLwrtzTbbLGbRbMmGxQ531xtuuCGuLZ9IfOONN6K1kL2QZIb+WOKStGIC8ZtvvonCBmvr5ptvHrbYYosoEKk1SPZTCssjSonPzG5YYbFgzj///NECyjO33HJL+Oqrr+LP4M/YrBlLLbGf++67b/wcQcxcbaFNnDgxlthYcsklw4gRI0KHDh3awrYqeg8KxIo+nurFKRDLOyRfzNNxUyCm45W0t/cwKal0/RSI6XjZu5oAIoGX6EceeSRmdsSiOGrUqDoi4Pbbb48v68Q8Udst0xCHpNzv3LlzzFLJy2qmYZHkZT2Ny2D2mSCoEF1pn6dOHRYukr+QyCNNg8Viiy0W49WSvHBPmzYtUJ9u/PjxUTjxDJbCZZZZJv7BSsd6yDiJwMIymxHYWLgydQER4Fjx0q43szfEHbzmmmuuNNuNfXkOoZZPJP773/+OcZMIYJK6XH755WHNNddMPEcxgci94b4h3vhyAXFNwyKLAITpyiuvHP785z/X1iokQQuiD9F69dVXh+222y4+c8cdd8R7yF742c477xxjQFdZZZVw1113hfPOOy9+eUHSnLZi6eY9+NBDD40sOKNDDjkk8bnYsTwCCsTyuDXrUwrE8nD7Yp6OmwIxHa+kvb2HSUml66dATMfL3nUJYGHBPfKTTz6JFsXMyzdupMRv8c899tgjJmDBypZp/Gy55ZaLzyDmcEe8++67Y4bOjLsgfbCcJW0IAV7qWcMuu+yS9LHYDxHMLhQAACAASURBVIsoljAEWZo5M2IJCyoZN1daaaXE8yKOzz333LDDDjtEoZXbyF769NNPxxhFkotkGvtEtGBlRJhjoeMMVlhhhcRz0xH2CPIkcYH5BkYYI/4ya+/Xr1+0tCGUiXOjmDyfr7XWWqnWVUggcjZYWLH0Yf3CPTS7IQ45Q6yDWAmJ2+RuwRA3UcpmIAozIp5+MCaJDi6XrDXTuK+c54orrhgt420lWyzsOKe//vWvkRWMbE1LQIHYtHwbZXQFYnkYfTFPx02BmI5X0t7ew6Sk0vVTIKbjZe+6BBAJe++9d8BqhLUQSw2WKf6dODHcInExxU0vY+nCgsYL/P777x+fxe2Nl1bGoswDopKX9z/84Q/hjDPOCHPPPXci7NQGHDZsWKwZiNUyTUNoEQvIvNlCNskYWPEQldSXy1i0Sj2HMMOSg5Din1hzshsF2bEaEi/Hnrbffvv4MeujL89hbcRyRsKYTTfdNNZHxPqVpOEaTFbOrbfeOsZBltuwYmJJRETBDQsn6yHmFAtfWnHIOgoJROojItzgjChFvGU32CAEcSdlfvog3EkwgzWWu0VyFoRrpiE4x4wZE+MXb7311trMntw7XFCxgDIO8YqFGgwylutyOTbGc/y9o/H3rNAdxjJN7czRo0fHv3/wNJtpY9AvPEb5AnFsn9Cux/DQbdCUML5fx6ZdZWONXrPm3mN+DcN2rjvo2D7tQo/hvcOYX4eFnI+Kzl7uc2m2NEsIxKmDQ/dO/cOEGjB1z2hs6NOuRxjOZ90GhSnj+4UkN67Nv5hHZpPCgKw7O3Vw99Cpf4YiwJLfaQVikb+VRe9n8b/Nbf4epvllltu35ndy9Y+T31V6KxAbAt5nEUe8lD/22GNR6BBb9+CDD8aX8h49eoShQ4dGITNy5MgYo0fDMoNVJ2N5wjUQN1MEES+rWIp4QUdIIo5wsSzVSFiCNQSRyQswArSSGwloiMFEXCBett122zrLfeCBB6JlD9dVeGWEFqKFeDvEIMxw88VqiuAjWyhCu1RDgGM9ws0Q4YnwamjjCwHiArHYZbKPrrfeemUNm08gIn6wTGZqEXKv8rl9Ip5xdcZaiGjFtZV18aUBdwumlNvINH6OMMxN2kIiF9xMEY7MhVW7UBs4cGC0aLZ0bUEY8cUDd4QvZfI17hsMYMzZY0UmBtPWdATKFIhTw+DunQLvoa1KIBbhWK7QK/e5NEfa9gUiAnBg6DxlfIjfNcSX8VFh3/jf1Xdt0oBqUR8F0KQB4ddchZ8HaJt+Ma99sa77Us19vH+P+l+AJLlvCsRClIrdz9Jk2/Q9LL39wj1yvuBI83ebQRWIDYHvsxAgvpB4Q2r1EUuHFRHrHxkrsVJguUE08gI9adKkKGIQgCQYoQwC8WJYMrJdO4kNy/ycsYo1slNiPcRlFaGI+Kn02Kr7778/MkB44C6aa6FCtLEnXuLhQIkFrLEIGtxJs90rEedYTH/729/GF/5iDUsXY2BheuWVV6LIwtW1IQ3LK2MyHuMiEo888shwxBFHlDVsPoHIunG1xdpHple+gCAhTW675JJLoqDjLuFOirWQTLrcSdbJlw3EIcIbsYRYJFYSC/dOO+1UOxxfdHCnyRyLQG/fvn3BvWCx5F4ntXSXBSXhQ3xBwj6y43qzH2XPfJGAaFYgJoTawG5lCcRsK0USgTh1cJ/Qs//wGutQt9B7zPhaC169zwaNCMNqLJK183TrHbpV2Y8mTJj5MlzsOQRGn579w/BoSKmaLzNmjgUxe/zeXYZX/bJJNn6x5+rMXbXuQSOGVYueBrQ2LxA5l/v3qCP6ZgodXs7vD3tkrGR5rGaF0LbVF/PqLyW6hUFj9g2jemRbEBHTVd8+j6gR2invnAKxALCi97M05LZ6D0vvPGWPFH+3GVmBmJKv3esRIHZryJAhMZYOtz/uFC/XlL/Yc889o2DApQ1LBcKNmDlewGlYCUnKgpUxu/GSj5UM6xpuqIUaL8SIUmLfeOknVg/rT1qBSAbTm2++OSaPSZu0BfdUhB5zIl6SNCxdCBiYIQazXQIRQ1h5+BzhR5wijb3yHoMQznYLJLEOcxN7iVtnsYaLJe6rWG2piUfcIgKo3JbJVvryyy/Hc0W0Yc1EzHIW/EnrwljIgkixeizRWCixDjJfbuMuksQG4YtVL1Ne5cknn4x3ifVi2SQhDW66iENiZRGz2WfAFxRwISEQFrmWLC1S7tnkew4XU86eL1KwYMMk7fk05npmhbHSC8QaV6sqJ/BQpahCKOViWtt/TBhfZfWpY3GrYykKeT6rSi8dx59S42JYI+CKPRdq3BF7jwlTsDJVvdx1qnKFjS6LodotNv57p2qXxtTjZ/ZTcF2ZMZm6U1luq7kXr80LxHp/07IsNqHqnKLmybiV5lhzivwtbfMv5vVeqLNccWu45HOnLoRMgZj0V37yO8iIbf4eJsVWop8WxEYC6TCJCeAqyosmLqSIK4Rd9+7dY406rFo0xBdWM8Qj1ppSRcexrpEhlcQ1xTJI4oKaGZPEG4hFLE1pBSLJdnCRxRqU1uUOQYfFBldF4uNKNWocUv7jqaeeiu6huWslrhAXWSyjCEXWVazxss++ETW/+93vCnZFSGKVREThgonwJuNnuQIR6y/rI1kOLrBYL9k/IhULHy6PCETi/NK0QjGIfAlBvCN3jC8YSDCT2+DJnaAcCPcs2zUUyxkMunXrFmMGcd/daqutopUwtxGXCSf64Gqa+wVGmv1UUl+S1FC3MhODiui2NS2BlAKxxrU0VMWBjQihZ63AKmIiq43d6Ra69R4QRpy4c9U3G9mbmhrGDh4d7q/yvR4+AZNflWWkyrVwl9HEUqHfqq0h9V058z/Xb0qWCMwNJsyyIJ74RnnjF1tXpxj/NXPNiNNaQZomsDHnzGctgVh9x0btWxPbCsOBnbPiDpO/nLf5F/NcgZjzxUmVQ24qi6ICMckv25z7meCRNn8PEzAo2iXr/xGZ3/dJhtSCmISSfYoRQMTxoon7GhZDBCJWCUQXNdewEOLahxseZR2yk4TkG5f/Vx900EFht912KxpTx91lLkQPlh5i8xAB5QhELF68NDN32hIZWBBxn8VlLxNnWYwX1jZe0smcipUQPrBBCMKNhD+UccA1l5qHpWIwcdklFhGLGda1fA1LLa63ZHdlbBLJ4LpbrkBEHCLSENSUK+ELgoxFD/GFuMqIRARidhbWUn+bcH/kPrEXLJ4kiqGRbZTEOnzxwM+wUmdbe0lSg/DGMogVOWO9JE4WYTlu3LgYw4gFtlRjDJ7nbBH+5STbKTVHS3zOPcFiiqWcmN1S7tstsca2NmcqgVjtWlkjgLDsJBGIVcTGVj3XIytxRrfeg8KIYVUWocyLAa6YA04Mq92PxS2/QKyeu0t1EpmSz02othKmEIjpxp8pArOfqxaI2QlCqq9LEjfcYhdr1hGI1RawidlWac5aC2L+65HAJS9NTKICsdSv9zz3s9QjVZ8rEBNAil2Sf/lDbwViUq72K0QA91FEClYW4tkyNe8QJbzQE5tGfBaWJVwqSzWsh++//36MFUMk5WuUeiAZDaUwSDBCQwBgScN9E4FZqe3OO++MQhZLFlYwBAicsGbRiNfkc9x1SbhSzNpKTB6iG1aFCtEjchCaWI8y7qqff/55jA8l6ykWtzSNWD7EISIKcZhP9PNlAT/PFonEJSbJEIuIQ3ASR4ircbaFD+GZyYiL9TLbioj7KT/7zW9+E+9hxt03kymW/ybmEOspmT75IoB7ifso7LLFJutHPGFxJL7ygAMOSIOoYvu+9tprMVYYd2zOJmnW24rdUCtYWAqBODMxTb19Vblzlk4aMjVMHTs6XDqwOjYQAVfMipdrjcu2IBb7bOdiVruEFsRy565nQWykCzBLCMQa0d+lnrA3BrHgNVIgNtLfsATDFLyfpZ9VIJZmlOmR5gsNBWJyrvbMTwDLGy/TWMUysYX05CUb6xGun/ycmLdSDSsYogd3xWK153i5RYAgECgtMdtss8Vais8880wUFGRxxKKHgKm0hlBG6GDJwvKI5TBbgJAVk/1h7SuWdIZYQlwqEV6UqyjU4ILVcMcdd4wxh1jUsO4iqHGh3GabbaKFjLi8Uo2EL5wpbqVY8dhLxsKX+2ymBAaCL5M9s9gdwKJKrCBil1hBrKmsDasgZ4qYYxysxlhe2Qfnz2d8CYErKPsgo2q2xY84QwQ374DMwbiMxb1BFCLAsUBjMezatWvtNog9xMpGrF52jcRSjJJ+jnDHco2ltFgcILGnaa3ahdbA36+zzz47UUKjpPuwX3ECKQRizkB1YvGiD2h+d8qcchgkl+lUlbBmpkCssfZ1qhICnShlUG1B7FfHQlk3BjFjqauOJcx5rmPdGMSMlTLGGq52aaIYxKLjF1lXxrKZicusY3FtQKKaNi8Qi75813XpSxOn1OZfzHMFYj13XNhdGlYbn6x0ixbEAr8sGyAOGbHN38Ny/y/bAPdxplQglgve5zIEcDNEKJAcJDtWixg0XuZx/cNyVapGIC6iWMx4gc22bDBO7gs0AgHLGy/OfI5linm++OKL6OaZSVhTTDi11AkimHGdxIqFCMQNN7sRf0h8Im6RhWIKKZMBJyyomTjPzBi5vBCICHQYIqoQ05RDwFUToYRAIsENyUtKNZ7BfRMLL9lVS7kLI27ILIobMtlucUEu1LBuEX/IGrkr7ANBSEwoIjE70yv/n4XjJ598EgUWe8AKiHUsn5svc5Ptlcy6uPSSrAVxhjssohHhS6IjEgZlMoBm3HD5PFNeoxSfUp/jXowLMfyp/0l2VHjmcw2mH3G7rAMBy13Ol5in1JyZz9kzdwvxjVAsVAoj6Xj2S0ag6QVi1TqmVr0I9KxKDlPtfJmVVTTGSFWXy4g/j3lvZrqHFs4WWvy5ullMq0ausnCSICdXxJY7ftEsplV77Z6916yMrcmOpH6vti4Q69fuq2Yw003YOoh5707JOog1X7Yk/HJCgZj/b2jp+1n8b7YCsTCfumzT3VcFYrn/R/G5DAFcSXnhzZfBE0GBm2ih2LjMGFj+EE1YfzKukggFBANWL+LwEIAIQlwPSfTCi3umIRARDAhSxATuk4gGRFglNtw9WVtuaQRixHiJxwUUV9R8SW94l8ENF5fU7Jp+/F0msQ0iDOEDI5K0INIQzlisaAhEMswiTDp06BCZIcJwvUzSSKKD2CB+MUkjQ+zbb7/dJNZc7gTCt1jsJ7GKuJxSZ5MSEJn7iviEDf9NfCNWQgQirr+ZRqIk6nzuuuuu0WLd0IyfjMcXG88991ycF8s7MbS5rre4xeIujbs24pC/G/yThFDFkjYVOw9cibE445qNSzj3wNb0BMoXiE29tjqWxxAGV2UE7T8xeZH0pl5ec47f1gViU7H0xTwdWQViOl5Je3sPk5JK10+BmI6XvRufAC6AiBUsN9RGRNjw8kpBd+LdyLKJoMIFEJdMLGsrrbRSvYWQzZMXX9wCEVmtpSEUMrGWxHPiwolVEVfTXOGA0OMFH+sTbqmIaBpWMUQ2VsBtt902iiHi57Ay5nMdRbjjdkoZCMRHW224wlIDcdNNNw1kJi3U+LKBpEiIQGIYsxvWcTKoXnDBBfGLh4Y27jUxsghtLJu52VjfeeeduGbOnoQ9WGtxc1122WWj63E5AhHLJV+cwIE9VkLNxoZybC3PV65ArCI4tk9VcpvqYoaYARulpmBrOZjsdSoQyzs1X8zTcVMgpuOVtLf3MCmpdP0UiOl42btxCfCSTAwdWTGxqOH2l2kIJ+oAYlV8/PHHo4gkOQ0WL1wJcxuxi/RFJLUWgYirLBYuRB/iGKsRVibq/OEOmd2wAJLdE9GAoMQClhGIWHDpn4n3gxuiABdUBE6uey9ui8Q+IrRJ+tJWG8LunHPOiaIPgZfPRRNBxmfcP+4WFursxhcWuMnec8890XKLWGuIJZEvRLAcYnHHLTv3nClXQuwpXxBwjpwzLse42FLDMW0jPpPMvlgj2WdSS3Haeeyfn0BFC0QPrZqAArG8m+CLeTpuCsR0vJL29h4mJZWunwIxHS97Ny4BBCFxZPmK0yN+cJHEPRWXSeLESDaCWyXCJ7fhyogliBfgtLUMG3dXyUcjeynxYAgTXDbJmImllJ/nNmLyEHZYV3MFCqzYcybjKRZFMpfiCoooyHUnRGxijcRll0Q1bbVlakSyX7KVktCGBDbcN6zSxD0Sk4d4Ik62WL1DXEOxtiK4c62MafiRhAcrOGIvt1QHFnO+3OCscYstFeNZal72xp3aYIMN4hcnjZXsptS8fj6TgAKxFdwGBWJ5h+SLeTpuCsR0vJL29h4mJZWunwIxHS97txwBXqaxipFwJV+8Y8utrPyZsYwS94ZQxn2WTKO4HzbEQsVqcC+lRARZQ2flZCQIQ9x2cc0kWQ9CGvFFw80S691ee+0VYwyTiCescbhCl+PmmbklnC8xhrirEhOY3cjEinsw94B4w4Y2vnwh3hSBaGsZAgrEluGealYFYipctZ19MU/HTYGYjlfS3t7DpKTS9VMgpuNl75YhgGvpAw88ELN+ZrJMtsxKGn9WLFm8yGMtzc7U2ZCZEBrUUdxoo40aMkybeZb7QwIg4vmwNJP4CMspFsNSCZQaAgE3acqRkASHORGWCEDiEMkCS9IcrN68nyJesSw+8cQTsbwHbsd8UUA5lNZiEW8Iq7b6rAKxFZysArG8Q/LFPB03BWI6Xkl7ew+TkkrXT4GYjpe9W4ZAvlIXLbMSZ5VAMgKZmo64BVNG5K233oqlRci8SsMiTgworqvEStKIJUUUZmp7EmuKi3B2fcZks9urUggoECvlJIqsQ4FY3iH5Yp6OmwIxHa+kvb2HSUml66dATMfL3hKQgASKEcASSKwi1sBMGRHcfElOQ2IgLJgIRspqYL0kURPxoBMmTIjuxghEEtQgHslkitUxN3GOJ9B6CCgQW8FZKRDLOyRfzNNxUyCm45W0t/cwKal0/RSI6XjZWwISkEAxAiSXIesp7quU1lhttdVi98mTJ8espLi5klX06KOPrjMMz1GCAkF4//3315Y+yXQi4cxXX30VXVUpeWFrHQQUiK3gnBSI5R2SL+bpuCkQ0/FK2tt7mJRUun4KxHS87C0BCUigEAHcSskWipXw/PPPD3vuuWdtVxLTUN+QeEIEJPUqsxvP3X333eF3v/tdzJSayexL9l7GIpaR7LRLL7106NGjR0xARGkOW2UTUCBW9vnE1SkQyzskX8zTcVMgpuOVtLf3MCmpdP0UiOl42VsCEpBAPgKUFMFCiBDccsstw7XXXlun/uS9994bxSOZU8lQ2r59+9phSFSDRZF6h9S6pKg9jRqMxx57bKz/uckmm8TSHI8++miMZSSJTa4V0pOpPAIKxMo7k3orUiCWd0i+mKfjpkBMxytpb+9hUlLp+ikQ0/GytwQkIIF8BO65554o7mbMmBFdRbHyZRrlNo444ojw2GOPxZIaZDDNbtRjpP4l2Wypk7jDDjvEj3E1RVhec801tZlM+Rn1QKnpiAur8YmVfR8ViJV9PnF1CsTyDskX83TcFIjpeCXt7T1MSipdPwViOl72loAEJJBLAAE4YMCAmJl09dVXj8Itu1biCy+8EI466qjoenrqqafGWpfZbcyYMVEgrrLKKlEgrrHGGvHjUaNGxZjDTTfdtLY71sY//OEP4aeffgo33nhjdDm1VS4BBWLlnk3tyhSI5R2SL+bpuCkQ0/FK2tt7mJRUun4KxHS87C0BCUgglwBZSI855pjw3HPPhd133z3GGGZiCCnRQlKaBx98MCy00EJRRHbq1KnOEEOHDg3nnXde2HHHHaO1cO65546f5yvvgptpz549Y59bbrmldh5PpTIJKBAr81zqrEqBWN4h+WKejpsCMR2vpL29h0lJpeunQEzHy94SkIAEcgmQmfTII48M//rXv8Lvf//7cOGFF9Z2oc7hRRddFMUe8Yf899ixY6Nr6NZbbx0tgcQT4jqKZZG6h8Xaq6++GgVi//79wyGHHOJhVDgBBWKFHxDLUyCWd0i+mKfjpkBMxytpb+9hUlLp+ikQ0/GytwQkIIFcAlgQEYivvPJKtA5S45B/4mqK5ZDaiG+99VY4+OCDw9prrx1GjhwZXVLXWWedWLpin332ie+op59+eth///2LAsZF9e23346Jbow/rPy7qECs/DNSIJZ5Rr6YpwOnQEzHK2lv72FSUun6KRDT8bK3BCQggVwCCMCrrroqJqeZc845Y51CxNuPP/4YheADDzwQk80QL7jUUkuFE044IWyzzTZxmNdffz0ccMAB0WUU99OVVlqpIODRo0eHYcOGhcsuu6y2vqKnUdkEFIiVfT5xdVoQyzskX8zTcVMgpuOVtLf3MCmpdP0UiOl42VsCEpBAPgLffvttuPnmm6MVEbdRktTgbopb6Z133hkTznTo0CFaCDfaaKPaIch+esYZZ4QNNtggJp1BYOZrL730UnRdxR21W7duHkIrIaBAbAUHpUAs75B8MU/HTYGYjlfS3t7DpKTS9VMgpuNlbwlIQALFCFAPkTb//PPX6YYr6aKLLlrvUSyMI0aMiCKxd+/eeYeeNGlSOP/888Ohhx5aa3mkI2UxFl544TDPPPN4KBVKQIFYoQeTvSwFYnmH5It5Om4KxHS8kvb2HiYlla6fAjEdL3tLQAISaAgBLI1zzDFHdEGl7MWBBx4YPvzwwxiXuOqqq9Yb+t133w3HH398rI2IRXL69OkxppFkNWRNJVnNIoss0pAl+WwTElAgNiHcxhpagVgeSV/M03FTIKbjlbS39zApqXT9FIjpeNlbAhKQQLkEpk6dGstZEIt48cUXh8cffzxaBamRSCmM3DZlypTQr1+/gAURV9UZM2bEbKj8k7FIasPztsoloECs3LOpXZkCsbxD8sU8HTcFYjpeSXt7D5OSStdPgZiOl70lIAEJlEtg3Lhx0Y2UWMRzzz03XH311THmkAQ3SyyxRL1hSW4zZsyY6EKK5RBxSEMgtm/fPvTt2zessMIK5S7H55qBgAKxGSA3dAoFYnkEfTFPx02BmI5X0t7ew6Sk0vVTIKbjZW8JSEAC5RL4+uuvw5AhQ8JTTz0VYwfXWGONcMwxx+QVh+XO4XOVRUCBWFnnkXc1CsTyDskX83TcFIjpeCXt7T1MSipdPwViOl72loAEJNAQAlgBSS5DHCHlMGxtm4ACsRWcrwKxvEPyxTwdNwViOl5Je3sPk5JK10+BmI6XvSUgAQlIQAJJCSgQk5JqwX4KxPLg+2KejpsCMR2vpL29h0lJpeunQEzHy94SkIAEJCCBpAQUiElJtWA/BWJ58H0xT8dNgZiOV9Le3sOkpNL1UyCm42VvCUhAAhKQQFIC7d5///1fCTrt3Llz0mfs18wEpk2bFhCJHTt2bOaZW/d07733XlhggQXCYost1ro30kyrJ/U0KaxhZms8At7DxmOZPRK/E8mit9122zXNBI4qAQlIQAISmEUJtPvyyy9/ffrpp2PqWltlEvjf//4Xqs4pLLPMMpW5wApd1WeffRbmnXdeBU/C8/n444+jmJ577rkTPmG3JAQI6l9wwQVjcWFb4xHgdyLZ9Lp27dp4gzqSBCQgAQlIQAKhXVVWouriJDYJSEACEpCABCQgAQlIQAISmKUJKBBn6eN38xKQgAQkIAEJSEACEpCABGYSUCB6GyQgAQlIQAISkIAEJCCBJiXw5ptvhk8//TSst956MQTIVrkEFIiVezauTAISkIAEJCABCUhAAq2eAHkOjjjiiDB9+vRwzTXXhJVWWqnV76ktb0CB2JZP171JQAISkIAEJCABCUigBQnMmDEjnH766eH222+PVROGDBkSVllllRZckVOXIqBALEXIzyUgAQlIQAISkIAEJCCBsgjceeed4cwzz4ylibAcXnXVVWHllVcuaywfah4CCsTm4ewsEpCABCQgAQlIQAISmKUI/Pvf/w79+vWLpZ6mTJkShaECsfKvgAKx8s/IFUpAAhKQgAQkIAEJSKBVEfjhhx/CoYceGhZffPGwww47hGOPPTa6mCoQK/8YFYiVf0auUAISkIAEJCABCUhAAq2KwBVXXBHuuuuucPfdd4e33347HHDAAWGdddZRILaCU1QgtoJDcokSkIAEJCABCUhAAhJoLQTGjx8fjjzyyJicZr/99gvjxo0Lhx9+uAKxlRygArGVHJTLlIAEJCABCUhAAhKQQKUT+PLLL8NBBx0UOnXqFAYNGhTatWunQKz0Q8tZnwKxlR2Yy5WABCQgAQlIQAISkEClEjj11FPD3/72tzBy5Miw9NJLx2VqQazU08q/LgVi6zovVysBCUhAAhKQgAQkIIGKJPDQQw9Ft9LLL788bL/99rVr/Otf/xoOO+yw6GJ69dVXx3IXtsoloECs3LNxZRKQgAQkIAEJSEACEmgVBEhE06tXr7DTTjuFk08+uc6aH3vssfDHP/4xrLfeemHo0KFhueWWaxV7mlUXqUCcVU/efUtAAhKQgAQkIAEJSKARCPz6668B19J77rknlrNYaqmlwk8//RRHnnvuucM//vGPMGrUqOhyuueee4ZFF100xihuvPHGMUbRVlkEFIiVdR6uRgISkIAEJCABCUhAAq2KwM8//xz233//8Morr4Q55pgj8N/Zbc455wwLLLBAmDFjRvj+++/Dt99+G37729/GkhdzzTVXq9rrrLBYBeKscMruUQISkIAEJCABCUhAAk1EAAvibbfdFt58880oELPb7LPPHt59993wzDPPhIUWWihsuummYcEFFwxrrbVWtCbyua2yCCgQK+s8XI0EJCABCUhAAhKQgATaFIFHH300xieSpGbIkCGhQ4cObWp/bW0zCsS2dqLuRwISkIAEJCABCUhAAhVEwCymFXQYCZaiQEwAyS4SkIAEJCABCUhAT0PvkwAAIABJREFUAhKQQHkExo4dGw455JCw7rrrhmuuuSasssoq5Q3kU81CQIHYLJidRAISkIAEJCABCUigMQmQ6ITSCu+9915YZJFFwuqrrx6WXHLJolP88MMPMR5u6tSpoX379mHNNdeMz1ZS++WXX8J3330Xi82TAXSLLbaomEyf//3vfyM/WM8222yJsT3++OOhX79+Ye211w6XXHJJWH755Qs++8UXX4SPPvoo9rW1DAEFYstwd1YJSEACEpCABCQggTIIIFJuv/32+Adxt/jii4f3338/fPnll2GfffYJRxxxRJhvvvnqjYybI0XaETY899Zbb8V/P+aYY8Jee+1Vxkoa9xHKQlAm4sknn4xrQyTtvvvuYeDAgRUhED/77LNwzjnnRN6nn356IDNp0sbeyF5KAhvOppi4nDJlSujfv3/Ydttto6g0iU1Syo3XT4HYeCwdSQISkIAEJCABCUigCQlQJuHcc88NI0aMiElP/vCHP8Si62TPHDx4cPi///u/WJD9jDPOqCMsbrzxxnDppZfGununnHJKrMf36quvhvPOOy988MEH4aijjgpHH310i4qR6dOnB0QsApGkLgjh/fbbL+63pWsFTpw4MYpChPVFF10UlllmmSY85RBefPHFcPLJJ4fNN9881lecZ555mnQ+B69LQIHojZCABCQgAQlIQAISaBUEnnvuudCnT5+wwgorhJEjR4aFF164dt24miKosFZRlD0T50aR9t69e0e3zTvuuKOO6yJiDCsVzxAbt+WWW7Y4h2+++SaK37///e/hoIMOila7lhSIr732WjjyyCPDsssuG4YOHRotiM3RXnjhhWgN3mWXXSKDNC6tzbG+tjyHArEtn657k4AEJCABCUhAAm2IwF/+8pdwxRVXxLg8xAoxepmGxQ2L4uuvvx4uuOCCWIid+nxnnnlmwIKI+KPEQraoxGpHgXesiVtvvXV0QS1lrcJVkoLw3bt3TyxaELarrbZajHss1YiTPPzww8P48ePDwQcf3KIC8T//+U849NBDo5WVOoddunQptfxG/fyqq64KgwYNCpdffnnYY489GnVsBytMQIHo7ZCABCQgAQlIQAISaBUESHBy7bXXhqWWWiq6ma666qq168ZCiAURSyKiYrvttgtff/116Nu3byzSTnzixRdfXM+N9MILLww33HBDHPPPf/5z2GCDDQqywMUV8YlYInaRsUs1rJa4ZeIuibgtFbuHAMXiOWHChBYXiKwbyypW1uOPP77UVhv986+++ioKeETzLbfcYv3ERiecf0AFYjOBdhoJSEACEpCABCQggYYRePjhh2MsHC6hO+64Y7SuLbTQQnHQhx56KIqYjh07hptvvjksscQSMVsp1jgybx5wwAEx4Utuoy+iD+FGTGIxS9WPP/4YrrzyynD99dfH/ghEYhcLtTvvvDOKQxLoMP9ZZ52VyEKZRCC+/PLL4V//+lcg6ydWT1xqN9xww6IuoCSAefbZZ+N64IbApnh9PrdR2GGRZc8kz1l55ZUbdnhlPj1s2LDIEM4nnHBCmaP4WBoCCsQ0tOwrAQlIQAISkIAEJNBiBKZNmxbj0igBMddcc4VtttkmikKymJ544olh3nnnjUldcEGl/fvf/44ukp9//nkUlJdddlkdt1T63H///eG0004LuJuSwOawww4rur///e9/USTitkps4LHHHhuT3OS2jOUQKyauogMGDKg3d76JSlkQP/nkk2jpfOKJJ6LbKi6zCEXcQRGJrB/32txG1ldcdBGDxHDCkL0gEhdbbLGYZbRDhw7hpJNOiq6wWA5x7dxoo43C8OHDwwILLNAi507CmgMPPDDulT0suOCCLbKOWWlSBeKsdNruVQISkIAEJCABCTQyAUoy3HfffVFgpS1JwDNYvXbeeefEq5o8eXI47rjjolWQ+bCEEX9ITCCukFgQM+3DDz+MghLL2UorrRRFXW4GToQWAg+rJGKPP6Ua60Zs4uaaTyQiZHBnRRySaAZxWCq2MTNnMYGY7TJLlk/2RvIWXDGxgt57772RByJ5t912q93G008/HfeIMMRVE5GIBRKOH3/8cRR/nAP1DbG4UooCDlhlKTmB+G6phviHIVZP9pi9r5ZaU1ufV4HY1k/Y/UlAAhKQgAQkIIEmJPDggw9GYUZ8XlqBiLCjLAWxhWkacYa4HOIGiavnzz//HHbddddoCcxOQoPowyrIGul39tlnh3333bfOVIg5XEuxpmE9I0tqkoZIpHQGLqqIRMTWIYccEi2SCBnEHG6lJMlJKg6Zt5BAJOEOFkBYUSMQ10usqJmWsVROmjQpdO7cOVx33XUxrpKGK+wDDzwQ4ybZY6YhYrEOYjHE4pnJ/PrOO+9Evv/85z+jWy6upi3VMqIYIc89y15/S62prc+rQGzrJ+z+JCABCUhAAhKQQBMSoAYh9fsQiGlLESDgunbtGjbbbLNUK8TtEKHAnIhMxuEP8XSIHqyFmYb1DCsYwgvrIZa3TTbZJD5LKQUyZWJFQ/AhIEl0k7RlRCJWOdxbN91000BZDYrcI0QZL404LCYQcS0lNpG9UxsQsZfbEHu4v9KIz2QNlM3AKpgpG4FgzjTqRhLTCRsS72BFpJHVFVGJ9Q5BmoZJUnZJ++FWjPgeO3Zs/DIhXxxp0rHsl4yAAjEZJ3tJQAISkIAEJCABCVQAAYQCAonYOVwpsZhRnoI4QwQbMXPE6GWXlED8IARJ6DLHHHNECxti9rPPPouWQwQSrplkGeX5NI05EWXMgSWTP3vttVc444wzUovDYgKROMOePXtGd1L2ny9WknIaxFySWAYL4J/+9KdoyeRniD5iNrE8ZoQ8YhZXUlxxsSBmBCJZXxGIiDMEIvsp1LAywh+BnLZhFUXYs87sjLTZ43A+uLhimaUmIhlqs8ubpJ3T/qUJKBBLM7KHBCQgAQlIQAISkEAFEEAk4QKKVYz4v0xJCuoSIhaJNcQyiMWJ+LzsRuwiFjNiJnE3JekJQhH3Un6GOLrpppvKEnWIQ9xNEYcIHgrL4w5ZTivkYor4QxQi/kjMky97KoKvV69eURSSGIesqTR4ILCWXnrpKBCxtNLIaApPktOw94xLKgKR8VkL+9pzzz0LbuWll14K559/fph//vlTbxeBiMDGKkj8Y74GT6y+ZFJF4A4ePLg2c23qCX0gEQEFYiJMdpKABCQgAQlIQAISyEeA7Jl///vfwy+//BJj8dI0xBxxb0kLsCNWsASSkZR4vOwYvNdeey26XWINQ0gMHTq0ZEwkVjPiBREpuKwirtK2UaNGRSsbrq4kgcEqyXgILIRi2lZIIOJaioslFjWEYraraGaO119/PQq+TIxmpiwE2VxJlIO1FSGG1ZDENGQp5TPccrMTBSE0sSCSCAjmuXGbaffUkP5wZR+UOKEECVZerMC2piOgQGw6to4sAQlIQAISkIAE2jyB0aNHRxdArGdpk9RQAJ1ELligkjREEZZDYuqIscsVpBS9pzzDVlttFf9ZzKqFtRGhhKjCenjttdeGRRddNMkyavtk6hzi9kkpBkQhSWsyJTCIfcy1ZJaaoJBAxAKacTHdcsstoyUt161z4sSJMVEOrrS4uPLvmYYrKIIVZsstt1y0olIyApbrr79+nWURe4hAxDLL2bRkkppvv/02xpAS52oMYqnb0zifKxAbh6OjSEACEpCABCQggVmSAC6GN9xwQ1kCEXfJ7bffPuy///6J2CEQSQhDnT8EUrYFkQFGjhwZ49mIVUMgIoLyNUQYLqCIjhVXXDHGtWXi7xItpKrTXXfdFa2PlF8giQvunAhS9oTV7dZbb42xfsyTRiRiMSMZzfjx46MwI9ENoo6fs7dHH300CjsspLnxko899lica8kll4xxgRnhh8spgpHYPdxTWSdsKGeRr2ViGHHJZU6eaamGRZY9UZaDteRLztNSa2ur8yoQ2+rJui8JSEACEpCABCTQDARwLSVOjHiytI1nEC1Js59isUPoYOnDSkcMYXYjIyexdFgGiVvL13CbxKWSsg/EISLssDimaXfffXcUh1jqEIfEP2ZnK8XFFLdTxGxakYgQJKnM888/H+v/ESOZaePGjYvWWiyvxAWyj+yGGGVt1DyEBQ3GxPghKLG6Ug4Ewcm6+AyhmM9yiisvInzzzTeP7ryFxGQabuX0feONNyJjvgxgTWmTCJUz56z+jAJxVr8B7l8CEpCABCQgAQm0EgJY/rCoIRS7desWxRKJar777rsojHAxJZ5xyJAhsaRFdiPLKdY3XEmpn4jlEtfFpPGPjIUbLTGHCDOscplSFvnEE7GCWBIRiQgyRBsunoWsmozPM7jsXnTRRVF8IoAvu+yyKGQz7rRkaMU6SkNIIhT5DIsmtQ8RdHDAiphZM5ZILL0Zl1TELH8QXdSNXGONNWIMIkwzDUYIVL4AIMHNsssu2yK3BB4IfsqhwDLXatwii2rjkyoQ2/gBuz0JSEACEpCABCTQlghgYcN9EtGCq+TKK68cM5cSU0h9Q1wQycqZacTlEbeI5ZD6hJRTQNhtvfXWqa1izIObIwKVeEDEarHyDgg+BB6ilBqJWDcLlWjArZN9PfXUU9FCiJBkPoQeLrhY/mgItjFjxkQL6gcffBAT4zAmghWRR5weCWiy2+OPPx7XzZj8YV2MjeDln8RQEpeIqy0CM9My2U+xQBJj2ZBGmQ3qTTJ+7vqKjYtVlAQ1JNQhSY2t6QkoEJuesTNIQAISkIAEJCABCTQyAQrHk4GTLKqLL754tIItv/zy9WahQPzTTz8dOnXqFOMMsYQldWnNt2SE5iOPPBLdHokFLNUQfsRGdu/evWApB8bA3ZPyHST6yVjJ+FlGLOaKKtxY33777bh/rKWI4mw318y6EIOUtiCekPqJWAw//fTTOG7mD2Pcd999YbvttqtTiP7NN9+MQpj1IIqXWGKJUtvN+zllRMi8CnfEMqI+SUPYEn+YScrTUm6uSdbalvooENvSaboXCUhAAhKQgAQkIAEJ1BBAYA4fPjxa33A7LVbwnvhE3FpxYc1uWCtx8cRN9cwzz0zNNlO3EVfRtdZaK8YzJhGIrAVxivswmWFJJmRrHgIKxObh7CwSkIAEJCABCUhAAhJoVgJYBvfZZ5/ofkqym0Iumlj4cOXce++9oyjLbYg64jop40EsZZpGXCQxm7jBrrTSSjHRTCmBOG3atBhfSt1GBOu6666bZkr7NpCAArGBAH1cAhKQgAQkIAEJSEAClUgAN1zqTOKKiijbbbfdwnrrrRfjGnFRJSaQ8hG4cpIdlIyuhWIq77333pg8h7qJ/EnSXnzxxZhNFrdeaiqussoqJQUiohYxS3kLajDiGmxrXgIKxObl7WwSkIAEJCABCUhAAhJoFgK4mD700EPR+vf666/H5DTEaxJTiECcY445ongjWymJe4h/LNaeffbZmAyIRDiZrKqF+hNPiVsqWWK32GKLGEuIi2kpCyLjI1h///vfx3hJW/MTUCA2P3NnlIAEJCABCUhAAhKQQLMR+PDDD8MTTzwRLYZYFcn+uvTSS8fMpdtss02qrKJJF401kuRA99xzTyCTLCJ0nXXWKSkQk45vv6YjoEBsOraOLAEJSEACEpCABCQggYoiQGmLUpbChi6YjKnEEF5yySWx9Ma4ceOiW6oCsaFkm+d5BWLzcHYWCUhAAhKQgAQkIAEJtHkC1JqkZiL1Ds8999y4XwVi6zp2BWLrOi9XKwEJSEACEpCABCQggYokQMxj3759A7Uib7311rDIIosoECvypIovSoHYCg/NJUtAAhKQgAQkIAEJSKDSCNx2223hsssuC9dcc03YZJNNapf317/+NRx22GHRxZSSGdY0rLSTq7seBWJln4+rk4AEJCABCUhAAhKQQMUTIBENIpDMpbm1Eh999NHQq1evKBDJqNqhQ4eK38+svEAF4qx8+u5dAhKQgAQkIAEJSEACDSSAa+lxxx0XRo8eHQ455JCw6KKLhp9++imOSkmNyZMnxzhESmxst912YcEFF4wlL/j32WabrYGz+3hjE1AgNjZRx5OABCQgAQlIQAISkMAsRIDMqJSxePnll2N9RP47u80555xRFM6YMSNMmzYtfPvtt2G33XaL7qYISFtlEVAgVtZ5uBoJSEACEpCABCQgAQm0KgJYEB9++OGYnCa3hMYcc8wR3njjjWhdXGyxxcIOO+wQ/9mxY8ew/fbbN3nJjVYFskIWq0CskINwGRKQgAQkIAEJSEACEmiLBJ544okYm7jeeuuFYcOGhWWXXbYtbrPN7EmB2GaO0o1IQAISkIAEJCABCUig8ghYB7HyzqTYihSIreu8XK0EJCABCUhAAhKQgARaFYExY8aEnj171loQV1lllVa1/lltsQrEWe3E3a8EJCABCUhAAhKQgASakcAzzzwTTj/99LDmmmuGs846SxfTZmRfzlQKxHKo+YwEJCABCUhAAhKQgAQkkIgASWz4Q4ZT/tgqm4ACsbLPx9VJQAISkIAEJCABCUhAAhJoNgIKxGZD7UQSkIAEJCABCUhAAhKQgAQqm4ACsbLPx9VJQAISkIAEJCABCUhAAhJoNgIKxGZD7UQSkIAEJCABCUhAAhKQgAQqm4ACsbLPx9VJQAISkIAEJCABCUhAAhJoNgIKxGZD7UQSkIAEJCABCUhAAhKQgAQqm4ACsbLPx9VJQAISkIAEJCABCUhAAhJoNgIKxGZD7UQSkIAEJCABCUhAAhKQgAQqm4ACsbLPx9VJQAISkIAEJCABCUhAAhJoNgIKxGZD7UQSkIAEJCABCUhAAhKQgAQqm4ACsbLPx9VJQAISkIAEJCABCUiglsCPP/4YvvjiizDvvPOGxRZbLBGZn3/+OXz88cdhgQUWCIssskiiZ1qy01dffRW+++67sMQSS8R92pqXgAKxeXk7mwQkIAEJSEACEpCABFIT+Oc//xluu+228Omnn4bp06eHGTNmhPbt24d99903bLnllnnH++ijj8J1110X3nvvvfD999/H51ZdddVwyCGHhDXXXDP1Gpr6gRdffDHcfvvtcY+0X375JWy00Ubhj3/8Y6sQtk3Np7nGVyA2F2nnkYAEJCABCUhAAhKQQBkE7r///nDeeedFi1qvXr3CGmusERCMw4YNC19//XU499xzwx577FFn5FdffTWcdNJJ4ZtvvglHHXVUWG211cKTTz4ZbrrpprDMMsuEM888M2yzzTZlrKZpHrn77rvDhRdeGH799dcwYMCA0Llz57jWO+64I2y11Vbh4osvDksttVTTTO6odQgoEL0QEpCABCQgAQlIQAISqFACU6ZMCQcccECYa665wogRI0LHjh1rVzphwoRwxBFHROF44403hg4dOsTPPvvss2h1e+ONN8KVV14Zdt1119pnhg4dGi666KKw/PLLh2uvvbYiLIlYDvv27RvF7vnnnx/23nvvuN6ffvopHH300WHs2LHxZ5dffnmYbbbZKvSk2s6yFIht5yzdiQQkIAEJSEACEpBAGyNwzz33RPG0yy67RHfR7EY84uGHHx6eeuqp+NkOO+wQP/7LX/4SLrvssrD22mtHC9x8881X+xji8bDDDgt///vfozUSa90cc8xRktqXX36ZOOaRwYgjXHTRRUuOS4c//elPgX1uvPHG4eabbw5zzz137XPPPfdcXCd7GDJkSOxja1oCCsSm5evoEpCABCQgAQlIQAISKJsAFj/cK9ddd91www031BFpxBT27t07jBs3LgpERCRtn332CS+//HLYbLPNouDKbYjCkSNHRpdNYv5WWmmlousbNWpUFJr9+vUrGO+YPQDurWeffXa0XCLuiln93nrrrWgFffPNN8ORRx4ZTjjhhDprIblOxhpK7CSusbamJaBAbFq+ji4BCUhAAhKQgAQkIIGyCRCbd+qpp0arGmLw2GOPrR0LIYYFkbg93E/XWmutgKXvwAMPDLim7rzzzuGqq66qN/fgwYOjNY4xr7nmmtC9e/eC6yMDKsLtgQceiOMT74jwLNRY08knnxxee+21aNFk/oUXXrhgfxLvnHPOOVFEDho0KOy00051+iKC2f99990X50cwL7fccmXz9MHSBBSIpRnZQwISkIAEJCABCUhAAi1C4N13340ikH/iZom1rU+fPrHUBRa9Z599Npx++umxDw1hiKAjc+nmm28err/++nrrJl6ReL527dpF8UWMY7H2zjvvhFNOOSWMHz8+dOrUKQwcODB069at3iP/+Mc/ogVw8uTJ4Te/+U2MJyQ5DvMUaldccUV0iZ1//vljTGQ+F1LcZRGylOjAioo11dZ0BBSITcfWkSUgAQlIQAISkIAE2iABavQRw4d1LW2jPAUWMLJ0Jm0kaTnrrLPCt99+G61+WPyI8aMcBGIRl9KMCPv888+jBRGXzXXWWSe6kGbH9DEn1jiyohLDiPsm2U5LNUpmECuIIEUk8ny25fGVV16JlkMS43Tt2jUmwqFfsYblE5dR3Fep6Yh1cP3116/3CNZOBC37QCBusskmpZbr5w0goEBsADwflYAEJCABCUhAAhKY9QiQPZR4uNlnnz11Vk3KTlC7EMGTpo0ePTq6YBKTh8hEXGE1zI3Z4+cHHXRQeOmll8JCCy0U4xdzy1ngtorAI0so+zjxxBMTLeX999+P87H/bEtituUQgcecq6++eskx//vf/0bR+dhjj4Vll102ur3mE85YFimBMc8884RLL720Ntay5AR2KIuAArEsbD4kAQlIQAISkIAEJDCrEqAGIRYyBGIx98l8fH744YcYm0cm0TQN6yHWQiyXZB1lbkpf7L777uH444+vk6n0rrvuipY5xCKC7YILLggrr7xynA5LINZI3EUZB6sfFsek7cMPP4zzkV20S5cu4Xe/+12MT4TJBhtsEIUcdRqTNCyxGTfZFVdcMQrEfFZHEvCwBwQiMZCZMhhJ5rBPegIKxPTMfEICEpCABCQgAQlIYBYmgPDC+lZuQ5ilqedHpk+sfCSgOfTQQ8PEiRMDFsVffvklWhMReLiJIqBo33//fYwTxFLIWhFdxCP+73//i5ZF4hdxL+X5YcOGhU033TTVVohvJBMq9QvnnHPOuAbEIslm1lxzzcRjwRCB+tBDD9VaEElEk9uyLYjUddxxxx0Tz2HH9AQUiOmZ+YQEJCABCUhAAhKQgASahcB//vOfcMwxxwRi/LCi7bfffjH2kfIVWNxw06ThetmjR4/aNU2bNi08/PDDYcyYMeHtt9+O1kaEIgleHnnkkTBp0qRY3oLsp5S7SNuwGpLgBrGLFRWBmsYSmZkPV1fWQM1ExCpWyNx29dVXB4ShMYhpT6m8/grE8rj5lAQkIAEJSEACEpDALEoA6xsF58tpWPQWWGCBxEXnSeCC9ZCsoWQfzS56T31C4v1w1aQ8BNk+EYLZDZdWRCQuqZSbwOqHqyouq1gjEXlp3WQpYYEFEeGJJRQLIi6sZFPNl920GCfEH5lM2ReupPkS0LDH4cOHx/WTpGa99dYrB73PJCSgQEwIym4SkIAEJCABCUhAAhKAAEXosZghjtK4ivIslj0K2p922mmJYFJwHmG42267BcRUbiOGD0shoummm24KCy64YMFxEbZYIx9//PHQoUOHmDU0STKZ7AERhwhWspVSyoIsqHfeeWd44oknYkkLLIJpRCLWTFjC5ZJLLokxjdmNNRPziCUUV1hKYpDx1NZ0BBSITcfWkSUgAQlIQAISkIAE2iCBF154IfTv37+sLKZY+/bYY4+YRKZUw9qIhQ8rIkXvqQWY2/gZ2U1xHUVIUk+wUEOA4cY577zzxnHTuoRmZyulhAYJaYg9JLsp2Uiff/750LFjx4J1EvOt6+uvvw69evWKyXcOPvjgmIQmuzE26/zggw/C0UcfHeexNS0BBWLT8nV0CUhAAhKQgAQkIIE2RoAkMCRqSeuaCQYSwyy++OJhySWXTEQFl0rEJLF5FL1fYokl6jxHXCIisWfPnlFc5bNoMifjICSJX8TF9Nhjj01l/SQxDiUuXn/99ShGyeKanZAGHnxOdlMsiSTJSZr8hrFwISX76S233BLat29fu8cHH3wwikJ+xj7z1UlMBNJOiQkoEBOjsqMEJCABCUhAAhKQgASalwAWNNxIiR084ogjwnHHHVcbh/jqq69Gl1GscGT6zBe/984778QEL/fff39YfvnlQ9++fWOimzSusbjU4hKLOMSVNVccZohg5UPMUScRkYiw3WyzzaKltVij9EamhAd7JL6Rxt6p9Th58uS4blxNyxHlzXtirX82BWLrP0N3IAEJSEACEpCABCTQhgkgzCgh8be//S107949Wua++eabgHUNl1IEJDGKmfb555+HZ555JmY+Jd5w+vTpYbvttgsHHHBAWHvttVORwvpInOGjjz4aYw4LicPMoFgSiVEkJpE5cWktFheZeQ4LJfGLiN4999wzWhMRteyd+RHC2Ql6Um3CzqkIKBBT4bKzBCQgAQlIQAISkIAEmp8AtQuxIhIH+PHHH0dXU1w8N95441hDMLshDnHHJLMooq5z587RolduI5EMcZBY8PLVKcwdF5GIu+vuu+8eE/IktVZiCX322WejsP3qq6/CqquuGsXwhhtuWO7Sfa4MAgrEMqD5iAQkIAEJSEACEpCABCqVAAXoSXCTW/KiIevFkphU6DEP8+sO2hDiLfesArHl2DuzBCQgAQlIQAISkIAEJCCBiiKgQKyo43AxEpCABCQgAQlIQAISkIAEWo6AArHl2DuzBCQgAQlIQAISkIAEJCCBiiKgQKyo43AxEpCABCQgAQlIQAISkIAEWo6AArHl2DuzBCQgAQlIQAISkIAEJCCBiiKgQKyo43AxEpCABCQgAQlIQAISkIAEWo6AArHl2DuzBCQgAQlIQAISkIAEJCCBiiKgQKyo43AxEpCABCQgAQlIQAISkICjiGhlAAAR9ElEQVQEWo6AArHl2DuzBCQgAQlIQAISkIAEJCCBiiKgQKyo43AxEpCABCQgAQlIQAISkIAEWo6AArHl2DuzBCQgAQlIQAISkIAEJCCBiiKgQKyo43AxEpCABCQgAQlIQAISkIAEWo6AArHl2DuzBCQgAQlIQAISkIAEJCCBiiKgQKyo43AxEpCABCQgAQlIQAISkIAEWo6AArHl2DuzBCQgAQlIQAISkIAEJJCHwI8//hjmmWce2bQAAQViC0B3SglIQAISkIAEJCABCUigLoEPPvggjB07NkyePDlMmzYttG/fPnTv3j3stNNOYbbZZhNXMxFQIDYTaKeRgAQkIAEJSEACEpCABPITeO6558J5550Xpk6dGg4//PCw9tprhxEjRoQXXnghHHTQQeGUU04J8847r/iagYACsRkgO4UEJCABCUhAAhKQgAQkkJ/Am2++GY466qhoOTz++OPDscceGzt+/vnnUSy+8sor4eijjw4nnXSSCJuBgAKxGSA7hQQkIAEJSEACEpCABCSQn8A555wTbrrpptClS5dw2223hYUWWqi24//93/9FwYi76Y033hjWWGMNMTYxAQViEwN2eAlIQAISkIAEJCABCUggP4FPP/00HHbYYWHixImhZ8+e4ayzzqrTkbjEAw88MHz44YfRinjccceJsokJKBCbGLDDS0ACEpCABCQgAQlIQAL5Cdx7771hwIAB4eeffw6XXHJJ2H333et0/OGHH8IJJ5wQxowZE7p27RquueaasPjii4uzCQkoEJsQrkNLQAISkIAEJCABCUhAAoUJDB48OPBn/vnnD8OHDw+bbrppvc4XX3xx/AxheN1118UENramI6BAbDq2jiwBCUhAAhKQgAQkIIFWSeDbb78NuH+W03799dewzDLLhAUWWKDk48Qf3nrrrWGRRRYJQ4cODRtuuGG9Z66++upw5ZVXxrqIxCFutNFGJce1Q/kEFIjls/NJCUhAAhKQgAQkIAEJtEkCl19+eRg5cmQikZcNAHE4ffr0WLJi++23L8rmxx9/DCeeeGIYN25cWHrppaP76FprrVXvmWuvvTZceOGFUSAiFHfcccc2ybxSNqVArJSTcB0SkIAEJCABCUhAAhKoEAJXXHFFuPPOO6PrZ5qGQPzpp5/CBRdcELbYYouij3733XcxQ+n48ePDiiuuGIYMGRI6depU7xncShkPgXjuueeGvffeO82S7JuSgAIxJTC7S0ACEpCABCQgAQlIoK0T+OabbwJupu3atUu9VUTikksuGeaee+6iz2JpxIJIAprll18+CsQ111yz3jPZFsTLLrss9OjRI/WafCA5AQViclb2lIAEJCABCUhAAhKQgAQakcDZZ58dYxCpc0gM4vrrr19vdIQjLq8ITqyJ3bp1a8QVOFQuAQWid0ICEpCABCQgAQlIQAISqENgxowZ0VWUltaKiAVxrrnmCrPPPntJqoMGDQp//vOfY6wjlsKNN9643jNYDYlPxN2VJDX5EtmUnMgOiQkoEBOjsqMEJCABCUhAAhKQgARmDQK33HJLGDt2bJh33nlTbRhxiLjs27dvomyjDzzwQDj99NNjYhvEYq77KGOddNJJ4b777gvrrLNOtDKSIdXWdAQUiE3H1pElIAEJSEACEpCABCTQKgmcddZZYcSIEWGhhRZKtf5ffvklij1qG+68884ln/3Pf/4TDjvssDBp0qTQu3fvcMopp9R55uOPPw49e/YMb7zxRujVq1c488wzS45ph4YRUCA2jJ9PS0ACEpCABCQgAQlIoM0ReP3118M777yTyE00d/OIxK5du8a4wiQNUUjGVFxHsVxmWy2ffvrp0KdPn9oSF1tttVWSIe3TAAIKxAbA81EJSEACEpCABCQgAQlIoGEEMtbDjz76KAwYMCBaCmnTpk0LRx55ZHjqqafCfvvtF84///wY22hrWgIKxKbl6+gSkIAEJCABCUhAAhKQQAkC48aNC+edd1744osvwnHHHRfWXnvtcPPNN4fRo0eHXXbZJZDtdKmllpJjMxBQIDYDZKeQgAQkIAEJSEACEpCABIoTwK0VQTh58uTw/fffx1qKZDXdddddY5ZTW/MQUCA2D2dnkYAEJCABCUhAAhKQgAQSEPjxxx9jopsFF1wwdYmNBMPbpQQBBaJXRAISkIAEJCABCUhAAhKQgAQiAQWiF0ECEpCABCQgAQlIQAISkIAEFIjeAQlIQAISkIAEJCABCUhAAhKYSUALordBAhKQgAQkIAEJSEACEpCABLQgegckIAEJSEACEpCABCQgAQlIQAuid0ACEpCABCQgAQlIQAISkIAEcgjoYuqVkIAEJCABCUhAAhKQgAQkIIFIQIHoRZCABCQgAQlIQAISkIAEJCABBaJ3QAISkIAEJCABCUhAAhKQgARmEtCC6G2QgAQkIAEJSEACEpCABCQgAS2I3gEJSEACEpCABCQgAQlIQAIS0ILoHZCABCQgAQlIQAISkIAEJCCBHAK6mHolJCABCUhAAhKQgAQkIAEJSCASUCB6ESQgAQlIQAISkIAEJCABCUhAgegdkIAEJCABCUhAAhKQgAQkIIGZBLQgehskIAEJSEACEpCABCQgAQlIQAuid0ACEpCABCQgAQlIQAISkIAEtCB6ByQgAQlIQAISkIAEJCABCUggh4Aupl4JCUhAAhKQgAQkIAEJSEACEogEFIheBAlIQAISkIAEJCABCUhAAhJQIHoHJCABCUhAAhKQgAQkIAEJSGAmAS2I3gYJSEACEpCABCQgAQlIQAIS0ILoHZCABCQgAQlIQAISkIAEJCABLYjeAQlIQAISkIAEJCABCUhAAhLIIaCLqVdCAhKQgAQkIAEJSEACEpCABCIBBaIXQQISkIAEJCABCUhAAhKQgAQUiN4BCUhAAhKQgAQkIAEJSEACEphJQAuit0ECEpCABCQgAQlIQAISkIAEtCB6ByQgAQlIQAISmNUJTA2Du3cK/ScU4dB7TPh1WKfC/eLnOxcHOXVw6N5pVNh3yvjQr2OROeuNVXx9vcf8GkpNHRc2tk9o1yOEMb8OCyVW2vgXos7eG3/4how4dXD30GnUvmHK+H6hY0MGqtRni7IfG/pUXYqJg6aE8f2aZvcty7fE/lry70Sl3peadWlBrPADcnkSkIAEJCABCTQjgYIv1NVCbdS+uS/TNQIuDCouMvIIxGRjFZo3JZOWfBmuYIE4tk+70CMkEPgpcVdM92LnXsHn0jj8av5udsl3vo3096pxFlpxoygQK+5IXJAEJCABCUhAAi1GILVAZKXVlooq81xha14igZhvrEZ6kVUg5rlSjcS2xS5r6YmjAJ5Y4MuLlrwTpZfeKD0K7n8W2HtDACoQG0LPZyUgAQlIQAISaFsEyhKIIURXukkDCruaJhaIuWOVK2KqRevweDrdwqBBXUL//lkupnE9/UO2Z223Qq6GmbXHMapHDN1yREex8XKZFuwb8lppI9v+XcKYKZ3DwE6Twr6DJlatg5X3rnaZTbOXOre1RtgPGhQmVsFhxG5VLr7js312q8bu07N/GB5BdQu9B40IwzLumJl9jRkQJg2sYl09QBgzfljoVCVAevYYXjPmoDBiWD4X1lz34Zr9MFXt2PuGUT1mnlM8o11G1zm7wm7GxSxoeB3niMeSe50UBkzZI7zRc2CVS3bVZmv2Wu2yDMuBoXMtC/ayR7ifn0W36qotjR0cLh1YzbJb7yomJ4bQs+o8B9SeYcYFu/qQ6rmnFltfgd9CtXenjmt107vWtvZfigrE1n6Crl8CEpCABCQggcYjUKZAjDF+AzsXdjNNIRDrjlWOQMx9Ac6IxYwAqW/xzP8iXYO1VoBlns8VHiXGq7P34n071YsJzNp/RhjVidNMuZfsmxKtSFWCt2q8KVWisGPNPrtkLME1n/ceM6XKMozCqRKLVaK6Nmav5vNuVUJpwIgqoVobW9qtSgANqBKFmTHrCp8a+VMd05rl/lhHEGWYZwnx6jNCXc0U50XPrcaynT/GMOcMa86oy5gqAZy111qreGavVcJuwIn9avda6yZds15EYzULNGNW3Gv894lVqKvHnzq4SkBXfdkwIbOXPBa9Ou6/pdZX6DdAnr/PxZk13q+S1jySArE1n55rl4AEJCABCUigcQk0RCAWSwKTViDWjlU4SU1Bi1+el+06L8VTp4apHTvWTcpSLB4tVzhVm3dmJt0JJcYLZfZFZNSZp9rqWSvg4jpS7iXrttQXCtlivIg1syapTZXCqxJsIQyqsZBVLaae6Kuz/uw8MHldHLPEbqd8ey30s3wCNMOurpU49y9LtfUx/5cQ2QKtOKuqjdUIwJkssi2Au4TR9eJ3636JUT+ZTfWaJg1Itr7CvwRyv0BI4A7euL9RWuVoCsRWeWwuWgISkIAEJCCBJiHQEIFYIRbEvJkj475q3Pky4DIWtFqQVa6otWKnjpLKysBa+3D9uMtC42ULxIxIKjh3XbFS36pWQAwl3UvWtuonqMm1VtafK3s9U+oluMkjPgrEutVaA/Nc4plupDnz57ubRYR9UUtZtqCL51NASNZYa+uzqrvXfMl+an924ht57k+2AKxxd81OFpTni4G8iYZLZhAucp+a5BdI2xhUgdg2ztFdSEACEpCABCTQGATKFIj1rS0zX2frv/AXdxut+7Kd3sW0tEDMuJxmCcKSFsRcsZQtEEqMV0cgJpi71l03x/KUd40Jxst7L+oKlOouWVat1S7NWxZk5tlUlz2pk4m2kDtjnjIaJcs/JBWDRc6tWIKaOuKxZMKWPHewpEU865l8LEs9X889tfwSLTPPLJROJtUYv0PawBgKxDZwiG5BAhKQgAQkIIFGIlCWQEzgtlbqhbh2+bljpReIeWse5r5w51o787gI1i6poItpjUUyX/xlPQtVjcCckidWs97cmYQnJGjJsnrmO5tScxcs71fI2jex2orKOnNdhutwSGYtLFhGoxhvwDdYIKZIUFPOWuqIyjwsstefh2Vd62b95+uI21LrK/FXPyPGx+w7KvRoyzUvG+lXIMMoEBsRpkNJQAISkIAEJNDKCaQWiJVYB7HGqlbrfpeTpCb3hTuTEIVspwVdTHFBLJCkptR42RbEKBZqRFhtjCFj1507CgQSpma7EBYSiAnGq3craxPMVGXTHF+VYXRqFaNO2UXjM9bEMWFEP5LNjA2De/YI/TP1LhNZC4uJ+zz3ppCozojcpKIxbrbYlxa565p5X2KynqpYyrF9elaVx6jKHFuVkXXnRAlk8rkvZ6x+OfGGVdlMe5KZNXO2NfvqMmZ8jIccO7hqbpLx5N7fTDKh3PWV+pWT5X5cOONrqUFmrc8ViLPWebtbCUhAAhKQgASKESghEGN1hZxWMFlMdr88FsRkY5VhQcwSCIXKXNQKsNgXcVZVqqFKIOWt5ZhZe3aZi5zYr6LjxYQrM11UE81d81Jf54W+wNkkGi/nzGpdPAdMqilHkVPCgv6IxipRmClxUZuZNOqv+hbGUnF69W9ObgKiEi6/aQRiUatbPotf9l6ry33ELKxgKJZZlvoVeay49Z6p6tM9q+xHl4lV2WD3rSrZUVMyZGyf7lVfCMQ6ITHTaeeBue67hddX8hda5guQ3NIsJR+cdTsoEGfds3fnEpCABCQgAQlIoDSBYvGJpZ+2hwRyCCRwyZZZixJQILYofieXgAQkIAEJSEACFU5AgVjhB9TKlud9qvgDUyBW/BG5QAlIQAISkIAEJNCCBHyhb0H4bW/qkhlc296WW92OFIit7shcsAQkIAEJSEACEpCABCQggaYhoEBsGq6OKgEJSEACEpCABCQgAQlIoNURUCC2uiNzwRKQgAQkIAEJSEACEpCABJqGgAKxabg6qgQkIAEJSEACEpCABCQggVZHQIHY6o7MBUtAAhKQgAQkIAEJSEACEmgaAgrEpuHqqBKQgAQkIAEJSEACEpCABFodAQViqzsyFywBCUhAAhKQgAQkIAEJSKBpCCgQm4aro0pAAhKQgAQkIAEJSEACEmh1BBSIre7IXLAEJCABCUhAAhKQgAQkIIGmIaBAbBqujioBCUhAAhKQgAQkIAEJSKDVEVAgtrojc8ESkIAEJCABCUhAAhKQgASahsD/AxnBDP84WhjKAAAAAElFTkSuQmCC)"
      ],
      "metadata": {
        "id": "A_jXJhxy7u0a"
      }
    },
    {
      "cell_type": "code",
      "metadata": {
        "colab": {
          "base_uri": "https://localhost:8080/"
        },
        "id": "BZyVbgjfNZ6H",
        "outputId": "5b3d17b6-9e25-4651-9c6e-a46f91149912"
      },
      "source": [
        "from sklearn.feature_extraction.text import TfidfTransformer\n",
        "from sklearn.feature_extraction.text import CountVectorizer\n",
        "from sklearn.pipeline import Pipeline\n",
        "\n",
        "corpus = ['ainda que mal pergunte',\n",
        " 'ainda que mal respondas',\n",
        " 'ainda que mal te entenda',\n",
        " 'ainda que mal repitas']\n",
        "\n",
        "vectorizer = Pipeline([('count', CountVectorizer()),\n",
        "                 ('tfid', TfidfTransformer())])\n",
        "\n",
        "vetores = vectorizer.fit_transform(corpus)\n",
        "vocab = vectorizer['count'].get_feature_names_out()\n",
        "\n",
        "print('Vocabulario')\n",
        "print(vocab)\n",
        "print()\n",
        "print('Matriz')\n",
        "print(np.round(vetores.toarray(), 2))"
      ],
      "execution_count": null,
      "outputs": [
        {
          "output_type": "stream",
          "name": "stdout",
          "text": [
            "Vocabulario\n",
            "['ainda' 'entenda' 'mal' 'pergunte' 'que' 'repitas' 'respondas' 'te']\n",
            "\n",
            "Matriz\n",
            "[[0.39 0.   0.39 0.74 0.39 0.   0.   0.  ]\n",
            " [0.39 0.   0.39 0.   0.39 0.   0.74 0.  ]\n",
            " [0.31 0.6  0.31 0.   0.31 0.   0.   0.6 ]\n",
            " [0.39 0.   0.39 0.   0.39 0.74 0.   0.  ]]\n"
          ]
        }
      ]
    },
    {
      "cell_type": "markdown",
      "metadata": {
        "id": "2a2VR6tzPwci"
      },
      "source": [
        "Acessando o primeiro (*ainda que mal pergunte*) e terceiro (*ainda que mal te entenda*) versos e calculando a similaridade entre eles."
      ]
    },
    {
      "cell_type": "code",
      "metadata": {
        "colab": {
          "base_uri": "https://localhost:8080/"
        },
        "id": "dY8V4XxiOYH9",
        "outputId": "2b4a0b66-dcfe-4e19-f8d9-960b81e8b877"
      },
      "source": [
        "verso1 = vetores[0, :]\n",
        "verso3 = vetores[2, :]\n",
        "\n",
        "cosine_similarity(verso1, verso3)[0][0]"
      ],
      "execution_count": null,
      "outputs": [
        {
          "output_type": "execute_result",
          "data": {
            "text/plain": [
              "0.3611073242896012"
            ]
          },
          "metadata": {},
          "execution_count": 53
        }
      ]
    },
    {
      "cell_type": "markdown",
      "metadata": {
        "id": "16SM3aGLQlyV"
      },
      "source": [
        "## Word Embeddings"
      ]
    },
    {
      "cell_type": "markdown",
      "source": [
        "![image.png](data:image/png;base64,iVBORw0KGgoAAAANSUhEUgAAAZAAAADYCAYAAADFw7V5AAAgAElEQVR4Xuy9B3iU1fa+fadX0ishAUIIAQIkoYZexIZYQKoiIGABAUV671Wq0kRQQCyIICJFkd5JAoH0QEiBhPTeMzP51kxAQfH8j5DfdxiYfS4vj8m8O/M+uzx7rb3WevQqpaFrOgR0COgQ0CGgQ+BfIqCnI5B/iZju4zoEdAjoENAhoEFARyC6iaBDQIeADgEdAg+FgI5AHgo23UM6BHQI6BDQIaAjEN0c0CGgQ0CHgA6Bh0LgDwIpKSmhoKAAfT29h+pI91AVAuqYBAMDA2xsbdHX19fBokNAh4AOgScWgT8IJC8vj6zMTN2m94hDrSYQI0NDXN3cNESiazoEdAjoEHhSEfiDQPLz88nOytIRyCOOtJpADIVAXFxddQTyiFjqHtchoEPg8UZARyDVPD46AqlmQHXd6RDQIfDYIqAjEBkaPT19sRoMUCmVKFWqRxosHYE8Eny6h3UI6BDQIgSeegJRhwwolRUUFpRgZGaGmamx+ib8oYdQRyAPDZ3uQR0COgS0DIGnnkAM5L4iNymEDZsP0rDTS7zUvTn6ZWU8rB3yNBBIef4tsm9dpKKsHBObZth6NMTo/xUvoColPyWM4mIVVrUaY25uqWVL5e9ft7Qsg+CMSG6Xl2Jr4kZrF19q/AMOyoo8rmRGkVCWj7GhDf52vriZm0unFSTm3CClpFBtCmv+iN6d/5mb2OJp7Y6FgbZH8ykpvB5Kfvw1kHe3rN9C5oDDP46/sjCT3IggSnPzMHLwxrqRHyZmdzBQllIQF05hcjwYS1+ezanhaqf1c+neF0i+lUX4zQJK0aeeux2NalnK/3twKy0uJvJGNrfyKrCwMMPXywFnS8O/fTg/O5ewpCLsHKzwcquBUTUF2z61BKJ2W+nr62FkZERK+H5GT95Au9dHMnJoD/RLi6mURfxnGG4lKlWlJkT3btOTEN27Ic93f67+t0pcYE/yJXpR8jGifl9A+q1ozeaHvgs1W06gUec3ZGP851mZd+N7QvdMobDUiYZ9NuHp3USrF31BQRQLLq3n57Qb6noOqCrN6FanF1Ob9cPN5H4WKSmKYuGVLRy8fYNywaxQqcLPsQszm7+Hn5WSJeeXszslUuabEeon1XOvWFGMt1Mgs1uMoaG5qfZipSwm7dB6ru3cTmlegfrlMHZuSb135+DWvMHf3qs85SpxWxdxOyhE1luFfLwGth3eptG7YzHVSyXh28UkHTuJoiQfZbkCs3pd8Bo+DVff+tqL0R/fvJKg89Gs2BtDXJ5Ss5fY2Fgz5FU/+rZ2wvgvyyszLZNPv7nMqcRCShVKSsuhRXNPxvXyxcdRPCl3W0UxKz8/y9aQbDp3asjUAb44/bWzh0TvqSQQfQNDWfNKyisqMDQ2JSfuCB9N20jgq+/yzlsvYFBeJuQA5eXlciciy1nCcY2FaCpV6kFV53kIw1cq5HmFwK4mIjkfyCaiPjuq3V9PKoGoShKJ+OkN4qJTqdd1CU5OesSfnEhyYiUBb+2jrk+jB0/D8hQufd2DhJhQwdKVxgN/wtu31UNO2f/9Y5XKXDaEzGNmbCRvNHqHPo727Indwpep6XzYfBbTfFrfd2LMyDzBDDmkuNp34jk7e/Zd387GpAhG+E9hnu+zXEk+RUS+hNDryTwTErldGM3SsO9o4P4am9t+TF21W1VLW+HVnYTOG0uF9TN4v/0uquTfiP1yNXoebxK4cg1mZveQrSKP+E2jiNl1AudeM3FvU5fbP80j8eg16k/+Dq/ObsSsnkqJSVNcWvuRd2YLift2Y/3yHJqPn4nJ3w/eWoVa7q3bjFp5nCgcmNynIXalOSz7Powca1c2fBhIgMv9B4n4uEQ+2XUDn2buBNYy5Yd9oeyIKGH0oLZMeM7tzhxUcfpoKB9+HcFNMXK7d2zIsmHNcTWrHhPkqSMQNXmUF2Zw8dQxzoZEo2/piIejgj0/naLL6+/xzhCxQAoyuXzhLGeDLpGRW4y5rQst2nSkTfOGWJrok5t+k+O//074tZsYmFlhZyMmpp4Zfq074d+4psYB8SSG8Rbe+onz24dhUn8qga9/jHq95kSt58J3o+WU+BUtn3nzAaZ2JWkXJhByZLe4LVpQmBKBZ4/NeDdpo1WL+94vm5N/maHHJpNj8QI7O3+IswCRm3mEF44twrVmXza2eQfHe/bFiopCClSG2JlUbQAJSd/x4pnPaO01kk9bDMTyL2v5RMxnDA05wJDmM5nWoI3GKtHOVkHS1jFEfHsMnxk/ULedWJ2VeVxbPlQOHjE0/uQ4bt6Ofx6UU4O5NH0gpZYv0HLhKnFz6lESs5/gqYMxaD4W//FT0cvPxtjBUTPPSuOPcXn665S6D6TVrDVYVNOm+L/BupKTxy4zcvM1hg7tyLhururjKLt+OMW839MZO6ILQ1vYaX52t5WLC7lUoY+VRRVzXrpwlf6rInn1tZYs6lMPA/lwTkoKH2+4yG2DGlipJFHc3o2VI1rgUk1YPVUEoqdvgEFlMcf3bGH91gPoO9TFxQoSbySQX2xAv/fG886gbgTt+pLVW3ahsK6Jt4c9STHh5FS6MHTMBF5p5ciPG5ez7fdwfJo0oTL/Npcj4rDzCGT0qOG0b+6huYN/EgkkJ2oN5/YsxLXjJvzb99RM2rLMU5zf+ioKlwl06DdZ3Fj3L7+y9NMEfd0flfNgvJp5E3VwGbWe20SDpoH/m3VaDX/1Rvqv9Dq5kJaeE1kf0ENDpKiSeOPQxyQYBPBlhwl4m//1OKykoLyY3OIkvg7fxKbkZD5qMY1R9fzuI93SohhGHp/CBVV9tneeRUAN9T2JljZlDrEr3yT+igL/udtwquuseZHbu6cT9uV31B69lwbPNv7j5Ypj9xE85wNMAycT8P77SGAkqoJYQqf1JkfVgdbz12Jp8+cWWhyxl0vThkDzD2gxZS6m/8GF+vgjqOS7H08x43A+y8d24eWGNapIISiM9zfH8mLP1szsUes+AtF8QNxcRaUKSQLPYeOeyxyIUzBxcCD9m9ujpypn+7fnWXE2n+lD/Qg/f4WwCic+e09HIA81HwyMjclLvMrKefMIK6zJjEVT8TQv5KfNG/nucBi9R05hQDc3lk6ZwtViFz6aOIm2DeyIPX+AJYvXYdumHyP7NmfLvDkUeL/MvMnvUBpxhNlzlmHf9X2mjXgBcyMVaqJ6EgikUian5tpH1qz6zig7YiXBBzbi8ewXNPRrrxmD0syTnN/WWwhiHO37TbmfQMQlcf3X94kJjcZ/yEFqVPzGuW8XUqfnVq12YV1P389rJ1bzWpPpzPXpWDUXhUD6HRrPLQO/OwRidN8cDb6xhQmRxyisKCCuII16dj34pttE6pvd656SU2jsFwwN2sELjSaw0r8H9/fyUNP+f/eQIouYFYNJibfGf856bJzktCa3Gil7ZhK25TvqjNlNg+5/3oUVR+8hZN40rF6che8b/TSWl1JNIFP7kFfZlpbz1lHD9g6ByGk6bu07RO8+jeeYzTR87dn/3Xs+5F9WyV2Y5lZVXslAT8mOXadYerqMtRM6076WmabXoKBwRm2OocfLrZj5ovtfCETBocMRfP77TbIl8Cc+vZjAwIYseiuAutb63IiKY+z6S9Rp68+SV1xYvEHuL/VcWTeyBfdekTzk19c89hRZIHoYy+XmjdDjzJ+7ErtO77B07Kuai9/b4p8eO20THfuO4eVm+syevoyaHYYwa+IAichSoC+nxiVzJxOU58bYt1/mwPoVZNXqzuQxA8m/8isLl35Og74TmTK4GwbC+k8EgShySDy/ltSk66ivfAzMmlDDsoiEy99Tq9sG8bt2+JNAtvZG6SIE0ncKJvfseDkxXxK8awqWTebR6qW3yYteT/Dez8QCWU+DZp3kLkk7o4vi1ARyXAik2XTmNPiTQHqJBZIiFsjW9hNocMetcHdxJmSc4duUcMoliigs9SIX8nLp23AUs3yfx8qwCoey0kQmnp7GrjxDtnVdQzdb9Yarxe0OgSTH1yBg7kZsHNXvoyJl96wqAhn7IAKZirUQSOM3+msIRG2BXBYCya1sR6t5a+8QiIq0fXO4smoFFu3H4vfxDCysTLQKqJLsTD4/EEdivtx8y91XvZp24s1I5stL5az++E8CuSgE8r4QyEtigcz+mwWiIiIimSMRWRJ0UU5oWAphGUqG9mnJ8PYOfLrxKL/cNmXlqLY0ty9jxvpTXDN0YrncgdS1Nvq7NfMQCD51BBJ/5TgL5q7C7YXRzBr2HAZyW54R8ytjp26gQ5/RvOJnyOyZK6ndeRjTP3yZimIFxorbfDJ/KucznZnywRuc3LqKvaEZNPB2pyQ3kzJjV4aNGUunJrXlbr0c9T2L1lsgyizxU39CSkKsBAVIRJp5E2zs9LgRvAHH1uvw7/iqZgKWpB/jwtbX0Kszg7a9P8boD04oE+vjPa4e3op9g1cwt3GhPPsKubevYuTYgTqtPqReS8H/ISbt//qRuPRD9DqxkADP8Wxq/nKVC0txg75CIBmmbdnSfrxcfP/zJWV23mWGHZ1KtL4/33aZJpFYFppXupz0A0PPfoan+1C+bTcE7doSHzAqcgi5tnogcbIpBsz9Fqd6TlUEsnMy4V/vxnPiQbza/xk9VRyzV+PCMmk9meajR6HmVWVuJKFTepNv/qwQyCos5F4k+/Q6ri6bQaX7KzT9eDH2ddX9alcrzkxn9U/XiJfwWzlxUt/DDrPSNNacKWLJ6M681qjq8HDx3BXGbLvGq73bMukZ9f3qP7fEmETGrT9DUS0vZvVwYvonZ8g1s6RDQ3v0FRVcvpZBVqURneTS/aOB/nhaPvrqe7oIxNSQm1fPsGDWEkprP89nyz/CwbiII9+tZcmmw/QYNpleLU3E8piJsu4zzJk3FW9HUwnzPcmMaTMocOnIsN7+fLVmE4YuXvjWr0WlnrGcxgPpGNgUAzldllcon5AoLAlNlQTLSok6u+vCKkz+mQvbhmFU5yPavTlL415JC57KxR8/wf2ln/Br9yKKwhRKJNfD3M6WzNg93Io8Lc+rP6lHWXaY5I+cx8SlG56tP6ROwDNaSSCZ+SG8dWQy6abd2NNtMu7ihbp+8zteObOBFp4jWdeqD2XF6eQr9XGzdKC4LIdClYHkfVhXrX5FEkP3f8AplQ/fdZtBCyvxd6sk4ubcDFYkpLK00xIG1aqnXTvig75tZRlJX40mbPtRGkz5Fq/uLcXneZOIBf24FaZH8/W/Sl6CXJSnZsjFuKucwK9yefJACo260HrpRs19R17Q54TMnECN5xfTfOy75F/YTvjKaSjsnqHx+JU4etpqJ07iG65QqCT8W7M05CALJ49f5t1NsQwa1J4ZPTzkxxWs23SUdcGlzPuwC6/51CAro5ASPTmg2ptRUlhEcaUhztZVR42S9DRGLj9Kok0dPhlQj5On4kkvUYp7THoSF1dITBoZcizp7ufB6P7N8LDQEci/mjz6hsYocpPYsnIJP55PonuvfngYpnNo/yFupCkZOHY6w1/3Z+vimXx/7Drtn3+F1o1dCD15iKPBqfQfPYUevkYsmT6f2OJKatVyldBBQ2pYOdOyU1c6BQZgKZuJ/hNyB/JXcJUlSUT+2I/rMfF4BH6Ena2CxLOfkq8IoM2Qr3FyNCJ632A5cSbjP2I3NWu5oawo0/h51WHROdEbCdqzEneJwmro31XzM61sCnUY71xmXrvCs/X68rx9DXZf28XFIiuWdVjAAAclY07PIaisJl90mMyt2zuZHxVEV/cO+NSw4PKtX/k6KZzWdYewruUgXCX+NC71AG8cn4eJ0wC2t3sfj3t9gVoJUtWXLghVh/GOotSiFfV696Ei8TiJv+zHqttcWk54n9yjnxD2xWYc+q/H96WWxG98l+gfD2H37EhqNnHh9i/ryUyyoMnc73CtlUvo9F4khyTh9Py7ODdviqpU8kGUNrg+3xsrJ+1OKMyUMN6xy48RJu8z9IX6mElC5eZDN6jZyId17/hjr8pl/JLT3DSzZ/WHrYk7fpG1QXkENq+Dp40h54Kusyc0m54vBjD79QZY6VeKy7RSk2agLMxh2oZTxBq68Om7LahrVT0xz0+RBaKezurEQX2Soy/y1ZYdhMbeRL+GE82aNaAw8TZNX3idfq92IT8umO3bv+b0pVgZABWmNezp1L0Pb/R/nsJrJ5g/azVlHs3o2tYXw4p8Th08SHS2MR/OmM+LLT3kVFGp/S6sf9i0ilNPEnNkIRk3r6Ks1MfELhDPTjOo49NU/A1ZXDs8loSwbJoO+hJnl6qom7stP3EX4Ye349ppAXXr+2rxtgh5xddZdWkDe9JjKJGyBbamtRne6G2GeAZgWJbApIsrJeLFheWtx2NdfpUlods4mpNIheQSGRlY0lassI+a9MHHssoqOXFjO7OunuQt/7EMre1bLf7pxwJglSQS/raZ+D1fUZSehZQuwKb5AOq//QFW9hZkH/mUyO+/weHVJfi82JEKyey/sW0xqUHn5NQsWDk0wr33eOo835nyuONEr51OQa7cG0gellLytJBkQ1W5Bw3nbMK1cZ3H4pUf/kuouBR8jbX7rhGeWSpmiSGNG9Ri1KuNae5mRlFuNvMlJDfFxIEF7wRQmZLE8j0xBN8qokxMGXNTU9oG1GbEC9542v4ld6i8iJXfXCTJQFxb/RpjX02pRU8ZgaiHVgoniuWWn5NFZlYe+qYWODraUpYvMdIm5lhammkKK5YW5JCemU2ZmJmm5jVkM3TBUiKsTu5ezdy1x+g7egZDXm+PUXk2m5cs4svfonl36jz6d/PRuH20/g7kP6wCZWkWJflpkmQpiW+WrphZ3r3srUQhrpvyMhUmYpX99ZJcpSigrKgAI3MHDI2qaQY//Gp95Ccr5PBwqzhLFi9YSNkRd3ObO32qyJYksGKVHk5mdpoM4tLyAtLElVWqUIhejBnO5s73lSgpklIn2ZJZ7WBqi5mWBhf8M6BKCfdOoVydiW5iiZmTmyTwVrlPVOWFlEnJEgNLwcm8KvJIJeVeStNTUVRIVQdrJ8zsq/IfKhWlVEgeiEpO1X82dYUII6lq4oDBnT4feWD/px1Ukiu5Z5nqy3XZhxzsLLAxrcJKXekiP69YSpwY4iBuK3WeR3FxmXy2jBLJRDc1McbF1ly8Ig8w7StV5OSXohT3l10N42qz/p9CApGREJ+gOltcU4rkTvkRPVm0mmq88o/aUjEwlLIS9/hY1D/Xl2zz2Iv7WLxsM3l6tng3qIOebBTRMQly+unEB+KjbeCsjtt/MhMJ/6frSvfHdQjoEHjsEHg6CeQhh0GdC4GyhMiQC1wIiZDEMHUEhR52LnVo16kznq42qOSEqS7Q+CRbIA8Jn+4xHQI6BJ4wBHQE8m8HVEjEVMq+G4g1oq6VpadvKHWyDMVfW0qZ1MZ6Gqrx/lvIdJ/XIaBD4MlEQEcgDzmuemJ5qP/RuMDuqdKrI5CHBFT3mA4BHQJah4COQKp5yHQEUs2A6rrTIaBD4LFFQEcg1Tw0OgKpZkB13ekQ0CHw2CKgI5BqHhodgVQzoLrudAjoEHhsEdARSDUPjY5AqhlQXXc6BHQIPLYI6AikmodGRyDVDKiuOx0COgQeWwR0BPKIQ3NXG10lJSrUwVg6AnlEQHWP6xDQIaA1COgI5BGHSqVSoJDSCoaSua5OXNdqApF3yU04SqrUHCovLcHUvi0uDbtjZXu3RMcDwJJaR5nXDpOdno6jbx9s73xWWZJBWtQhioqKBBQ1uUqGv6EV9p7dsXd1e0TUH4/HVVLK5EzKaU5mXpNqu0b42gXwrHtzEet5sAxUeXkWx26e5kxOvJSUMKeFYwu61GyGjZSsqJAyL+HpoZzJiOK2FKCsZVmf7m5t8aqh5Zogd4aqJPEyaWd/pTgtA0N7H+xbP4e9t8cDB1IpKp9ZV6QUeeQVqbdmiHndQJzbdpaadFL+RuZoaep1Mi4epeBmgpQisseqaXecW/rfVzni8Zgh//5blJeUcuHqLc5dy6VMSpY0lBL4Xf1csDP7u3aOunJGYlIm5yMziMspo4a1Oe183Qioa6VRuVT3FRaTyvlr2WSWVuIuic6d/d3wtL9fW/3ff8s/n9ARyD3oqa0JA/lH3dREcNeq0FgZ8k9VhRl1mXNRElOXQ0FJhKgVHg0t4eU+L0smuiWlpWVSA0obM9ErRXHwCy7vny+1nWwwNVVQlJ2Kjc9Imr44CWvRff9rK80JI+HcGpKu/EiJ0hrfAb9Tr15VGfKStDMEf/UaOaWWmFqLvrMIbakM3ajXeSZeTQMeZc4+Hs+KNPJ34euYH/k7psYuWFRmk1AGrzYYxswmPbH/UxhF832Vyjw2hyxl1Y1LWJu7oFQIwSpMeb/JSMY37EqI6KR/cHYLSimUZ6DMJ1EIvGPt15nrP5hGllosa6ueC9eOErluhpT3z8O8pjWlKTdEDqEjjSd9ipP3X7Q8KgtI2DKV6z//gr5ISqvyk6T+lT6u/ebRePhbGBRGE75wJGnXM6WmlgNlNyNRGNTCe9KX1G37p7rh4zFJ/uW3UJTx/c8hrDx4S/RzzDEuL+FWkT6vvujHhJc8sVYXVbunJSfeYtK6IGLljGZnUsmN1BLc69ViyqDmPFPfguMnrjLvuxiMbC0wLBd9ntQy2nVuxMw+vtS2fvRS7uqvoiOQOwOib2Agh5tyCguk4J+iEjNzCyzNTTWkoRRdjIKCQo3Wh5GJqSjzWUpFVT3Ki7I5sG0pmw8XMXn2RFr4qBeDPsZyAtW2UibK4jgub+1CaoEXTV5Zg5OzBfGHR3At9CrevX6gQfNO92l3oyrh+i9DiI+KFLVCY4qLMmnYV00gVQJBxbd/58KXfTGuP5mG7V4T66xcikwaYGbjjqlFlYCSNrf0zOP0PzaHQquufNrqHTz00ph6ZgZHSmxZL9WGezjeb2XFpf5Ej6MrqV/rdZb6D8CwNJJx5xYRU+nLj12nUZ5/lp+T03jRqxvOqjRmBX/CzkwV69rPY2gdH62FqlKKjd5Y9y7X9l2i7kebRAagEZm/LiFq8xbsXl6Kn9SPu6+wuOioJ+z6knIccWnXWVP+PWrNeJECDqT1pzuwtk7jxu49mNVvh72PFzknPyd8zXzM2i+i9cyxsi61FiqSYxMYsew0evXrM/8NX+zK81iw6RwXCs1Z83EnOtW+/yCRlJTM98fTaOrvjq+9Abv2h7Do90ze7tOGeb3rcCk0jgtJSp5pXQsbZSFLvjrHrjhD1n3cgZ6N72jTPCJcOgIRANW1q0rybvPrnu85fPoKOUUVuNT1oVf/t2jqouS3/Xs5cSGSvIJiDC3s6PLS6/R+xp/gwzvY9NUvpBVWUtuzDu61vXltYH/86tUUbQxHUSbUntlclLSTE1uGYN9qLc1fHKpZ1MW39nBuxzBMfGbSqseH9+udi0WRGX0ErOtRlrqbq7+uo74QiJeX958EsnUQlgFraP5sn/vJ5xEn7f/+cRX7oz5lZOivjGn5CR97NdJ8pbPXPmPQpYMM85/FFO9W95Rkr+S7oIl8fCOJT2SjG+Dmqfn87isL+TDsIrM7LWJIrQZCsn+6Kb6/Mp8PQi8wu+MCRtWVUvla2irSQrg8800KzV+k3eLlmIj2UWVeOCGT+1No3BL/eZuxtrrXPaO28EXD4m5FYlUWETNfISnUghYrvsXRWy0g9edJvDDiZ+lrKPpNp9BmznipdKylQIlS44GDF/nw+2Qmj+zM0Fb2mrc8+usFPt59k7cHSbHW9o73lflXSdXvqooYVe8cdTWKgUtC6dKjOUsGeKMuyvsnUhV89sVxVpwuYeX4jrzi+x/c0v8CwqeeQNT65Ybibfxtx6es/Oow3oHP0qKBDVeDg7D370UPOfz9sPcQ1rWbUc/RhDO/7SEs05EZc6bipIhgy+dbCRWWb9+5PZ513GnZoT1ero44OzlpFYHkxazh1Pdz8ej+Fb6BL1X5UHMvcH5rfypsB9Gu31wpF/3gmZUWuohLB9QEcuQeAjnChU3PUlqjNY4eLaWKdy3s6nXBqba/aLJoD7E++I3L2Xp1EdNjwljVcQ29nWtqPhaT9hN9jn1BN5+PWObX7Z6TtYI1x0fxWZYB6zvOoZscLqoI5wveDf6eQa0WMLFeqz//lOiqTDs1ns1pCtZ1nE8v19r/Ykk/Xh8tSzwiioLDodloWo4dV2UhVKZyVQgkPcMR/zlfY+/+z+K95bfOcXl6fwr0O9Jy8RdYO5mgyEslP/4aFbm3uX1kM+lRt6g3dgf1Ovg9Xi//r76Nkm9+OMGcY0WsGteVF7yqrPRQKdr6/ufRdH+pFXN6uv8HnZhK9uw5zcSfbjN8QCATnndHXwJ7EpJzSc0tI/ZGCl8ejcetoRcLBjTVubD+1dj8hw+ry7aX5lxn3kdTiDf1ZerUD/GvW4NbCfGitGeCs9TXLy0rp4aNPRbGSk799DmLN5zgrSnzGPSsD/vWz2bdoXxmLRJp0gb2lJWWP/7VeOVCu7woV/QWxGkvRxR9QwuKE7Zw/qf11Ov5FQ2atdUgVp51irPb30Tl8Dbt+szSnB4f1FIvLeDyoQ33EUhZThSxv86WisVyQpIKxrm3zqA0dMXrmeXUb/GsRstAW5pKVUGuKN+VyYIUe5Uahip2Rq9l0Y1ENnVbTmfrKiW8q7d/4PWTW0XPehwLmnS9j0A+OzGaLfnWbOgo1pxcdqrbyai1vH9pD8PaLmFc3eZ/wBFyYxsDzn1OPfeBfNF6BG5apE6oLM6jvECc8uqTsSiAVqRdJHzJJEzaf0zT4YPv6MffInTqALJyauI3Zzv2Nf9BG0bmTeKXHxKx/TtqDRPFwkEDNYEquWe2ErZqnqxLkZDOScHQtR1NZ30jkgru2jKlJK5ESbboeFSoRExGLM8axpXsPnCRFWfLWTexI4E1q7RRLlwM4/0vY3n15dbMeKHWPxJIltyHjFhxmlsWTsxUrPwAACAASURBVHz6vrj73M1kjeezcmuwWLrZFIikbb5Cn34v+TPtVR/squke/am3QNTRUwUZYUwbOxub9n2Y8P5grPVKUMmgqk/hZbLRXj5/jAOHTpJeKII2JXJZmljMsGnzeUsutw5umM2n+/OYs2QGLRvaUVJUJhvyY36JXp5M9G+zuHUtWH1lg5FlO1xrW3I9aAe1u2+mUYvnNBO1PEcskG0DxAJ5k3Z958jF+oN3/QcRiPghpEJxofQiPgU9JblxP3L151EonN4isO8arNQRNVrS8gquMDNkC8EiZiS7Ir62/jgbpPB9aiIrOqymh0PVRXBU2l5eP7aJZxuKBdLsrxbIB6zLNWNjx9l0sqvyP5+N/Zz3QnYxqPVCJni20PwsNu0I75/9hFt6DVjffgpdHe5XdXy8IVOQvm8R0bv2ybwyQM/CFfum7ckP/hx9sUACRo7SuFVQpXN1al/SMpw0FohDrQfNBRXpB5dzdc1SjBsNJWD6HCxtqzZVhbibC25KJFtpIbnBv5C0/wdMvF/Dd/pKrG3/2Zp5nLArSEth2rYwojPUFb31aejpjIdxDttCK1gp+udd6lS96yWxQN7bFM1zYoHMfenBFkhRZgbTvzjHL9eUTBgayLD2LnLMUQc/Kkm6nU9GUTnZGTns/C2G87dVjB7SlhHtnKvFrawjECGQwsyrTBkjE7T1a0weNRQ7I4kYEgJRu7aO79nGqi0/Szhra5GLrEfB7XB+ORTOwI9nM+iFZuwXAll3MJdZS2fR2seBkuJSWTuPOYFIRJA6xDY347Ys9EoMTN0xM4yXCKwFuLRdh/8zAzUTsCTlF80diPoivHXPj/7xgjLtsriwDooLq99xvO5EYf1tsaoyCP3meW5mi3bKm1uxs/t7VNfjtMDv/S6lZSkcSjrHTYmMUp+s3czdSM47ydLYS0xrvZz36lRFnl2I38jgoF8Y3Gwakxu0uee0qGLjqQ9YeLuA1R0X8qpL1Un5l/BPGHvlPNM6LORtD29uZJ5kzIVVRJbW4JO2s8V1VfdxheQfvpeKgvAjpF+O0Kjp6RlbYGpjxs3vZlLqNJDA2XNE+kA2tsIoLk0eQIGhPwFzt2Bl9deDiYKsk5u5snwOBu7P4TvpE3Fz2T/4b6pyiFrQX+5IUvFddAQ3bwetwKy8II9fzt8mo0SsWnl9F0dLspLiWfBbLgs+6Ew/PxvN/DlxLIgJOxMZNLADH3Rw/psFUpCdxeKvg9h1pZARfVsx5jkP/uloFn05mhHrg2jUNZBP+3lplDIftekIRO3CyotjwbiJhKvqMnHSeNr52BJ+KYQspSHXT/3MrpNJfLRoFX1a2rN3+2qWbTjMwPFzGdzDnwNfzGPVzjBGz11IN7864hZSYqKFUVjl2Wc4vb47CrsBtOi3WjZ4Q+J+HUrEabkYf/kHGrbsTEHC7+RlFWFbvyuWVjU0pezVG2rKxbmEHv6c+q/LZ719NJd6RamXKa0QOc6a3hLWDDnR27i8ezQqt8G06bNCIty09rZTs+ZCE7+l/ylxq9QZwcY2g7CVyKlJJz/k21wTuedYSE+5A7uYeII0PTs6u/kRcWMNL1/4if6NP2JRs5dFyTKG0SemcLzMg51d5+FWeZ0PzyziWKEe0wPGMaJuS7W2q5xORa5VDiTVsNYfda94qOcrixMJmz2A5EjwW/wdrr4eZB5eyJWVn2D1zEICxr1HRdJlssLjsGzUEes6DuSc/Zqw1TMpM21Go3Gf4Ny4rsjZVmBgZEJ5Sii5NzOwatRBE+palhxMxJL3yEwzptmS/TjXUV+ya2cLuRDO0FWXafd8CxYPbIhJaS6zPzvOgdsmrBnXic7uRiJkl0yugRnt/ZzQK8pjzTdBfH4+m95ymJ38Sn0s9STFQKw/A3FTX41KocLCihZethhK/sz+g5eYuiuG7j3bsfg1zypr8BHbU08gavPRUEJMj+5cx5KNB3Dw9MFTQlgTxKfo1bUfASbJbP/2F9k0/altU0lEpOQ+JJbw3pylDO/dhgs/f8HMZV9h7lIfXx9/Xunfi2b1nHEUt4Y2RWFVqoq48eswwk/tpYZHR9GG1yMz7hwmbm8R0GsptnaVhO14lhsRmfi9vY/aXvVJvbiApJizFGXFkJcRj6VrGywkOa5u24ko4xYTGXwSC6f6EhmjIu/mGdFtFhngF9ZT379LtWkyP+L8f+jHlWUJTDw1k+1pt2nl2oIa4pY5lX6TrvXeZkWLvthV3qTfT+8QZdiEb7vPw1s/mWFHJ3C0QEWgc2Mqy24SlJ3OgCbjWOjbhZ1X5vJG0G7Rq/airYM3FuL2K5FoJF/XF5kgyZw21bHaH/ptH+HBSnFrHVpO+GdLqbRviq2nE/kR56igIb5ztuLayJnk7WMJW/89tT/4Bp8BvoRP78ONQ6cw9fTHpp635g6tUs8YR8lHsjG4TOQXy6m08qaGow0ltyLFPXoDx5dn0+S9D+Se7u8Jd4/w7f9/fbQ0N4dZa0+w53oFLRo7YyQuuqC4Qp7p1ox5/RtgmJ/BO7OOcdPcia+md6A0Npw+KyRBs9KENg0dcZVkw9IyBVbubozpWotDP53i+7hKGtW2wUhZzuXYdJQ17Jg7rDXPN6yycB61PfUEogZQ7XJSlGRy/OBeTgXFUCpWpXPtxvR47VXq1ijmt593c+5qouQ72ODpWZOC1DxaPN+T9q0aUpqWwM97dnFefu9QqzGv93sFn9oOODg6yclbu6KNlCW3SLqwlrSEUJQSImjm1Inabd7D3kF9qlOQfG4+t5PyqNN5Cg7OTqRdWkVS1Am5VzbVkKWqohCVcV3qtJmAlbjErp/bQqH4qzXZ+ZZeuDYdLi6GZlpPHncXXVa+ROHF7CZI7kZUcjfSzKEjbzd4XnPprZJ8hs9D1nJNry5jmvSmtqkpCVlBbIk9QGRxjmBgTqBrF4Z6CTkYKTia8ANbkiKwNDBCoa5uUKmSf/Ro4tSN9+t3FjyrY7k/6nbxkM9LDkLakW0knziCQjY4A7sG1OwxHNdmVSHfuee/IvHAGRxeGI9boANJ368lK/aGYKQnOCrEEpNKBvrG2D8zFje/2qQe/or0kLMoypXoGVhQo+lL1OnZW/KLHlwB4CG/9f/ksfRbqez4PY4rqaXiBjSkaaNaDOhUF1cLfbmPLWLbj1dJNrRmVG8fCbNPYu3hWxLcoadZY+o1q1QosXF15oMXvFBmSF8nkojLLpe5VImDnRUvd/Sio3f1kIcaIB2B3Jkm6nBetTStoqJcyieAsYkxlRUVkmsuFopsjgrJ5KyUexEjcU9pkgvFpFbIYOkJ+RhLzHqFaKHrqTdRmfD60pe2JRL+dbXI/qUODqmWVp19VcsXqu5O/u0L3nH9VffX0Ib+1EFHd4o9PPLXlf3yiTmM/A2M6gRKOq+U/0lc3CNj/tcOdARyHyICscQJqmGulAGU+VnV5CSkPg2pff5qplf/t+bff/l9VfkTlRwcHvNL9GqfRroOdQjoEHgaEdARSDWPulYXU6xmLHTd6RDQIfBkI6AjkGoeXx2BVDOguu50COgQeGwR0BFINQ+NjkCqGVBddzoEdAg8tgjoCKSah0ZHINUMqK47HQI6BB5bBHQEUs1DoyOQagZU150OAR0Cjy0COgKp5qHREUg1A6rrToeADoHHFgEdgVTz0OgIpJoB1XWnQ0CHwGOLwFNHIOp0GlMzM01hwOLCYskg1hMZWwONZrdaoOVRm45AHhVB3fM6BHQIaAsCTxWB6KlLtFeWEhF8XiqfGtDx2XZYSomOIhGfNzQ2w6QahI6eCAKRzGqlQkopSE1efSlg99/kr2pKTqjx/WuasbrEgqYv+Z2h9PXfdKYtq+e/+J6VUpakVPRE9KTUiamUKfnvWqWUM5EqB4KnQXWVA/jv/vD/3afkgKaUag6aOSXCMv95GkhCrrrygzrT3Ehkpe+tiCCJuupkXXVudVVTJ/9K5V+1UMgT0yopkzItKnk39Z70376aUqlOfpYDsYjt3IuGumJGhVrlUdamiVE1lZe4i75seJqRyM/PJzsr6+8bwBMzKOr9TcqOiNrbxhUL2B+iYPX2VSgjj7F2y14aPDuUd18JoELKl9ybZP5vX1/bCaQ4PYSEC1+SdeuSWGdWWNftRd1WfUVn4cESmKqKHNIjd5EUdgbr+m/j3brjH5O3JCOExOAdZCRJXyozarh3xzNwEDb2VYp8T3qLTTvDtuuHCMlPESvXhs61nucNr064Spmcf27lnLj+I18lXKGhS3uGN3wRu7vyrloKWPGNiyTt2y4Vma9KfSc7rPxeweOV16nh8NeS/pWUxF/k1u975LPhUlZIgZlnJzx6DMK+fi0RqMkm5eB20q5EaMoKqUlEWVqJXcc+1H2ue7XoW/yvIc5MzWLX0VhOXsuTGleiE+Jdk/7PeOHr/J8VoOIj40XYLh4je3uGvtyQ+rbGgk0pJ4Pj2XshhZsF5ZhbmNHGvw592rrjZF49dfqeLgvkDoF8sW45vwWXsvTzZaiun2Hz9gPU7zaAt55vppm06vpWJnJKMhDqV2mEkUQ5TNhd3QyN5ed6MnGF0dX1svRlEpepfy8sr27aTCCK/EjCfxpOUnw6jvWfQa/kKunx4Tj6zyWg5xgpU3//6aUsJ5TrJ5YIeRwQd2AF7u2+oOXLAzUEoii8TsSPA0hMSMPRpyfGihukxJzEpslUmr80CXMz7S7n/v/aaHJzgxhxaiGXSs15tmYTsvIucyKnkKFNP2Smb3fM/+HAnJx1mvdPLWBf5m2e8xzARlHyq22svVhVSFn/qJVjuB2eh0NgZ1RZl8m8EivVc+fjP3bE/cqUFXkkbJ1I/IkIrBu1QpUTQUbQRaw7jMJ/2lzMVDcJXzSUmyFJ2DRtJ7Xr9FAUl2Hb9U3qvdhDo2GjzU1ZWMAnX51me2gRrZu4YlFWwJGwbPzbNGLJW01wq/HgN1RIWfc5a0+y9kQang1qsXpcR9rVMufiuQgmbwvHxNmR9l41iIpKJihNxQdDAhnV3rVaCPepJJDNagIJKWXh+mU4l6cRfCUKuzpNaOThIG4WI5HkzJSy7ZFk5pRgbutIg4YNcbISLQIxq9OlAmZhpRmONgZci4iiQGlGo6ZNqGlvIb9XaDWBZF5ZyoUf5uDY9jOaPTNYLokiiNg1gJRMS5oP3Yur8/3qeJnh6wg/vR8rR1eyrx/GymcRLV+pIpC8uC2c2T4GWz/ZKF4YjZEqmcifBhAXU0HLoT/iVlt75Ef//aakYvfluYyJCuZdvylM8GlLfl4II45P5qZZINs7TqGxeZWs7X1Nmc2KiwvZcDNWUwLfw7YDG9t9LEp12koglaQfmE/oinU4D1xFozf7ocoMInLJCDJSrAlYK/IJTlXa35rDl6KEvKiLKPQdsPGWkvfZ0UQu7E9qmgV+y37F2SVHtEWGkFveEL/pizATAlHJwU3f2BRDU+1QIvxPcyn6cgxvrwyicZcAFvZrgIWiiOWbTrEzTsnij7rQo75o8PytqTj62yUm/XADI6nYa2hmxZIPOhDoZsT6rUdZGVTO8g860dOnBrFhMYzYEEyD9i35rL+3TlDq3y7suy6suwSyeNMqTG+cYfmnm6nZ7R0m9G/Lzehgdmz/Wsqzx4t6qb5U3K2klpyGho0YTnPRSv9502p+PBmBuRBKVloGeSJh69G4C2M/HE6DWtZStVeEbx53RcIHAldG3KFBhIVEEvDGfjzq1NZ8KuXsBIKPfI9Xj59oFBBw35PlhSlifRlhUhHFhW/fxbjuNFq9+qaGQDJCpnPuwGbqv7SLhv7tNM9liXLhxb2b8Oy9kwZNqiRcn8imTGX0ySkiDmXNl52W0tJK7bIqk/Lu01hwI5s1HebzikvNv716UMI3vBe8k+e9Bsoh5jgXS93Y3mmS9hKIMp/rnw3h2lk5Rc/7FhdvV3lnJcnffEy4aOx4TjpE/fZe/zgFylNCCF8wmJwyHwKWfIutZQpX5wwhr6wBzabMx0xK5BtYWP7XdwSP91yTQ8feM0zal8WCMV3o27RK9vjcqUuM3nGDPq+3Y+Izrn+7O0oX3aIP154Hj3p0cSnim+AiFozqQFt3U37ce5YZP91m4OuteK+zMyGnw5m1+wav9mnLhGdqVYvF9lRbIEu+WI1h5GHmLliD20vjmdG/IVtWLuDr367TY8BQnm9Xj9Dj+9j2w280f20kU0a+zpnNC1i+7SDuLbrR77XuJIf8xo5fLtJz9HxG9WqLvlKtIqeN5dwLifm5P9euF9LyjZ04i96HuqVeXkjQzxtEK/0bmrZt/8A1qEg7ztkd72HiOf0PAsmJ/pQz30zCTtxfzZ6R3xkWinLhMiKO76FuLxEOatLm8V7Pj/LtFEm8fXwa0ao6QgDzqKc5HFfwbdhiJkXEsKT9fAbUqnPfXygpiePD41O5pOfHD+3eYPOV+Rwvqc0ObSYQRRYxK97g5jVzAuZsxq5mlVrg7b2zCNu0A49RP+IjSnr3NlVBCmnnDol0dDJ5lw6KUmEmboMW4zukF3rFCUSueI/Es7FYuntrLA+L+m1w7/EG9vW03aJV8s0PJ5h/soRPx3WmW90qy+zSpQhGfh7Nsz1aMafnXzTRJThl47YzrA8pY/lH7SmPvcqCY4UsHt2R9h7m5KRmsnj7eX6OKZHDraWoNhbg2dSbuW80oY5V9Tj8nnoCMYo+woLFn+Hx0se809mS2ZPnUurelQUz36emtQm5KZF8MnUaocqGLJo7lsR9q1l3+CYjp82jV2dvYs/sZ9bspTiJ2M304c9iJBuFthJI7L43uHFDRcu3vsbeVn0CqiQlZA7B+7dQ99nvaNKm7QO31YrUY5z75v37CKRc7lPCfhjMzcTrWLn6Sti0HkXp4ZQWm4grYx/ejZ4cCyS7KImQrASJtpJ7MH0L6hgrWRm+kZv6DdjaaQo1NWu1jC1XFjI9Op5V7efR163KwtO0ygr2RqxkmlwyTwpcxCA3R6afHsPpMi9+6DoRR20NMNIQyBBuJ9jiP3cd1ppLcxXJu2cQvmUndcbuoUF33/vmVEVaGNe3LiYrLoGK7BRK0itw6T2FRsOGY2osLuQzP5ObmCZrTElR9EnSLpzBpNkwWs5YgIWN9rixKkqKCbqWTZ6o16mj7ZzFo3HpUjjrLpbz2YTOBNasujS/EBTGyC2xvPxSK2b2uJ9AIi9FM25bBK27tWB2z9r8duA0808UserjzjR3Epd7cSEbv7vAGrkbsTQ1ILdIQcf2jZjVrwmettXjFtURyD0EMqyDCXOmL8W121A+HvQC6jtjZUkGX8ycwMF0NxYIgSQf/JQvzhUxafZcOjVxIPHScRbOlsnbaTRTh3XXYgIpInZfP2Jjs2jxxl5cXKoskDSxQC7u20Cd7t/SJLDKFfXX9iACUX+mOP0SKVH7KMrPwsDEHkVWCMkx0Xj320n9hn4P7Esbf3g56QfGX/qWdAnAUEjk2mvurUnMDyIRD7Z0nI+3Zl9T8G34IiaFx7JULJD+tf4kkMKiSN749UMiqc0k3z44i7W2NWoHUUonxjV+k54eLXCScGqta4psYlcMJCnWCL/Z20Sx864FMpuwL77GY8wefLo3+ctriRJjQS5KEXYrS40kfuscbgZn0GjyNjy7Vx061GGjmkCNnETiNnzA9UO35D5F7uhEb11bWv7tm3y4IZTIjHKJKNPDV9x7Da0L2Xa5nE/GduFZz6o7ssuXInn/8yie69ma2T1q/enCqixj3oojfB1erIm68nM148y5aPbdqKDvMz70bVOTq2evsOzXdAI7NmBggB0nTkez9XwarQKbsvqthljIHdKjNh2B3EMgwzuYMmPyAgwav8KiSUOwE4nMoow4VkydxPliryoL5JdVbDpbwISZc+jSzImEkGMsnLOIGp21nUDKifttMFfOXsSv3z48GzaSuVUuOumDJW8mhMb99uMpOuiV6mg0tejWPQkdyowzcmEuJ0Sv2bR6ud8/zMkSrv08gOjwHFq89R2utdT+8CejFUt4aVJhplCEenPTx9ZYwdKgZRzMNWJDx2V0s5fLT2Uuc8Sq+DbPik0d59HBRjbTO0qGGQVBDD++ihTB1spQTp6iX32zJIVckSptYteSxW0nyz1K1earVU1VQNz6YcRIeGnTOd9TK8BTvn4BNz4bwbXD4TRedpRa3k6i4ikX4er8IY1mm3pu/fmWmYfmEzR/LbVHbqXRwGf/8vqVJH0xgogvg2gqBOLmV0dr4FETZGJqkchnq7UC0UQlBl+4woQf05n2XieGi7SvyNbxs9xjzDood2rDOjO0pT16kuxcqV5/gu20T89x/HqR3A0Zau6BsrOLSS9TSYBPDd571YdjP4Vwy86Drz4OpKbwUWV+HhNWHuNYrg375nekply6P2p7agnk1+ASlmxeg7GaQBZ9Si1xYX0kDP/JzJmcTNDn/fFjaOfjTMTJfaza/AMNnhvGtJF9OLNpJl9cKGbSrLl/EMiC2Qux6jyGqcO12QKBzPDVXPhmHFa+U2jy7AgJozzD1T0fUGbxMm2HbMAg/wLxoYew9OyLRwN/SfbKo7Qol7LbR7iyfy7GHqMkgkS0qS3tJQS6grxbURjbeGAsplz61S+IPLIKi8YTadlzMqYm1eODfdQF8H/1/C9XFzLiyhFe9nmXKY06kpj2O6POr6d2rSFsbTcc49I4Pg/7BSfnDrxWy5vkvJsUqxPkKiXhUpnB6rD1XFY4s9D/XTo6NxCtdO3EK+PXZYQulvXRfRKN3n6D8vgjRK6chML+ddqsWoMq4RhJR09gHfgWzvVNSfx5N/qime7QVFxbRQkS1juD+GM3aTTrOzz8TUg5HYplwxZY2FpSGHOYmPWzKFS1o82KTVjXfFCU0v/VCFd/v9fD4xiy9Cz2TRswu38jTIuzmL/pItf07fh8fAeaWCn54ZcYMo1riJXhTml2AVmFknagUUtVcux4GDsiSxn1egDd65uzaMXvBCltmTMkgObu5qTdTGPh1ovcNHVjz/S2OJrqLJB/NYpVUViZbFy9mANBFaza/hlGkb8xa95KavWcyILhHQg6vJt1csGXWKCHq4TmqhN7HOoHMGrsB7Txtmfnsil8KSHA0+ctpKufE/EXjzB72hxZIOOY/c7zWuzCUrvrEog5IC6B0OOYWLvJvW8mSgNJSnpuJfWbtSQ9aBpnflyIc6evCHxhMPk3dhL6yxxKijMpy09Hz9hecmOcqCVRRnV9vAn/7k1yS0tE4lcSxPIysXAfgO+LM3B0cflX46aNHy4qkhj8s0vYnXELJwtnikvTJJGrBXNbjqanszvXbu/lmZ8lnNfnI3Z0GIHtfYfBLMYd+5BT5d7sfWbGnTsUbURB7Wa6xvUN44g/egFTZ1cqi7JQmTbC64OV1GnXmLTdkwhesRyX9/fi16sp4fNHcvtSGKaODnJtlE1pTjl2XUbj+8FYVIkHuLRwMuUKA4wlKa48K41KMy88h82lbvdOWh+NpZS18uX35/ns2G1MhSANK0op0jPl7d4teLdzTcoz0xk89TA3zJzZMbsjjSRZ8N62a/cxFskl/GeTuxHoYszhw5eYv+caBXom1LQzFQulkHLJ7B8m/Q2XPJBq8GDxVFkgmlIb4ju8LlmuKVl6tGgnYam5qVwNi8bSoyFN67miqighPiaK8Jhr5JdUUMPGmcZN/fDykOxpcS0kRl4lPkeFr38znKxNKc5O5crlqxi5yvNeNcXsVGppGG/VVKwoTCIz7jiF2bfB2BZr947Y1/IRi0LWc04k6YlXMHNpi4NLbcrzYkiPO41STs0GhsbifihXQ4SlWwdsHV3IiTtEbka8JGNKSQZbb8m16UQN66rwxKehZUky5cnUqySVFInFZU8rxwD8bavIs6g0hRPJl7Cs0YhAJ085eNzTpNxOcFoImSorOrj4YvHf1rJ4TEFVZMWTGXqaotR09M3ssWrUHtsGXpoNvywlnEzJuTKvLz+rXZPSW9GShR5CsWyWMmswdWuMbdNWmFmbyQEnl7zIsxQkygV7STmGlk6Se9QaW+96T0yJnJLCIoIi0ohNkzp9Rsb4eDrQystOyuAIGUseWvDV2+Tpm9GuiROWf2GAhKQ0ItMUtGzsgqNkmivLy4m8nk5YUgH5UhrF1MyUBnXtCfC0xeTRvVea2fZ0EUjVK8uJ2FCTZV4uAIvzVZK2jMQdXSHZ5FJ9Rv5b/Xu1cafOKlf7ZivV2egKdZKgVPKRzxrKsxXiw9RcB8jOamgky19qQamz0bU5E/0x3X90X0uHgA6BxxSBp5BAqkhE4za8U/RK7UO8+/+rxun+i7z7fiefvUsud8e0ygdZdRmmI5DHdKbrvpYOAR0C1Y7AU0og1Y7jHx3qCOT/DltdzzoEdAg8XgjoCKSax0NHINUMqK47HQI6BB5bBHQEUs1DoyOQagZU150OAR0Cjy0COgKp5qHREUg1A6rrToeADoHHFgEdgVTz0OgIpJoB1XWnQ0CHwGOLwNNJIA+IpKquEdIRSHUhqetHh4AOgccdgSeeQO7WbPojFFfIw0CtoSyRt0p1bkc1j5COQKoZUF13OgR0CDy2CDwFBKKvKUqmIRAhjsrSXILPneRWnildX+yGjbFatrb6aORJIJCKwmTSrx+hKPcWhhYNRWuhM9Z2/1zMrzw3ntTYI5QUZUsJlMY4eHXG0uqO0pyqjNyks2TdvKTO0cfULgCnem0xNa2ectL/y5WVVRDHcZFsvVlWgoNZHbq6taLmPyjj5RUncy71EtdL8zAxsqetY0sa20i5jntaWXk6p1OuSgZyLelLsv//ly9XjX+7sqKInCunyI0NQ8/IgRqNOmHX2PMBkqoqSpJjRc3yulTjldKU6twqydY1tHPHwa+FJOzeSZ8uLyRLyu3k37ghlWxNRTe9BY5+/vL7R6/tVI2v/VBdZaRmczoinZQCJS5O1rRv6oqz5T/MBEUFV6JuVTux2wAAIABJREFUE5JQICqOhvjWd6aVtw2GstKuhN8mMUetTVSFif4dr4uNXQ2puGH/tyz2h/qy8tATSyBqy0NfT0lEyFmiUyvo0KkTbvaWlGRcZ+OKBZy/ZcP8NQuoKxUpFUIg6ozzexMK1USgUhe3U4MvxKOvGYiqn90lHHUd/7uVQ9UZ7OrqqgrJRldnsru4ukpJE+3bAsqzrxL921RuXg/DyETUTURTwMz1JXx7LsLJVcq5/KUV3z5B5MGppCXf1MiKKkoLsfB4nea9llFDJn7y+cVEn9oqE9xCNsRiSksrcPAdi/9LY0VkqprqKTzs7H+E59KyLzA5aB2ncnOxkY0tp7wU/5o9mN9iOD7mVVoOd1uR6KGPD14nmug5Um1Xj9tyiKlj05p5LT6ko4OQiOiBxGWG8FnE1/yYHCP9DGRnl6FSyEP7W2VZDrd+XMz1XT8JMQouUoATU0/qjliCZ9eWf3nBMlL3LiJy+3ZUBrIRmhhL+RKRlW7UDd+JUvHaQv5bDivx2+aRePysSK/YSGmiYpSmgQTMWoKNu41WA5Zy4xYzt4YQmq7AUspc5RWraNGiPpP6+OJl95cDl1TO2LPvMmt+S6RMFFAr1VU1zK0Y9loAg9tZs2LTWX6RytfGRuq9S1RY5IyclVtCIz9P5r7VAi/r6tmbnlgCUW/6irJMdqz/hF+jVHw8ZRIBHraiu1xM+OWLJBeY0b5zK6wEYPXGX1xcTIX6tCObv5qt1XWzjKREiZGUKimXzaGkpEyYxBAzMzMpfSIVr+SzSilfopLy04YillQqEx19kXc1lmeMtJRApAZT4u/vcfXEPlzafUJ9v9ZkiE561IlvcGyzmlavvH/fqbhSkUnsL28TdekC9bqvx72eFylB87l2/gdqv/Q7Po0dCf76JfIrW9Py9eWYkkL0/ne5nZaD//Bw3J2ttHLBq0QoafmF6SxNSmWc3zh6OdqyN+ZzlsVHMdx/GvMad5ZT4J8tK+ssy2NP4+nUic62tuyP2cKi62cY0HQiy5v1JF+qHL91fAlJUiSwoDRHPteX/c+8w/2l8rQSKvIubOHywkno1xtE43feRZn8O9HrZlNh9QKtP92CpZQi/7OVcktULKN2HcN98Czs3JylNp3UvLJyxkbkBQwp5ea304j46hscekyl3mu9MKrMIP9mIfbNWmEiokza2lTlxazecIxPr1QwbmBznqtrzO5fQvk8KJf3BrfjI5GgvRep5MhY3vo0GAMRJpvT1wcjKVY6c8sl8uxrsm5MKywK8kjIKpNDrNplr8fNW6nM2xFFi06+LB/ih7NZ9RzenkgC0Vgf+iqObN/MNwcPkqpWwWvciFq1G9LzpW7kRJ3iUqKC3m/2xkbq6gefOcqvJy6SU6LAxsZGFm4lLg1a8FqvFyhPuMz+g78Rfj0ZjCxF37sNzz/XldqO5kQHneToxQhxx+gTKQUZ7Rt2YnDfHtS0McbB2UXrLBBl8TUufd2TzPIA2g3ZjpVYEMr8MIK3v0SuoZTMfusbpKbdH600/TTBOwZQZjuQ9m8t0RRoKxN52wvb+0q57tH4P9ueqz/0k98PpfPgJYJrMTE/9SdWZF0Dhofg5qxWqNO+lpEbxFvHpqKy7cPOTu9gLeeN0rxzPP/7bKycXuHzwJG43LPalSqpmyZvrxYoU7f4xG/pcXYdgfVHsaFFfwoLpQx3Qhwt7Rz58uoGbhi04+fu7wnhanmTwqUJm98jak8IvnN3495crX9eyo21w7n2axANFx3Ho/G9ujBCEDsmc+1QDH4rf8TOoUpU6W5TZFzhypzBFBh1pPXS1Zg9AS6ru++WefMWQxafwbpJI9a90wRrmStZ8QkMXnEO22a+rHqrCfZ/nCiUfP/DORaIWNT497syqLmNprzSzm+OMu90AVPf7UT/ZlU/u9t+/vEUMw5lMubtdrwd6PQ3bfWHnWlPMIFUcuKbrew4uJ/kIhP8/Xxx82jEi91bcWrXp+y9WMyKzSspC9vPkpVfUencmJbetgSfOEpCtpLXR42nZ4vafLf6E84nldK2czuU6bGcDLpGl37vMvbtnoTu/ZJlqz8nU8+S2p5eQi4ycL1fwsPBDAcnZ60jkIqc81zY0Ydy+0EE9lqImfpAp0zn6s5eJCbXoPWgvaJf8ee5uCBhFxe2voNl04W0eu09jU9bVXCNy9/3JrvMnxYD55NxehLXQs/h5DecGqZZpFzdjWnd9wh4eRKmYslpY4tLP0ivE4uFACaz1u+FKqtMdZNBBz8mzsCPLztMpIHF/S6HCkU+t0Q7Jbc4kR1R29mbJZIAbabylruP5o5Oo6ZUmsQHJ2YQox/IvieBQNSKhKveJCG8En9RJHSso3aBVnJ7j2iib/kGjw9+wue5eyVt1QQynojtP2HfcQDWbrUwq90EBzm0mVmbUxR1kNC5YzDwfh0XXzeKU25j6OSFQ+DzUulZuwXKbkRGM+CzULo9J8qDr9TVWJ8VBRmMXHaam+a12Ph+ALX/cDuVsOrL02wVa2XFuG508aiyvM6eusTIbQkMGdiWsV1c/iCJorTbvL3oFNkObqwd1RrvapKzVf/NJ5JA1C9W5cLK4rsNy/k1WslHkyfQzF30KlTZfLl+Ob9dVrBk9SyifhaN813XGbdkCc83tmDL/8feeUBVcbVd+KH3LkUFBAQ7KnbsNbEbY40lMbEkxtg1auy9a6yxxl5jjxp774oKKKAgIqCg9N65/zsXk2jK10KM+N+z1vet4J05M/POmbPPecve385g37VkJi2cSdbtPcz8bi8Neo5gYJfm5MQEsXjmTAJy3Zg9exIZN3cxZf46XJr1ZvBnH2IpnMt6+kJBLbEDe4e3PwaSL9zr6mCl4rHT0iU38Tq3dvdHp9RAqrcZWrBiznuG767OhEdZUvvjA9jZvgIgj3dzfcdwrGouo3qLD9WDOC/xvgBIR+Kza1H3y60YJN6QYz7ieXio2herV6weVbrsxkmou4tqe/TiCB+cW0bnKuOZXLZBwWPkPaHz8VFE6VZjY73RePwGQK49XMnAe8dIy83kWUYSZa1bs63ZmNfiJdlpIQy9OI0QnbrvCIAUaKI/eyKa6FNWYGmrCD4pmuiTuLdhV4EmevNXASSbFydWELL/ICodoW9PjiIjNh7z2p/gOXQcWhE/4TNpoFDhm0qcray4m7NJD3+ATgkZUxOXY+34+xhdURljj+4H0mvlPbp0rsvwJiXVk39mcgwDBEBizBxZ80U1nMx/jltksFgA5IcgLVaNbUzll4Bw7qIPX21+wgABkMG/AEgehw/dZOz+J3Tr4s241s6vucL+qn3eaQDRIpXdK+ZxJCCbrydPpKqTNWREsW6FAiA5zFs+jcfH17Fk6yU6DhhGI1FE27p6GXdiijFrwUQiflrO4h2nKFmhBiWtzCQjJIeI+75EG5Rl6owJGD7Yz+TVp+g2Yiq9mpYlLSNTUoMl16hIBNFVxPqvIuDaITUlPToOovtRg8RHS1HZ9aFGuzHoK+M17zm+uwVAnpr+fgeiAMj2YVjUWEKN97uoB31ecoAAzofEZdWhes+pJN6azkOf05iVaouR9jPJ1rqIkWNHqnZYiJV10XRhKQDS8dwi2nlOZEb5xgUrvfxIuh4bwRPZgWyu//sdyPOk+5yODZU4Wzo3I89xKPoRzUv3ZZ5XZ4qpDS3uPwGQYe8cgHxMZKgJ1aauw0od81LxTNmBrN9OKUUT/b3XNdHzZJeWnSbZQ/q6ZMcEE7ljOiEn/Ck3dgfF3SK5OXYURtU/o0KfARjKhBp1aDZBG9bgPOYnKrRq/Ffnw3/s/AIA8adjR29GitqgMiKyUmL5fN5FnpmUZN2X1XF+BUCUHcjOABUrxjSlerGC3e6FS7cZuDGMfgIgw5oW7EBSY14wYtklfLLMWDO6yS/HFtaDvtMAQn4yuxQACcxlzMQJeJWykbciALJcAOR2NvNWziDq/A4Wrt4DlsWxNtYmLT2P2q178lnH+lzesYCVu69TqX5jyeAylqC5SnYYetiUKEOjRnWIPLeF2Rsv0GXoJLo3cicjM1uC6qoik4WVGLKbx77n0ZIsDiTrxdzWnWjfyaQbfkC9bosQ/RlUWeHc3dmBqJRSAiD7sFGcsy9bypN93NjUB8MKU6nTebh60Ocm+nN7RxdStNtQpoYzgT+OFxfXVKq3HSYrn1SenP2KexcO4vLeMSo3qltY4/iN9hMac4JO52ZS0WUYG2t2LFjRZT+UHcjXJJk0YF29kZT6F/HcnIwQ+pwYxi1VRXY0nUg18wIgzU5/xLALUwmWHchhcWEV3ZDwy9eRm0jw0l6E3Eij2owd2LsrYlp5AgojCdhxhNLfHKN0ndL/8t2l3NrMja/HY997Ga6NTbk9eiCWHyzFs1cr9XlpDw5wY0xfrHtvoXKn1oXm23+jA0ou9jjoAd2X3KFuk+rM6eKBgcz+GaK4OGD+BdJLuLOiX1UcjH92+WayZNMl1t7MZP6wZrRyLwhMnj5xjZH7ovjq0wb0rV2gqX7hjC8jt9ynjrjGlnQrEPEqzPZuA0heCntWL2DzxXgmzJpO4woOorj3lPUrF3Hybi7T54/BZ/t8dl19Tm3vWlgZ6gmOOFO3fkPc7Y04umUBizaeo/2ACXzRqwXG2rkkxMaSkpGHhZUJdw5JDGTzBToLgHzU2KPIAchvB1K+gMWd7e14KruNmn0OUFxcAsmPtsgu43P03Ebh3XMaOqkRJEaFY2RfSVT0HnN7Szvisr2o86n4rS21ifNfxs29QzGvvhEnqwf4/rgUlw6HqVS3kfpy8b6zubZvFnZ1dlGjVevCHMtvrK/EFD8+OzOGh9o12dNsirihtLkduo6u17fR2GMYy2q0JSrhITG5enjauJIsNSBRkmVZ2dpZDbI5GYH0PjaS21qV2dl0wi8AUhADmUCwXgOON+3/xp7n77tQDpFbh+O37gBuw7dQrkMTWdMF4Te1G8/D7Ki16hDmRskkhoRi6FgeY0s9Mp7HiJuzlKSQKzNdNpFbRuK/eh+uw3bh3sQMnxGdybRpR605CzGSGq7og1PxFUlcxzGHqdi64d/3KH9zz0kvoug7/Txxds6sHeItabZaXDkrMY1NgbTsUJepHZ15GhZPQq4+Fd3MOf3jdUb/IG6p7t5MauuMVnYaY+ef4FisEUuGNaRRKWNyU5OYsfoiO4JUfDe+GU1dXk9KKIxHemcBREtiIDoyAM/vWsXC9UdxrdWAqpU9adaoJud3L+XQjWwWrBR/80/fsXTLKfQtilPM3EhdD2JVsiwdunTBRS+SuTMXEJxgQpPmDUUmMp+w4GDM3WvQt29XHuxfxazvz9J1xDR6Ni1T5AFEWR1GXZvEnZ8WoufQkhLuZYl/uJ/4OGMqfrgV90oVeXZtArf2fYdLm62yg2ghO4pR+J5aj3npjtg62hF7bwdJWbbU/Pgo5nl3uLmrD6mq0pTyao+edhYv7svvSTpU7HoUt7JuhTGG33wfeWls853LmIALVCrRjAaWJpx8cpqnKhe+bTidNmYJ9BMguJHtyNYmk3kWtZNv/M7h5VAdd9HyDoi+xEmZMFqW/ZxFXp0wkDjT2qCjPM14yrmIayTqlKSDkxcVrD3p5NoIC8XFWERbmjyX34yBJGeWpGSL9ySkdoOoy77YdlqA1xcfEXd0OndXr8b+401UaOaA/9yxZGkVw1okb7OfB/H84k9QvCVek1dgLXHykOWfE3zoHDaNJcheTADkzG6yDWpQbdb32DiLi7qoNikK3LrrEpOPRFOrVimqF9fl1JXHxOnbMH9wfUn/TuOLhefwz7dl1bAGlMqO4nOJj/hnGtK+nhOquBgO+CTQtGkVpncpi7VsSu7eCODL5T6Uqu/Fqj6S2fU35IW/swCijCMdXR3iw/zYs2MX14MisS9bm36fduXxtYNcf6BFn8/bcW7jYg7cekH7rt3wsDUi/P5ltu3+idJNP2HG+C94cecEu/YeITg8TqpetdAzsaZFh8580NKbkAs/suuUL0069aFx5RJkZSuyt0XHhfVH31p+TiyR15cT7n9Yiv7S0TUrh2P1YbhWbYiklBMXsIrAs/ukTmQq7lW9yUt/xuMri3kadEJkfnOlEr0yTt6jcSkvevOSxvkicCdhNzaTKnnqUq4pmdDulKzxFS5VGhXpSuvMnCg2+m3gh6gAUqXetJixKwMqfEIHcTeQ85RZd1YTkF2MSdW+xDb/Ed/57+JEfAjZUj+kr2tGwxLv8UX5VpQwMCQx9R5fX13JA5lEzPWMxS45xGdmySTSnLFVumFfhAsuxRgkXNvL4/0bSY0SnXNDG6zq9MCtWy+MTfRIuLKR4P3iGm0zCbf6HoTvWcCzC6elgFW2bDrGmJRtRqmOfSnm4agertnP/Xi8exkxd++QL3Uzhq51cO76FQ4VPIoqdPxy35lSu7Fxvz/HghJJzVVhb2/Dx60r8F55SclNT2LejjuE5FvwdZfKuMtu/75vKGuPPyIwNlMq/PWoXdWVfi3dcTJTnKr5nL8YwLrz8fTsVIWW5S3+Fvu80wCiWEwJEGdnpJOaniHbYiOMDQ0l0K0UBeqTlRjK3AmTeWxUicljBuFuZ8xjnyPMnLMC0yofMn3aSGy1MiVPP400+V++FBcaGBlLbMBAfIkqcnNERz0nT/o1UBfrKK2oA0jBKFORI7QkucIVpmNgjr7hK8UfUtOQmy1BTmWi+7nSXpUn/vt4sasUYhpaqu3xassX6olsqVAXo6Oj/K7/NyyF/pbP4990qsolMTOZLMnCNZIaIXO9X58rKy+THAEWY11Dtd9ZlZ9LSm4qWWJTXckwsjAw+YXKQyWFrNmSESf5cL/48JXEXh3JjDOQ+FQhu63/CUtJRXmyjKl0GTdSiGth8euzi11yMzPR0Rc7SfKJZKrIoiSVHAFQLSnM1TOTavPfpHurxFY5yYnCCCELEjMrObdwqqr/EcP89qL5ebKgyCYrD0yMDTBViqtetkxZoObma2FsINXlLwdFVkY2yVK/piUF0VamMg+9Mliys+W7lDFoIsf/zJhR2M/4zgOI8knqCIj8TFOSLy9IS0tHeHOkrlXSBPetXcm2Yzcwty+JraWhmpIjW784vQcOpmPjijJZ5v5Cc/Lz5Jovq0glWK7QlyhV6yqF3uSlvvq7ASCFPcw0/WksoLHAu2iB/wcA8uevTeG3Sk94wX3/ezyJihG0zpcdhhUe5StRoYySSpev8Ln9V00DIP+VuTQHayygsUARtsD/awBR3puObgF/lbIzUUgSlRoO5L+zsgpScv/bpgGQ/9ZimuM1FtBYoKha4P89gPz84n7WDVH+/kU75H94qxoA+R+MpjlFYwGNBYqkBTQAUsivTQMghWxQTXcaC2gs8NZaQAMghfxqNABSyAbVdKexgMYCb60F3k4AKdBuKpJNAyBF8rVpblpjAY0F/gcLvHUAoi1573pSAJgrQjJ5f1lqVgr/pMBGS2o2crJz3ggmaQDkfxiFmlM0FtBYoEha4O0BEKmn0BXgCPO7wtlrD6nerA2VXItJjUXef51Kq7wJpUZDlZXIpRPHic53oGWr+lLKLwJJL2VqC+NtKZK2SrW7Kk+Kn172+64ASJ4U/ykFl1o6JlIY+O+ljXKzUiR5LQctXTleKO3/qKmkP2VRoKNnoK7LeSeayNEm52SQp9LGRM9EKPD/9XMpRXBJuaJeKbVIprqm/LbIPCMnlQwZ8/raRqJb/Y4UXCoOBXn3uelp8tx66Jqa/UeFbXmZGWImfRH6/INCQSk4zJVMSfVYKsJUL3/4nch8kpIpaqdSw2ZiqC+qqP/6S8kXBnDleEUvwVT4/H5vDhXpGTlSrCpksJJlavRKIeJf/QbfKgAxEB2Na/vWMG/dCbqMmkmXhmXUk9L/kE0rFegiLZ8aybI5UwnIcGfKlGHCp69Pjhi7MJoyAWZLde2zqDhMLG2xszFT66UXdQBRSbV0tN8mgq9sEvqRCHSMylGi+pd41PlQdE5+P5Lzs16IjO06Hoo2SmZ6glQGV8Sx1leUqdlaLaf5c8t4cYWAozOITzKkbPs5OLuWKYzX8I/2EZXox3f3tnLs+UM1nUkl24YMqtRddM5L/GH1eFjMFZb47+Z0fCi5WoZ42zflq0qd8bIsJrLJcewP3smW0MuEZaUKsaczH5XtQS+3OpgX6Qkyn5T7p3i04zviA/zVrM8WNbpQutcALEta/eH7y01+yrOj60Re+Rr2rUbh0anZK/ZUkRlxh8e7lhIbqsJjwBQchMLjXWmRT6L4/lAApx8mkSVV55XKlaRvuwrUcTH9gzGl4lFQBGt+fMCFsGTRUNGlVuVSfN62LBUdCtgj4mMS2HcqiB/vviBBytJNjU3o06UanasW+4UN4K/Y7h8BEGXyVeovdIUKQ1mI5ou2eI6grlIdfmv/OhZuOEnHYdPp3NBDJmWh09ARVJWVvjIdqY8VzqV8oX9QRJD0RDdAqQRXdhw6yq5DVm85QjGikhVenjDvLp8/nQeZ7kwTWhIXKyOy5TeFgiRXqsmVpi33oOigK+cqgZc8oZrIkf8poKWAkK58vAooKMcpVed5AmgKfYmurA5fBJ5h/vID1GjTlz6da5KRmi79C1VFkdAD+aNhk0+s31JhGZ4KVs1wLFtFyBS38eJpEmXabqOid9PXT1Jl8+z6VO4cFWbUUl0pXsqVmIDNxMVlU7n7cUpLQWZBy+TBwW7cv3AIla4dnr1/pEylWn9l3P7j5+ZnRTD20ng2PU+is1trSmg9Y2PIaeyLtWZN/WFUMHmd+TQ1/QGDzozlfIYh3VyboZ31kM1hV6hd6hPW1+rN9cdr6XfrBzyLt6C1nRNnwg5yK12P2d5T6elUvsjSmWSFX+Le7IHERplSsnVHVM+v8vTMGSyaTKDG+FGyun59x5b+6BzBG+YTffMquWKrUr2XUqF/54LJTrjV4i5t4eHm70gIDkTbtBoVx67DqX65f3w8FMYNZCUmMOW7CxwIzadDQxfMhSbnh4sROFZyZ8nnNXCzeF3lMj46mjHLrnAjSY/O9Z3Jio9h77VoajeowrefeGKSncz8jVfZcjuZxrVdqF7SUJRFkynr5U73WvaFIiz1xgFEoRHR1srnWWgAPn5CRCe7eWePSnh5lVNzuVzbu5ZFagCZRqdGZUVgQnSVH/hz934Q6dm6uJWvIqy67iKHqkN6fCT3BIGt7IuTGh3MgycxFHMqQ3Uv0Q82NSQrOZyVC+fwIN2FTzrXIyrsCVqm9lSvUZ2Soo6mcBClJ8WInrk/YZFC9GZgRhlPL8qXdhQXQj4vIkIIjU6nuGh3h8gxL4TOqYxnNapWcCUjPoxje7ezec9FKjZoS8tGVSju5Iars52wzmpjX/ztVyT87aBX5Tzn3p5OhIXm4dVjJ46upUgO3cWtXf3RcuxLnR6LMXplE5KXEsjdXV2ITnWhVo9t2NpZEHdvNT57B2FYfhn1ugxUc/OkhKzh6g9ThBiqpFBMp+LRYSMelWoXxjf3j/UREL6bbpdX4VV6EMurd8KcNJZcG8P8yChm1pvJJ46vT2pXHy2ny/WD9Ko8mmkV30M75xmTrkxke4weK+v052zgHA5lOrOx4QS8La24/3QPvS9/h6fL56yo0RXTIknImy/ytRPwW7kVx36rKd+1FaqEIO7P60fUw1y8lp3ArqQiMvVzyyfm9GrCLvhj7mTB8xOii95sNhU/71QAoEL0+WjTbBLjTTDWCibqxlM8hq55ZwDE98Z9+i33pX6bmszo7IFRbjpLv7/Ier8MpgxuQqcKrxMinj1+jeE/hNOlSx2+fs9ZqPIThL79MnvD9Ng8viH6z0L5YrU/dVtUY1qXMiJHITaUhbqyszHQK5wB9UYBRL3z0FZx78pR1oqkZXS6NsY6eaRm6tLwg0/o2/M9go9+z/z1x/lw+Ay6NnLj+vGdrBGN5KRcAxFZySIzz5QWXfrQ88NmZIWeYfLslUSnaGOop0WWEPal5ejRqENPkXVsh2luNKuXyYd5IQwbURRU3GGpskso492eEV99QjGdWDYsX8l5nxAMTAzJEDZMbQtX+g8dQovqLtw8uY0l3x8mR6WnViPMFJI3PSs3+g8ZQTmDQOYsWM+DsAQRYrLF2sqGJu270lE0CYwlaG9XBCRtfzv75iTe4sa2D8kw60xdEZQSLjc1s+zdHe2JjC9BnY/3U8z611VQasQhrm/8FMNyE/HuMky9SswT5T2f7R1JzG1E3YFrMckN486OjsTJLtDNqzFhF1fh+P4aylb2/scm/79+4Rx23lvA6PtXmVZvKZ86uqi79I/YRtcr2/mg4lhmVGrwCttwHqsvDWHWs3RWNppFG1nwKO100DKG3j1Db8+e+D9cR7hpG/Y0GYydwimYE8mAU6N4pN+AbfW/oPgfuA//+nP8zT3kJRGy9GMRlEqm6vQdOKgFpVQ83Tmae9tEI2TUUTwaverKFILSFCHl1BHp26iL3J40BJMGU/D8okDtUowiq+x4dMztSDo+DV9ZaHoMW4tTg/J/84O8ie7z+OHAZcYdiWfusKZ0qlgArDeE+n7Q5mA6dqrLuPdedY3ms3zpCTY9ULFgZCMauSk7XhXHD99gzB7ZHQ+pT37oA769nM6kvrWpYa9PujD82lqbYPYKQeNffbI3CiC6khGVHBXIApGXvZfrwcjRX+FZLItN387m+EM9Js6cgnHoMeatPUaXMXNoUkK2dOMmEGlWi7GjvsDVMJaV82ZwK86BidOm4qZ9m2GjZ/IstyQ9+3xGTRcttn4nLpg4c8ZMFQEp+fu7b6ex80wEzT7owYdNKnJuzxr2nYtm9Dzpv7wpR4+eRsfKnUa1KxB89QALl22hTPvBTOrXmrunNjF14VZMSnkzoG93tKKu8+3yHZRr3ocJIz7E/+hWvl33E9Va9aRz6xqYmlpgbSGBUXF3ORTBHUhOwlWubesFJfpSs/3tjinqAAAgAElEQVQ3sstTEOE5fj904Umk8UtJ218D5CmKpO3Wr7CotkjceL3UH7kq+SF3RAI3LsOTOp9vIPnWRG6f2E7ZTkdxML3L9V2zcG69QQCkzl8du//g+dls9pvN5IdBLG/8LW2K2avvJfD5AbqdXUfzcsOYV6U5v5LI5rLs3FesSjBgVcMpNLAp8P1febiWQXcO0aPKAOIjtrI10ZQ5tYfRwrYkT+J8mH5rBVnm77G53ufYF0UAyY3j4aLeRAQb4zV1LdYlCp476oBI2q7bjvNXeynXsvIfvsfskFPcmjgE00ZTfwWQV46MPTgFv82n3ikA2f7DBWZeyGDZiMY0dS1wgd72uc+Xa4N4v3VNprQX4ahfbJDHtyIgte+FPouH1qO6o5LoIgqEx334elco/fvVIUPG53fXkqjgYEJqShZJIoTn7OJAv46Vae7x6s7vf/+U3iCAaKEvnFNhfscZOXw+ltWa06FZdUx0VQTfOs2BE/foN20upVNus0AApMe4mbjn+THq629xbNSetg0qYShLXH+RQz1xI4ovpy3A2y6C0eO+xbVRL0YN7CrCO9mc2fmdiDydp/vwKfSqby1B9Mncii/J9Olj1YGly0c3MnPxXtnhTOUj2drlSiA8IiyUp9Gi9vU8lH07D2JSvSsLRnfB78wm5q05RZfB4/m4VW0Sn9xi2sRppNvXY+aMr0m9vY8x07eI/OtQBn/SQB0DUYL0RSMGoiL12UWiQv0keUOGpa6NOjsj7OoUcVf1p3qbYYjgm7gQo7grgBDxzEIAZD929r8BkJ0jsK65gmrNO6hHYV6SuBt3dSIhpy4VW3bn8U8jybXpSb2PviHj8Sau7JpHqfabKVuh+v8+at/wmVlZ0Zx6epunmQVZRE7GtjyIOcaq8EhWNV1IY8sCISP/6L10Or+RduWGM7dK01d8zLksPz+YdSkWrG4widoWBZPDhaCVDLp9kC/qzqCa1iOGXt9AvLY5pUws1UH1oNR4qpbsyVbvz4owgPTh2RNLAZDvRABKke4V9/W+SfiLB8JlyD7KtnhdE/3nV5sVfBKfSUP/HEAEhPy2nC6yAJKdmsyJO8+JEwltCeBS0tqY0AcPWe2Tw4pRjahToiDz8cbNewxc/4B27WoxuY3TawCyZOEJfkwyYdEgbyrb66kB5MyRm4zbG0bfT2qRcOceG+5l0UwEqppVtCFaCdAfe4xDlfJsG+KFhXht/mp7owCiBLxDfX+S3cQS8u0dcSwmW1UJgCuB6VwtMz768kvMnpxn4drj9PhmBq45vowdt0ICtG4UtzJWZznlSX2ItnzAPT4X/Q7dIMZOWEm1tgMY0Ot99EWrwufoTqYt3kfrwd/Qt0VJls2eog6iT5TVTClLXXzO/8CsRXvVMrTtathxdPtWjp6/RYZoD0gGHNGRzwWQPmH+qM74nd3EovUX+GT0BFrXLk/ai/vMmjqbNJtaTJ86nISbe/lm5nbqdR3Clx/XJSs9S03IWFQA5MXtufie2SlpkuKi07HDrnRzUiNWkG35EXU6Tlfbg/wY/HZ1JDzKTL0DsbX9NbVU2YFc2/wF5tUWUqvdpwVJDikP8d3dhdi0StiXMSf07FqKVf4Se+dypEWf5WngWczcRVCo+qeUKOtVKJkgf/Uj+HfnJ6f4MslnHbeS4uVj16WSlZe4maLZ+uwx8+svoZO94pqBoOgDdD6/TsR7RjK3cpNXXFi5fHvuS5bH67G60TSa2dioj7/ycA0Dbu2nn/cchrqU5270dW4khksar7ZkXmWJFOkBDKzbssG7L7aF8LH/u+cs9N9lB/JgcU+eBOrgNW2LKFYWAG3UftmBfL+VUsMOUbZZxT+87LsOICnPnzF+gx8P4nNkTGlRwc0BJ4ME1t/OZuGQxrR0N1HbRb0DWRdIq3Z1mNTa8TUAWTj/uAia6fHtiPrUcSzIurpw/BYjdz5mkOxA4v38+fG5CcsGe1PJRl++zWSmrrjAsRhT9k5rgKPJX9dReaMAoq8AyN2fGD1qGRU7fMqAbs0l111WreoaCl3MrczxPbJBguin6fnNTFyz7jJmwhrq9h5Mn/Z1MdAuYMxV5GpNLaxJfHSKsVNWUqZxb4YN6CwfXQbHty1nwebrfDx6Cl3rWLJUACQw3U0AZCiu1nrcOruLWYv3023kFKobhzN12iIsRFb0q/4fopPwiFULvyXVtQ3zv+6O/7lNLFx3nt4jx9OubkVSn99TA0h6sdpqAIm/vodvZm2kTrdhDPvsPbIlQFx0diBi98wEsjJS1CsgLRHYUmU/wXdvDxKyalG/zwbMlbTn+Kvc3NqJdJNWePdeL7UOKlGCE00VyTTLfH6SW5s7k2PXV35bpA6wZzw9JhrqPcFuCCVL6xLhs1e0u2S7LHUSuaINnpH8CC3jspTyHk/5Rj0KJROk0Ce+33SYr2T/ZChplcpqUQdzKd44IVrxQ++eYGC1mUwoJ+qL0g75TWVo4G1G157Oly6V1SJSeQKRupJUsePGCEaFhjGj3iw+dVIC7NmsvTGJqY8i+VbiIp1LOL921cDIvfS+spoG4g6b49la4n9/91P+Df2r0ghdNYDAHwPxnLID51qSFKNKIPjbzwg9H0qlhWdkjNiQL0W+ynjSeqWGJifsHDe/GYRZ05l49vvgdzcX96NooW86RZlRm3CsU/SkkfMlmB2bVCA6psSGzWRjf+r8XUbsfMbo/g0Y2NBewELFHknSmXkqhuEDmtK7mrgAJXtUvj5xk8Om9SdZfD2d8V81pktlS3WW2prvL8m/ZfHdyDqE+dxhiU+uaKQ3oqGT7GikDmfSkjMcjzFj7/QiByCSAq7EQJ7eZ974iQTmOtJ3wMdUdrUlISpcfL751K5XW+Qsd0gdyDG6jZtHo+IJTB09nmemlejf/yPKlrAk5ukTCZprUcu7PjoxFxk1YS4xlKRHr16Us8pi66rvCFE5M17iLDWLy8pv1iSpAynN5MnDcRMAuSkr7hkL9/LR6OlUMwxl0rQVlG7+CR93rEng+YN8v/UIdvU/Y9GYruLC2sD8NecEjCbSoV4lARB/ZkyeSbpNHXFhjSTt3jG+mTxHgsjvSW51KwlQWePgUEwyuIpmFpZM/wQf/piAK6dxajwPt0pViL69gAdXjuPcbDNVm7Un6eF2Hl46jF2tMZQq50LgwS48uBuI+/tLJWvLgadXphHse54yH56mTAVP2ZUlSbablkyjKpJCNuN7YjnFmyyhnFdrDH+T6vo3TGF/W5fPY8/S/cw04oxrM6vGx9jnP2Hc1UU816/BhsaSomqSx9LrS3msU4pRVbuTm3CM987Ml+y/VkyqIhNiqh/jbn6HTrE2bK3zhSj2BRGQpsLdvBgJKUHMv72SIJUrK+qPp2mxgh1OUWzx51dyZ8Y4DKr3p/wnPcl+fIqgVXPQdv8c77kzybq/n5BDP2LZZAiuDbzITooi4/lzMkLOELRGEjlqfolrmxYYl3DBxM5WFijBZMlKOu7kt4Qev4NjjwnYVy2HiXMZDExfT50uavaKeCiupzmXyCtVinHdKmCcGsfszbdJsijB6uF1cTfKYu12X6L1LRnctRxxgYF8IllbJcq7M/oDN9IjnjFzpz8m5cqx4fOqBN+8z8B196jZsBKDmzsSev8Rc/eF4Frdk7UDKkkh61+30BvcgShIKym8svK6e/4Aazfu50WmFhZmxjLJpGJdtgHDB/cj5dYeFm88yQdDJI23XkkuHtrGum2HSFYZYKFkSqWnU7JKMwZ/0Q+zxIt8PWkxz5JkVWgqW7icNDLzjWnT/TN6ftAM/aynrFDSeMWF9c24geodiM+5PcxdeoBOQydIIEmPdcuXct4vEgtrM7RlhZmaloFrvY+YPugD/M9v4dvvr9BjxNe0FRdW6vMA5s6YKwBSk8mSIWKQEMLqlUv46XIQ5pZOtOv2CZ1kq6kvdSNFMY1XGU7pUWe5/9M4nj97goGxsUjRik63Wx88W32DpYWhAMRIbuxeikv7PXg17UBK2BFJJhhPfEIMBiL1m52Zh03Fz6nScrRI/yo+sF9bcuhGbuxdRqm260W0q+pfH73/ZA/5aewRffhZASfI0BPZX/kb3VIMqjyQT2X3oZ0bzkcHP8VPtyo7m0+jisxtq3zms+zxDXEZSlFYXrpUGZdmbPXBfFDclQOS1fVNwGXMjMxIz0qSeJQLX1UewEfOlSmK3qufX01+agRhmyfJZH8GbRPZiWanoS07eI+Bs+U7duH5QUmykG/Qoc92vHq2If7qFoLWLxOQSJCU7xTRUDcXWxnj2Hu6JGK048mWb3hy7EfJ7k+RHW0Oumbyu5Yj5SetFl30orcTeXUIK9X6ew75sOxkJNkiC60rrn0dsVn/Tl50r2lLZlwMX0w5Q6iRPZsmNMDNUHaxO2+y8Uq0FPwaqHdyZpKgMeKjauJGtSItPoGlO26y1zcJE9niZIv8rYOTAyN7eFG/VIGL7K+2Nwogys2qKUbEUE/DHvE4/Jl8LPkYmZpS3NkFF6fiZMQ+5XFELA5uHjgo1d1ZaTx5FCwFMM/JylHJseaUdHHFVVA6Mfg446auwq1OWxrXKE1SfAo24goo41EacyM9KRhMJzz0EemS+lvaw1l0q7VJiovi0eMoirsq/ZsS9zSchw8fkST3YVeyuORKS1GiUTE8SjmQLHUmYeGJss12E7lbU/KkQvhRcAh5ehZ4eLiiJ5vJWNk9BQWHyjX08ShbHucS1uqixKKYhfXzYMqMf0BilB+ZGaIjb+qMpWMNTOQdKS07KZhE8f0bOlQTl2Mx+RehSYi9R8Kze2r5X31zN6ycamJo9Hsajpy0cJKiwzG0ldWPuWy5i3jLz0vBL+Y+IWlx6spyd8syVLFyUk/4KnEnBMT4kYAZVWw8MJPMvKyceO7GBhGWliDFscaUtSpHRcvi6jjQi5RQyS4MkfRnsaFQnJS1LEslS8WNUfRbXspzkh7clhhinHxbVhID85I6j4KU1JzYxySGyXhyrIyZ7N6zY8NIDgkUV7XsWvXFrSpxzfxMFcYuVTBzLkF62F1Sn0aKy6uAwkSZS/JzjTD3rIWRReFMiv+kxRV9+PuhcYTGSIGcFCu7OVlR0clM7erNy80hKCSWVG0DPEtbSQmEljpxx/9xPBFxmUI5JHOQiw1li5v8EltMSkhR/x6VnCPfsDHlXa1xtfn31ET/qQ3eOICoQUThkFJ0ytXTjwIqBbrieQrNiMQ3FJ9xnviPC+IdyrFShS6revWxLzXIlQH0PPAooyeuxKvNAAb37YBebrb6mDypVlfOVeuhKxXscm6e+BwLrlXgk85TKxCKW03uQ61r/rJvpQRdKTBUKtWVWIv6WKU/NZ9KAV+X3OzLSnZFb72gQl0ltR8qOSdXqagvspXo/+mw0RynsYDGAhoLyIwoNB1q4vTk5GTi4+IkpbNwKhT/I+PKxKsGkf+E7Oo3x+roGUpa7VVWbTiAe+22dHi/Lrqqn4HjP7r6rwf9N/fxR10r578EuKLOhfVfWk5zuMYCGgv8P7bAPwsgf8nwWlJZnkFicqr43s0wER/g29A0API2vAXNPWgsoLHAm7BAEQYQtT+qgOxQcX8VIk37XzG8BkD+ivU052osoLFAUbJA0QaQt9DSGgB5C1+K5pY0FtBY4G+xgAZACtmsGgApZINqutNYQGOBt9YCGgAp5FejAZBCNqimO40FNBZ4ay2gAZBCfjUaAClkg2q601hAY4G31gJvPYAoNSNK7YXCHfM2BMrVtSHChZQvBV+KvvdvmwZA3tqxrrkxjQU0FihkC7zVAKLI3eblZAm9SCb6hiaiyV1AWfxPNfX9ZGeSkpqFoVRmGypyur+pYdEAyD/1djTX1VhAY4E3bYG3GkCUiu7o4Cts3HqCis070aq+p/DiiF55IVpJR1dfzWyZIzwyBdXmf9a00JOdR2TAOVZtPEODLh/znnc5YbTNeu1+3gUASXsRQLJQ1+drWWDqUBsLm9elNF+1UFZSBInRfurKfCOrKlgVLxC9ycuKE/Gwx+QKkeIvdBwKAgvJuZGNm3DzCJX/O9DiUh5zJyGMNJUO7hblhZrE9s+fKj+dAKEyCc1IFKp8G6oVq4S1/q+U2qrcFHxjA3mSmYKxniWe1hVwMCqg6X7XW27iMxLu3xaOq3wMSnpiWdb1X1D955MaLJQmzyJA3wrzcjUxtnp37PQiOoF7EclkyZgq7WRNmeL/AUmkLGz9QhOFZskAD5EDNtUvKAhPSUrh/uMkUQTNx8HWHE83ywKdn0JqbxWAKO4qRdxIrSshc7lCE/JYFNsmzthAve5D6d9VRHpE1jIvTyjFX6v7EN4cqaBX00ErFeHy22tgoJbSld8VyhGhISk4V65FLuHB/jyMyqVGLS+sTITdSuhUFBjRFleV0p9SYZ6vnCP/aCAAEnh9L2OmbOGDwRP59MOGQmCbTq5yvZf3U6QBRPibom9/R9DFtaQJE6ho/8j3WQeP5pMpVd7rN7xMol/tt1qO/Z7U5OeyU0xBR2jaXYQ9tkztdmREHeXmrnFk5eYL1YtMkmoKmiy1nkupluupWK1RIQ3hf64bnyf7mO6/S+QCUsWdmYOFUWkGePalj1sNflvWmpz+iDk3lnIyPpxk4WjLFJlk7xItGVO1J17mViSnBLPIdzUHooOFblQZ3ypKWXvzddU+NCtW4p97yDdw5VQhpAzeMI/YwEcyTnKFA6o4JTuOpkyvLq+oOhbcSF6KMHdvmU3EpUtq+YR8WbgYOzel7PDp2JVxfAN3+3deIp8bV0WG9tADHibIglbmFEsrKz7rWEWkKez5Pbvcz/eSz/EjPkzZE4KVS3GmDahDjeKG+N0NYcm+QB4kZpORJcICQv/0QctKDHzPDetC0gd4awBEW0dXTfmdlSXkaDJZ6+kbCCOpHsE+h5g2dwsNug+hV9vasrLNElp4YaqUOSlPBo8yMSkSsnnCg5WdkyuTvq4oH+rLxF9QXKjm0hIgyMnOEq0OlXBj6WGguJ7E9qrMRA5uWMCuSzlMmjWGCs5W6pW0np70l5Oj7k/YuNQkZUrBoo78FXTzAONnbOfDr76he6uaZAnCa8u9yinqc4sygKRHHObG9l5kGDSmfLMhaKWcI+jkbLDtRZ3eK9TMyb80Ibl7cmYk4UI2WaJyZ1nq3CD43CxyLRtTs+dubEwziPQ7QY6AvfJOIJNov1U8fxRExR6nKFe1wd/5Jf7tfWem3OXjs+O5mlOCyVU+wVkrkum3VwnVdlU2NJpIfcsC0aif27PEKwy9vBn3kg2pL0SSB0N2sCHqGUOrTmBBlcYcCRJt9RvCEl3+C/oLm69PxA9MDjxOGxGnWuL1IcaFuGr8243zX1wgLyGYwAWfiW5MAq79ZmBln86TTROJjbSg8qzdOFZzf6237Ojb3F8yHeyrYVu1MomXNhJ+VOjgWy+jpjBuK99hUW2JT6MYtOgcAfk2jO5SAevMeBbuvkeyEG6uEjp3r1fUQF99xqjQJwxZfp3z4Rm4iaTCwiENqedkxIkzd9kpevQtG7tSLC+VZT/44p9jyaph9YWJvIAc9a+2twJAlAkmXybzuzcuc/HaXZKE5t21YlXea96YvKcXmTJnkyjYNcbROIvHzxLVq+HmzRriKGy9Wlr5vIh4yPkzQkMe+gw9Ezu8vOtRv2ZlzEXUOz8vkxD/W5w9f4XI2DSshTq7frMWVHMvxu1z+9m4eT+hcVp416+Ji7MbjVo0xjD9ORfPnyco9Cl5Oka4Vqgp99KAUrZG3Lu2j4mzdlKtyfsUN8oQRuE4nMtX5/2WTXEQuvM8Ca7rFEkyxXwiLw7D58Ruyn54UPQ6asvYSiX4UC8C/QOo1P0YbsJK/EsTgM5MjkKlZ42RsbgP8pK4v6sFIeGpVOl2GBfX16m1c1MCubOlA7F51anTaw1WVkXZhaXi0qPv+ez6TjpVnszsSvXVZtnvO5VhgT5qQalBrlVe27Fl5SbzIj2TkuZ2atdMwNO9tBJNi8blh7OpdnvW353IqMBgVjVeQrfiJYmLP02rMzMoU+pzVtXojuk7CiDJd3dxW8TZjOpOoOboL9W2iT+9AJ/5c7GTRYtnz66vubLyxb2XEZ8qbNDFZWEo8gMPj3F7fB/yRNSs9qIZEictqoYSPfNzd/jy+4d88nFDRjVX2Irz2b37EjNPx4hgXhP6VLf+HTtzfnY6KzdfYuv9PCqVhJA4HWZ+WV8AxFhitRnki1CchbGCqnms3XSOaSdTWTyqAZ2q/r6v/wVM/nkAUZh5xXVy5eg2Vm48QJ65C2722jJ5R9Poo9F0rZjCxGnf8ig6FyeZlMx1UngYlkjzrl8w5LM2ZD27z9rFS7j6RCYur0okRwQRHJ1Hr8Ej6PZ+dXGxHGX5snXEGxbH08Oeh753yDYvz+gx/Um89xOrNxwmIVN8jeXL4FSqDO06NuTc9s1c8IuifMUyQh39AH+hV27fbwSDerck5PJuJsxeR1wqlHQS6u7cJAG1ZFr3GsbnHzUV14XohRVJOndFTKo7AfciqN7zEI5OBe6AaJ+p3DiyHtf3duFZx/vPx1j2C3y3NCEiwZRqPfZTosTrbpcX0s/1fYsp2XQtVZp1eUXu9X8Ztv/0OTls9Z/LWAGLOfWW0qukk/qGAqP30OXcRtFiGCGStk0Rtu0/bbfDt9Dm7Pd86DmGFdVacjt8B30ur8HevgWD3GrjG3GAXUJ/PqLmOD5z9iwS0r//y1uJO7uQO0sW49B3C5XaNVF3kRV+musj+6BXYzTVhw8Rj8Kf95x6bz+3JgxAt8IYak8dJd6D/+Uu3oZz8ti59yITTyazYGgTOpQvWGDduenPF+se0rp9bSa1eVXStuCefW8EiOTtfZq1qU4V3SiWXkhh5qAG1Hf+mdpepZZZeBAcybRtPkTp2bLk89p4vdRc/6tP/o8DiK5w3seH+7JwykzxJTsxac7XlLPR4Z6vBGYt3UVrMICJ05eiVbIBI4eINnReJItmTifKyIvZc0YSdmwNczeeouWnI+jboSHxIdeYPWMeGa4tmT7kQ46snsJBQedhY8bRtHIJbhzfxdxl26n7yQSGtKvIvjVz2XMjh7GiWFjOyUZWNbmEPgoT3XVrSjsXF8ZfH6aPn05O+dbMHj+Y5Ht7GS0aJNbl32foV59ik/aAubNmEmssOumzR+Nkqji6tIqgHkgqD3/sScijbGr23o6tCNMoGW9Rt6dz6/B6SrXYQWXvun863uLvCYjv+lrU0MZQ68NJGBu9IneWE82N1bWIySxL9R5bcShh/1fH7Rs+XyWuuJeU/hLP0dfOZJPffGaEPOK7potpodZFgXvR++h2/ntalRvOXBE9+zNvSk5WJKPOjWB3si5L602nS4nSYup0vr87n3H3fxJpANGvluSDLrI7mVP1AyyKsFvm9Rcl8UlxDaulFsStrC1biNhTC/Ffs41SwzdSul6BNHBmxBlujFAAZKQAyNA/BRBVZgwhywfy8MhpPL45QpkWfz4+3/CA+feXk9hqtsQH1SIVsojW18ll+w+XmXc5kxWjGlNfXFBKu3XrngDEA1q3rcXktk6v7UDS4uOYtPISAdr2rB5cg/sXrjLzfJoAUCPqlDQS7a5U1vxwl6MBCcSlpBOdDn0712JUG1fRPfr3t/ifHPEPA4iWDA5dwu9fZMa0xdg36cvkgR3QVbSnpSkB9ZDbP0oMZDN1uw2WIHoLtFMjWSVb1SsR5kyZOoK726ez5vg9qtVrinMxC3IyUvG9eIbnVnWZMbg9x9ZP4eILYxp61xaXlh6pMU+5eO4Kzu8P5tvhLTm8fg6bzqYza8F4KpSS83PyyEiMxffOLQJDIiQmk8KNU2fIK9uSORMHk/PoIKMmb6HDoPF82klUD5NDBECmcCPcUu5zAs7mysRZVAGkByGh2dTqvYNi1i8BxGcGN4+sw6XFdgGQen84pjJfnOLWtl4kZrtTpcsmnNxkQnylJQYs5eLOrylWYw41Wg+TbLb/ZGi+PcekSwB83YMjPEhNklerR2mz0mRn3WWjCButaLKIZi/jHf4CIJ0FQNqWkx1IFUn4+INHUImrb/3dRYwPuEjHCsOYW7W9GiAiE24ww+c7rqTl4yU+7wdx/qTpuTGmyud0c6pUpFUJfzFDxgsiflxLTOATtCT7TN+6nKTCxxJx8kecB2/AzdtLfWhWxFmuyQ5Ev/qIfwEg2UQfmM29lcswrDOEGmPGi0Ry0UHajPhY1vz0iPCkHGWiw02E6Eh6yvd3clg6ohH1HAsA5MZNAZD1QbRpW4cpbV/dgeRz6OA1ph2J5rMedehXz459By6y9EYWUwbUpWlpce+L2NapK0+4HZlGekYaV32jyTI2Z2yf2rSuYFkoYmVvB4DIxzRrxhJc2g5kVPfmaAmAKAV7StpsQRBdAKTLV/Tp1ASdtKesWTqX6xJkmzJlqADILL4/HkLFGtWxMtVTr250JbBezL0WTavYs+3bydyKMada1TLy7wVor6ujJ5lCLWld05GD6+ex7VImM+Z+Q0VXG1FNe8TOdWs47vOIYiVdsRFAeOR7C70ybZg14SuyXgLIBwPHiWxuI/RFSW7BvJkS9LRi2pxvcCqyAJLOw8PdCFS7sI6IC0scqtKibkzk1vFNlG6zlwrVav5uSsyMu869/R8j8T/KtdmAR7W6r7tbcmLx+6EjT0JjqNTtIK4eZd8eZPgP7yQt7SErAvcTqAYQXcqYl5FC0kBWPwlklveSX1xY/k930P3yVj6oOJbpFRv83u2Un8rOoPWM9d1PlRJdWFbnc5wNJKEjN57ZF0eyOiaHybXFbVu8NPejTjL65kqyTJqzu8lwShn+Cz/Of/gc//RhqoznRIik8fOAMHQEQPRsymJsJkHzo1sl3rFRXFiN1beYGXaC66M+w7DhOKoNGvSHgfHYs8vxXzIT7ZKtqDRmATbOMgEXoZYu8rTLDwbzWJcUzFEAACAASURBVJQClTnJQ9J19dKjWXYljXlfNeGDCgUurBtX/RiyOZgPOnkzRh0XedlUaQyaepIfH2TQtHpxbAU8Q8NiCEzIo5yLLV91r0ZTN5EQ/rmJQN/Jk76M3R1A/db1WPChW6EsSv5xANGTHcjToMtMnzSPXHE7LZw2EEVx8UV0FNnaZmQ8vSAT8ya8Ow/i087iV1YAZMkcrj8VAJHgm9/Omaw5EcmAMVNoV7+cfIw5ZIksJDoG5CQ+ZsnUMQSqPJkwcaRIQ1qqs7GyMrLQNjBCXzITDqyby5YzMUxYPId65Rx5cvNHxk9ejLlkFk2f2Bet+GCWTpxAoElt5k4e+guAdPhiLL06Ni4AkLkz8Im0LuIAkk/4hcH4HN0lQfT9VKglWVJ5Mdz7oT2PH2dT7ZMjlHCwlsB5ArpGFpKZZkhWvC8Bh/uLbHAs7pKaW75Ok99NmimPtnNt5xfolhxE7V6zMS5iu4+C7y+/wIWl/m/JypOFyNlHG/j0+m46VRrP4qpN1b+svTaE6U+eMqveHHo5epCaEUe6JF/aiF6NtmShHXm4keF39+Bh14oltb/Cw7gg2Tc7PZRPjnzGQ5P3Odh8HI4KVuQnMf70QPamOLLv/clUMCn6cq2KS1RxYRUU30qKvLhRkn1/4PbkURjW+prak4arx0/0gZH4rtiG01dbKN+hBfnJceRkibdC3KraYvuEmzvwE49BvngZKo1ZjK1bUXOJykOKDXLEhfXLmNKWMSVB9M/XhvDpx/X4prXirspl9bozrLiVwVSJi3QsZ0ZyUgY5sgu2Ms1l248B3I2UEaarlCeo5DuNwS8hl8pudgzqWpWqDobqjFWTl4UfAT4BDFjtg2dTb5Z0cy+UepB/GEBk9yZptTmJEWxeMY9dZ4Op164bNUpoceL8dVwaf0q3crGMnbKWet2kDqRbczWArFwwXe3CmrNwMtkPTjJ15kryi3nSqeN7UpglmsJ+9yVG4U3H96pzdtdKlq4/RaWGbXi/YWVyU6LxD3hC7XZdaeZZkhO7V7Jg/RG8mnWgfmVPipuLL3r1ahIMK9BDdkORt05y4PAZLKp1Z8HUYWQF72XINxvp+NUEPu1S4MKaM2MKNyOsmb1ochF2YUnOVfiP+Oz4iGTtqnjU+wRVwkVCru/HotIU6nQcSWrQYm4cXoCt93K8GrQlZH9r/C6ewtipMS7VxfWonSWFYDpYln6PEqUrC5jHEHTwYwJvXaNir6uUrViuCK0R//Wtpibfof+58ZzPtOSLCp2xy3vEooAjFLfryPd1B+Emrpn+h7/EX7ciG5t8g0XGBRofHU+Ylg09S7enloUNmTkZmJp40MbBne13JjAnPIquHh/ynvwdFitqmw9P4GzfmY31+lHiX0WSi7BV8xIljXfup5LGG0mJLqOwsEzgiXyz2SZNqD5jLdYlMwma9hERt/KpsmgnVhYh3Bzdg5iHUdi+/yX2ldwlgzMFjOywrfchlsVfWXUXMbvEyTZ++MJz3Mkx49PWZTBOiWXtsTCcPMuxYoAX1jkJjJh1njBDCYSPrI2HmZQbvKx91pLknR/2XGT+1QwWjWhCAzstFq85w9V0U1rXKIlxbgZ7Tj/AL1Gbcf3q06e23bvgwnq5ohMEfRrsw84dP3DnQaQYRVxQzhXp3LsPZQ3DWLH2R6q815UOzaqjnRHL3m3f4xdtxMChn8uHlcHFEwc4cPQ8LxKzlLIQdCUA3uajXnzQwpvM5484tHcXZ6/dk2IaCW9LaoylfKC9v+iHdzknwgOus2nTdnwfPsXBtTYDBnQi+t5Zfjh0jtScfKzsikvml1CpONVlUN9uZD05w6KVP9Gk22e0aVoNPQG0TRvWEhBtxqBh/bA30VUXLDoUlzRDqU8pUk2VyfO7awm+toH0tERBd2PMnTvh0XgINsVspFL4O3zPb6BY9ZlUqFGXR4c/JjIsWMIC+qIHL+VvIimcm2lACe9JVGzQkfy0YO79OIykrErU6D4H4yKbYvlHb1ElvuUfWShZQIEZKRL41sbdqhZDKvaiQTEHSed+xthzUwjRKcdC70HopJySOo/d5EkQXqlRylHlSQFqNsXM6jC3Rn9s8oJZ6LuZy0lR6up9pWK/nE0NBlbsSl2rd7uQMC3wJCHbviVBkldUsgfRt/ei1Edf41i7kmzPXvBo1TCi/LWpMHEZprr+3Fs6i/SYZPmWZaMmafMqqQHTtvKQOhLJ8vMsysWEedy8Eczqn0J5KMV/ihvfXeo6BrSvSG1nY9ITE5ix6jpPDYoxtV9VXMxe386fPuvD5jtZjOxdg8q2upw57ce6C894lqqwbIC5mQkt63vQs4ETVoaFE0X/x3cgBZ+mUgwotWiJ8cTEJpArI8NSMltspFYgNyuN+PgUDM0sMDMR35Z8eCmJiWTmamElgV59iciqJFgUHxNDUkoaKilINDYxlzoDCwykqkipKM+WDzw2Jpa0jGzxbBlgZmaJpYWpujpd6S8pPoa4xDQMJMBkZ2+LXn4mUVHRpEn1pqmlJUY6+WRL5bC19JmfnSr3k4aJhZWsHg0kXpNLgtx3dq421tbWSnKJmvyxSAKI8irEHplJ4WSmKx+oMUaWzuiLzdSOHKk2z0iJExeWLQZGxuSkRYlLUNyFasdDwVJIpZIYk6GN2NJUXXmemRwtc6HYUN7fu9dUxIvfOlpWwCpxK9gZO2ArrtGCJq6WtGippDHAQRY0WvlpRGUmK56Ll78WHKOrbUgxQysMZOBkZifwND2BDHGX6esaYyt2tpIi1f8PLScpmszYGJnoJLhuU0JocSx/saNCc5KdoYWhrYPMFOKCToiTb74g0abAGabQVuijZ2GHrsSUinZTSQ1QGjHJ2TKR6GBrbYLNS7+vSlAgISGNTJkf7SyNZOy8/qRpUmeUmJGPjYURhrIolw+Q2IR0GYc5sigBU2NDStgY/cv08v/Wdm8JgCi3LSAiBXhK5lXBRJRPrqwulMlJXRmusPEqledynFKop+TY5yj+VOVfBAiUc39Nu5fcZzlXnS6o9CCgolSS/9KUFaBCWaJ8zUolu3LdlzQnynla8oIUECi4j4IhqrwM9f2og/tK5bvCxqsM4oJrK77ZHKlcVyhUlL+LLID8tyNIc7zGAhoL/L+1wFsEIO/GOyjKVCbvxhvQPIXGAhoLvCkLaACkkC2tAZBCNqimO40FNBZ4ay2gAZBCfjUaAClkg2q601hAY4G31gIaACnkV6MBkEI2qKY7jQU0FnhrLaABkEJ+NRoAKWSDarrTWEBjgbfWAhoAKeRXowGQQjaopjuNBTQWeGstoAGQQn41GgApZINqutNYQGOBt9YC/28B5GeyxlfrRQrjLWkApDCsqOlDYwGNBYqCBf5fAohCNZKe+Jywp4kUdy6Flbmh1Am+LBH+i29NAyB/0YCa0zUW0FigyFjg/x+ACHjoS2V7wIXtzFp9md5Dh9OiTlnyMrNeknH8tXf3LgBIRuw9ogIPkxL3BD1TT2zLtcHWsdSfGiYtyoenAYdJT43DwKIy9uXbY21vJ8fniWZ8KC8eniPxeZBoQBTDslRLint4qeVIi3wTNufLkRc4E/OAlHx9qhSrQSun6lj/C8GTGCHfPPn0GvdTXghXmjneJRrQ1M4Z36eigSFcRwZq/jRFkkxoeGSsWhu70sKxKmbCblCUW0aEH9EXjpAeHY2ebSVs6rbCxv2PeavyUl8Qf/ci8f63hRdPF5PSDXCo3xgD4Zn7peWlEXvtJ5KiM7Ft0A5zu3eDKkeZh675RnDpoVDaiKKMp7sDzbzssfw33FXJol556EYUWqamNBOZCgfFVsKeER7+glO3owlNyMbS0piaontb190KvUL6/t4aANEWOhKFCFFhDlH+W/mI8oW6RNkXKHxW6t/y84U+pIAAWWnKTuLn35S/8+U35X8Fv2mraVGUCV2hOlFoTtTny98KR9ad0+sYt+gUX4ydSNtGVYW0TcjL5CClf/U5r/VdcC8KTYnSl/Jh5wuNyc+8Rr/+W8H1izKVScbzS9w7MproiBeYWFmRmfAIbYuGeH6wjJIuzr+bw1LCDuJ/eAxxIoxjbG5Fhhyvb9uCmj3WY2EYj//ePoQHP8TAzI7s5EcgIkmlW66kfPUipB73RzO3KoMf7q1kSsAJDPTtMSWBsCxtPizbl0mebbB+SYXz6qmPYy/zzY0V+KSmUdq8pIiVJeJi24wpVdpx3G8eK59GCFmg0OIIeKjykwnLTMDOui27Gg2mtJHwwBXRlhFyloAVE4iTSdGouAWZUY/RdWhExXHLsXO3ff2pVCmErR1LyOHDaFuWECr3p+SkaFG863Qq9vlYZAREcCoqiCd75hN+dA95lp5UnLAFx4quRdQ6r9y2EJL+cNCHhT+FY2Rhgn5OpnCjyZhqVYVR7UTOW+9PNJKFC3DD1qvMOBIuLNglmDe4Ht6iSBga9ISpm2+LEJo2LsUMiIpOJt1IEZSqRUdP4e0rBIu9BQAiugCyUs3IyJD/18VAV0VSYrIQiRkKoaKlcNbnkZggaJwtxIYWlmpCMJXwYmlpKwibQ7IQK6ZnyuQvZGoWCvGhkKkpk3hOVrqQ0+VjaGhAekqSkC+qMDO3xEQ0GPSESOvume+ZsOQMA0aPp32TqjLxxZKUlo2R6C4YyceqkCSmJMWTmi4EjPpGQtxoKatDSEtNFRpuFaaC9AqZmcLCmp+dQZqsHPQNTdTgpLDwFkkuLBE8enS0D/dvXBUN9LWU9qxG3L2F+B35Fsvqc6jdaeRrKnv52VEEHuxFcEA4FTpsxNGlFFG3ZnH/7HeUaHqIyrWr8vjaRnQsqmLn4knig7XcOzEHHYeRNB04r1AEbQrhG/ifungRe4Zu52aQbtqM5bU/ozgxTLwyiVMZlnzXcAZt7V5fXWcLq+zki8PZnpDPN15DRWWwMtmZscQKvZqLRXGShdU5KjNdxpQsitAj7PlRRvnupEypL/i+dk9s/gCQ/qcbf8MnqbLjCV3ZX8TKfHEbug6nOh7EnVxAwPrvsW47F6/hohXz6j3lCZ373o1kqqyxr9OI/MhLBC4bSXJ2HWot2Y1NySxCFvcj/GoY+hYqMjJ1KT9uG46V3N7wkxX+5SIfPKbfgsvouHswu3dFLLOSmbHuKtdSjFk6shGNSxn/wUVV+PsEMnS9P+HpuTgIGez8wQ3wFlGZDTsvMOtkImP61qNHNUt8rgUwYos/tVp6s7jzO6IHopAT6ualcPrwHi4HJVDMJBs/34eohIm0YfMWlDRM4sTxc0TGJVO6UkN69e4q6l1W5KQmcPnMUY6euEhccoaw8BpRoWZdOrRtQzlXO/xP7WHPCR/RB7Ah8mEgz+IyKV+jKV26dKCCiyW3T6xjvADIwG+m0NTTnJ1r1uL7DD7q358abtZcO3WAQ8cv8EKYMXUNzKjZtB0dW3sTfPYH9l14TMdPB1DX01nWirlcPbqb/ZeCaNl9AA3K26t3TUURQPLSAri5tQOJ+Q2o/8n3AtaKVPdDbm1pQ2xeVbw/3o2l6a+roIyos3L8R+Q5fE693lNFOkkILmOvcWNzR9JNelOvz2xhBRVXzEtW++yE61zb8AGpWh1pPnSlaIsX/kf4ZnrM52jQcr688xNDai5ghHtF9WUvBy/j49vH6O81mTFlar2mtxARd5r2J2ZRp+wwlni1+zdiPio23ZrI5OBgptWfzsdOZd7MY/0NV8l+fhvfST1IMWxF3QWLEVVpVEn3uDWmO2mGNfGa9j0W5q+srMXtki+LPW1ZiKmbKo77Ez8g4q4xNb79gWKldf+PvfMOrKrY2v4vlfTeE0roPYQeeleUqvQqiFJFeg+996YIitKrIh1EpNcQEiAJBAKkkd57Pcm39olewXL1/cz1crxn/EOSs8/s7LVn5pm1Zq3nIf7yd+g4VCf/yUGCD5+lmhpAXpVR/g88yn+4y2LOnPFhwoFIpo9ty7DGturxc+G720w5EikiU60YJ7K1v/RBsmVzPe+zq/iJLk2r8oVcDClk6diWNBMA+XLfRZZfysR7pKybDWx46K8ISt2nRWcvlnSrIAqtf/2R/useiOJJ6MuuY/+X6/ls7wXsynvQsnFlQkSEKDQuHVN7O6pW98A0J5xLN0Lo/OEMxg9oIzvZXSzduB8jFw/at64rAjN+fH9T0LXLUKaOf49nRzbgvXYHBTbladOmFcQFcc43krff+5jxgzsLEGxj1qarjBg7nOxn19i+/yLNu7/HyPffISvoOxau/go9twZ0bl2HcL8fuOifQN+x06mhF8iiFTtoPGAaU0b0xDz3OWsXenM2RI/Zyxbj5W6j5t7XRAApSJHdzp4+qBzeo0nPRRgriKCKJ+DQu5JwYEqTwceE7v5nevGM0MPc2jUSC48VNOrxQQmpe8ZT/A/1IjGzOk1G7pcw1s+jNOXJV9w5OAq9CgtoO2iGmvpeM1sBux4sZc7jB6xpuYneTiV6HY/jjtLn4he0rz6RlfXav7KzDojcTbebe2nn2p5ysjhG5aaJ+FgNuri3x8PS/pWFITn1Dn2+n0medWd2tRiPu7LqamhT9HP85r1PcZ1xNJowuUSetiiWB7P6ER/vgOeCPdiW/X253vxoH/xn9yadFjReIWDj8PP4izsxl8D931Ft1r5/AICo2Pf1FRZcyGT9xHZ0rlKiQHnvbhCjtwXTsUtjFnRVVApfbkV8d+oOM49FMfq9ZjinPmflpXSWfdSK5mVNeBL0nLk77xGjZ0anujY8exRNkrE10wc2oJnoi5RGe20AZN8X69l37hkjps+jR7OKXN77Kau2n8Szy3CmjOtLQcQdFsxchH7TocwSycd9K2dzPsxM1Apn07KuG/mpz1gx05vb8ZbMXbWIMvcPsmDLCbz6fsSogZ0ojPFj2uR5GHq8w8LJw0i4u4vJy49SztWR+Jh4PDv0ZuSIvtgZprF9qTf77+YwdvoMunhVIv7hNZYtWoZejV5MGtyU7cvm81i3FqtWzcEk7hazZy3BxGMgc6f0k8NO5fxEVyMARJWXIfK+WeqzH0SXoijzHv5HxqBffjT13/qoxEMojOLeod5ExlrTdPC32Nv/PNkzQg9x+8AkbBpvpn77HurxqEoN4N6BHiQVeNHkg10CICVuhio7nMBv+vA8JJY6fY9QuVaD0hi/f0sfxUUFpOZlkv8jfb+ZfhEHxQNZ/iycz9uvobVliR73/ZjD9L6ykx41JrGsrsgvv/TXXXm0lj53v8HM0IkGttUxKkrhRnwgrk7d+KTJKGpJSLSkFXDk/lJGBd5iSqPFTKkqImp/y1OWzk1UoiOTn5WjVkBQwsqFMj8Clk+jTMspeLw/tMQmhS/wn9WfpBRX6i/YhY3L7wCIqOhF7JxI4K59uA7fQu2hA1+yaZFI384l6ND3GgkgShg+NSOPAmW3KRPQTEzwzalbrLtZwKdTW9PUpeTM67ZPAGO+ekL3bk3w7uz2CoAkRL5gwubb6Faowqcf1OXK2assvZzF6gmt1WcgFOez55vbLDwaKhoz8kJE1qJ31wbMf6eqnKeUzvt+bQBkz7a1nPLJZPEnq6hpY0Lg9zuZs+kM3T+Yxcj+jYkPvsuqmTNJrT2AqQM82eI9g7QKb7Bgxlhs9CRfQURXDs6fzJdXE5i0fBm2z4+xfPd1+kxaRr/W7qQnR7Jq/FjiK7zF/CnDSby/h7GzPycjMxfLSi1YuWI+TarYkpH8nI0LlnJG4lkVq1bCQl6sorb3IjwCt3qdmD31PW4e2MCmr+8zRgDLOuESK7+4yJCZy3i3VQ0RwMqRMxBN0AMpJt5/NQ8uHxBZYZnWes7Yy244M+ITVHZDaNRttpxHKSt/PA/Eo1A8kKaDj/7CAxEA2TseiwbradS5n3pwF2UEc+/gOyRmedLkw91YGsvyV5jKk7NjeHjzDC7N1+HZaahoqmiO+5Ge8YD5fju4m54sk92AWlYe2Ou/YH9MBOtaredtWyXjDB7GHaPXxc95o8ZEVnm86oFcCFrG0IDrjPKYwOiKzTHWyebzu0tY+uwFa9ssZYBbZXUfGRn3ee/iTB7r1+dAa29qi2iZ5rQC4k6t4sk3p2U8SeKKiTO2tZuQdudzdOqNo8GosSUiSEVx4oH0JS5RPJD5e7BTi8D/sqmIP72GgE2rMKw1HM/ZCzGzftkWmg0gmXHReO8O5EmSKHnKhrOmuyOuBsnsvFfAugltaFuhxEO46xvEqO0SHn+7MQu7vOyBFPLZ5xfZdDuDjwc1pmtNc46eucOO+3lMGNCQbuJx3Pd5xLIjIXLm6CifW3LdN5Q7sYX069aQKZ3LURoCoa8VgJy8lc78DSuo42BK4PldzN10li7vzeBDMVDiYwGQWbPJqDOQKf09+WzeLGIdW7Fkzsc4linAwESHHd6T2XMrlanLl2L99FuW77rKOx8vpn+bygIM4ayaMJ7Eil2Yr3ggfuKBLDuKo5M18QnJNH9rKB992BuTfLlu9gKuhRfxdrfOOJoVkScHnUbGpriUr0g9z9rE3jmJ96It2NdqhWVGAEF5FViwcBrVHYxENrdAY7KwMiK+l/Ohu2rBLXTNMLWyJeLWdDINutKi/wZMlE1MzjP89nUjIa+GhLAOY23+88KfGXkUnx2DMajmjVefaeqQTUGKH3f3vkOmXh9afLgSI51Mwq56E/DDdmzrTMfj7emSyKBZKam5eVGcCr9BRG6Wol6Gm6krManXWSW28266lg8rlMTffUI/Z6jPMQbXm83Mal6v7BbvhX1JjzunmOO1hBFuJdrw1x9vYbjveWa0XMawcso5h4qzwZv48K4AUe2ZrPbopFHeh/L3Zzz4nli/QLWanq6hGUbWpkQemkeewwC8Fsg5mfLqs4K5O6M/GboeeC5SzkB+6WMVkXRNZKvXzEfXpT21pq7CrkIJSL/c4o5JCOvgOarN3q9xWVh56WkcvxlFfLaI0okH4uJgTvKLUJaeS2XpuLb0qWepHj9XLvoy5VAYA/u3ZHwrx5/HVFEGHy25xPln2dQoZy4JPjrExmcQLYqELnaWjO5Zg5un7uJTYM2G8V40FI8kNiyaaZ9e57GkfByf3wxHk7/u275GALKGEzfTWbBx5b8AxHvDGboqADKkSQmAzJxFep1BzBzSjL0Swjoj5w5T5s6la8tqpIT44C27lDAddzmjWEjB9a9YuucqvSYs+RlAPv6IhEpdWSAAEuf7FTPWX2bAe70lc+gEJ28nMnTSXAZ0qMiupbM44JvOuJnz6duxLjqSThcdGUm25PrbiTa4niwo6xd4853vcwEXIzoOGsPkD3pgKC53gajca2waryqWe3u7ER6aT72BRyhfuSJJDzfic2gaZjUXqkFClRxIwvMgzMq3kUP2ZPzl+rhUNxoNPY6jo7mA6yLuysS2a/kNjTq8SdStpTz4fi3GlcZLOHKuSAmbyBlRkYBWSWq1pja/sD0MuLqVupVGs91rAOZFyaKBPo7dKfp8IoDQw9GRuxFXicWKlq4eki14iTfOzqeW+zA+bzoMS5JZdnUGm6Ny2Nx2GT2d3SQT8TmTr8zmdIYpO9qvo41IOmt6K8oMJWBBf6If6VNv9dc4V3ci6eIq/FctxaLtEupPHYMq8j5JQU8xrSEbsvJ2pMpZUcBGb3KN6lFr8lqca7urJWx1lDGjjreWtJhvvQVAvqeG9wEBkAqabiru3Ahg+MZ7tOrSiNUDq2MoEsjeGy5y/IWBZGG1oV05Q+76R5EsUtNNa1nwICCK5wl5sqeRzD2ZU3fvPed8RAE9Wleme11bNn16mXCrsmyd2JQq1voUJCczaf0lrmfacHJxK1z+SQCyc8tKjt/IYNGnq/EQDyTg3FfMWneabiNmM3pIUxKCfVk6fTrpNQeyYnJfnl7ay9L1e1DJIXnd6m4khT3haWyWeCzjGTnwTfz3rGTZPiWEtZyBbauIBxLGkrFjSK7cjcXTRhDr8wUTV57no3kLaeyYzpIp83mqX45pc2ZRLj+QhQs3kyqZYPVqVsNAcv6j41Ko22EAg7t4YSae9NWvN7Fkwy7SLWoyc94CujYuLymFIrGr0ZK2xSTcW4P/iQWoTGth51qO9Mjr5BRWpk6vHQIo7ry4MZU7hzfh3vUw9dq9RfTNBdw7uw4DKaKzsrMhNfwi+WUkfDXoa8x1gri1uzfxUbFYlG+HpWjYK5ryGDpTruUq3MrZaeykL8gLZ4Z4Vnvi4mni0hBLCctcigunbcVhrGvYF6viSPoc+1BCUXXZ23EBtY1y8b48me2xMTRzqo/sN7kaG0Kj8oNZ32gQLrI1v/HsK4be+gqPCmPY37yfJPP+A1pxIfFnVxO4eTXF9p7YVHIgPfC6nCdVo/bCXTjXsOfF7gkEbjlEuXF7qdG/NoHe/Qg9d0k2HY2xqlQFHdmYFYk1bDtPp2LzGhLaWssLH39yXjwkPSoRi2oNMC1fG5duk3Cs5qSxRsuVQtK5n1zm2LNCGtdxwiAnndshGbRr78HiPtXQz0zkw3kXiTRxYNuM5lS3fnmEFPP1kcusuJbDhiltZYzps333ZVZfTKSa1NpUdTYhLjoZv7AMOnT0ZGnvKhgruuB/sf3XPRDZVqBXnMm186fxDymg97DeuJqXITLgKoe/u0f9tt1p30xCULHPOXnwIJmOXvTp0gILOfe4ef4MZy7dIi0nT9xlC5q0eZM32zXFWqowH109zalbIXi93VdSJx3IFeMf37VDvt+AXm+3Ju3ZZfaefEjH7u/QtK4r9384xsHzAXi91ZtOjSsRfOs8x89eKhG3FzvbSYy6U5fu1K3oJB6GLpHBF5gxZSVlKrdn4fxxuMmpVEFhSRGixnogMpiKi7KIe7CbyKBTcsCeg4F5NVzqj8KtSh21x5D6dD9P5SzDrsFEKtT0lHO6VKL8t/Mi+Dwq0YQ3sPSgbOMxOEu4Lz/lHs9uf0GW1NPIFlKKMQul/wKpSHfCrflSXNx+UUT2ljI+uwAAIABJREFUFwfz3/31xPQAtgd/i096Eio5G6lv34r3q3XGtYyBnJul8JnfpzzDnXF13qWC1CMlpD3kq8dHuZ0WQ7EkLdSzb87QKm9Q3lhihbJE3gr9hn0xYfSoNpR2P56r/N3P9J+4X3FhJgk/7OTFlfMUSF2VgV0NnN/6AGfPasqII/XWLsLP3sDuzcm4NrUl/OAnpDwJlXknKb0FMv+U4l4dQ2w7TqJCs1rEnd5A5E0fmfMmUqOljyonQyqw3XDtOR2Hqo7/iUf42/qMjYxl3/ln+MdkSxjQgHq1yjKgTQWcTfXIy8pg1zeBRBtY8WGPqjgbv5ymUcztO8GcelLAoLdqUFXAJUvCZMcuPOVyiNTKSaRM38CQBlKJ3rtVBRyVs8lSaP99APnxIZRywh/LzdV1FCU/l3yoLMrKD0rap/KvkupyqR8RBC3IyyNPFi7FOGUMDWWBUqmryX92dYt/rhgX91fNePVjpbm6Ol1+USz/0Bf3WCWZEUq1ua4CahLDLSookGLEfKlo18dQFgUxloxlAQjJRbx7+kuWbf4WrwETGNe/A/rKAimfazqA/DSmiqWQUiVhAz0p/X0pavC7Q65YVSD2K5IJLdeXwsDUpC7ypRK4WEeKYNU0JH/clOuR6w1/dX3JOP+nNvUYKZAxImD6z33K0nl7+fkFci6pJ2dGf32hV8J/eRJaNxCKndKmEHp9AERZpRSA+InUUH5Wg4DE9v5FGSIHmAqElACKMtcUUFGGohoK1L9/9bOS/n6iSVTSa3/+vkKD8tLnP/ZV/K/7yf0FsX4a6D/1ra5b0Uljk6QPn5aMh2kL59KmXlkK8+Wk/Udw02QPpHSGv7YXrQW0FvhfsMBrAyCaY2yFCyuHoPtBZBabUatmFTkTUbixSp7gn+KBaM770P6lWgtoLfDfsoAWQP4/La8v8UnFgymU8JkSuvqpaQHk/9Og2q9pLaC1gMZZQAsg/7+vTAmxKSGzX3xfCyD/vwbVfk9rAa0FNM0CWgAp5TemBZBSNqi2O60FtBZ4bS2gBZBSfjVaACllg2q701pAa4HX1gL/WwDyr0yrl7K1Xn41f/T5n3iNWgD5E0bSXqK1gNYC/wgL/G8ByJ95Zf8mFV9JAzYwlOpPqTXJl8NzpSmpxv9KHZaftQDyZ4ysvUZrAa0F/gkW+B8BEB2pDtcj8uFNjpy8LpQk79LaU/h1pFiuJIFK+VyX2Ce3OfTtDWp37Eab+pWleFo+//EtK0BRmJ9FTHSMUHFY4eJiL/UgolytFBxKhbVSRKe0fwaAFJGbGimKeWlS7Wsv8prOwjD8b4a72DE7NULsk41eGQeMrRx+Q+ujmPzMBAqkkKyMma0UY/4jiDr+cA1IzYkjVqjgdXWNcTVxwvTfFIapVNlEZyWQKRsUC0Nr4Sqy/ucU3BWryI2LoCArC10TO4wcnf64qE2VR05iInqm1hgq6mYvtcKMRHITE9RMtvoWThjb/DM00ZVHzMnKJSYlV6TqdLGzNsHmZS343xtxMmbiU4TyRerUbC1FdVUyRNNFaC8z7+ei6h9L7dRzz8bc8E8VCP/RANdsAFEyoV56wp88gZcJ19SFg3KVUoX58NI3LF67hzYjvBnRRfQoZOFTV49LH4YCBMF3jrJg+R7avTeFYd1Es7tQ4bYqAQU9SdtNenqTJfOXoVv1bebPG0uZtBcEhURh5VSBCq7C8yQVn0p/mlxIWJSbQMTtjTy9fZDc7DhhLy+Lo8doqrd5X2R8f63LXShkeWHX1vLU/4SwAmRIlbHQLjQYR63WgzFUU6+WtKzIM9w/NofkDKmd6b0F98o1/2hsavbnosXw/dODbHh0kofZQuWCEc1c32aKR1/qiXb8L1t4si8b7+3iako4CcIXZmVUnqG13+f9il6Yl3b58N9s2aLMGF4c3Uzo8SPkpacIzXtZHDp+QNUh74uE9G/vTHKj/Ak/tIGo20E4D1pG9S4dSua6yFin3T3Bk93CVfc8VD27DRxqUL7/bMq3bfHvNzp/83P/329XTHBQOJ8cDeJGWKYQs4K7UCeN7FmXN2pZv6Iv82rfxdy69IC5h59g6uLI/A+b4mFdzNavLnE4KEcYOkqq2RUAyZVOnd0rsPHDeliXAp+7RgOIrmyL9ZRiDGVcqWlGxAuQHYmeVJC/HFZS2F8VnfLgK9+yYv1+AZDZDBMAKVa4meQ/hZ5E+c5j3+MsWb2fjkMnM7ibl4xVoROQYVsk6K6AUFZ8mMhOfoeuYx16dG1H0v0Tolx4mKY9RvNBfy9yRUinQEBEcwGkkDifJfidWo1RhcFUqNOY5KAtRDwKxv3N3Xi06fbqjrgom4gr0/A//zl2dT7GtWIVYu9tJjoslJq9L1C9XsOSca5KJfDrnjy+c0kAyZHaA49TtXbj//v80qBvhMecFHGp1RSYNmJslTYijXyZDSHX6VB1DJsa9sfmFU+kmHMhX7Li0W06VHqTsgiP1qN9hOpU5YuW8+nsoMH8TsW5xB1dxINPP8Os8fu4Nq9F0oUtxPiE4z5ByBPfafert5px72sefbaSlNBQ4RjTo+zIrdTu2V099goSArjv3Z/kNEcqDhyLUWE44fvXkG1UG8/lInnrrLkMxlnibU0TttxLyUYMf6sKNrmpfH76KWXKlefTj5pQw/a3vfaUuFgmbbjO8YfpVK7iwtqPRZHQxYALlx9yO1q4x2SsKdGSpLhEjvhE41C7Dkcm1sf694Ug//RM00wAkUFlIASMvrdukZBbRmjUE3gQHE+rt7pRyV54qm5c5+HTSFS6JtTwbEDThh5YC4Wu4oGs3ngAj24DKG+UzvOoNCpU86BFi0Y4WRnz8PZRlq09TIM3elLBOJuQqBTKVq9Hq2aNcRS3MDcjnmuXb1Js7S6kikac2LuTb874UaVhK5o1rEGlGnWpU6OC6F3r4OishH3+HDfSn35b/+ELi4Sm/sHBHryItaThoAM4udiRHXUG332DyLfrg9egLZi+NIYLUu/jv78PyUUNhH13B9aWhqSF7BPZ2mHouy8TTZFJagGhlMCV3D62AUPbGuSlRFOpy5dUrdP0P/w0/83u89l6exZLw6KY77VItD4qU5gbzkcXP+ayqiI7W82jkcXLIRdhQc6KIUPkAiqalzAUf3ZnOlMfPmF1qyWMdNdcb02V/pTARQOJjXKh0aqd2LhakP3oKH4LxkHl/jSYvwrjV+RhxBanNxEVkChCb5ZEfLsdm55LqN2rpxpAsoOPc3v6EIxaLaLJ5I8kyKMiZE0fnl1/TJ0VF3GtorkEnT43HvDhliC69WqGd/fyssbls33nVTaITtLMMW3oV/c3QppF+ew9eIO1V9Oo6KQn66EhS0Y1p3k5kcRVUzuVzAMdXUX+1pfph8MZOLA5kzq6/huP5s/PHY0EEB1dQ4yLYtiwejlf//AYKwsj8vNNGDLmA4ojLnD08lPsHRzITokhPsuQ3sPHM6hrM57dOMryxWuI1jHHVqjH9QuyiBdFsNa9RzF+6JtEB5xi4fKtxKTrYGdrg0FRDnESi2zV4z0mjHgH3ZRgli9ZRa5jU6F1r8RXG7fh/yQOG2dXHO0daPlWD7p2bC4iSsUiVKV5AFKQ6oPPnnfJtepLs96rMVYE4ApiuC+gEhlvp9ZEt7f/ebZnhAuz7M7hmIhWSNNe49TiR0Xpwfjt70lyflOajfkKo+wgEZh6lyyDllTybMzTHzbg9sbnVKvr9edHqaZdqXrBqMuzuZVjx442q6hnqlhGdNT95zPniSgQtlpML+eyv/1U4i3HiarjbJ+lXMq04LPm8+kgY0tTW17kFfy8h1JYZQRNZ8wu0UQXSdv7M/qQmF5OrYlu4/yqwJhKWGeLRYwqP/J7/OZPwKLrYur0fqfEA0kMEH2RoSTHW1NlrKgUGkUSsmUuBXZvUs97NeaKhKhGNhUHj1xjztlUVk5oR09RGFSa760HjNnxhK7dvZjT2fVXZ2IhgU8Z85kftZrXpYlJEltviKrr2Ba0UADkpZaflsK0NRe4rbJjy/im1HMsHaVLzQQQ0Vo2VsWwetkCDpx/Qc9BQ+jQtDb21mbEhgaSY+xG4wa1SXp8lQXeoopXqyeL5rxPkv9pFs5dTlGVloz88H3KGcazbd0afGOdWP3JIsySbjJn0SZyrD0ZP244FY1S+WztKvxSLJi7fC1NbGOYM2sh2XZeLJgziojL+1my8QhNeoxgcM+mwugrf5eRofxfTyM00ZXx9RIvJfnJN/DZOwTcPqBR1+k/StrGcf9wLyJemAmA/LakrVWDdTTo3F89uIvSH4ukbS+S8urR5P0tpNyczIOrl6g76LxID1/i1v6llOuyg2p1mmjkNP/NP7qE4vnHrZ5YIT+MEVfn8rioErtbz6OCek0TfeqA5cwKCmFVy8X0dS3/SlfFRWkceHiAs3FPCM14xr3MJIbW+pjFHr2w/OuErH+rrV8eU7lh5/EXuQP9xhPxHDXyR0nbWB7M7Et8oqMAyG5s3X57McsKOYn/gmlYdF9MbQGQn8yQ8eAb/BdPID0mHX3DfHTsPKkz/xtcajj/rc/5l2/207hRE8IWsvfwVZZfzWWziEe1Lq9Q/Iuk7d0gxnweTGeRtJ3X9WVJWxlRmaJjtOUqP6SYsm2SF+E+d1h8MZNVEsJq5vZq0sHNi368/8UT3u0t2urd3SVK8pf/enUHGg0gK5cs4HaklSgQzqeOmwV5efmiYZHB8+Agnjx/QVZmMpdOnUC/Ujvmen9E5r3Tcu2XNBs2m5G9WlJGlcbRnWvZcsiXscvWU1V1n7lLd+DVbyJj+7XDQJXJiW1rWH8kgBEzl9LLs5BZ0xcIgDRh8cLJpPsdYcaiPTTv8zHj3mspmiPZGnQGUkx62EnCg26old7Qt5fdmx1RfsvRcX2fBm9PRH32pqgUiiZ6ZLTorQz+FgeHnyd7Rqhoou+fhHWjzTTo2EM9oFTpgeKxvKv2QKq378bzM9PRKzcOr3cnkBHyBbe/XkPZLl9R4x8UwopM9uPrCF8ylWw8kQZuYG7DN2GHeaFbjV2tZ+GijmTm89WDZcx59Iy1LRb9BoCkcyj4IOcSwiiUsyX/hIdYmNdnXoPRdHAopyHZWCrS/E4Q5eMnVORyFmlkh7FkEUUfXYeh10Q8RgwvCZuoork3sz+JyU4lAOL6215D1hMBEJGKfhlAigszSLz0BQ+3f4rKyJUyxQlkpMg5SZ+ZVOrZF6NSUNkrnaX13/eSKx7BoSuRxGRJOYCc25YTSdvUqDC2+xWwSQDEy7UkYcXnTiCjtz+mS9cmzH/b7ZVxcOn7u8w+EkGf3o0Z386VY0evsOpGNss/aknLsi95IJIFOGPVeU4lG7NxXAsRPXvVO/krz6vBABLNyiWLuJ/owuJl00XQyZDc9DhO7PuKE5f90TOxxMrcgMhnz3Gp3ZE53uPJuHdKsrD20+6DOQx+00NCVFn88O1W1u++wnDvNdTWDWLesj10fn8Kfd9oJIM9n8u7PmXF3hsMnL6YgU10mT1tPlkCIIsWTCTlzjfMXLqPln3GM3pwM/Ky80r0QvT1NcADkVjz/U0EXfsWXUnrK9a1w758M8lsWUeeVX+8ei5GnCmZ7PHqc5GIOEsBkOPY2/18CJKuAMjODzH3XE2T7iNKPJAM8UAO9CYppy72FQ0JvfQVNjX6SaaaO7kJPiSG+WLk9gbujcZQ3qN1qcRh/8oEKI3vPoo5y3IR4EqWrD2VhEc7OdbEJ+Eiz4pc+arVMmqqN5OF7HmwiNnBoaxpsYReLr8dwlKSOgoK0jn5+EumPjhCh+pTWOvZHdNS2jGWxvP+fh+FJJzdQMixc0paI7rGdlhX9yTlxiZU1cbQeOJkdXopRbElIaw0ZzwXSgjL8bcPh18GkJ9CWOl3d3N/6Qz0RJm0hoSmDVQRPNs+m5gHSVSbuAf3DnX/s49YSr1nJsSwdN8jQlIU3Q8dalSwx7o4iW2+uaz+qA1vVzVT38nPN5Ax24PpIiGs2W++FMIqzmL8gu/5+lE23VqUp5ylAY9CovFLUNFAVBlHvVOXZuVLwmCP/R4y5NN71GxSm7VD65bK4flPZtB4ALkX78QiARB3G1OiQi4xc/JyzOp1YcrYwdgURbF55RIi9eowf/5EMu5LCGvJF3jI4e5HAzthVJDA/k+XsftchOijr8U12xfvJV9Sv9soPhr0lpyzpLB303K+uhDJeDnse7tyBrNmKiGsEgBJvv01sxZvp1Hfj5n4/psUSo67okqoGQCiZDHnimiUKL4p8l2SP16UI0poB3uTmFmT5sN2YyW7x7y483Iu0o982340G7QZY518tYiXbhlzCpKu4Lu7JzmWvfEaLFk24pxkhn2Dz/5h6JWfQ/kq8k7E5jr6ym5Kh/z0Z2QkBaFvWZ8KTadTtVnPfwSAqOQgM0eVXxIOFKEoYzJYcHMuu+JEXrTFcno4O4mUbwwTLo7mQkFldkhYq6G5Gdl5Wcg2XaRFdUU2OFeyZUww+BEoImJP8c7VFVQrP4YtDfthoSFhrKJ8qUVQxJCUFHs9RYc7kMDFw0nJaYjXum2YWRmQ9+wkvt6jodJAGkhI2Yg8CnJEuM3YVATMfn7Q7Off4TdvEpY9llPn3a5i3GKido/j/uaj1FhyWsDCQ72Opf6wCN9Vn+Dcfze1hnYspSX+P9tNsWSM5uSJ+J0yaMQDMdGXTDwJM43bGc6YYXLI3UEBCxW791xmzfU0OURvS586VuSLomOhJBGZlMlj8z5/bodlyVml+HXST3RMKs8yVLg7WjNxaGM6VbWiODeLVduvsvO+SCpLH33rWZaqN6vBABLFsgXz8ItzZunq2VQSAIl+cpk5U5djULM9Q99tK4vXBXbsPoZLgy4skAU/88EZ5s1aTKJlbfr3fxcH3Vj279lPvlNb1iybIKHrH5i5YB0pOq70HdgPN+LZs+sAhWUFMBZ7U6H4GbNnLRAPxItlS6aQG/w9c+YuJd+lCX27dqKsWzkqVXTR2CwsJcwS+v1IAi4ewr7hTNxr1SXOfyOhAYFU7LyXui3akxjwCYHf78el9Uqqenry+PQgHt64LBrnC3FxdyL61koiQ59Qs+8FKletLcWFuWrwUE/0J9u4e0KA+s0vqOnRXuLXrx6e/men7N/b+52QrQy4vYcKzm8zvlor8eDOsSToIm/WmMDmhj0l7OLDxGtSD+Pen5lVG3IoYA3X8xzpUrYxFjoZ7A/ew/GEOCY0mMXUqq3+BSx/71OUwt2KMgjdOp7HB05g32sObo0qiab5el7ceE7Fjw9QTUIziWfXEXLwOxz7LJRx1pj8mCBSJYU389l1nh/eIem/Qyjfug0m7p4USJjv/uoFGNcbQsV3eolSehpRMqai/aKp8vFeKnWqXwp/9H+ni9jQSEavvEK0uSMfv1MdY5Hh3nD4IYblKvLZR41x081g+RYfIsvYMmdYXZwMishXFzArzOBFfHvsBuvv5LBoZHM6VbOS8yYdHvk/ZvQnvphVrcrOyY2wLeXEUA0FEAOMVHF8smEdQYnOTJstmt3mRuSkx4ju+eecvBYgG8EyEg81l91QHq7VmzJuwnAyZQJv3bpDcsYtyExJJzM3VypYy9F7yAe83aImYfe/Y+P2Y+QX6cgETyEvN48yVm68O3g43dt6kpMQzIY1m8mxacjUacMxSgtnz47POXXpHvpGjnTrN4x3ujTGUHYDmpjGq0ybPInnPz4/n5jn98SG4pUUm2BbYyQ1243C1MSAmDve3D26jfJv7KROqzfJiZWU6XPzSIh+IgqcerJHtMDB82MpJByG4U/b6R/nY3rYPvxPfI5bp41UqlbnvzNL/6a7FhXG8qn/p+yMuE++ZA0WSyV2TfuOzKg3gHrmloTGn2PA98upUUXqQhq8xcXgz1j65Dq54sEI5wGFxUa0L9eNj2t2Fc30Vw9E/6ZHKLXb5L24w9MvFxF7P1iYDfRljJhi1+pDqgz7QJJOIObraTz8/FtcR3xO9d5tSL38KQ/3fCm7bZEKlnMlRb5ax8AMx14rqNy6OpGHlxD+/fcUy+90dSRsWGiEQ6cPqNh7KCZ/pmq71J6slDuSIsnvzwew+TspJi0UxVQBBTsHOz58x4O3aliSlZzI5JVXCTeyZ9PEplS2fHUDdvbsLT69kyuFhF7UV7KsZMydPX2XFedi6NevOR962ZWq96E8vUYCiFrKVowdGxsjlZVlcHF1UGd3KBXoeVmpRIZHkpaVj4WdA6ZSbVlcbIiji4OEmNJITEqmjIkRqQmJpOcUYuvkSln5TPGcszNTiUvOlEEt+5r4eNJzVVg7OlPO1VH9uapAKAZiYinWM5d72qEnQJGZKpXbkVHkSg6/W9lyQj0gbrgGZWH91hQoyIolM+EJ+ZKUoG/qjJl9FcqUKTnoLMyOloEch4FVJUzMLNS/y8+IJCPxuXgbBRiYu2HhUFVNDfPLVpibKJQn8RhalBdwL72DvFKexqXWXUFBKk/SIojPy5GqfEuqyHM7lCnJrimQw+DQtCgMZONRQag6VKocwjNeEJuTRp5ENWxlkaho4Ya5MCT8E1pBqoybiOdCjyNjRKhxzCpUxqBMyQJYKHbIliI3Q4fKGFmZys+x8nO0zFvZWSvPrxTyykbbwK4iJraWFOWlS18hQreTpg4ZGlhJf+UrC0WHRhwU/fvXKfRJ4bHiVSULeOoZ4OZkTnnbkgP1IpWKKMk8y9ExEM/WVJJcXuHhICU1k7jMYso6mkm9lqLXXUxyUgaxmSrKuVlhpl/69tFMAFGbU3ioZKFWbFj4EmfVy9XpJamVCoAUyS5FeAGUzBCluE8M+y+6E/l3obwYpXJdR/n8x8r2lz9XyeclqoPCmaUksstBufIdpb18P6VivVCjK9H/CUuV9hm0FtBa4O+ygAYDyN9lov/bff4ZZIr/t2fWXq21gNYC/5sW0AJIKb93LYCUskG13WktoLXAa2sBLYCU8qvRAkgpG1TbndYCWgu8thbQAkgpvxotgJSyQbXdaS2gtcBrawEtgJTyq9ECSCkbVNud1gJaC7y2FtACSCm/Gi2AlLJBtd1pLaC1wGtrAS2AlPKr0QJIKRtU253WAloLvLYW0AJIKb+afwqAFAm3kxA1qetc/qgpVdbFUgOj6LSomal/0YpVIg0sZNx/pq8/utfr+LlKkUaWP8xA+MT+dJPaJFGrljqmXxtMsWehIqMsnEe/9fmfvsfrdqGMEaUYTkdkD4T+6Q9bsSIprdhIGBF+NaZ+ZM8v+f1LdV1/2KtmXFAonHrKIypqgn/YZKwUqGSGSVGcoqz6e00helXq235rjv7hPX7nAi2A/P9a7ne+p+kAkp8eKsJa35D0wlcYem2xLP8WbrU7YGzyG5oNsnCmhl8k6uEJsoQJ2dDcE6da7+DgXlWt3VCQGU5MwFESI31lQTTDsmwH3Oq+ianZP6MKPS8vnu/Cz3NBqvYzig2oKxQ3Pdxb/iH1SEJqAPueX0Vl4EyPyh2paFzCvKqS6vTbMTc5H3uPF0KCZyV05W9XeJOW9uX+pYVRysP17+lOADHj0TWiL52QCnNhMbCtiV2L7jjWr/kb1BrF5Mc/Jf7mOVIe3RObCHFg5Ra4dOiGmZ0wH0gVevzlYyRHRApuKLAtdb3CgGDu+Q5uzTxKnarj7zHQz3fJSc/ke58wrj1JFYpJPWpVcebtpm64mv8aRAtFcvvR4xguB8TxVCrXLSzNaF2vLC1r2pZIMfyrFXPP9zmnglKoWtWZzo1dMfvjfeGfenSNAhBdYffUE4AVIJXdrK7CwyIUEIpeueyVZaesoKtSDa7+3Y87FF3h0dFTrlXDruifC/nYT99RV5HL7wsVbXR1oXlJdbvSr1JprnxHT+6pILvyXeV7KjV5mUKgWVLVrt4h/vh3qIRhU5MBpCjnBY/PjufpfR9MRfddJ/cp6anZuDVfSd12A2Q39OruJv3ZIe4dn0VGjgWWDrZkRN8G8zZ4vLMFZ2dDQk4N5fF9P0xdGmMgKnQpMRE4NV+KR7sPKFNaijZ/apj/By4qSmeb/1qWP7khUgJVsSqK5256Gh0qD2G5Zx+cDX+bopzCZDb6LmXeox+wt2zAJ60X0tHWRQZ1FocffcnioBOUMSpHbQt74kXPpmWlfnxco60w1mpuy5RNRNDGuaTGlxGZWgeynvpRbFqXmjM+x8Wj3KsPVpzGs08mEXr+qgBHPYoSHoluTRQOvZbgMXY0BllhBMzvS6R/rBAE1kRPxqRKOO2sO86kdt+Omg0gwmT8xaHbbL4QT9lyVhjJJiIwtoAO7esyr3dV7Ixe9UYiQiOYtOkOMRjiKnz/gaGpmDs7MnNII7oLc+9PszVDKJ/GrxXN9MdZvP1GbVYOq4+TcenQmmgMgOjKAp6ZkUquygBjwyISE5LRMTQR6VgnygihWnys8DflFWFlI7z6lkI+J4u5QsJWpMojOSGBtMwc9AyNsbO3w1y4sBSgyc5MIytHhYWVlSxoQhwo1ObpqakU6RlLH+YCDkVkpCaRkJwmbrSRyODaY2psIICi0Jnkk5QQT2p6jhApmmLvqPBu6Wk0lUly0EZ8DkyR3dwyPN4YhW6mn6gRDiIpuyKNhn+No53tz3saWQiDDnYm9HkONXvuEOr2qsT5LeHeiTXYt9lGleqW+OwYhHGVydTvOgND1TMCjgwi8oUFTYcdwslNw9TjfrF+v4j7jn6XlmFo34NPm4zAVTcJ76vT+CZNn42tltLT8VXFwZ++fifiAGN9dhIr48fUsCKbhMW4g60z4fE/8N7lRehYv8HaRh9Qz8KahOwECnVljBtbaKwHUpwbz9MNw3j2QxjVvPdQtmEVEs+vIXDTWiw6LsBz6gRh1H2pqdKJvXhWxKJcsK/fAFXMHR4seo+ULE+abDqItVU0D6Z0JNmwB/UmTRPPWES8hLNN18wGI3PN9mxDg54yYvVN7ERNddnAWliKLsyQEmrnAAAgAElEQVTSz65zLk6PtZPb0vEXQlDRUbGc9k3Bw8OVata6HDklAlPHohj4TmOW9BGuMbVATy5f7L3JhotxolUDDepXZtXwBv9jACILtrFuNif2b+PItShc7PQIeRhCoYE1rTq9gaNhGhcvXuNFXCqV6rbhvWEDqSuuWm5KNOeOfc3pC7dIyRBacYm9VvZsTr++vfCoZM33B7dx4nYC7330EQ0qOZEW84QdmzeT5NSCaSO6SyjnErv3fs2jF0lCDmhMk3bdGTK4B1ai93Dh2CGOnL1MUqaISMkkb9j6Tfq+24WytkKWJwFeJ2dN00Qv4Pn3w3hw8w6eA85QvnJF9ax+cXU8fpeOUrX7SarX/VmspzD1Fte+7EmRw1C8+iwXUC9RI7y7r5tM7repJloED6/uEHruA9So11zdV7zvAnyP76Jy38NUraW5tNsyKzn2cD0fPbjAtCZrGSchO6XdCd1Gf59jDPGYg3d1r1/thjOzQph01ZsnOrXpKjLnX4SHCYAsFgBx4kjQciY+8GWx6If0dyknjNBFmBhost9RAgr5MT74zx1MtvU7NF8igKugReZj7s7oS7pOXRGU2iG6M78f51elPOLeLJFITqtFk437sDSN5v60N0gz70ejmbMpYypRgH8T99ccv62I46duMflwLHPHt2VQfWv1+Ll6wZePD4UxqF9LJrZx/Lce1sP7jxi08j5tu9RnRT8hNJUOAu4GM2lHILUaCNmkEFpGYM/GkQ3/twBEETsy0c1k7+fLWbbtIrUataZzm1o8+OEstwIjsCxXiVZt22GW8Yhvz/jTZpAIPL33Jr5fb2DF56co79met9rXJ/rhDb49fYVqHYcye+y7XNu7ht2XYpi0YAEtariSEhbAOvl3XNm3WDq+E/tEd+C7J0X0H9IHs5wYknJN6dbnbWJuHWPh8u04NOjEu52biBbxOQ5+d5e33pvAsF7tMRHPxUHjACSTJ8f78iQklQYDjkgIylE992L9l3Dn+GeU73CAus1LgEBpebGnubbnfYxFMa9h58kYKhyVuWHcO9ybF8m1qNWwKsEXVmPXaDWenYbLAXMhMbcXcu87UY3ruZ/qGq2JXsCuB0vxfhLIhlYb6eFQ4k09jjtK74tf0L76RFbVE72TV1avQr4NWM20R/7MbjoH55zzjAt6wGdtVtDexo7PfKexKPQpPV29KBQW37TCYmrY1qd35U7UMLPSnHXwF39pXvgP3J37ATqe42k0fkKJJnqxaKLP6Ed8gr1I2u7Btuyr52tFuckk+90kNy2RVP9TojFzA6e+q6ktGj06qc94MKsHMeE52Hg0F/ZnYZmt3Ajn9t0xsylR4NPMphJN9MssupzNxolt6VSpxJvyF0300aKJ3vGtxizs9qom+qvPWcT+A1fwPpPA2CHNmdDehYKMNBZ9epWLmRZ8+mEtvj1yk4AiRzaP+p8EkAz2bF3Bl99FM2WuN2+JfseVHWvFxTtG0z5j+HhET/KjfZkn0rNlGvTHe2RrNk+bhF+2MzNnT8erjivpMSFsW7mI009MWLZyKrHXdrP7hyjGz5tLs+quciAcyKYli0lw7cy80W3YLiJSF58VMXLqZDo1ro6B0CvrFySyc/1C9l2P4oMpM2ldpzKZL+6xfOFaVJXbM3faSCrYlMHWwbGE+VdjmgIgg3gWBo0H78LWWqFqLybGdz53zogn0Wk/tZs0+xlA4s5wY+94LOrMwUMAWVksVdkh+B/qI/TRnjR+azihZ98jNrEAh8qtKKOXT2rkDTKSZWEcJB5NzYYaYxmFaj0qM4EsdWaaPtbCyHzi2Resfh7JtvaraW1po36WB9GHeffqTnrWnMSyOu1eUVtMSL3J4IvLRD6gHzu8BnAtZA0jAh6yo8M6Wooc84rLo1kY8Yz61nXwspMwT/oDvosPo03lD0WAqjfWGkLrXiBef3ZSqlpDTNfAmKKUQB6uF0+hxWQ83h9aYhM5D7s3qz9JKS7UUzTRXV7VRC+Iu8eDhR/JmdkL8WoTJcPIlAoffkqNvj3RzUsm8sg2kl/ESjZXIZmPbpIRHoFdp+nUGj9FpBhKJ7b/nx6cRXIAHhmfJUqUEmqXiIWVsS5nL9xl4618PpnWiqbOJbT/t30CGP3lE3p0b4J351c10V/+GyMfP2fEulvkOLsJQDSlrsgEXzh/F+9vX/DeoJaMaGrM3PU/EKzrwtZxDbAppaVJI85ASjyQDHZ/toLD17NZvGYh9Sq5EXDqMxZuPs6bw2YwVOJ+KeEBrJo1h4JafZj5QWNWTJxJrnsrZkwejZOJpLrlZ3H806VsPReH96pZpPkcYPeFaD4WAPGq5kJaRBCbBUBinDqybEo/nt06ztadBwiLz6FyrWb0HTKERuUN2LVuPvuuPqdc+XKS7aDw7hcK734Kbp6dmTB6EBXtjTUQQLJKPJCnyTQceAwnR3v1+Iz1X4rPic9EPnQfdZq1eAVArosHYlJtKvU7T1R7IEV54dw/+C6RSVVpM3wneumXCLn1BVkZyRI9tJdz4lCSJG5bvf83VKmhOSGs1HR/Ztz5jNtpSTLZDahj04ByhgkcjAlndcsNdLMv8daC447T6+I2OtYQD0RRXPzJWsV5bLw5lSVhEUzxHEN3p3J8F/IlaySTaGr9j+jn7M7nPrP5KtWILS1m08bGlSwB42mXZ3MlvyKHO3pT01QT4vuFxH67gEcHvlWyWtA1ccGufjsy738BtcfSYOz4Eg9EEg4ezOojHohDiQfi9iqAyKEGuQnRajXL7Oe+hO5bTVqcLtXn7qNcgxoy3SS9V505oyubxgcEbxhDXGghtRefEvE4iQ1qQMuIjWLK9ns8jJdNiawhtSo7U8UkjV3381kjIawOFUtExPz9ghi1LZg3RKhuQZff9kASX0QzddstbicYMu8DL/rUtyUzKZFRi38gwsiO2f3r4Kqfw+av/QjTtWHqO7VpVs0GEyUj6S82jQOQQ9eyWLhyPp5V3Ag8tVUA5CRvDJnK0F5NSIkIYPXsuRTWFgAZ0YSlE6aT7NCQeTM/xt2ujCicpXBg/SK+upLBwtUzSLq5n8/PhDNx/nw6eFYg6bk/qxcuJMnlDZZNH4qtmQ4RT+5z5fJFTh37jjyHJsyc0B//b9byjV8Bg4cNwE3EXpScbX19A2wcXETW1gkTCfQ6ig62ZnkgeTw9O4gAn0A8+5+kQpVKik9BhOh437/+A9XfPSGLfs1/DbeClMtc3d4XnIbh1XuZ6DJL2m6qL757RK7VtCctBm4UO7w8OosI+344gT4heA7ej2u5X2Tf/MWB/J/8en5+IrdiHxBXkCe30cXe2I4nCWdZ+OgWMxqvZlzFaurbX326iRF+5/jAcy6TqzT6OV5dnMCkS/M4Hh+Om7GN5MzokZAbzYvCPBzLVGRh41EkJBxjVUQqu9qtoJmFhGKKRcv68kR2pVixr+Nc6piVpPq+3q2I7Ge+JMtuGPGYdAzKiGiUitCvppFj3RuvxUslWUXwI/U+fjMHkmUsynmLtmEuGUT/riWcWIDf5nWU/egbanZp/6tLw774kOBTN6gx97SEqzVjXBVkZ3I9IJEU0UVXsj/trI0Je/yE+aeSWTC2DQMblJyBnD93m5lHIhk+pBWjmjn86gwkQQTu5u+8w6UwFZOHNGVYMyf1NbGR4QxbeUcEf2W8mhtKWFTAPSmHNAHemhUcWfZxK2pZ/R/qln7nBWkWgGxZzkEBkEWrJHvjRwBZsOkEbw6ZxtDeJQCyapa3AEhvZo9+gy/nTuRkcAEjJ06hW5vaRD24zNpV60m0bcqyeeOJOL+TZVtP023cDAZ1rMXFY7v4fM8pKrR5nwUftCX0aRj2FetQwU7Fl8u8OXg3m5lzp5Lis5tPvnnIsIlz6P1WIwyLcngRHk6enhnOjrYSrtHVSEnbOL/F+Byaj13TddR7cyTFqdclJDWQNFVjvIbtwaQohBcPr2NarrOc8Zjhv7M9UbGG1O21i3KV3Ym6NZt7ZyQ1s+126rbuQZ6EMwwsXSkjB6fxgTt4cHImuq7DaSyAYybyuJrcHr34mt6XN+DmOoDPmr6HbZGEVq9M5UyWLV+0WUInUc479+QE0TqOvFXeg/jUEEIl608pjDOQM7LbL47yhYRoRlQfzKiq7fEP281wn68ZXG8W82u3JzrhB0ZfXU2mWUcOtvmYcka/2KVrivFyowhcNIBI33RqirdRtpE7cccXEbhlKzbd1uM5bgg5j68Q7xOERePuWLrkE3/jIvquTbCtXg1Vaiih26dLgsdNqsw5iltVS1LDYrCo3gBjyzISwjrPw3UTRT3UnXorD2PvqrnnIAF3HzF0zR2Rg67HcsnCMspJZu7mK1xLM2PLlNZ4Oery/WXx4vVNeLu5hLPEs1/6lQ97H2QwsFs9Pu5UXtaiQvHMDCSzrQD/4EQy5SxNKTVQZWdx4NwjIvQsGP12Nd5qVBaLUlAo1BgAMZUQ1pebFrFXDpmWb1hCo2pluX9sM3PWHeXt92fzft9mEsK6x+KpM9QeyMLJg4m+fYila3aSrCuykG72pMdGklxozoBREjZ4w4so/+9YvnINTzNNcXe2Ji05nvjkDGp2GoX3gBps27iBoNgikZU0JTIkDMsqTZg6fRJmSf4sX7aaxwm6VHIvJy8rh+TMfFr3GEi/bu1KDtGdNC0LSzyItABJtR1KxPNQLFxqQU6khJ/KUKH9Bmq36EyizxxuHF+OU8tdNHljAAkPVuMvi0GBvjPmNlZkxgajb9eN+r3Wy+CUOPehD8ks0lVn3mTGPQYzL2p1XUPZSiU7dk1uxYUxLL6xkE/CH8qZV3VMi5MIzsjh3eqjWOTRFTNVGO98O4xH+h7s67CAhhaWrzzuyYeLGBH4iF3t1wnYOJKQ6sdH1xdxOT1fQmTlSc8OI67QhkkNJjHGvb66/kkzWxFJl7cSuGGhFMY5YO5mQ1aYaKPbtKLOvM+wd7cicudYAjbvp/xECW2+YU/QkhEkRWZj6uwijliC1IGEYt5kGHUnL6boyX4efLKOIgnNGJkakBsTSo7MvXLvbaJq7+7qzCNNbQWZ6ZL0c40999KpUN4aPZFCDk1U8W4XT2b0qEixrE/D50hYytSRvfNakR0cSK+1/ohIN7XlemvZY+RIUaWlmysL+ntQzfYlDyM3nSnrzxOs58qXHzfBoZT2IxoBIEparKFOHr43L/DgeTFvdmuPi60FsRJCOHf9IdUat6VRrbLkiJby5bNnKLCvS/vmnpjq5xPsd5tLN+/KAi+61CY21G/aimb1q1NGKUAqzCXI9xqXb/iRLZrmtTw8MCrKIEsKuTo1rULwnStclZ1RVn4hlnblaNW+AzXd5XBcBmnk47tcuHSD2OQsqRExwNrJneatW1LZzVYGsY5GeiDKxMtLvE/k/UOkJ0dJGMIam8rv4FqzpSQQiGZ87BVC73+HecVelK3iiY7kmCc+PkpMyCXRTy/A0LK2FIYNwNbRUdLPE3jhu52kuCcSr5b3Z1kd5zqD5RC55Lzgn9CyZZH/+vlZ7srZiErXAA+7ZvSu2BwrGSDFqky+frSXMNwYWKUDLmVezTR6GHeBo3EJkmX1tsS+S8JT4Yl3+Tr8MqG52ZIWbUNb13Z0dJHkDY03Vr547ceJvXGZ/JwC9G2r4tyxPzbuJdlrmQ+OSbq4H9Yt3sPRw530wAty7TnRPE9Xa54buTXCpVNPzGzNUInGfMylY6Q+fSx1W4XoGttj1ag7Lk0bquWtNb2lJ6Zw/LoUS8ZkC4+JnLdJck9XqRy3lEFQkJPD8fOPiRUvYkAHd3LjYth/Mw4pf5OifCl0loMhpVDa3M6Gfi0r4GL+0km5hEtPXQshUdeKd8R7efmjv2IzzQAQeULF9Tc0lJiqgGpeTh6FkievZ2CIkWxvCyU2nS+LvFI4WMZIcueLCsiTBa1YAR5DiTjrygF6gUqqVqWqXHL4lc/UGuey0JeRPnWEakHNSyShJ/mS+lA8T/pT7qerI9+VMw4DuXGRHN7lSSxRafrymaEcFCp0AsqBoYEsGvn5+eTL5/pyH82rA/krw0j7Xa0FtBb4X7SAxgDIX3k5JTQmJXQkCtXIL1vJ5wojye9/VvLdX3xTISb78Vc/fVeTqUz+io2139VaQGuB/z0L/E8AyN/5WrUA8ndaW3svrQW0FvhvWkALIKVsfS2AlLJBtd1pLaC1wGtrAS2AlPKr0QJIKRtU253WAloLvLYW0AJIKb8aLYCUskG13WktoLXAa2sBLYCU8qvRAkgpG1TbndYCWgu8thbQAkgpvxotgJSyQbXdaS2gtcBrawEtgJTyq9ECSCkbVNud1gJaC7y2FtACyF98NUoxo6EUEeZJEaEiWv9PAJDspCekxz+UyhdLzJwaYW79+0R++RkxpMUGqgs7ja3qYuX4a6XBwqwYkTONwdS+Gsb/ED30n4ZNalYk91PCyCrWp7JlNapalFC7/9umyuJRchj5OiZUtJKqYGEyUDdVNoFJwUTkZoiYlBW1hSLF7hcV7H/U9Wv7eVEeqQ99yUtKQs/KHcuadZRC699sBcmxZCUkylxSSqzlEuF30jOzx6xsWYW49l8tK1xYIqKFMUFHCordaglNir1mS9r++GRJCWkERaarNdErullTyaGE2v23WrGoqD4OTSEyTRQuTY2oVckWS0UQXeZjjAjsxWVIAfVPNpOiNaVuzcjYSKibzEuFHkcLIC+/FSkMVIjHlIJBtcqZQg0gL0KpWFc00H8sNyz5nfykJ1XqUc8DeBiRR/2GntgJuVuBcNEoFe8aWYkukzz23laCr24jKz1eBqFU/9s0p2qHeZSr4fGLySmywgGf8+jql2SK0llhQQb6prWo0GImlRt2UTMGKHQeiY++JeTaelJSzKjZdSvutau/tmvc//UP84s4yuKAAwQKh1GRsBdYmVRhZO3hDHFvIDLLv9dbIeeDv2TG/SOUMavN8mbTaGntQHrmUzaI7Y/EhsjCIcwIshlxt23OtHrv0VYkbzW5FSQ8IWz/SmF2viwkEbkUCzedVeP+1BwzTUSgXqV4URigo/fN58nRbykWFVAdGUjFOWkY1uiPx0Rv1NpaeYlC8b6CiO9PC+V7kdB4yOalagdqTV2Jla0m0N7/3tss4s7tJ6w/9pjHSfmo5LlsbK0Z3rMefZo4/IrSJikukU8O3OPS83QyhDkjv0CHJo0qMblXbaqZFfHpl5c48ChbyEx/WruENia3ACdRG/18TH1sf3+Q/unhpgWQl00lgFEsYKEvkF2geBRCfGIg2yQFwZWfVSohVNHTF3LAEpIyncIsvtuzkm1nMpmzZDYNa9gKzUq+xgJIzotT+OwVmm2DFlRv95Fool8h+PxydB3eo8mQTVialWgUqFtxPmHnJxARnoxz3V7CDOpLyOUVqKxa02jQNzg6WBF1exFBl74iPzdJbFmRWj32U8lDSBr/AS03I4ChF6dzLd8J77pDKa/zgkX+W0kwrM+ONt40t/pZP/7lx41NucXYa0s5nfxCuIrqsaX1UiFTdBLW6PXCxvstPWp8yIjydbkb8Q0Lgs/RtdZUNtTrKQSdGmq0oiyi9s8k8Iu92Lw5g7Jt6pB0do1Q+/tSduRO6g7u9osHKyR84yCCT/ri1H08VhWsUGVloe9QCyevVkIvVEDs0UXc27gOy2aDKd+tP/qqJDJjMnBo31sARnNlgNOEmn3c6os8UNkwpVcNrHNSWH84kHQbF7ZN9KKe46vP9lzYwpcfekqVOmXxcisjaqsB7A/KYcLwlkxp58Ddu8+4H5cvNEu6sobpEBsRy47LEbh4enDoo3pYlQKhohZAfhy+inZHoigSXrkTjIlZGdFcD8LArjpd3mhBskjdXhdCxriUbCzsnWnetoOAhQtB18+we/chHkQW0KylFxXd3WnWtjVVXe2w1zhFwiJeXJuI33cHqNrzKNXrewlIZIjI1ECCAx9Tp/8Z3CuW6KSXAEiRkN29oNjARsJSEuIqTOXhoU6ERGRSr7/oMpR35oXPZ6TlWGGq8uPRrWtUfWsnlerV1tCV8JWdBteffcmw2wfoWdebFbVbqT/8+t48Jj/2Z2qTxYyr8LN+/L9MpkrjM7+lbImMo46VMf7phWxqtUQkbe3Z6jed6Y9D2dZmI31EDjk5+Qc6X1hE5XIj2dqoPyJNo5GtMDmYgIWiPphWk8ZrvsLCxpD80PP4en+Ayq0rDRb+UjdGAZABhNwtoP7KI9g4vvrghUmPuD+nF+n6zWm8dCum5hpqmF+9zWKuXbon6oOPGSgKgtM7uYrHr+LAgassvZjE5JFtGVLf5pUoQG5untDYg4NViRfnf/s+fdYH06NHQ5b3qfSLEFURJ4/fYvbRGEYOa8Holv9eX/3PDjYtgCiWEq/DUARwntw9ydLV24gQGVZjY3PqNGhJO1H3On78JPkmZXGzMSDonj86jk2YLdK1WU/OsGX7N8SkgXvVKiKSVJHufXrhUdEVB3t7IWcsJd3IP/s2/9J12YSc7M9D0ZhvMPAEbmXd1L3FiqStz+ntuHc6SJ2mP0va/upWIvX7YHcbIpJM8Bz4La4urqgKxBuTM6JU/xXcPH2QKm/vovI/AkAK2BOwghkS01/WYiODXUtEjB7FKBohO+hcYzLL67b9VYw5OOokg69toVmVD2n9/9o786iormyN/5R5CMggUyGCKC2oURQRA7azLzEhptXEpNupo3F6zmN8RhHHSKK9HFBbUaNGo4lTWpNo9GmMzziA4sQojoCilMVkDUABb9+CJOpL93pZYXVb79X5j3UvVbf2Ped8Z+/97f053GB2xjXWdF1MbwlRnbv9Ke/+sBF/375MDI7iknggnxY8YHLEHEYKGJnTTHpybpTfPcnFecMxhowiauZsU2iTqnyuzB4k0gkq2otGiLvqyWSIAMjqIWQdu4RqwCwaNfHGPqAV7sEBps1Tf/0bkue8i33MFJp27kB5fh5W7oF4dPo99vUQkvlNS+g3/bOAxd5TzD1awkeTeognWqtrcjFZJG03ZdP39Sjm9VVA5ReGRE7UhRoSv0jh82sGZgx/iWGdns4HaSX3NPnDY2Q7qVg3oRNhHvXT49kCIE8CyMVDxC1eQ5UITk2bMkxi0C4YdRryH5WhCgrBS46Bxz5byV+2X2ZU3CIGdlGxP3Ehm49rmTFvOu1D5KU1kI7AoqDkY3Z6IKKJfvBP5NyokBDUThp7uollRBP9wiJSvkqiaZ+dvBgV/XeXiCZtNWd3z8BJJG479p+Ho8PPE7QoZTFnj4jWg9kCSLXocisdm006qtg11LNVtFAW5NxgffcV9BYPQhlpBfsYdHIzL7ecyrK2T2uiVxjymHVqFmeMLdjebSa5eesYdTWNDd2X0MPNRzbVxyRd+oj/yPjWlBRWukUPDJ3Msnb9cTUj9KipMkrOu1ZlT5E5MNw6yqUFk7DuPI3w0SNr9Tqq7nFZNNELH/nQfv423CX88vMwkrd1Lje+3keNvYvIJOupkjxH497jCX13DJUZu7iwZDoVRhds3UQawFBMeWkJLm3fJnTiXFy9zCQHIu9X6fJtmlPSNdxO9N137DlNwn/pSZzenZgmtYnzlJQ0xiVl0jc2krhXn5W0NXL0eIbsP7mo9Qay7mvp3LklS4Z2INj1CbaBfM7xw+cYs/MWw0Q3aearioZR/QwLgDwBIFkpf2PRR9uJfmcqYwd1p6G0ajcKy6Hg7nWSk1NFVU6LOi+N707fYMishQyP7cDh9XGsPFgiKolxRIa681h0RxTPw/yS6LUAcuNmBRFDBEDc6wDk4kKSD20isLcASOdfBhCD+gQXJHeiMTSl7cDtBAQ3f2p2mjuA6PQ32Jz1DVlacTVF6TzYJVhyXalskdPvmm4r6OVWm++4KgAy4OQWYltOMQHIz3I+1ZI4X8Po1GOMCp/NjJAIDmYkMCVTEqZd4on1CqSg+AJLLqzlRFklbV29ua5Jo8KuBe+3Hc1A/zAzEUoyUvTDZ9w5ecak893QvjEvqHx5cHgVNpFTaDdqRK0nJQByafY7qDU+oom+HQ/V08H48gJhtamLaShsIkPeVfL2LqMwW0voggM0IoXUJe9j1+otggYOw9G1mvxd87l9Ip3gyZ/xu9cl9GoGw6BRs/HITXJLRQ5CACTI112kfvPYLFLZq6Z1Jdq/FkDOJ19j3KYsXovtJAAiKoRP/bZqLl2+y+HLavQiYZGeWUBOSQOG9u/AmJ5NcKjDkJrHxUwQ7+OHykYkToiRfEn95YksAPIMgCz++DN6DZ3KH/t2wqqmkoxzx9i4ZRcPdNYEBqkwauX0dOUBw2cuYHDfdny9fj6J35QR/+EHRLR0R68T8p1ZsrC0AiCDyEi/R8QfD6JqojJN1fvJ80g5soVmr+yjVYeO/2NplmuSuXZgGHm5Ffzu1S2ESNjvWWGfopQl4oHsEQ9ku4SwzC+J/libxdr0faQL20oROApxDaGmMpMNdzNY3Hklg1VNTHa5dm8Xg059yhutZ7Kw1e+FglE3RK1wwtGJbCm4Rx+Rag20d+J60RVSHpfRwTOK8WGxXM7ZwPoCLXMip0kOpDlp979lRsp6jM59+NxsJG2NaL7bzK1vTwrO2ojYkxsugS0oPLEcY9AoOs2cZRImo1LUKiWEpdEGEL5gO26N/7E2d9HpRFIWx+MzYiuBIQYufDAJr/c2iz56L5OBtWf/yvnFCTQekEjr4S+bAXyIOJu6kFVfCjuttEqctQaS63LDVlfAmh/0JEzoRr+6EFby2cuM33qdN/q/xPu9/f4BTbmG62m3mbnhDI9VzUgaF0XTOvb9xdOXGbk5nSiRyk14JxTn+nI/xNIWAPkFAOkxeDKDY6OF3VHM7rUfseVoDqPnLOHNzgEkH93GguX7GTgpnqF923JoXRyJB3OZnbCUri/6o9fqxAMxRxpvFXe+H8+Fr/cSOmAfoR1j5KSoJu2Lfty6ZUx23V8AAAdlSURBVCB82CFUvo0xlBVjLaEFaxHqKi+6RsahkdzJuUfzl2VBd+71ixO8OHUpZ77ZQ0jsToLbmJ+crZC5MSqhmbqtyVaOgcdyNjPi/BcMbPMBK9p2N11JOjeJhbfzWBS9lCH+IWiV8Aq2uNlVsO3qbs4W3Rc9dDmZi5VuFl/hvK6IKM8Y/hwcze6LCVx37Mn+nrPwV75AEu5zjo9lb5k/+/4tjjAn8wjN1FSJWFtdCEuhvhuL0rk6fyiPikKJWrUVF087dOmfcyFuAlZhY+gwLx47o47yMh3WLiLjaiOpY0X8TdFBrhsPD8SRunYtAVP3EdTKhpTpf6Bhu+lEzpqGtaB04d/ihZW1CdXwLYQN7mkWAKKUCFRICKtWYkhysFY1/OeJVMZszOHdYdHMfkUJVxnZsOkEicla4iZ2p3+Yq9Dr9VI/ZIXrC7L+RFhPigZwcagFYL3UzkxccYws5wA+mRBFM5eG1OjKWPTXU3yebWThxB4CTM71WitjAZAnACRTaJRxSz+l1/DpDH8jBpvqUr5MWsX6vefp8eYwIlTVHDywlzOpDxm3IIERf4jk+92riV+9h3bd+9H5xdaSeG9nckfNj4UlHPG7X5K8U2i8VhGExAwVl/p7cs7swyVsLlEDpqPNWiUJ9b/g1WklbWP6knMglqunjuDg342giAFCf5YJXd4Qt+A++AaFUSIJVM29LEpvfcHttCsiVzoSr4Aw3Fv0oZG7l3ks9L/zlI9LLzLiuzmcNngwttVAvKpvsvzaQSFPvM7m6PEE22oY+9UErlmHkthlGm2cHE2So8qG0UAYbIcylvHvmZkkdf+YPlKoufz0ZD7OfcjbLQbQ26c5dzRnWSthM3+v/myNHoWfALZZjhodudumk751By5dx+Ef2YwHRzZQmKmnxcxdNO/RmoK9H5CetBf/9zYS2NWVrNUJ1Hi2wqNlMwx3U8g9+AlVTpG0W7Idd18jmYv+xO0zafgPkiR7Iz1396xFb/Mirecm4dPCfCWTH+XdY9Lyk1yW/M7I16TotqyQjV/fxE9qp9aODsfDWML0pSe57ejFmimR3Dx5nsTzpbwUEUhzN2tOSQ3J/kvFxL4aTrzQgF1taoSZlc7YdamohD7/yaRwXng6NfKbp5QFQOoAROFK30o7wYYtR4jsN4TYLm0E26WoKTOZXTt3kZpTiK2DM17ekudQG3jlz+/Rr2d77osu+8aNn3AxMx/vgHBGjR9BeIiPJKG9zIyFJYaQxV5wcR3Xz26TUFyZxLHtpbr3DUK6T8XDyxPNtUQun0jCs+OHtIqIIefgYPLuZEuxV62McI2E/IwGB/xemk9YzGvkn40n+/QuyQnbi5supyHRUK+pVtHi9VUENAv7zZP3X/sBUvQlgPtx2n6yRcNcqR9q5tqRiW0G083TjypjPjOPzyXbKpRlUWPFg3i6mv/UrU0svnGH+I5T6OTqJuy1cyy/uoNzJQ+kflOK50Raubl7OwGnt+ni/mzs+1/7y3/tt1dKdf3tHQncP58stVRSXeXoh1evMTQfNAAbkZt+8NUisnccxm/ISoK6+XJzYxz3UpJFWVpO6GILO782BLw1Bb+O4abTs+76d2RtWELx3VzhNFgL3T5MrovnFtP+57Dhr33I5+L+Ks6dyWbd4ZvcrMuNNAvy5r3Y1kQHOqEt1rBg7Tny7TxZOqYDxtzbrNifTbpaJL7lZKKEztu3bsKIV0IIbazkOao4eiSVxO/VvPVmFO+0a1Sv3odp65TWGyYvqrS0FI1QvRo+2SvguTDqP+chlDhkRbmWIo20kZAF7exoK8ZWKtNrKC1S87CwSOK6Dri5vSDi9uVyTyOcnaRSVvTUS9QPeVhUhq2ji5xA3XGyt8Pb10ek0s2IPvOjmQUE9MV3KVcSxtZO0p6kaa3OvIzqilJ0ZWqs5QRk7+BExeN8KbAUIrpp2SrTSGnlIsWXDl7YOTpj1BdSriuWWWalkHLqWlPYYOviIwWaz1Yg/3Pec/1+i1TjS5uWAsNj2fRt8Hbywdvux2LLah7JNW2NHT6OHtg+kxjSVhZRKFXB3nLNoW6e6Coeka8tQiutO+ysnPBybIyHgO//hVEt4Tzd/XypHDdi7eyBo6//T21JqnVqDJpSrN1U2DrZCSGtSP5+IPNH5pasOTsPFfaNngbgSk0+eskjKGBr6+aHo+f/ooWMWRiymkK1lsKyCmoEHL2lst7TqTZEpVTca6QWzSBHW293BxOxolRCWg9LDOgFmO3FS/WV+53tfnQzZO8q0VNsqMa7sZOwB+u/ZsYCIE9MqgYNrbCWepBqo9HURqB2SGW6ILuptcmPmupymjbdI9ROhUFhLeR2pQWKUlxXWWk0UxaWWawuy0NaLGCxwHNkgZ8ApKSkhEdqtXmemp8jgyp9spT2J75+fhZbPkfvxfIoFgtYLFD/FvgJQHQ6HWUSxvr/GsKqL9MqEUEldOXm7m6xZX0Z1fI5FgtYLPBcWuAnAFE2vrp0yHP5oOb2UBYgNrc3ZnleiwUsFvi1FvhvvcE3Rqt7H6sAAAAASUVORK5CYII=)"
      ],
      "metadata": {
        "id": "6J-ndk7c9ugm"
      }
    },
    {
      "cell_type": "markdown",
      "source": [
        "* Representações vetoriais de palavras densas (valores diferentes de 0).\n",
        "\n",
        "* Assumem uma dimensão fixa (geralmente 300).\n",
        "\n",
        "* Obtidos a partir de redes neurais.\n",
        "\n",
        "\n"
      ],
      "metadata": {
        "id": "yoIpnJO-9rOB"
      }
    },
    {
      "cell_type": "markdown",
      "source": [
        "![image.png](data:image/png;base64,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)"
      ],
      "metadata": {
        "id": "wDnSKu-c-ECv"
      }
    },
    {
      "cell_type": "markdown",
      "source": [
        "Hipoteticamente, permite inferências lógicas a partir de operações aritméticas em vetores (*v*):"
      ],
      "metadata": {
        "id": "95a4oB4r-I6Q"
      }
    },
    {
      "cell_type": "markdown",
      "source": [
        "![image.png](data:image/png;base64,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)"
      ],
      "metadata": {
        "id": "43zPaDr--PvB"
      }
    },
    {
      "cell_type": "markdown",
      "source": [
        "## Word Embeddings em Português"
      ],
      "metadata": {
        "id": "ixwg9Hvi-vn1"
      }
    },
    {
      "cell_type": "markdown",
      "source": [
        "![image.png](data:image/png;base64,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)"
      ],
      "metadata": {
        "id": "y7gcY73P-xto"
      }
    },
    {
      "cell_type": "markdown",
      "source": [
        "> http://www.nilc.icmc.usp.br/embeddings"
      ],
      "metadata": {
        "id": "RXlElfA5-z0s"
      }
    },
    {
      "cell_type": "markdown",
      "source": [
        "Baixando um modelo (leva alguns minutos):"
      ],
      "metadata": {
        "id": "g31IDDAO8xtw"
      }
    },
    {
      "cell_type": "code",
      "metadata": {
        "colab": {
          "base_uri": "https://localhost:8080/"
        },
        "id": "Fael-YVIQPdi",
        "outputId": "daf89412-ab18-4c3a-80a0-1a3cd042d39d"
      },
      "source": [
        "!wget http://143.107.183.175:22980/download.php?file=embeddings/word2vec/cbow_s50.zip\n",
        "!unzip download.php?file=embeddings%2Fword2vec%2Fcbow_s50.zip"
      ],
      "execution_count": 27,
      "outputs": [
        {
          "output_type": "stream",
          "name": "stdout",
          "text": [
            "--2023-10-31 01:42:11--  http://143.107.183.175:22980/download.php?file=embeddings/word2vec/cbow_s50.zip\n",
            "Connecting to 143.107.183.175:22980... connected.\n",
            "HTTP request sent, awaiting response... 200 OK\n",
            "Length: 170360268 (162M) [application/octet-stream]\n",
            "Saving to: ‘download.php?file=embeddings%2Fword2vec%2Fcbow_s50.zip’\n",
            "\n",
            "download.php?file=e 100%[===================>] 162.47M  11.2MB/s    in 47s     \n",
            "\n",
            "2023-10-31 01:42:58 (3.47 MB/s) - ‘download.php?file=embeddings%2Fword2vec%2Fcbow_s50.zip’ saved [170360268/170360268]\n",
            "\n",
            "Archive:  download.php?file=embeddings%2Fword2vec%2Fcbow_s50.zip\n",
            "  inflating: cbow_s50.txt            \n"
          ]
        }
      ]
    },
    {
      "cell_type": "markdown",
      "metadata": {
        "id": "Bf4Q-KgOBma2"
      },
      "source": [
        "Inicializando os word embeddings"
      ]
    },
    {
      "cell_type": "code",
      "metadata": {
        "id": "tCgjkzzykIO6"
      },
      "source": [
        "from gensim.models import KeyedVectors\n",
        "\n",
        "word2vec = KeyedVectors.load_word2vec_format('cbow_s50.txt')"
      ],
      "execution_count": 28,
      "outputs": []
    },
    {
      "cell_type": "markdown",
      "metadata": {
        "id": "Ulti1luoByIi"
      },
      "source": [
        "Acessando o word embedding da palavra *menino*"
      ]
    },
    {
      "cell_type": "code",
      "metadata": {
        "colab": {
          "base_uri": "https://localhost:8080/"
        },
        "id": "8CM8vvVckn3I",
        "outputId": "b93b7d18-c9ed-44f1-b9a5-7bb1c6199b29"
      },
      "source": [
        "word2vec['menino']"
      ],
      "execution_count": null,
      "outputs": [
        {
          "output_type": "execute_result",
          "data": {
            "text/plain": [
              "array([ 0.047754, -0.190243,  0.290581,  0.035822,  0.2301  , -0.139099,\n",
              "       -0.232351, -0.119084,  0.327645,  0.160017, -0.5318  ,  0.093309,\n",
              "       -0.545777, -0.166715,  0.044872, -0.094386, -0.017529, -0.053898,\n",
              "        0.189092, -0.233779, -0.302459,  0.707696, -0.146762,  0.258651,\n",
              "        0.25436 , -0.071892,  0.132296, -0.072721,  0.162642,  0.348834,\n",
              "        0.129191, -0.030967,  0.048024,  0.26683 , -0.076066,  0.352168,\n",
              "        0.629779, -0.403468, -0.473612,  0.456509,  0.008285,  0.066872,\n",
              "        0.082632, -0.128989,  0.107645,  0.119981,  0.219388, -0.141599,\n",
              "       -0.20074 , -0.30657 ], dtype=float32)"
            ]
          },
          "metadata": {},
          "execution_count": 45
        }
      ]
    },
    {
      "cell_type": "markdown",
      "metadata": {
        "id": "0RY6L30jB9EA"
      },
      "source": [
        "Palavras mais semelhantes ao verbo *estudar*"
      ]
    },
    {
      "cell_type": "code",
      "metadata": {
        "colab": {
          "base_uri": "https://localhost:8080/"
        },
        "id": "6fCXfrAGk3HE",
        "outputId": "c6ac1d9b-bd69-43ee-8d9b-73ea332edd47"
      },
      "source": [
        "word2vec.most_similar('homem')"
      ],
      "execution_count": null,
      "outputs": [
        {
          "output_type": "execute_result",
          "data": {
            "text/plain": [
              "[('monstro', 0.9085395932197571),\n",
              " ('bebé', 0.9072304368019104),\n",
              " ('indivíduo', 0.9050756096839905),\n",
              " ('rapaz', 0.9036115407943726),\n",
              " ('mendigo', 0.9007540345191956),\n",
              " ('rapazola', 0.8992964029312134),\n",
              " ('novelo', 0.8938027620315552),\n",
              " ('pássaro', 0.8897998929023743),\n",
              " ('cão', 0.8882535099983215),\n",
              " ('cãozinho', 0.8869855403900146)]"
            ]
          },
          "metadata": {},
          "execution_count": 46
        }
      ]
    },
    {
      "cell_type": "markdown",
      "metadata": {
        "id": "vd31AZ2aCEDG"
      },
      "source": [
        "Similaridade por cosseno entre os word embeddings das palavras *menino* e *cachorro*"
      ]
    },
    {
      "cell_type": "code",
      "metadata": {
        "colab": {
          "base_uri": "https://localhost:8080/"
        },
        "id": "4_v_JBc-k5Go",
        "outputId": "222890a2-e8e5-4da3-e3b9-6bb2679395fd"
      },
      "source": [
        "word2vec.similarity('menino', 'cachorro')"
      ],
      "execution_count": null,
      "outputs": [
        {
          "output_type": "execute_result",
          "data": {
            "text/plain": [
              "0.8441181"
            ]
          },
          "metadata": {},
          "execution_count": 47
        }
      ]
    },
    {
      "cell_type": "markdown",
      "metadata": {
        "id": "x68YYxEzDCCl"
      },
      "source": [
        "Inferência lógica para: *odiar* está para *odiando*, assim como *amar* está para..."
      ]
    },
    {
      "cell_type": "code",
      "metadata": {
        "colab": {
          "base_uri": "https://localhost:8080/"
        },
        "id": "5hwpAgTMlKEb",
        "outputId": "803f4937-aad4-451f-a54c-f79e60875b83"
      },
      "source": [
        "word2vec.most_similar(positive=['amar', 'odiando'], negative=['odiar'])"
      ],
      "execution_count": null,
      "outputs": [
        {
          "output_type": "execute_result",
          "data": {
            "text/plain": [
              "[('amando', 0.7472065687179565),\n",
              " ('desperto', 0.7231095433235168),\n",
              " ('quieto', 0.6835169196128845),\n",
              " ('tranqüilo', 0.6812532544136047),\n",
              " ('surdo', 0.6798273921012878),\n",
              " ('louco', 0.6784767508506775),\n",
              " ('quieta', 0.6757060289382935),\n",
              " ('sã³brio', 0.6748781204223633),\n",
              " ('rouco', 0.6719405651092529),\n",
              " ('sossegado', 0.6716687679290771)]"
            ]
          },
          "metadata": {},
          "execution_count": 48
        }
      ]
    },
    {
      "cell_type": "markdown",
      "source": [
        "**Word embeddings** de primeira geração são livres de contexto, i.e. cada palavra é representada por um vetor independente do contexto onde se encontra."
      ],
      "metadata": {
        "id": "MwqFSNMI_QEw"
      }
    },
    {
      "cell_type": "markdown",
      "source": [
        "![image.png](data:image/png;base64,iVBORw0KGgoAAAANSUhEUgAAAo0AAAFjCAYAAABYCzEiAAAgAElEQVR4Xu3df2gcd37/8bf+cFscSvxHDE3+ceCsoxEh/sNOuayoA03+sBQODgd8RyEITFiFcjmpR8UREBxtRdNDJax6/SMSR0A4HK3g0nDltPkjKSRFSiHOHw7BCd/dg7h/OJT4D4c2ptRQfT/v2f3szo5m9jMzOzs7M/vcYOxYn5n9zOMzK738+TUzR+YlvBBAAAEEEEAAAQRCBe7evSs3btyQjz/+WO7du+eV+fGPfywnT54spdj9+/fl5z//uXctJ06ckCeeeEIuXLggp0+fHno9M4TGUrY3lUYAAQQQQACBMQt89dVXcu3aNWm323Lu3Dk5f/68FxQfeOABOXPmzJjffbynv337tmgY1gD5ySefyPXr173Q+MILL0ReG6FxvG3C2RFAAAEEEECghALNZlPeeecdL0RpL9w0vG7evOmF5Lm5Oe+6gy9C4zTcBVwjAggggAACCMQS0J63N954w+tRDAtOsU5S8kIamLX3UYfgdfjavgiNJW9Yqo8AAggggAAC2QnoXD+d4/f0009nd9ISnknncL733nvy8ssv94IjobGEDUmVEUAAAQQQQCB7gV//+tfe4pAf/OAH2Z+8hGd899135T/+4z/k6tWrXu0JjSVsRKqMAAIIIIAAAtkK3Lp1S15//XV59dVXsz1xyc/22muvycWLF715nYTGkjcm1UcAAQQQQACB0QX84Wj0s1XnDP4wTWisTrtyJQgggAACCCCQQkC31tnY2JCtra0UR1f/ELW5fPkyPY3Vb2quEAEEEEAAAQSGCehq4Tt37kztamnX3WF96Gl0SfF1BBBAAAEEEKi0wM9+9jO5dOmSt4E3r+MCdoia0MjdgQACCCCAAAJTLfDKK6/ISy+9VPqnvIyrEXVF+Y9+9COGp8cFzHkRQAABBBBAoBwCf/ZnfyZ/8zd/I6dOnSpHhSdQyz/90z8lNE7AnbdEAAEEEEAAgQIJaCD65S9/WaAaFa8qhMbitQk1QgABBBBAAIGcBQiNbnBCo9uIEggggAACCCBQcQFCo7uBCY1uI0oggAACCCCAQMUFCI3uBiY0uo0ogQACCCCAAAIVFyA0uhuY0Og2ogQCCCCAAAIIVFyA0OhuYEKj24gSCCCAAAIIIFBxAUKju4EJjW4jSiCAAAIIIIBAxQVyD43tpmxtbsjqzmFPtlZvyPraiiycTY7dbm7J5saq9E9Xk3pjXdZWFiTF6UIrQGhM3i4cgQACCCCAAAIVE8g3NDZleWZRdkINa9JoHchKgqTX3pqX2dV++Bw4ba0u+wfbspBBexEaM0DkFAgggAACCCBQboH8QmNbtuZnxct4tYbs73Z7FrXncWmx9/etg5V4PYTtLZmfXZVDMT2L+7uybbspzfmWZ7vBtL4vR9ujx0ZCY7nvcWqPAAIIIIAAAhkI5BYaeyHP9AAeBXsA+z2Q9f0jEwDdF9ZcnpFF02VZa7TkINg9OfS93OcOliA0JjfjCAQQQAABBBComEBeobE3lBzR+2e/HhoCE5vbEBoWUBOfTAiNyc04AgEEEEAAAQQqJpBXaLQ9g5E9ic1lmel0HUrsIeqotsjyXOY9CI0Vu+m5HAQQQAABBBBILpBPaOzPZ4wMjXZIecTQ2DaBccmET506GXeo26VGaHQJ8XUEEEAAAQQQqLxAPqHRDhcPWSE94jxE25PZaTDzPvtmJXaMuZFxGpjQGEeJMggggAACCCBQaYFqhEbTk7m8JHufmqY6PPR6GTU4DqyqHqEVCY0j4HEoAggggAACCFRDoBqhcbAtdMPvpUXdjiebIWpCYzXuda4CAQQQQAABBEYQyCQ02oUnIfXozCvMb06jrUJvtfaIcyT1fITGEW4wDkUAAQQQQACBagjkExpFcl09rU0z4hxJf+sSGqtxr3MVCCCAAAIIIDCCQCahMcb7Z7tPY4KeSxl9r0ZCY4wGpggCCCCAAAIIVFsgr9A4vOcv/RNhzGqX0EcF9lZTZ/AoQUJjtT8DXB0CCCCAAAIIxBDILTSK/9nTpvdv1zxK8KwOI4/67GmzTtoEw13z7EE9nTmhGQpfMo8Y9B5yLY2W2Xqn84XUL0JjajoORAABBBBAAIGqCOQXGjXPbcn8bGdV8/FXeMAb1mOoG3nP6lNkIs7HljtVuUu5DgQQQCA3gbbpezjb7YXI7U15IwRKIZBraFQR7Vnc3JBVryew86rVG7K+ttLpeQy8nMPM5nzLSxuyY/Zn7J7NnO9K5PnSNEqOPY39cfp4Fc2mKzXee1EqkcDAlgKjT6xN9N4URgCBVAK6X9vmxqrIum77keoUHIRApQVyD40pNL1FNDfXQ+cupjhd4kMIjYnJOMBMkug8TN17ERq5IxAovkCMFZbFvwhqiMBYBcoQGrW3cWOuJQejTk5MKTmB0EjISNlWxTmM0FictqAmCMQSIDTGYqLQVAsUPjR68yD35EoGC1rSNjShMa3cNB9HaJzm1ufaSylAaCxls1HpXAWKHhp1aHpTdmV7Qr2M2hjlCY3OHc3tnEn3XEg7mbTWiOjitaEo+MidsEmrtbqs2+Xy/ts7w/oGPzWduUl7vsmupkTNPJD8yrqsrdil9oGjktTd9TE9FhrXxMzmlY3Vnd5KsFqUi3dusw2Alt8z5f1Lx/Qa1s0HIjgD2L/KzGuT58yW+puytOE7PupYey3d698zE457b+ky05qGWOu1XVlfk5WwmcpRdgP31HPSCnoNmfzsiaVqc+O8uSQbvmu22zG0zBCHzjDoPNZqsNKJ3qt7Xd5n6dubMm9O6vkao4b5XER+b0v5+RjcFHfWt52E96bmevr3j64mXLL18ark34pihGt2fD7s3MHe3PaY9+bAZHjX95Xu5yB4H3nugXuzZxaod7DtE7W763sEX0eghAJFD41FIJ3K0Nibk+fYCHMgVJofQL0fiMdaTn9YHQz+8E35Q9F1UzSX57t7LkWUDHu2ZNK6uyvhm9NYM3nVBLHQfQNCXMy5eyvAot4n2C4DobFuZlHumMAcfnDoPwSGXr+mCQ2iK4EVpb59tKLqmeQ5nr7Q2Hh81ayWCztplFeKNh+2nYMJFvXHjWFIaEx8f9nQWK+LnrDfLI5pKCk/H/3Q2JDGp8Yx5D6o77fke2/bvckCziFtlviah3w+ogKaF2nD/pGa9LNp3bQNY34O4oTGLA1c3z74OgJFFSA0ultmOkOj2F7JsB9sIT2WgZ6u/d3ucvi2CRamJ6fTQxDo4Uz5Q3Fok/V6+AZ7VAY38Az0HqWpu+u+GfJA9uOHBoz9x/p+gA/+YIuydFVMvx5s05ir9gNB1RlsbVXi7rAfMBvo9fJv6Bqsf5o2j9o41uvhNWHKl7QGepvSvFegPe1nw3w05OywTWRTfj4G7xPTq9YyPb7eGwVDfqDXUVccetcduLfSXHPUbej7rNUaplfT6/X3mwfuzTSfzcA/BvrvowS+jYGPfQ6GDE9naRDnI0oZBAoqQGh0N8wEQqO7Ul6JyN6mqB6M+MPTevrIB4aHDE33AkREz1Lo3kkpfygO0xk+rN7/oeDv0UhVd1cTHQuN5gexGRbsDNceDyah9fGa2Dc0GvhhOOxrg8OQuuP9rDfU2s9x/fMeC6O+em7Nz/p6qnz3VfD6TLv3/qEwsMN+5x3DhniPEfrPGRo0h7df+FSK8GP6q9vDPyt+E3/d09xf/fdyTwsZMEn5+ejXPeT9BkJbcOpJeGhKdc0Rn4/o58kOf+/wnm5fj7z/fhl6jfrxsxsGB32iQ2OWBq5vHXwdgSILEBrdrTO1oTFqiPp4mIwxgTxsDmTKH4ruJosqERYgUtbdVYmBUOXYuV7PFWsYd7BHMHag1PNHBs7B3qdjwUuPW9qTx3Uu6HOmV6jbMzbQyxhn6DpOb6OvNyfyUU5Rc2kj2yNN0PT+ySTLM4tmcDNm4PXeP11Aja66DTfJ/hHYC2ah7TL8H47OuczHKhtxzaEXFeOzNpiaxf6jJfIfHUO/r0SF9CiDpPWzlU1i4PrGwdcRKLYAodHdPhMIjSm33Mk8hIUNUQ/7uyE9KWF1y7y+wcY0T3Zot6TVEvl/b78te5/2F4X0w1GM3ldnPUNuohirp4PDiPtH5tmagR+a7WZLfhOouy0SHRrD2iEqcA4JojGCWCfvhi+WGri+OKE4TiB0tkWcNo8XDiJ72nsucd5L82d3z844Bn5z57WG37vRvXn+MBz+PcYdGmNec+i9E+OzNnBcjPKZfl+Jd1/oPw7c31fcP1gogUAZBQiN7lab4tBoh3/6IST8B9Kw+Y8WOKRMyh+KribzVoT6Vw2HHHA8NA4L6nGuL/AmEfMSB38mRm0Abn54mQeo+1eKhl3z5EJjzKAZIziHegwLVxH3TLI2t+Fg+HBxVGhM9l7VCI2JrznT0Jjws5n6+8rw0JiNgeu7F19HoNgChEZ3+0x1aLS9JJ2QZXaN6c5xGxwuyrtHYEijBYaFa7XH5fHH52Tue9+W52Zn5TdLnTl6RehpHHhqTC8ohaxI9ra9uSLfe+7b8vZsZ8hUX9GhcdjipeCxMQPgALljSLtbNreexsRtHq9HKTQ0Jn6vCoTGNNecaWjMawQjzkIYvTDdDcH1fcX9g4USCJRRgNDobrXpDo12bpeGml2RpdlVs2VIMJTE+CGcy5xG19yiSc1pDJ8XFzovcNhiF988u+xCoysAaqjckE+9B7o/Zx4Q35nUON45jUN6lo7dR2navF//yH1IffMT++E83XuVe3g65TWHfl+N8X0i4h8n6eY0JpsL6p+TOvh+WRq4f+BQAoEiCxAa3a1TwtAY/i/zoasqh3be6SbHZuuOxqeyqt10IYsahq9A9gWT0FWOWdXXMYzs2+8t/urpiLq77pu0q6eHDenGXj2dpKdR18jYrVY6vSj9zZ911fXgXn69H6ZjXj0dfyV0ujZ3rZ729wL3A8SI75V6TmOyz0e2cxpTXnPE5yN0F4Vgz7Tve8Ro31eyCo3ZGri+dfB1BIosQGh0t055QmPsvecSbv0RYyXwwOpc//Yrw/ZpzLy+vqFW84OnZR7j0ekX6z5dxf80Fv/ijTR7wbnum2OhcdgBvh9ux/aY6y4yMfvLLS+ZoWnfRs3ZDE97/Ya9lcJDL2sg9IQMo0cdHGfldKf70rchuk4hsPv4aRP6rn+gHinbfMi91zZPolny3SvHQ6OpT5L7K+1CmJSfj/GExoTXHHUvhO7T2Hmaz9KijmJksIdqFnMazfeH/mPI0t5jrm8SfB2B8gkQGt1tNoHQ6K5Ur0TwB/KQsKI/hK/sLZo5fQlDoz9UDOst8fXkHb+C8Cd5BIOC/7g09R32tAnd1mb/yl5n4+YQt0RPs3E10cCeg+bJFOZJIKEPOAlupOxlp87j61yvgd64gbCZrKfRe5+hbacFwu4Zd3CsmUf/7W4HnyQTcWW9cGXmjJn4EPUEneB2PKnbPBDQB2pl7hX7VBp/OE/1XqlD4/EgHefzkW1oDPZEB9pu2GcqopmHGob9AyPp95XUofH4Z89+xlK1u/+zHPcfTq4PPV9HYMIChEZ3A5QrNJrrOfZ81N5zXe1ClqShMc4csC6k1yO0MfDMZw0O62vdJ8SEeGdd32OrHP3PtR32AzxF3SNvn4HQuC9H251nAA8+4zjKJaRn1HvO7postDb7vXH+AD9qaNQLiXj2dO3xdRP8Ip7XHXa/acTM4tnTA0Pj5h8djejnhqdv8+Czp01grXeuN+rZ04nfa5TQmOLznHVo7NwagR0J4n6mooKj95zw1X7PeYxnT8f+vjJCaPTmNfp3LvCFvTQGw4bj3T96KIFA8QQIje42yTE0uitDCQQqKzBiuMrWJemijWzfnbMhgAACRRQgNLpbhdDoNqIEAqML5Bgah/fGadea62kso18uZ0AAAQTKJkBodLcYodFtRAkERhfIMTT659IOLLjRvOhblBG2U8DoF8oZEEAAgXIKEBrd7UZodBtRAoHRBfIMjf6VyVE1T7pFzugCnAEBBBAotACh0d08hEa3ESUQGF0g19DYqe6xRVjm72pmUcbj67uytnC2u2XT6JfGGRBAAIEqCBAa3a1IaHQbUQIBBBBAAAEEKi5AaHQ3MKHRbUQJBBBAAAEEEKi4AKHR3cCERrcRJRBAAAEEEECg4gKERncDExrdRpRAAAEEEEAAgYoLEBrdDUxodBtRAgEEEEAAAQQqLkBodDcwodFtRIkCCWxvb8tXX32VaY1OnjwpZ86cGXrOs2fPyokTJyLLnD59WvQXLwQQQACBcgoQGt3tRmh0G1GiQAIaGLMOjffu3ZNbt24Nvcp2uy3379+PLBNWLw2Zs7Ozx47RgKpB1f968MEH5ZFHHhn4Oz12WFAtULNQFQQQQKD0AoRGdxMSGt1GlEAglYCGzFardexYDagaVP2vr7/+Wm7fvj3wd3qsDaoaMh999NHe1zVgatC0r8cee6z351OnTh0LoKkugIMQQACBKRIgNLobm9DoNqIEAhMX0JD5xRdf9OqhAVODpn199tlnvT/fvXu3F0D9vZ36Zx1m15d/SJ6QOfHmpQIIIFAAAUKjuxEIjW4jSiBQWgF/b6f+WYfZ9eUfkveHTH+A1DmaDz30kFfeDqkTMEt7K1BxBBBwCOQeGttN2drckNWdw17NavWGrK+tiHlo1+iv9pbMz67KYYaPjSU0jt4snAGBygj4A6TO07xz5453bXZI3f/1ubk572t2qNzfk6lD6cF5m5VB4kIQQKCSAvmGxqYszyzKTqhkTRqtA1kZKTi2ZWt+VlY1jxIaK3m/clEIlErg5s2bXn3tULm/J1OH0rU30/ZM2kDp/z1skVCpAKgsAghUSiC/0DgY6PZ3uz2L2vO4tJhJ0GtvzcuslxgJjZW6SbkYBKosYHsmbaD0/64LfeycS0Jlle8Crg2BcgjkFhrtsLHUZf9oWxYGePo9kPX9I9ke/GI8yN75u8XpaYznRikEECi2gJ1z6QqVdksiOxRuh8aLfXXUDgEEyiSQV2js9QLW9+UoJBXar9caLTlIPEZtQ6cZ4t6/InuLzGks0z1IXRFAYAQBGyrtlkR2KFyHxu02RHbBjq4M179j2HsEcA5FYIoF8gqNzeUZWTSTGSN7EpvLMqMFUvQQ2nN7gfO537AQZorvZy4dAQR8AnYbIrtgR1eG69/psLd9Qo+u+tYV4Po7m6Vz+yCAwDCBfEJjfz5jZGhMu+o5GDbTnmcIEqun+QwhgEDlBOwTenTVt64A1981TOrCHA2Uuhm6DnXrL9cjJCuHwwUhgECoQD6h0Td8HLVCeuicx6jGCzkvoZE7HQEEEEgvYMOkboauQ936SwOl9kJqj6SGSBsoNWDyQgCB6REoc2gcGJa28yAJjdNz83KlCCCQn4D2QmqPpIZIGyh1Rbf2QupcSf3F8HZ+7cE7ITAJgbKGxsiFNYTGSdxGvCcCCEyjgPZKai+kzpXUXxostSdSNy7/1re+5YVIhran8c7gmqsqkE9ozHhO47ChbEJjVW9VrgsBBMogoCFSNy7/7W9/64VI/X/d/sf2RurvDGuXoSWpIwLHBfIJjSJZrp4e2MTb1agpVmMHT8lCGBcyX0cAAQSGCOj2P7Y3Un+32/5ob6QGSu2d5IUAAsUXyCs0ZrlPI6Gx+PcVNUQAAQQiBXRepPZCam+kBkrdBujcuXPyh3/4h97v9ERy8yBQTIG8QqOM+4kwlpfh6WLeaNQKAQQQiBLQRyneuHFDPv/8c+937YnU8Hj+/HmvJ5IXAggUQyC30Cj+Z0+bRwnumkcJnjUGGT572hMlNBbjxqIWCCCAQFoB7YnU8Pjxxx978yM1QF64cMH7XQMlLwQQmIxAfqHRF+hCL9U8AjBkD0c7F9I8Sib08YPHTkVonMyNxLsigAAC4xDQoWsNkNevX/d+155H7YF88sknCZDjAOecCAwRyDU0ej2BTdna3JDVncNerWr1hqyvrXR6HgMvQiO3LwIIIIBAT0DDo/ZAfvTRR16AfOqpp7xeSN0zkhcCCIxXIPfQmOJyvIUvN9fj9TSmOL/rEFZPu4T4OgIIIDABAQ2QH374obfZuA5dX7p0iX0hJ9AOvOX0CJQhNGpv48ZcSw7sU19ybh5CY87gvB0CCCCQRECHsLXn8Z133pHf+Z3f8cKj9kDyQgCBbAUKHxq9OYp7ciXqmdXZcoSejdCYAzJvgQACCGQhoFv5aHjU/SAvX74sTz/9dBan5RwIIGAEih4adWh6U3Zle0K9jHqTEBr5qCCAAAIlE9BHHL711lvePpA/+MEP6HksWftR3WIKFD00FkGN0FiEVqAOCCCAQAoBDY//+I//KHfu3JGrV68y5zGFIYcgYAUIje57gdDoNqIEAgggUGgBHbZ+44035OLFi7KwsFDoulI5BIoqQGh0twyh0W1ECQQQQKAUAteuXfMeW7i8vFyK+lJJBIokQGh0twah0W1ECQQQQKA0Au+//773yEKCY2majIoWRIDQ6G4IQqPbiBIIIIBAqQSazaY3z/GFF14oVb2pLAKTFCA0uvUJjW4jSiCAAAKlE3jllVfkpZdeYnFM6VqOCk9KgNDolic0uo0ogQACCJROgGHq0jUZFZ6wAKHR3QCERrcRJRBAAIHSCdy6dUtef/11efXVV0tXdyqMwCQECI1udUKj24gSCCCAQCkFlpaW5Be/+IWcOHGilPWn0gjkKUBodGsTGt1GlEAAAQRKKfDaa695ezdeuHChlPWn0gjkKUBodGsTGt1GlEAAAQRKKaBPjPnZz37mDVHT21jKJqTSOQoQGt3YhEa3ESUQQACB0grcuHFD3nvvPXn55ZcJjqVtRSqehwCh0a1MaHQbUQIBBBAotcCHH37oBccf/vCHcurUqVJfC5VHYFwChEa3LKHRbUQJBBBAoPQC+nzqN998Uy5fviznzp0r/fVwAQhkLUBodIsSGt1GlEAAAQQqIaBzHN944w1vmPrq1av0OlaiVbmIrAQIjW5JQqPbiBIIIIBApQSuX78u165d81ZVf/e73yU8Vqp1uZi0AoRGtxyh0W1ECQQQQKByAvfv35d3331X3nnnHW+4+tKlS/LII49U7jq5IATiChAa3VKERrcRJRBAAIHKCmh41EcOang8ffq0PPPMM+zrWNnW5sKGCRAa3fcHodFtRAkEEEBgKgTs9jztdlueeuopL0DS+zgVTc9FGgFCo/s2IDS6jSiBAAIITJXA3bt3xW7Toxduex+1J5IXAlUVIDS6W5bQ6DaiBAIIIDC1Ardv3/b2eNTFMydPnuw9lpAAObW3RGUvnNDoblpCo9uIEggggAACRuDWrVvywQcfeAFSt+3RBTRPPPEE+z5yd1RCgNDobkZCo9uIEggggAACAQHtgdQ5kJ988oncvHlT5ubmvACpv585cwYvBEonQGh0Nxmh0W1ECQQQQACBIQK6AluDow2Quom49kI+9thjXohkMQ23TxkECI3uViI0uo0ogQACCCCQQODevXteL+Rnn33mhUn9/7Nnz/ZCJD2RCTApmpsAodFNTWh0G1ECAQQQQGAEAV2Nrdv42BCpQ9uzs7NekNRfGiJZWDMCMIdmIkBodDMSGt1GlEAAAQQQyFBAh7NbrZYXJPWXLrD55ptvBoKkhkpdrc0LgbwEcg+N7aZsbW7I6s5h7xJr9Yasr63IwtnkV91ubsnmxqr0T1eTemNd1lYWJMXpQitAaEzeLhyBAAIIIJCxgA5h+4Ok/vmBBx7weiH1l86P1LmRp06dyvidOR0CHYF8Q2NTlmcWZScUvyaN1oGsJEh67a15mV3th8+B09bqsn+wLQsZNDShMQNEToEAAgggkL2ALqjRXkj9pUPbOqxteyQ1SD788MNekNReSd0CiBcCowjkFxrbsjU/K17GqzVkf7fbs6g9j0uLvb9vHazE6yFsb8n87KociulZ3N+VbdtNac63PNsNpvV9OdoePTYSGke5wzgWAQQQQCBXATu0rUHyyy+/9IKk9kpqD6QGSP8cSRbc5No0pX+z3EJjL+SZHsCjYA9gvweyvn9kAqCbtbk8I4umy7LWaMlBsHty6Hu5zx0sQWhMbsYRCCCAAAIFE9BeSQ2Qdo6k7aW0Q9o6vK1zJDVIMsxdsMYrSHXyCo29oeSI3j/79dAQmNjKhtCwgJr4ZN4Q/syReSU/lCMQQAABBBAotoAGSV29rcPbOm9Seyjt39nFNto7+dBDD3kruB999FEW4BS7ScdWu7xCo+0ZjOxJbC7LTKfrUGIPUUepZHku8x6ExrHdfpwYAQQQQKDIAjqsrUFSeyfv3Lkj2jv5xRdfiA6B23mSGih1vqT9Xf+eVzUF8gmN/fmMkaHRDimPGBrbJjAumfCpUyfjDnW7WpbQ6BLi6wgggAACUyVg503q7xoo/b9r0NQQSais3i2RT2i0w8VDVkiPOA/R9mR2Wsi8z75ZiR1jbmScFiU0xlGiDAIIIIAAAl2BuKFSi+scSp1LaYe/beAEs3gC1QiNpidzeUn2PjW+h4deL6MGx4FV1SPQExpHwONQBBBAAAEEggI2VOrf6xxKHQK3w9/+r9neSp1LqaHSDoPrcWwjlP99VY3QOOimG34vLep2PNkMURMa878veUcEEEAAAQS8rYI0ROpcSg2VdhhcaezX9M9zc3M9LTu3Uv/C/2cW8Ix+Q+UTGvOb02hFequ1R5wjqecjNI5+n3EGBBBAAAEExiZw8+bN3rntHEv9C/+fdQGP9mjqS4fE9Wk69s/+xzHq1kP2Zfe2HFvFC3bilZUVuXTpkjz77LOhm8HnExpFcl097d0odvPv0bfdITQW7KamOggggAACCIwiYJ/lreeww+P2fLr1kH3pVkS6/ZB9+cOmf6hcv27nZPrrVbb5mRp49KVh+ZlnnpGFhYWB7ZXyCo3Z7tOYoOdSCI2jfK44FgEEEEAAAQS6Av6w6R8q1y/bOZl+LP/8TP/fh83HtPM2w0v9n0IAACAASURBVLB1s/UHH3wwsh3sM8hHbagXX3yx1xur59LQq72O2vuo9csrNA7v+Uv/RBiz2iX0UYG91dQZPEqQnsZR70KORwABBBBAAIGegH8+pv1LO28zjEl7O7/++uvelzSM/u///m/v///nf/5H/vM//zOR8O///u/L7/3e73nH/N///Z/oOXT4PupZJtqTqsH4l7/8ZaL3SVfY/+xp0/u3ax4leNacaeRnT5t10iYY7ppnD+rpzAnNUPiSecSg95BrabTM1judL6R+ERpT03EgAggggAACCAQFNJzpHEt9aRj0D4EHezC1jH8+pv6/9vrpr2Ev+0jIqDL/9V//5QVFff3u7/6u/MEf/IH88z//s/z3f//3wCH6tfn5efmjP/oj+du//ducQqPmOTvPMOwKwgPesB5D3ch7Vp8iE/piyx0+pQgggAACCCCQk4B99KK+nX8Bjp0j6R+q9i+w0WFnHX72v/yLcfTv81r5rQthtMdTX3Zo+vnnn+/Na8xteNpiaM/i5oasej2BnVet3pD1tZVOz2Pg5RxmNudbXtqQHbM/Y/ds5nxXIs+X5tahpzGNGscggAACCCBQAQF/r6ANg/7eQV257V/w4g+B/j+XYSW2DY1PP/20fP/73/cWxPhfuYfGFPePt4jm5nro3MUUp0t8CKExMRkHIIAAAgggUA4Bu0Lazim08wdtz6H2Amp48g/32v0f4wwTl0OhU8tr167JxYsXvS2Jwl5lCI3a27gx15KDUScnpmw4QmNKOA5DAAEEEECgCAJ24YkOFds5g99884233Y4NhfZxhhoINSDqCmdegwKFD43ePMg9uZLBgpa0bU9oTCvHcQgggAACCOQkYIeRtYdQV/nqULL2HmpPogZA21Noh4yr1kuYB3PRQ6MOTW/KrmxPqJdR24DQmMedyHsggAACCCAQQ0CDoAZDDYV2b0TtSdQhZA2C2lOowVB7DvNaQBKj2pUoUvTQWARkQmMRWoE6IIAAAghMnYAuMtGA+OWXX3pDyRoOdThZw6GGQv2lAZGh5HxuDUKj25nQ6DaiBAIIIIAAAqkF7NCyzjnUkGh/aRjUYPjwww97YXFubi71e3Dg6AKERrchodFtRAkEEEAAAQRiC2iPoQ4v21+6OEXDoQ4t2x5E1+bVsd+MgpkJEBrdlIRGtxElEEAAAQQQCBXQOYg2HOoQsw45a4+hDYj6OwGxHDcPodHdToRGtxElEEAAAQQQ8AQ0JN64cUN0qFl/6cbXGgztL+YflvdGITS6247Q6DaiBAIIIIDAlAroljYaEj///HOvF1Ff2pP4xBNPiD4OL/hUkSllqsRlExrdzUhodBtRAgEEEEBgigSuX78un3zyiRcSdRGLhkMNiRoWGWqu7o1AaHS3LaHRbUQJBBBAAIEKC+hCFQ2K+kt7FXX/w+985zteSNRVzbymQ4DQ6G5nQqPbiBIIIIAAAhUTsMPOH3/8sRcUz507J+fPn5cnn3zSe7oKr+kTIDS625zQ6DaiBAIIIIBABQRsj+IHH3zgbaStAVGHnS9cuOAtaOE13QKERnf7ExrdRpRAAAEEECixgAbEf/u3f5PDw0Pv6SoXL14kKJa4PcdVdUKjW5bQ6DaiBAIIIIBAyQR0Acu7774r2quoPYzPPPOMPPXUUyxkKVk75lldQqNbm9DoNqIEAggggEBJBDQsNptN75cOP//xH/8xj+crSdtNupqERncLEBrdRpRAAAEEECi4QDAsXr58mV7FgrdZ0apHaHS3CKHRbUQJBBBAAIGCCujQs/Yq/vrXv/Z6FgmLBW2oElSL0OhuJEKj24gSCCCAAAIFFNCtcq5du+btpfjCCy/Qs1jANipTlQiN7tYiNLqNKIEAAgggUDCBX/3qV94il6tXr3p7LPJCYFQBQqNbkNDoNqIEAggggEBBBHQ4+rXXXvNq8/LLL7MRd0HapQrVIDS6W5HQ6DaiBAIIIIBAAQR0sctf//Vfe3stag8jLwSyFCA0ujUJjW4jSiCAAAIIFEBAexhPnz7tzV/khUDWAoRGtyih0W1ECQQQQACBCQtcv35ddB7jX/3VX/HIvwm3RVXfntDobllCo9uIEggggAACExb46U9/Kt/97ne9x//xQmAcAoRGtyqh0W1ECQQQQACBCQu8+OKL8otf/GLCteDtqyxAaHS3LqHRbUQJBBBAAIEJCty6dUtef/11efXVVydYC9666gKERncLExrdRpRAAAEEEJigwPvvvy+ff/65LC8vT7AWvHXVBQiN7hYmNLqNKIEAAgggMEGBV155RZ5//nnmM06wDabhrQmN7lYmNLqNKIEAAgggMCEB7WX8l3/5F29o+sSJExOqBW87DQK5h8Z2U7Y2N2R157DHW6s3ZH1tRRbOjirelOWZRdmp78vR9sKoJ+sdT2jMjJITIYAAAghkKaBzGXUzb91mR58vzQuBcQrkGxq7oS70gmrSaB3IygjBsbk8I4s75uSExnHeMpwbAQQQQKAIArov4xtvvOHNY+TZ0kVokerXIb/Q2Jat+VlZ1Q7GWkP2d7s9i9rzuLTY+/vWwYokz41taS7PdgKjvgiN1b9xuUIEEEBgmgV0E+/33ntPfvKTn8iZM2emmYJrz1Egt9DY3pL52VU5lLrsH23L4OBxvweyvn8kiUaWTehcNqHTN9pNaMzx/uGtEEAAAQRyFGi1WvLmm2/KyZMn5eWXX/Z+54VAXgJ5hcb21rzMajdjRC+g/Xqt0ZKDuGPUzWWZ6XYv1sx5d7/3tszq/9PTmNftw/sggAACCOQh8NVXX8lbb70lH330kfdc6aeffjqPt+U9EBgQyCs02vmGkT2JNgCaoevYQ9R6zIZIY31NVnQVjT0HoZG7HAEEEECgCgI2LB4eHsqzzz7rbatD72IVWrac15BPaOzPZ4wMjXb4OkloDJITGst5E1JrBBBAAIFBAX/PovYq6jOlT506BRMCExXIJzTaOYtDVkgPnfMYk4jQGBOKYggggAAChRS4ceOGfPDBB6K/LywseL/oWSxkU01lpQiN7mZnn0a3ESUQQAABBFIK3L592wuK+uv06dPyJ3/yJ/Lkk08SFlN6ctj4BAiNbltCo9uIEggggAACCQTu3bvnLWr513/9V9Gh6IsXL3q/2KA7ASJFcxfIJzQypzH3huUNEUAAAQSKJaDhUIed//3f/11065wLFy54QZGNuYvVTtQmWiCf0KgLmztPa8l09XTwspjTyK2OAAIIIFAkAR161ie3fPjhh/L11197AfH8+fNeYOSFQNkE8gqNY9mnkdBYttuN+iKAAALVFrh//77Xm/jZZ595v+v/a0D8zne+I7Ozs9W+eK6u8gJ5hUYZ1xNh/C1ET2Pl71cuEAEEECicgA2JGhS/+OILrzfxscce835njmLhmosKjSCQW2gU/7OnzaMEd82jBPUh05k8e7oLQGgc4U7gUAQQQACBWAI3b970ehL1l85NnJub80Ki/qI3MRYhhUoqkF9o1IBonz8dhhW+h6OdCxnr0YCExpLehVQbAQQQKKiAzknUYPjb3/7W+13/X4OhDYkaGHkhMC0CuYZGRdWexc0NWd0xz6Huvmr1hqyvrXR6HgMvQuO03IlcJwIIIDBhAd0GR4Nhu932fumfdd9EDYnf+ta35NFHH5UzZ85MuJa8PQKTE8g9NKa4VG8Rzc11OdpeSHH06IewT+PohpwBAQQQKJSAbn9z69Yt75cGRO1B1EUrGgrPnj3bG2o+ceJEoepNZRCYpEAZQqP2Nm7MteRgJaQrMgc8QmMOyLwFAgggMC4BnYOoofDLL7/0QqL2IOoCFftLh5r1zzzbeVwtwHmrIlD40OjNg9yTK60DmVBmFEJjVe52rgMBBCoroEPLunJZw6Huh6iLVO7eves9bUWHl7UH8eGHH/bCIfMQK3sbcGFjFih6aNSh6U3Zle1JJUbjT2gc803I6RFAAIG4AhoKNQxqKNRwaBeqaC+hzj/UoeUHH3zQC4n0HsZVpRwC8QSKHhrjXcV4SxEax+vL2RFAAIGegAZC21uov9+5c8frLbS/tJfw5MmTvVD40EMPsc0N9w8COQkQGt3QhEa3ESUQQACBWAI6v1BfGgI1EOqwss4z/Oabb7zftYfwgQce8HoMdRGK/V2HmFmUEouYQgiMTYDQ6KYlNLqNKIEAAlMsoKuOdXGJPwzqn3UI2f6dhkQdQrZPSLFhUP9fh5N1OxvtQeSFAALFFSA0utuG0Og2ogQCCFRIwC4q0UuyPYHBP/uDovYA2ieh6LxCHTK2vYR6HIGwQjcHlzLVAoRGd/MTGt1GlEAAgQkK+ANcWDV02FfDn33ZeYL2/+3QsP1/fwj0h7/gn3lk3gQbnbdGYAIChEY3OqHRbUQJBBBwCGhwu379uldKN5PWoOd62cUfrnL69WHbyOg8Qf/Qr/YEao9gWEiM816UQQCB6RQgNLrbndDoNqIEAggkCI3BEBd1qH8OIMAIIIDApAUIje4WIDS6jSiBAAIIIIAAAhUXIDS6G5jQ6DaiBAIIIIAAAghUXIDQ6G5gQqPbiBIIIIAAAgggUHEBQqO7gQmNbiNKIIAAAggggEDFBQiN7gYmNLqNKIEAAggggAACFRcgNLobmNDoNqIEAggggAACCFRcgNDobmBCo9uIEggggAACCCBQcQFCo7uBCY1uI0oggAACCCCAQMUFCI3uBiY0uo0ogQACCCCAAAIVFyA0uhuY0Og2ogQCCCCAAAIIVFyA0OhuYEKj24gSCCCAAAIIIFBxAUKju4EJjW4jSpRWoC1tOWv+44UAAggggMBwAUKj+w4hNLqNClKiKcszi7ITuzY1abQOZGVKE1O7uSWbG6si60eyvRAbLbRge2teZlcPRer7cjTqyUarSvyjm8sys2jvlrrsH23LiAzx35uSCCCAQAkFCI3uRiM0uo0KUoLQGL8h2rI1PyudnEdoNAqExvg3DyURQGBKBQiN7oYnNLqNClLChkYCgLtBsg2N7vcrYAl6GgvYKFQJAQSKLEBodLcOodFtVJAShMb4DUFoFEJj/NuFkggggIARIDS6bwNCo9uoICVGDI3tLZmfXZXDyKFKe/4EcyHbTdna3JDVHTMO3H3VanW5sr4mKwsRkym7x+yZY+xResz6rplzFzzE1rnWkNbBc9La2pSN1Z3ecWKOawTeqzf/MNBqx4apE9Qj8ZzGFPUeqG6Ea6hR1N15LDSuiWmsAb9Id++cbWlq+T3j3W9ekVpN6uu7Zp5ooLF695c5tNte0tyUpQ3f8VHH2msIaRPv/a6sy9rKQuSCps781T3Z8VXUeR8W5FNNNRBAoDgChEZ3WxAa3UYFKVGw0OgPCSFCtUZLDoKrcEyQmTeLM/wZxH/o8WDXDbomHNbNEiBfNh14R/97xQqNCeuRPjTGr3fvgobWzQSo/YN4C3sGQmPNZC8T0kPhw8/ZXJ6R3jqasE9AcFHQQGjM+rptEF0JBMd+j3Lkh9QLsMHjCvKRphoIIFAoAUKjuzkIjW6jgpQoVmjshQoTHlpmRXGn30l7p5ZkUVegHOvR7C/kqZljdkOPCfRyBoJprWGOsz1O2iu1tOgtdjn+XsOGp5PXI3Vo7N45sesd6K3b313p9L62zfVsLnV7dGP2BA+ERtctHJgn6z/WF7oGA/nwthr+jsF5uTEXeQWCqjPY2kqUadW7q6n4OgIIjE2A0OimJTS6jQpSIuYP1qgflJkOTw8byg4PbK7gFfp1X4gK7bnsfT0YpKJDY5p6uI45doOkrHcvBEX0jvmDunPrn2Oh0Rjt73anDfjDfaf2fl9/GBvo/Q2E+GFfM2c0vaJ2GNu83/LsQM+l/9hjYdRXT7sKvlNLX9gMXp8x64Vs/cfLsvnHi69rOotV9AX5RkA1EEBgTAKERjcsodFtVJASRQqNvmHBkHmFx8Fs+SG9ZAPzALvDiZGh0L5DVHiNCo3p6pE+NEZdb1i9YyzesUEpzpBrYHg6bM/OgZ66OOeUwXswdqDU5ooMnINDzMf+caDHLe3J4zqv8TnTo92dSumue2Domt7GgnwfoxoIFFeA0OhuG0Kj26ggJYo1PD24OrdLFLloIUng9fUmpe4djQpg6eqRPjRGbY8UFhpjLERyevhu1Rirpwd7+MLqap6o02zJb95+W/Y+DSyI0X4//x6YA6EwLCxHBc4hQTTyk+cImt3jBq4vViguyEedaiCAwEQECI1udkKj26ggJQoWGrXzqPvUlbAFKrV6w8xbtAsQ0oW1fu9UkvDldWtFbO6drh75hsZh+3AmuAci5iUO3MyRwdL4meFd/6r4sA/B5EJjzKAZIzgX5MNNNRBAoAAChEZ3IxAa3UYFKZEgMITV2NlLFaOna0jPT3PrN/L23uC2J/3H7qU8d+o6u0JjzMUkwR6ruEOcqeodw8h53mQ9jQO9xb2euJAVyV4P8hX53nPflrdn+4+yjA6NYcGXnsaCfCOhGgggECFAaHTfGoRGt1FBShQ5NA4S9YcFbXiIMV8v06DrmtOY7PGC+fQ0xjBKPacx/HpD5wUOW+wSe05jktDoGmrW+35DPq1fkfW158xq8s6kRuY0FuTbEtVAoEIChEZ3YxIa3UYFKZFVaAzvZesHvRi9cK4er5Cvu1YG93q9/HPPXO/TCzHxV0+nqUc+odEXhELn3/nCVZwez7Srp4cN6cZePZ0kNOoamXmZ7eydZF7BVdcRq6BZPV2Q70tUA4HqCBAa3W1JaHQbFaTEiKHRN89Pn6Sy33sCS3D7lRihceBc/q1ODJV//0R/uInag9A7ZFmWupt+D6yezSI0mk3Gt/2bjKeoR16hcWCFsX8LmTz3aTy2N2Z3k3bTrstmX0z//NVshqe9fkPTm9gf9o78wA2E6Rgbe9sTxQnZBfmUUw0EEJicAKHRbU9odBsVpETMH6z+2gZ/WA7Z8Fk3oL6yp5tlxwmNmvTsYwmjeEJ6mxxPYtFNvw/Mpt+9V+rQGBi+1P4r/xNqEtYjt9Do5adhT81J+USYunlCy455ok5oUx1v77ibZocHfH2TZD2NXrUcbaI9kMe3DXIHx8EFWX2ARHteFuQ7ANVAAIHxChAa3b6ERrdRQUpkEBo16wWf09t7HrB5NPH8bPzQqCphzwrW4cXGkGcFhz5f+PgzpD30EUKjt4LavwL42GPvOs/N9j8DO+xZ1p1qdIdP4/ZYjVTvjuvy0sbgs5TNavT1te4TYuLckf5/IHj1nvU2vN7wP/M78pzd5077nvPdeU71miy0NmXGPl8wdCpBytAYdT+Z+7P2+LrvCULHLz7Ns6cJjXFuIsogMF0ChEZ3exMa3UaUQAABBBBAAIGKC1QmNA4ZVRz16ViExop/CLg8BBBAAAEEEHALEBrjGc0cmZe7KCUQQAABBBBAAIFqClQmNI6xeehpHCMup0YAAQQQQACBcggQGt3tRGh0G1ECAQQQQAABBCouQGh0NzCh0W1ECQQQQAABBBCouACh0d3AhEa3ESUQQAABBBBAoOIChEZ3AxMa3UaUQAABBBBAAIGKCxAa3Q1MaHQbUQIBBBBAAAEEKi5AaHQ3MKHRbUQJBBBAAAEEEKi4AKHR3cCERrcRJRBAAAEEEECg4gKERncDExrdRpRAAAEEEEAAgYoLEBrdDUxodBtRAgEEEEAAAQQqLkBodDcwodFtRAkEEEAAAQQQqLgAodHdwIRGtxElEEAAAQQQQKDiAoRGdwMTGt1GlEAAAQQQQACBigsQGt0NTGh0G1ECAQQQQAABBCouQGh0NzCh0W1ECQQQQAABBBCouACh0d3AhEa3ESUQQAABBBBAoOIChEZ3AxMa3UaUQAABBBBAAIGKC+QeGttN2drckNWdw55srd6Q9bUVWTibHLvd3JLNjT3ZObTnq0mtfiX1+cJqQGhM3i4cgQACCCCAAAIVE8g3NDZleWZRdkINa9JoHchKguDYXJ6XRV/4HDxtTer7B7K9MHqDERpHN+QMCCCAAAIIIFBygfxCY1u25mdlVTsEaw3Z3+32LGrP49Ji7+9bBysSKzc2l2VmUeOnhsNdEw67R/nPJ3XZP9qWUXMjobHkNznVRwABBBBAAIHRBXILje0tmZ9dlcPQINfvgazvH8XoHewH0FqjJQfHuieTnm+4I6Fx9PuMMyCAAAIIIIBAyQXyCo3trXmZ1W7G+r4chYwZ26+Hh8Agsg2F0UPazeUZM3StnZphoTJZoxEak3lRGgEEEEAAAQQqKJBXaLQhLrIn0Q43m6Hr2EPUQ9qD0FjBm5VLQgABBBBAAIHJCbz44ovy93//93Ly5MkxVqI/nBwZGu3wdSah0d0TmeRi6WlMokVZBBBAAAEEEKikwF/8xV/Ij3/8Y3nkkUfGeH0xQtzQOY/JqtYbCs8ggN6/f180WM8cmVeyalAaAQQQQAABBBCojsDGxoZcvnxZ5ubmxnhROYZG36rqpFv4hAF89dVXokaExjHeHpwaAQQQQAABBIov8Ktf/cqr5PPPPz/GyuYUGk1gnDerXw69bXiy2aPx/fffl88//5zQOMa7g1MjgAACCCCAQAkEWq2WvPnmm/KXf/mXY6zt+Oc09oakTWDMoofRYvz85z+XCxcuEBrHeHdwagQQQAABBBAoicArr7wiL730kpw5c2ZsNR7f6um2NJeXuk+GyTYw3r17V37605/K3/3d3xEax3ZncGIEEEAAAQQQKI3A9evX5YMPPvAWxIzrle0+jbaW/qfMmKe/HIz+9Bf/9V+7dk0eeughWVhYIDSO68bgvAgggAACCCBQLoHXXntNLl686A3FjuWV6RNhtIbawzjrbeCtjyXMYm9H/3XrsP0//dM/yU9+8hM5ceIEoXEsNwUnRQABBBBAAIHSCejWMrpK+OrVq2Mapg70Cu6aXkF9XHTKZ09nua1OsLF0xfQ//MM/yJ//+Z/LqVOnvC+zerp0tzQVRgABBBBAAIFxCWhY2t7elkuXLo2nx7HX2xh2BeHzEe1cyMHHD/afLe20iHhsYdRxdmHQD3/4Qzl9+nSvGKHRKU0BBBBAAAEEEJgmgXv37snrr78uDzzwgHz/+9/v9bRlZqA9i5sbsrpjnkPdfdXqDVlfW+n0PAZeoaGxtxdjjFrFDI163br90K1bt0QDo+1htO9AaIxhTREEEEAAAQQQmD4B3Z/wrbfekrNnz8oTTzwhTz755JgfNRht7A1F31yXo+2FTBtCh+Rv3LghH3/8sdy8edPrYX322We9OYzBF6ExU3pOhgACCCCAAAJVEtBQpSurP/nkE/noo49Ee+P0GdXjf1b1oKL2Nm7MteRgJaQrMiG4XpNuMXT79m0vHJ47d07Onz/vDMWExoTQFEcAAQQQQAABBHIV8OZB7smV1oFkkBlTV53QmJqOAxFAAAEEEEAAgfEL6ND0puzK9iQTo7lMQuP425p3QAABBBBAAAEESi9AaCx9E3IBCCCAAAIIIIDA+AUIjeM35h0QQAABBBBAAIHSCxAaS9+EXAACCCCAAAIIIDB+AULj+I15BwQQQAABBBBAoPQChMbSNyEXgAACCCCAAAIIjF+A0Dh+Y94BAQQQQAABBBAovQChsfRNyAUggAACCCCAAALjFyA0jt+Yd0AAAQQQQAABBMYk0JTlmUXZiTx7XfaPtiWLJ1YTGsfUhJwWAQQQQAABBBAYu4D3iMFVOSQ0jp2aN0AAAQQQQAABBMor0FyWmUXTz1jfl6PtLPoToynoaSzvbULNEUAAAQQQQGDKBZrLM6KZsdZoycGYn01NaJzym43LRwABBBBAAIGyCrRla35WVg9r0mgdyJgzoxAay3qfUG8EEEAAAQQQmHIBuwimLo39Obm5sSo7dnJjzfzd7namQZLQOOW3G5ePAAIIIIAAAiUVcC6CyXbYmtBY0vuEaiOAAAIIIIDAlAvYRTDKUGvI/u6KLJw1f26bYevNJVn1uh2zG7omNE75/cblI4AAAggggEA5Bdpb8zK7aoKhCYytgxXRvOh/2UUyWa2sJjSW8z6h1ggggAACCCCAwHAB2xMZESqT8hEak4pRHgEEEEAAAQQQKINAb85jNk+FITSWodGpIwIIIIAAAgggkFSA0JhUjPIIIIAAAggggEDVBOwejfowmCMJfRgMw9NVa3SuBwEEEEAAAQQQSC4wfKFLP1Rm9bQYhqeTtxFHIIAAAggggAACkxfw7dNYM8+e3jXdjd4K6rbZ9HtpsbvRdzbzGfW0hMbJNzk1QAABBBBAAAEEUgn0tt0JPTq7PRoJjamah4MQQAABBBBAAIECCXg9ixumZ7H3DEGp1df7PY8ZVZWexowgOQ0CCCCAAAIIIFBlAUJjlVuXa0MAAQQQQAABBDISIDRmBMlpEEAAAQQQQACBKgsQGqvculwbAggggAACCCCQkQChMSNIToMAAggggAACCFRZgNBY5dbl2hBAAAEEEEAAgYwECI0ZQXIaBBBAAAEEEECgygKExiq3LteGAAIIIIAAAghkJEBozAiS0yCAAAIIIIAAAlUWIDRWuXW5NgQQQAABBBBAICMBQmNGkJwGAQQQQAABBBCosgChscqty7UhgAACCCCAAAIZCRAaM4LkNAgggAACCCCAQJUFCI1Vbl2uDQEEEEAAAQQQyEiA0JgRJKdBAAEEEEAAAQSqLEBorHLrcm0IIIAAAggggEBGAoTGjCA5DQIIIIAAAgggUGUBQmOVW5drQwABBBBAAAEEMhIgNGYEyWkQQAABBBBAAIEqCxAaq9y6XBsCCCCAAAIIIJCRAKExI0hOgwACCCCAAAIIVFmA0Fjl1uXaEEAAAQQQQACBjAQIjRlBchoEEEAAAQQQQKDKAoTGKrcu14YAAggggAACCGQkQGjMCJLTIIAAAggggAACVRYgNFa5dbk2BBBAAAEEEEAgIwFCY0aQnAYBBBBAAAEEEKiyAKGxyq3LtSGAAAIIIIAAAhkJdtWNcwAABKlJREFUEBozguQ0CCCAAAIIIIBAlQUIjVVuXa4NAQQQQAABBBDISIDQmBEkp0EAAQQQQAABBKosQGiscutybQgggAACCCBQPIF2U7Y2N2R157BXt1q9IetrK7JwNk1129JcXpINc77eGWt1aayvyUq6E4ZWgtCYpm04BgEEEEAAAQQQSCXQlOWZRdkJPbYmjdaBrCQJju0tmZ9d7YfFwHlrjZYcJDph9EURGlM1OAchgAACCCCAAAJJBdqyNT8rq9odWGvI/m63Z1F7HpcWe3/fOliReLnRF0BNz+L+7na3p9L0PG4tyWLnjZIH0YjLIjQmbW/KI4AAAggggAACaQR6vYIm4B2ZgDdwjn4ArO8fyfbgF0Pfrb01L7MaDE0ADQuazeUZWTRdmln1NhIa0zQ6xyCAAAIIIIAAAgkFeiGvvi9HIanQfj1eyOv3WsYNmQmre6w4oXFUQY5HAAEEEEAAAQRiCNiev8iQ11yWmU7XYGjP4eBb2J7JsF7LGJVJUYTQmAKNQxBAAAEEEEAAgWQCMXoG7fB1nNAYKGsmMcrmxqr0FmSzejpZ81AaAQQQQAABBBAohoDtGRyyMGXonMfAVfh6JRuP7w1s3+MvGW+oO54QPY3xnCiFAAIIIIAAAgiMIDCm0NitUc3Mk9w18yQ7q647+zYudrsds5rzSGgcofk5FAEEEEAAAQQQiCcwvtAY1Zto51BKxMKbePXulyI0JhWjPAIIIIAAAgggkFgg4zmNdnh62D6MSYa7Y1wPoTEGEkUQQAABBBBAAIFRBTJdPR0nEMYpk+CiCI0JsCiKAAIIIIAAAgikFch2n8YYm4En2sLHfVWERrcRJRBAAAEEEEAAgdEFMn4ijGvOouvrSS+I0JhUjPIIIIAAAggggEAqAf+zp33Pik777OleCDX7gdcbsr7WfZb1wOppnj2dqqk4CAEEEEAAAQQQmKiAL+gdr0d4wBvaY2iGoOfNU2TME6hDX1ltt6Mnp6dxoncOb44AAggggAACUyegPYubGwMbcg/2FA6KOIeZu+fbM/sy2vBYM0+EWd/dloXOxo2ZvAiNmTByEgQQQAABBBBAYHwC3iKam+tyZDbwntSL0Dgped4XAQQQQAABBBCIKaC9jRtzLTlYybDrMOZ722KExoRgFEcAAQQQQAABBHIV8OZB7smV1oFMMDMypzHXRufNEEAAAQQQQACBhAI6NL0pu7I9ycRo6kxPY8KGozgCCCCAAAIIIDCNAoTGaWx1rhkBBBBAAAEEEEgoQGhMCEZxBBBAAAEEEEBgGgUIjdPY6lwzAggggAACCCCQUIDQmBCM4ggggAACCCCAwDQKEBqnsdW5ZgQQQAABBBBAIKEAoTEhGMURQAABBBBAAIFpFCA0TmOrc80IIIAAAggggEBCAUJjQjCKI4AAAggggAAC0yhAaJzGVueaEUAAAQQQQACBhAKExoRgFEcAAQQQQAABBKZRgNA4ja3ONSOAAAIIIIAAAgkFCI0JwSiOAAIIIIAAAghMowChcRpbnWtGAAEEEEAAAQQSChAaE4JRHAEEEEAAAQQQmEYBQuM0tjrXjAACCCCAAAIIJBT4/xNP7ODdRP1WAAAAAElFTkSuQmCC)"
      ],
      "metadata": {
        "id": "SdDNSHZp_XGI"
      }
    },
    {
      "cell_type": "markdown",
      "metadata": {
        "id": "m4cgbDENFPV6"
      },
      "source": [
        "## BERTimbau\n",
        "\n",
        "BERTimbau é um modelo que gera representações vetoriais sensíveis ao contexto, ou seja, word embeddings sensíveis ao contexto."
      ]
    },
    {
      "cell_type": "code",
      "metadata": {
        "id": "nR_n-Z1CleNq",
        "colab": {
          "base_uri": "https://localhost:8080/"
        },
        "outputId": "14c36de0-0d41-4fc5-b111-d6fdf6cafe2b"
      },
      "source": [
        "!pip3 install transformers"
      ],
      "execution_count": 29,
      "outputs": [
        {
          "output_type": "stream",
          "name": "stdout",
          "text": [
            "Collecting transformers\n",
            "  Downloading transformers-4.34.1-py3-none-any.whl (7.7 MB)\n",
            "\u001b[2K     \u001b[90m━━━━━━━━━━━━━━━━━━━━━━━━━━━━━━━━━━━━━━━━\u001b[0m \u001b[32m7.7/7.7 MB\u001b[0m \u001b[31m21.1 MB/s\u001b[0m eta \u001b[36m0:00:00\u001b[0m\n",
            "\u001b[?25hRequirement already satisfied: filelock in /usr/local/lib/python3.10/dist-packages (from transformers) (3.12.4)\n",
            "Collecting huggingface-hub<1.0,>=0.16.4 (from transformers)\n",
            "  Downloading huggingface_hub-0.18.0-py3-none-any.whl (301 kB)\n",
            "\u001b[2K     \u001b[90m━━━━━━━━━━━━━━━━━━━━━━━━━━━━━━━━━━━━━━━━\u001b[0m \u001b[32m302.0/302.0 kB\u001b[0m \u001b[31m28.3 MB/s\u001b[0m eta \u001b[36m0:00:00\u001b[0m\n",
            "\u001b[?25hRequirement already satisfied: numpy>=1.17 in /usr/local/lib/python3.10/dist-packages (from transformers) (1.23.5)\n",
            "Requirement already satisfied: packaging>=20.0 in /usr/local/lib/python3.10/dist-packages (from transformers) (23.2)\n",
            "Requirement already satisfied: pyyaml>=5.1 in /usr/local/lib/python3.10/dist-packages (from transformers) (6.0.1)\n",
            "Requirement already satisfied: regex!=2019.12.17 in /usr/local/lib/python3.10/dist-packages (from transformers) (2023.6.3)\n",
            "Requirement already satisfied: requests in /usr/local/lib/python3.10/dist-packages (from transformers) (2.31.0)\n",
            "Collecting tokenizers<0.15,>=0.14 (from transformers)\n",
            "  Downloading tokenizers-0.14.1-cp310-cp310-manylinux_2_17_x86_64.manylinux2014_x86_64.whl (3.8 MB)\n",
            "\u001b[2K     \u001b[90m━━━━━━━━━━━━━━━━━━━━━━━━━━━━━━━━━━━━━━━━\u001b[0m \u001b[32m3.8/3.8 MB\u001b[0m \u001b[31m69.6 MB/s\u001b[0m eta \u001b[36m0:00:00\u001b[0m\n",
            "\u001b[?25hCollecting safetensors>=0.3.1 (from transformers)\n",
            "  Downloading safetensors-0.4.0-cp310-cp310-manylinux_2_17_x86_64.manylinux2014_x86_64.whl (1.3 MB)\n",
            "\u001b[2K     \u001b[90m━━━━━━━━━━━━━━━━━━━━━━━━━━━━━━━━━━━━━━━━\u001b[0m \u001b[32m1.3/1.3 MB\u001b[0m \u001b[31m63.5 MB/s\u001b[0m eta \u001b[36m0:00:00\u001b[0m\n",
            "\u001b[?25hRequirement already satisfied: tqdm>=4.27 in /usr/local/lib/python3.10/dist-packages (from transformers) (4.66.1)\n",
            "Requirement already satisfied: fsspec>=2023.5.0 in /usr/local/lib/python3.10/dist-packages (from huggingface-hub<1.0,>=0.16.4->transformers) (2023.6.0)\n",
            "Requirement already satisfied: typing-extensions>=3.7.4.3 in /usr/local/lib/python3.10/dist-packages (from huggingface-hub<1.0,>=0.16.4->transformers) (4.5.0)\n",
            "Collecting huggingface-hub<1.0,>=0.16.4 (from transformers)\n",
            "  Downloading huggingface_hub-0.17.3-py3-none-any.whl (295 kB)\n",
            "\u001b[2K     \u001b[90m━━━━━━━━━━━━━━━━━━━━━━━━━━━━━━━━━━━━━━━━\u001b[0m \u001b[32m295.0/295.0 kB\u001b[0m \u001b[31m33.2 MB/s\u001b[0m eta \u001b[36m0:00:00\u001b[0m\n",
            "\u001b[?25hRequirement already satisfied: charset-normalizer<4,>=2 in /usr/local/lib/python3.10/dist-packages (from requests->transformers) (3.3.1)\n",
            "Requirement already satisfied: idna<4,>=2.5 in /usr/local/lib/python3.10/dist-packages (from requests->transformers) (3.4)\n",
            "Requirement already satisfied: urllib3<3,>=1.21.1 in /usr/local/lib/python3.10/dist-packages (from requests->transformers) (2.0.7)\n",
            "Requirement already satisfied: certifi>=2017.4.17 in /usr/local/lib/python3.10/dist-packages (from requests->transformers) (2023.7.22)\n",
            "Installing collected packages: safetensors, huggingface-hub, tokenizers, transformers\n",
            "Successfully installed huggingface-hub-0.17.3 safetensors-0.4.0 tokenizers-0.14.1 transformers-4.34.1\n"
          ]
        }
      ]
    },
    {
      "cell_type": "code",
      "metadata": {
        "id": "c05-k5EtFxkE"
      },
      "source": [
        "import torch\n",
        "from transformers import AutoTokenizer  # Or BertTokenizer\n",
        "from transformers import AutoModelForPreTraining  # Or BertForPreTraining for loading pretraining heads\n",
        "from transformers import AutoModel  # or BertModel, for BERT without pretraining heads"
      ],
      "execution_count": null,
      "outputs": []
    },
    {
      "cell_type": "code",
      "metadata": {
        "id": "KAzpsvV3F3eQ",
        "colab": {
          "base_uri": "https://localhost:8080/",
          "height": 209,
          "referenced_widgets": [
            "2f2f6b5b7c5645ee860744611f0c3979",
            "b852654ffd724504a4d037eb0d100b85",
            "9f0d42b9a86c4c7d8ff2ff7efaed474f",
            "c0dbbdad52954d98b5518ca5e8b74a84",
            "e02286e8f96148399c073fac80cd9750",
            "93dec76c3ef045e8815c988e5f55574f",
            "3f9a9b5f02af4ba88696d7dcc1dde019",
            "659e259c76874cc2ab0ceb0d9dd12c06",
            "099a9b56eef14db7aa6741cfacdf6858",
            "25b9d457b2c44c39a5f0242590294c15",
            "e41d0da8c9b141cb9618019b94ea783f",
            "a4fe805471614d6389b70e757663f5e5",
            "e9cedc231fac4de696bf545accda17db",
            "6ff4d762f600462ea6f6df49400ff0a8",
            "525841454131444097848d696d5c9ea0",
            "bde69d8fa52c4c1fb3521ed02dd4b49f",
            "18a44bc6d727421abccf9df3d2836ad0",
            "e6d8801824b54066a6dfcbe4c50d6ae1",
            "5625f52e08f843d186911121c8a2e40e",
            "8b6493bf4f744219a4ca0e288d4e84fc",
            "b360dc4814984f2f898e03aaadd11c01",
            "2500bf657cb944a48ea509507ef5b485",
            "26e64e46ad4840308d5141df8fbd3c78",
            "77f9ec13f0c24a33b5c26cbc5981438e",
            "6b37fccd82a2484fa3625f3aa85b4a31",
            "3ff80a3242b44d498d410837e76b1a7d",
            "a875ff6e39aa4a748fa9e583adaed62b",
            "edf0c26722c44352aa60fc7eccf4e370",
            "4b769fa883d54d1d9593e5518ca62c42",
            "d783ac70921141b1bc826d10afb772fc",
            "069f0ac3e99149dc808985b783500a57",
            "7c52ed5ec335478da51a62716d11a091",
            "9c18f686d7954ea7a3837b0fdd04d008",
            "605b9902798b4892976d93289a6c2e82",
            "1aee22b3fdb944b88c142960cf45d9d2",
            "5faee4ff29de4cc789a5fd8bbfded5b8",
            "3e5e4abdf756439f9754a402006e6ac1",
            "a11a87378f844d5081c3d4d147e8911c",
            "e6b1499519314f60b993cb7f3b60891e",
            "07198d79536a48539464bfba7a292c71",
            "37d773a3c6ad4b5380c7ea02c3096106",
            "e0d511a7d1a84554a7af8f5428383476",
            "d039ff02ea8e40b0a89f1f049ecb603a",
            "3453b8554efc45f2b380abd50ac6126f",
            "4399437db45448719882a0eeb804b71c",
            "9bb65d125d5845f594d512bcbdbf87d1",
            "13a2c0b0bf054621a7b01e5f537eb1b0",
            "e3173f93bcf546cfb108fafcd78bc345",
            "980b4db0a26a448db94a53623452faf2",
            "ef9a81b323ce421482dea44943e3c93d",
            "5d77a88e0eb04ecd9f916adc6c99f1a0",
            "45b51e01e53e4b6587a35fdda83f8cae",
            "6ade30ba4eb241719e3112eaf9a13974",
            "aa15a7895508441fbc7121bda4f11b25",
            "afbdfeb67c4c4bbcaefbf9c90e64b24d",
            "a2b45729732d4dfcadde940f6764559f",
            "f22a9a320e744cbba044ffa3048c5fe6",
            "377d9fcbbf7f43bcbf934ad0ed8dbeeb",
            "cd98a75a8cf44664a0dbac2d3a5d0866",
            "ca7c273c2675496aa80b9f69531785e7",
            "8b911c7662354f428ad9273998f95cf6",
            "05a7db4f1f9849dab1d73e768db647e5",
            "cc594ac2bc5c40e2b94f1f17c1430e49",
            "0d24c22dd9bf4bbea366e661d11aab3d",
            "f9589e3b6e374da386789a38f0150109",
            "a9fba265d0554df4ad18fcd0ed8e52ce"
          ]
        },
        "outputId": "543ae2b3-8e13-4c79-afc3-6d3b217450dd"
      },
      "source": [
        "device = 'cpu'# torch.device('cuda' if torch.cuda.is_available() else 'cpu')\n",
        "\n",
        "tokenizer = AutoTokenizer.from_pretrained('neuralmind/bert-large-portuguese-cased', do_lower_case=False)\n",
        "bert = AutoModel.from_pretrained('neuralmind/bert-large-portuguese-cased')\n",
        "bert = bert.to(device)"
      ],
      "execution_count": null,
      "outputs": [
        {
          "output_type": "display_data",
          "data": {
            "text/plain": [
              "Downloading (…)okenizer_config.json:   0%|          | 0.00/155 [00:00<?, ?B/s]"
            ],
            "application/vnd.jupyter.widget-view+json": {
              "version_major": 2,
              "version_minor": 0,
              "model_id": "2f2f6b5b7c5645ee860744611f0c3979"
            }
          },
          "metadata": {}
        },
        {
          "output_type": "display_data",
          "data": {
            "text/plain": [
              "Downloading (…)lve/main/config.json:   0%|          | 0.00/648 [00:00<?, ?B/s]"
            ],
            "application/vnd.jupyter.widget-view+json": {
              "version_major": 2,
              "version_minor": 0,
              "model_id": "a4fe805471614d6389b70e757663f5e5"
            }
          },
          "metadata": {}
        },
        {
          "output_type": "display_data",
          "data": {
            "text/plain": [
              "Downloading (…)solve/main/vocab.txt:   0%|          | 0.00/210k [00:00<?, ?B/s]"
            ],
            "application/vnd.jupyter.widget-view+json": {
              "version_major": 2,
              "version_minor": 0,
              "model_id": "26e64e46ad4840308d5141df8fbd3c78"
            }
          },
          "metadata": {}
        },
        {
          "output_type": "display_data",
          "data": {
            "text/plain": [
              "Downloading (…)in/added_tokens.json:   0%|          | 0.00/2.00 [00:00<?, ?B/s]"
            ],
            "application/vnd.jupyter.widget-view+json": {
              "version_major": 2,
              "version_minor": 0,
              "model_id": "605b9902798b4892976d93289a6c2e82"
            }
          },
          "metadata": {}
        },
        {
          "output_type": "display_data",
          "data": {
            "text/plain": [
              "Downloading (…)cial_tokens_map.json:   0%|          | 0.00/112 [00:00<?, ?B/s]"
            ],
            "application/vnd.jupyter.widget-view+json": {
              "version_major": 2,
              "version_minor": 0,
              "model_id": "4399437db45448719882a0eeb804b71c"
            }
          },
          "metadata": {}
        },
        {
          "output_type": "display_data",
          "data": {
            "text/plain": [
              "Downloading pytorch_model.bin:   0%|          | 0.00/1.34G [00:00<?, ?B/s]"
            ],
            "application/vnd.jupyter.widget-view+json": {
              "version_major": 2,
              "version_minor": 0,
              "model_id": "a2b45729732d4dfcadde940f6764559f"
            }
          },
          "metadata": {}
        }
      ]
    },
    {
      "cell_type": "code",
      "metadata": {
        "colab": {
          "base_uri": "https://localhost:8080/"
        },
        "id": "DYB8u8GAF5g4",
        "outputId": "ecc91215-0fe2-4667-a0d9-9df5a4e8991e"
      },
      "source": [
        "texto = 'Eu vou ao banco pagar a conta hoje.'\n",
        "\n",
        "# tokenizando o texto\n",
        "input_ids = tokenizer.encode(texto, return_tensors='pt')\n",
        "wordpieces = tokenizer.convert_ids_to_tokens(input_ids[0])\n",
        "\n",
        "# salvando ponteiros para palavras\n",
        "subwords_idx = [] # first subword of each word\n",
        "for i, wordpiece in enumerate(wordpieces):\n",
        "    if '##' not in wordpiece and i not in [0, len(wordpieces)-1]:\n",
        "        subwords_idx.append(i)\n",
        "\n",
        "# obtendo os vetores para as palavras\n",
        "input_ids = input_ids.to(device)\n",
        "with torch.no_grad():\n",
        "  outs = bert(input_ids)\n",
        "  vetores = outs[0][0, :]\n",
        "\n",
        "vetores[subwords_idx]"
      ],
      "execution_count": null,
      "outputs": [
        {
          "output_type": "execute_result",
          "data": {
            "text/plain": [
              "tensor([[ 0.7381,  0.6351,  0.4160,  ..., -0.5735, -0.9812, -0.6793],\n",
              "        [ 0.6583, -0.0975,  0.2579,  ..., -0.7367, -0.8734,  0.1407],\n",
              "        [ 0.7682,  0.2151,  0.1769,  ...,  1.0626, -0.2526, -0.3107],\n",
              "        ...,\n",
              "        [-0.0765,  0.4402, -0.5236,  ...,  0.8389, -0.3389, -0.8167],\n",
              "        [ 0.3460,  1.8568, -0.0262,  ..., -0.0021, -0.0928,  0.0079],\n",
              "        [ 0.8516,  1.1038, -1.1464,  ...,  0.4630, -0.4967,  0.2980]])"
            ]
          },
          "metadata": {},
          "execution_count": 52
        }
      ]
    },
    {
      "cell_type": "markdown",
      "source": [
        "**REFERÊNCIA**\n",
        "\n",
        "---"
      ],
      "metadata": {
        "id": "Vk0aSkcZqDDj"
      }
    },
    {
      "cell_type": "markdown",
      "source": [
        "Notebook adaptado a partir dos slides do curso online **Linguística Computacional** elaborado por discentes e docentes do Departamento de Ciência da Computação da UFMG, gentilmente cedido pelo professor **Thiago Castro Ferreira**."
      ],
      "metadata": {
        "id": "igRjYsNvqDpk"
      }
    },
    {
      "cell_type": "markdown",
      "source": [
        "Disponível a partir da **Aula 5: Representações Vetoriais para Palavras, Sentenças e Documentos**"
      ],
      "metadata": {
        "id": "sttqV2PcqHJu"
      }
    },
    {
      "cell_type": "code",
      "source": [
        "from IPython.display import YouTubeVideo\n",
        "display(YouTubeVideo('T4_J6Q2E4k0', width=550, height=310))"
      ],
      "metadata": {
        "colab": {
          "base_uri": "https://localhost:8080/",
          "height": 331
        },
        "id": "sF2dD1ZIqb8x",
        "outputId": "0995f321-6f41-42da-c65f-4294332136fd"
      },
      "execution_count": null,
      "outputs": [
        {
          "output_type": "display_data",
          "data": {
            "text/plain": [
              "<IPython.lib.display.YouTubeVideo at 0x7c8f81f687f0>"
            ],
            "text/html": [
              "\n",
              "        <iframe\n",
              "            width=\"550\"\n",
              "            height=\"310\"\n",
              "            src=\"https://www.youtube.com/embed/T4_J6Q2E4k0\"\n",
              "            frameborder=\"0\"\n",
              "            allowfullscreen\n",
              "            \n",
              "        ></iframe>\n",
              "        "
            ],
            "image/jpeg": "[encoded data removed]"
          },
          "metadata": {}
        }
      ]
    }
  ]
}
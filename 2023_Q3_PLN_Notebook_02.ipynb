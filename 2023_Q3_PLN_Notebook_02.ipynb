{
  "nbformat": 4,
  "nbformat_minor": 0,
  "metadata": {
    "colab": {
      "provenance": [],
      "authorship_tag": "ABX9TyPsgFA95nX/rctJmfyIPd9r",
      "include_colab_link": true
    },
    "kernelspec": {
      "name": "python3",
      "display_name": "Python 3"
    },
    "language_info": {
      "name": "python"
    }
  },
  "cells": [
    {
      "cell_type": "markdown",
      "metadata": {
        "id": "view-in-github",
        "colab_type": "text"
      },
      "source": [
        "<a href=\"https://colab.research.google.com/github/adalves-ufabc/2023.Q3-PLN/blob/main/2023_Q3_PLN_Notebook_02.ipynb\" target=\"_parent\"><img src=\"https://colab.research.google.com/assets/colab-badge.svg\" alt=\"Open In Colab\"/></a>"
      ]
    },
    {
      "cell_type": "markdown",
      "source": [
        "# **Processamento de Linguagem Natural [2023.Q3]**\n",
        "Prof. Alexandre Donizeti Alves"
      ],
      "metadata": {
        "id": "ewmrcfeamru4"
      }
    },
    {
      "cell_type": "markdown",
      "source": [
        "# **Extração e Pré-processamento de Dados**\n",
        "\n",
        "---\n"
      ],
      "metadata": {
        "id": "6au9klB6ms67"
      }
    },
    {
      "cell_type": "markdown",
      "source": [
        "### **Arquivo PDF**"
      ],
      "metadata": {
        "id": "Tb3VhbZImvUS"
      }
    },
    {
      "cell_type": "code",
      "execution_count": null,
      "metadata": {
        "id": "w-lROQq0wEIO",
        "colab": {
          "base_uri": "https://localhost:8080/"
        },
        "outputId": "58800fd1-4bb3-4fa2-af6f-0c2d9a1c6ec2"
      },
      "outputs": [
        {
          "output_type": "stream",
          "name": "stdout",
          "text": [
            "Collecting PyPDF2\n",
            "  Downloading pypdf2-3.0.1-py3-none-any.whl (232 kB)\n",
            "\u001b[?25l     \u001b[90m━━━━━━━━━━━━━━━━━━━━━━━━━━━━━━━━━━━━━━━━\u001b[0m \u001b[32m0.0/232.6 kB\u001b[0m \u001b[31m?\u001b[0m eta \u001b[36m-:--:--\u001b[0m\r\u001b[2K     \u001b[91m━━━━━━━━━━━━━━━━━━━━━━━━━━━━━━━━━━━━━\u001b[0m\u001b[91m╸\u001b[0m\u001b[90m━\u001b[0m \u001b[32m225.3/232.6 kB\u001b[0m \u001b[31m6.9 MB/s\u001b[0m eta \u001b[36m0:00:01\u001b[0m\r\u001b[2K     \u001b[90m━━━━━━━━━━━━━━━━━━━━━━━━━━━━━━━━━━━━━━━\u001b[0m \u001b[32m232.6/232.6 kB\u001b[0m \u001b[31m5.8 MB/s\u001b[0m eta \u001b[36m0:00:00\u001b[0m\n",
            "\u001b[?25hInstalling collected packages: PyPDF2\n",
            "Successfully installed PyPDF2-3.0.1\n"
          ]
        }
      ],
      "source": [
        "!pip install PyPDF2"
      ]
    },
    {
      "cell_type": "markdown",
      "source": [
        "https://prograd.ufabc.edu.br/pdf/20233_MATRCULAS_DEFERIDAS_PS_AJUSTE.pdf"
      ],
      "metadata": {
        "id": "Q5lpbksonVc9"
      }
    },
    {
      "cell_type": "markdown",
      "source": [
        "https://prograd.ufabc.edu.br/pdf/20233_MATRCULAS_DEFERIDAS_REAJUSTE.pdf"
      ],
      "metadata": {
        "id": "gbaUGZDAncBD"
      }
    },
    {
      "cell_type": "code",
      "source": [
        "import requests\n",
        "import PyPDF2\n",
        "\n",
        "# URL do PDF\n",
        "url = \"https://prograd.ufabc.edu.br/pdf/20233_MATRCULAS_DEFERIDAS_REAJUSTE.pdf\"\n",
        "\n",
        "# Faz o download do PDF\n",
        "response = requests.get(url)\n",
        "\n",
        "# Verifica se o download foi bem-sucedido\n",
        "if response.status_code == 200:\n",
        "    # Cria um objeto PDF a partir do conteúdo do download\n",
        "    pdf_content = response.content\n",
        "    pdf_file = open(\"ufabc_matriculas_2023_q3.pdf\", \"wb\")\n",
        "    pdf_file.write(pdf_content)\n",
        "    pdf_file.close()\n",
        "else:\n",
        "    print(\"Falha ao baixar o PDF\")"
      ],
      "metadata": {
        "id": "5qXF-xKknw6d"
      },
      "execution_count": null,
      "outputs": []
    },
    {
      "cell_type": "code",
      "source": [
        "from PyPDF2 import PdfReader\n",
        "\n",
        "# Abra o arquivo PDF em modo leitura\n",
        "pdf = PdfReader('/content/ufabc_matriculas_2023_q3.pdf')\n",
        "\n",
        "# Verifique o número de páginas no PDF\n",
        "num_pages = len(pdf.pages)\n",
        "\n",
        "print(num_pages)"
      ],
      "metadata": {
        "colab": {
          "base_uri": "https://localhost:8080/"
        },
        "id": "XQncvXvcxNWa",
        "outputId": "6d905a18-1ac5-4426-fbd6-2fd7ad971c8a"
      },
      "execution_count": null,
      "outputs": [
        {
          "output_type": "stream",
          "name": "stdout",
          "text": [
            "38\n"
          ]
        }
      ]
    },
    {
      "cell_type": "code",
      "source": [
        "from PyPDF2 import PdfReader\n",
        "import pandas as pd\n",
        "\n",
        "# Função para extrair RAs com base no código da turma\n",
        "def extrair_ra_por_turma(pdf_path, codigo_turma):\n",
        "    # Abrir o arquivo PDF em modo leitura\n",
        "    pdf = PdfReader(pdf_path)\n",
        "\n",
        "    # Inicializar uma lista para armazenar os RAs encontrados\n",
        "    ra_list = []\n",
        "\n",
        "    # Iterar através de cada página do PDF\n",
        "    for page_num in range(len(pdf.pages)):\n",
        "        page = pdf.pages[page_num]\n",
        "        text = page.extract_text()\n",
        "\n",
        "        # Dividir o texto em linhas\n",
        "        lines = text.split('\\n')\n",
        "\n",
        "        # Iterar através de cada linha para encontrar o RA com base no código da turma\n",
        "        for line in lines:\n",
        "            if codigo_turma in line:\n",
        "                parts = line.split(' ')\n",
        "                ra = parts[0]\n",
        "                ra_list.append(ra)\n",
        "\n",
        "    return ra_list\n",
        "\n",
        "# Nome do arquivo PDF\n",
        "pdf_file_path = '/content/ufabc_matriculas_2023_q3.pdf'\n",
        "\n",
        "# Código da turma que você está procurando\n",
        "codigo_turma_procurado = 'NAMCZA017-13SA'\n",
        "\n",
        "# Chame a função para extrair os RAs com base no código da turma\n",
        "ra_encontrados = extrair_ra_por_turma(pdf_file_path, codigo_turma_procurado)\n",
        "\n",
        "# Crie um DataFrame com os RAs encontrados\n",
        "df = pd.DataFrame({'RA': ra_encontrados})\n",
        "\n",
        "# Exiba o DataFrame\n",
        "print(df)"
      ],
      "metadata": {
        "colab": {
          "base_uri": "https://localhost:8080/"
        },
        "id": "wPjZLN8_yQ9p",
        "outputId": "a8197986-5c4f-4775-9924-14e4babec1b9"
      },
      "execution_count": null,
      "outputs": [
        {
          "output_type": "stream",
          "name": "stdout",
          "text": [
            "             RA\n",
            "0   11202130893\n",
            "1   11202021040\n",
            "2   11201921122\n",
            "3   11201810534\n",
            "4   11201811282\n",
            "5   11201720134\n",
            "6   11201921612\n",
            "7   11202020921\n",
            "8      21053014\n",
            "9   11202021919\n",
            "10     11076015\n",
            "11  11202021207\n",
            "12  11201811265\n",
            "13     11012215\n",
            "14  11202021758\n",
            "15  11202130640\n",
            "16  11202130417\n"
          ]
        }
      ]
    },
    {
      "cell_type": "code",
      "source": [
        "!pip install openpyxl"
      ],
      "metadata": {
        "colab": {
          "base_uri": "https://localhost:8080/"
        },
        "id": "QRVurr8dzibp",
        "outputId": "d849950f-3c8d-4f22-d6f4-06e8721a04e3"
      },
      "execution_count": null,
      "outputs": [
        {
          "output_type": "stream",
          "name": "stdout",
          "text": [
            "Requirement already satisfied: openpyxl in /usr/local/lib/python3.10/dist-packages (3.1.2)\n",
            "Requirement already satisfied: et-xmlfile in /usr/local/lib/python3.10/dist-packages (from openpyxl) (1.1.0)\n"
          ]
        }
      ]
    },
    {
      "cell_type": "code",
      "source": [
        "# Nome do arquivo Excel de saída\n",
        "excel_file_path = 'ra_' + codigo_turma_procurado + '.xlsx'\n",
        "\n",
        "# Salve o DataFrame em uma planilha do Excel\n",
        "df.to_excel(excel_file_path, index=False)\n",
        "\n",
        "# Verifique se o arquivo foi criado com sucesso\n",
        "print(f'A turma {codigo_turma_procurado} foi salvo em <{excel_file_path}>')"
      ],
      "metadata": {
        "colab": {
          "base_uri": "https://localhost:8080/"
        },
        "id": "dGFRwUbhzmOx",
        "outputId": "975b8831-914f-4752-d38d-d9abeb35d3da"
      },
      "execution_count": null,
      "outputs": [
        {
          "output_type": "stream",
          "name": "stdout",
          "text": [
            "A turma NAMCZA017-13SA foi salvo em <ra_NAMCZA017-13SA.xlsx>\n"
          ]
        }
      ]
    }
  ]
}
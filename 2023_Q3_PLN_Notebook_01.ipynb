{
  "nbformat": 4,
  "nbformat_minor": 0,
  "metadata": {
    "colab": {
      "provenance": [],
      "authorship_tag": "ABX9TyPzbgfq5b24q5qaHjmEgXPs",
      "include_colab_link": true
    },
    "kernelspec": {
      "name": "python3",
      "display_name": "Python 3"
    },
    "language_info": {
      "name": "python"
    }
  },
  "cells": [
    {
      "cell_type": "markdown",
      "metadata": {
        "id": "view-in-github",
        "colab_type": "text"
      },
      "source": [
        "<a href=\"https://colab.research.google.com/github/adalves-ufabc/2023.Q3-PLN/blob/main/2023_Q3_PLN_Notebook_01.ipynb\" target=\"_parent\"><img src=\"https://colab.research.google.com/assets/colab-badge.svg\" alt=\"Open In Colab\"/></a>"
      ]
    },
    {
      "cell_type": "markdown",
      "source": [
        "# **Processamento de Linguagem Natural [2023.Q3]**\n",
        "Prof. Alexandre Donizeti Alves"
      ],
      "metadata": {
        "id": "nmmE5CYdZLWW"
      }
    },
    {
      "cell_type": "markdown",
      "source": [
        "# **Extração e Pré-processamento de Dados**\n",
        "\n",
        "---\n"
      ],
      "metadata": {
        "id": "eyndFFx_ZMBE"
      }
    },
    {
      "cell_type": "markdown",
      "source": [
        "### **Arquivo JSON**"
      ],
      "metadata": {
        "id": "64k9l32LqLCG"
      }
    },
    {
      "cell_type": "markdown",
      "source": [
        "O **JSON** (*JavaScript Object Notation*) é um formato de arquivo para manter e trocar informações legíveis pelas pessoas. O arquivo contém apenas texto e usa a extensão *.json*.\n",
        "\n",
        "O JSON é um formato que armazena informações estruturadas e é principalmente usado para transferir dados entre um servidor e um cliente.\n",
        "\n",
        "O arquivo é basicamente uma alternativa simples e mais leve ao XML (*Extensive Markup Language*), que tem funções similares."
      ],
      "metadata": {
        "id": "aRx5E_L2qWtS"
      }
    },
    {
      "cell_type": "markdown",
      "source": [
        "Para ler um documento JSON disponível na web em Python, você pode usar a biblioteca `requests` para fazer uma requisição HTTP ao URL do documento JSON e, em seguida, a biblioteca `json` para analisar o conteúdo da resposta JSON. Aqui está um exemplo de código:"
      ],
      "metadata": {
        "id": "FsYweoIIqqr1"
      }
    },
    {
      "cell_type": "markdown",
      "source": [
        "https://quotes.rest/qod.json\n",
        "\n",
        "**Aula 04 - Extração e Pré-processamento de Dados**\n",
        "\n",
        "> https://github.com/adalves-ufabc/2023.Q1-PLN\n",
        "\n",
        "\n",
        "\n"
      ],
      "metadata": {
        "id": "T03-aGb8bbwj"
      }
    },
    {
      "cell_type": "markdown",
      "source": [
        "![OpenAlex-logo-5.png](data:image/png;base64,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)"
      ],
      "metadata": {
        "id": "-2LhFJZoSrkZ"
      }
    },
    {
      "cell_type": "markdown",
      "source": [
        "O **OpenAlex** cataloga centenas de milhões de documentos científicos e estabelece conexões entre eles. Foi lançado um ambicioso índice gratuito com mais de 200 milhões de documentos científicos que cataloga fontes de publicação, informações de autores e tópicos de pesquisa."
      ],
      "metadata": {
        "id": "KkaaB-j6SsYR"
      }
    },
    {
      "cell_type": "code",
      "source": [
        "import requests\n",
        "\n",
        "# URL do arquivo JSON\n",
        "url = 'https://api.openalex.org/institutions/I27837315'\n",
        "\n",
        "# Faz uma solicitação GET\n",
        "response = requests.get(url)\n",
        "\n",
        "# Verifica se a solicitação foi bem-sucedida\n",
        "if response.status_code == 200:\n",
        "  print('Conexão bem-sucedida')"
      ],
      "metadata": {
        "colab": {
          "base_uri": "https://localhost:8080/"
        },
        "id": "kVZeMQDeQYZ2",
        "outputId": "71397b56-32c3-4a13-de49-777e4117b5e0"
      },
      "execution_count": null,
      "outputs": [
        {
          "output_type": "stream",
          "name": "stdout",
          "text": [
            "Conexão bem-sucedida\n"
          ]
        }
      ]
    },
    {
      "cell_type": "code",
      "source": [
        "  print(response.text)"
      ],
      "metadata": {
        "colab": {
          "base_uri": "https://localhost:8080/"
        },
        "id": "eaBwuPg1SaQi",
        "outputId": "c32a2fd3-0605-47f9-b0c8-4a7852b0b1ab"
      },
      "execution_count": null,
      "outputs": [
        {
          "output_type": "stream",
          "name": "stdout",
          "text": [
            "{\"id\":\"https://openalex.org/I27837315\",\"ror\":\"https://ror.org/00jmfr291\",\"display_name\":\"University of Michigan\\u2013Ann Arbor\",\"country_code\":\"US\",\"type\":\"education\",\"lineage\":[\"https://openalex.org/I27837315\"],\"homepage_url\":\"https://www.umich.edu/\",\"image_url\":\"https://commons.wikimedia.org/w/index.php?title=Special:Redirect/file/University%20of%20Michigan%20logo.svg\",\"image_thumbnail_url\":\"https://commons.wikimedia.org/w/index.php?title=Special:Redirect/file/University%20of%20Michigan%20logo.svg&width=300\",\"display_name_acronyms\":[\"UM\"],\"display_name_alternatives\":[\"UMich\"],\"repositories\":[{\"id\":\"https://openalex.org/S4306400393\",\"display_name\":\"Deep Blue (University of Michigan)\",\"host_organization\":\"https://openalex.org/I27837315\",\"host_organization_name\":\"University of Michigan\\u2013Ann Arbor\",\"host_organization_lineage\":[\"https://openalex.org/I27837315\"]},{\"id\":\"https://openalex.org/S4306400708\",\"display_name\":\"CINECA IRIS Institutional Research Information System (IRIS Istituto Nazionale di Ricerca Metrologica)\",\"host_organization\":\"https://openalex.org/I27837315\",\"host_organization_name\":\"University of Michigan\\u2013Ann Arbor\",\"host_organization_lineage\":[\"https://openalex.org/I27837315\"]}],\"works_count\":835892,\"cited_by_count\":15375311,\"summary_stats\":{\"2yr_mean_citedness\":4.696927661323469,\"h_index\":1011,\"i10_index\":187051},\"ids\":{\"openalex\":\"https://openalex.org/I27837315\",\"ror\":\"https://ror.org/00jmfr291\",\"mag\":\"27837315\",\"grid\":\"grid.214458.e\",\"wikipedia\":\"https://en.wikipedia.org/wiki/University%20of%20Michigan\",\"wikidata\":\"https://www.wikidata.org/wiki/Q230492\"},\"geo\":{\"city\":\"Ann Arbor\",\"geonames_city_id\":\"4984247\",\"region\":\"Michigan\",\"country_code\":\"US\",\"country\":\"United States\",\"latitude\":42.27756,\"longitude\":-83.74088},\"international\":{\"display_name\":{\"ar\":\"\\u062c\\u0627\\u0645\\u0639\\u0629 \\u0645\\u064a\\u0634\\u064a\\u063a\\u0627\\u0646\",\"arz\":\"\\u062c\\u0627\\u0645\\u0639\\u0629 \\u0645\\u064a\\u0634\\u064a\\u062c\\u0627\\u0646\",\"ast\":\"Universid\\u00e1 de Michigan\",\"az\":\"Mi\\u00e7iqan Universiteti\",\"azb\":\"\\u0645\\u06cc\\u0634\\u06cc\\u0642\\u0627\\u0646 \\u0628\\u06cc\\u0644\\u06cc\\u0645\\u200c\\u06cc\\u0648\\u0631\\u062f\\u0648\",\"ba\":\"\\u041c\\u0438\\u0447\\u0438\\u0433\\u0430\\u043d \\u0443\\u043d\\u0438\\u0432\\u0435\\u0440\\u0441\\u0438\\u0442\\u0435\\u0442\\u044b\",\"be\":\"\\u041c\\u0456\\u0447\\u044b\\u0433\\u0430\\u043d\\u0441\\u043a\\u0456 \\u045e\\u043d\\u0456\\u0432\\u0435\\u0440\\u0441\\u0456\\u0442\\u044d\\u0442\",\"be-tarask\":\"\\u041c\\u0456\\u0447\\u044b\\u0433\\u0430\\u043d\\u0441\\u043a\\u0456 \\u045e\\u043d\\u0456\\u0432\\u044d\\u0440\\u0441\\u044b\\u0442\\u044d\\u0442\",\"bg\":\"\\u041c\\u0438\\u0447\\u0438\\u0433\\u0430\\u043d\\u0441\\u043a\\u0438 \\u0443\\u043d\\u0438\\u0432\\u0435\\u0440\\u0441\\u0438\\u0442\\u0435\\u0442\",\"bn\":\"\\u09ae\\u09bf\\u09b6\\u09bf\\u0997\\u09be\\u09a8 \\u09ac\\u09bf\\u09b6\\u09cd\\u09ac\\u09ac\\u09bf\\u09a6\\u09cd\\u09af\\u09be\\u09b2\\u09af\\u09bc\",\"br\":\"Skol-veur Michigan\",\"ca\":\"Universitat de Michigan\",\"ckb\":\"\\u0632\\u0627\\u0646\\u06a9\\u06c6\\u06cc \\u0645\\u06cc\\u0634\\u06cc\\u06af\\u06d5\\u0646\",\"crh\":\"Mi\\u00e7igan universiteti\",\"crh-latn\":\"Mi\\u00e7igan universiteti\",\"cs\":\"Michigansk\\u00e1 univerzita\",\"cy\":\"Prifysgol Michigan\",\"da\":\"University of Michigan\",\"de\":\"University of Michigan\",\"el\":\"\\u03a0\\u03b1\\u03bd\\u03b5\\u03c0\\u03b9\\u03c3\\u03c4\\u03ae\\u03bc\\u03b9\\u03bf \\u03c4\\u03bf\\u03c5 \\u039c\\u03af\\u03c3\\u03b9\\u03b3\\u03ba\\u03b1\\u03bd\",\"en\":\"University of Michigan\",\"en-gb\":\"University of Michigan\",\"eo\":\"Universitato de Mi\\u0109igano\",\"es\":\"Universidad de M\\u00edchigan\",\"et\":\"Michigani \\u00dclikool\",\"eu\":\"Michigango Unibertsitatea\",\"fa\":\"\\u062f\\u0627\\u0646\\u0634\\u06af\\u0627\\u0647 \\u0645\\u06cc\\u0634\\u06cc\\u06af\\u0627\\u0646\",\"fi\":\"Michiganin yliopisto\",\"fr\":\"universit\\u00e9 du Michigan\",\"ga\":\"Ollscoil Michigan\",\"gd\":\"Oilthigh Mhichigan\",\"gl\":\"Universidade de M\\u00edchigan\",\"gv\":\"Ollooscoill Michigan\",\"he\":\"\\u05d0\\u05d5\\u05e0\\u05d9\\u05d1\\u05e8\\u05e1\\u05d9\\u05d8\\u05ea \\u05de\\u05d9\\u05e9\\u05d9\\u05d2\\u05df\",\"hu\":\"Michigani Egyetem\",\"hy\":\"\\u0544\\u056b\\u0579\\u056b\\u0563\\u0561\\u0576\\u056b \\u0570\\u0561\\u0574\\u0561\\u056c\\u057d\\u0561\\u0580\\u0561\\u0576\",\"hyw\":\"\\u0544\\u056b\\u0577\\u056b\\u056f\\u0568\\u0576\\u056b \\u0540\\u0561\\u0574\\u0561\\u056c\\u057d\\u0561\\u0580\\u0561\\u0576,\",\"id\":\"Universitas Michigan\",\"io\":\"Universitato di Michigan\",\"is\":\"Michigan-h\\u00e1sk\\u00f3li\",\"it\":\"Universit\\u00e0 del Michigan\",\"ja\":\"\\u30df\\u30b7\\u30ac\\u30f3\\u5927\\u5b66\",\"jv\":\"Universitas Michigan\",\"ka\":\"\\u10db\\u10d8\\u10e9\\u10d8\\u10d2\\u10d0\\u10dc\\u10d8\\u10e1 \\u10e3\\u10dc\\u10d8\\u10d5\\u10d4\\u10e0\\u10e1\\u10d8\\u10e2\\u10d4\\u10e2\\u10d8\",\"ko\":\"\\ubbf8\\uc2dc\\uac04 \\ub300\\ud559\\uad50\",\"kw\":\"Pennskol Michigan\",\"ky\":\"\\u041c\\u0438\\u0447\\u0438\\u0433\\u0430\\u043d \\u0423\\u043d\\u0438\\u0432\\u0435\\u0440\\u0441\\u0438\\u0442\\u0435\\u0442\\u0438\",\"la\":\"Universitas Michiganensis\",\"lb\":\"Universit\\u00e9it vu Michigan\",\"lt\":\"Mi\\u010digano universitetas\",\"lv\":\"Mi\\u010diganas universit\\u0101te\",\"mk\":\"\\u041c\\u0438\\u0447\\u0438\\u0433\\u0435\\u043d\\u0441\\u043a\\u0438 \\u0443\\u043d\\u0438\\u0432\\u0435\\u0440\\u0437\\u0438\\u0442\\u0435\\u0442\",\"ml\":\"\\u0d2f\\u0d42\\u0d23\\u0d3f\\u0d35\\u0d47\\u0d34\\u0d4d\\u0d38\\u0d3f\\u0d31\\u0d4d\\u0d31\\u0d3f \\u0d13\\u0d2b\\u0d4d \\u0d2e\\u0d3f\\u0d37\\u0d3f\\u0d17\\u0d7a\",\"mr\":\"\\u092e\\u093f\\u0936\\u093f\\u0917\\u0928 \\u0935\\u093f\\u0926\\u094d\\u092f\\u093e\\u092a\\u0940\\u0920\",\"ms\":\"Universiti Michigan\",\"mt\":\"Universit\\u00e0 ta\\u2019 Michigan\",\"nb\":\"University of Michigan\",\"nl\":\"Universiteit van Michigan\",\"nn\":\"University of Michigan\",\"pa\":\"\\u0a2e\\u0a3f\\u0a38\\u0a3c\\u0a40\\u0a17\\u0a28 \\u0a2f\\u0a42\\u0a28\\u0a40\\u0a35\\u0a30\\u0a38\\u0a3f\\u0a1f\\u0a40\",\"pap\":\"Universidat di Michigan\",\"pl\":\"Uniwersytet Michigan\",\"pms\":\"Universit\\u00e0 d\\u00ebl Michigan\",\"pnb\":\"\\u06cc\\u0648\\u0646\\u06cc\\u0648\\u0631\\u0633\\u0679\\u06cc \\u0622\\u0641 \\u0645\\u0634\\u06cc\\u06af\\u0646\",\"pt\":\"Universidade de Michigan\",\"ro\":\"Universitatea din Michigan\",\"ru\":\"\\u041c\\u0438\\u0447\\u0438\\u0433\\u0430\\u043d\\u0441\\u043a\\u0438\\u0439 \\u0443\\u043d\\u0438\\u0432\\u0435\\u0440\\u0441\\u0438\\u0442\\u0435\\u0442\",\"rw\":\"Kaminuza ya Michigan\",\"sh\":\"Univerzitet u Michiganu\",\"sl\":\"Univerza Michigana\",\"sr\":\"\\u0423\\u043d\\u0438\\u0432\\u0435\\u0440\\u0437\\u0438\\u0442\\u0435\\u0442 \\u041c\\u0438\\u0447\\u0438\\u0433\\u0435\\u043d\\u0430\",\"sv\":\"University of Michigan\",\"ta\":\"\\u0bae\\u0bbf\\u0b9a\\u0bcd\\u0b9a\\u0bbf\\u0b95\\u0ba9\\u0bcd \\u0baa\\u0bb2\\u0bcd\\u0b95\\u0bb2\\u0bc8\\u0b95\\u0bcd\\u0b95\\u0bb4\\u0b95\\u0bae\\u0bcd\",\"tg\":\"\\u0414\\u043e\\u043d\\u0438\\u0448\\u0433\\u043e\\u04b3\\u0438 \\u041c\\u0438\\u0447\\u0438\\u0433\\u0430\\u043d\",\"th\":\"\\u0e21\\u0e2b\\u0e32\\u0e27\\u0e34\\u0e17\\u0e22\\u0e32\\u0e25\\u0e31\\u0e22\\u0e21\\u0e34\\u0e0a\\u0e34\\u0e41\\u0e01\\u0e19\",\"tl\":\"Unibersidad ng Michigan\",\"tr\":\"Michigan \\u00dcniversitesi\",\"tt\":\"\\u041c\\u0438\\u0447\\u0438\\u0433\\u0430\\u043d \\u04af\\u043d\\u0438\\u0432\\u0438\\u0440\\u0441\\u0438\\u0442\\u0438\\u0442\\u0435\",\"ug\":\"\\u0645\\u0649\\u0686\\u0649\\u06af\\u0627\\u0646 \\u0626\\u06c7\\u0646\\u0649\\u06cb\\u06d0\\u0631\\u0633\\u062a\\u06d0\\u062a\\u0649\",\"uk\":\"\\u0423\\u043d\\u0456\\u0432\\u0435\\u0440\\u0441\\u0438\\u0442\\u0435\\u0442 \\u041c\\u0456\\u0447\\u0438\\u0433\\u0430\\u043d\\u0443\",\"ur\":\"\\u0645\\u0634\\u06cc \\u06af\\u0646 \\u06cc\\u0648\\u0646\\u06cc\\u0648\\u0631\\u0633\\u0679\\u06cc\",\"vi\":\"\\u0110\\u1ea1i h\\u1ecdc Michigan\",\"war\":\"Unibersidad han Michigan\",\"wuu\":\"\\u5bc6\\u6b47\\u6839\\u5927\\u5b66\",\"xmf\":\"\\u10db\\u10d8\\u10e9\\u10d8\\u10d2\\u10d0\\u10dc\\u10d8\\u10e8 \\u10e3\\u10dc\\u10d8\\u10d5\\u10d4\\u10e0\\u10e1\\u10d8\\u10e2\\u10d4\\u10e2\\u10d8\",\"yue\":\"\\u5bc6\\u829d\\u6839\\u5927\\u5b78\",\"zh\":\"\\u5bc6\\u6b47\\u6839\\u5927\\u5b66\",\"zh-cn\":\"\\u5bc6\\u6b47\\u6839\\u5927\\u5b66\",\"zh-hans\":\"\\u5bc6\\u6b47\\u6839\\u5927\\u5b66\",\"zh-hant\":\"\\u5bc6\\u897f\\u6839\\u5927\\u5b78\",\"zh-hk\":\"\\u5bc6\\u829d\\u6839\\u5927\\u5b78\",\"zh-sg\":\"\\u5bc6\\u6b47\\u6839\\u5927\\u5b66\",\"zh-tw\":\"\\u5bc6\\u897f\\u6839\\u5927\\u5b78\"}},\"associated_institutions\":[{\"id\":\"https://openalex.org/I4210104572\",\"ror\":\"https://ror.org/015tnsz82\",\"display_name\":\"Michigan Sea Grant\",\"country_code\":\"US\",\"type\":\"other\",\"relationship\":\"child\"},{\"id\":\"https://openalex.org/I4210163254\",\"ror\":\"https://ror.org/057mgcy61\",\"display_name\":\"Michigan Space Grant Consortium\",\"country_code\":\"US\",\"type\":\"other\",\"relationship\":\"child\"},{\"id\":\"https://openalex.org/I4210130704\",\"ror\":\"https://ror.org/035wtm547\",\"display_name\":\"University of Michigan\\u2013Dearborn\",\"country_code\":\"US\",\"type\":\"education\",\"relationship\":\"child\"},{\"id\":\"https://openalex.org/I4210092198\",\"ror\":\"https://ror.org/01c3xc117\",\"display_name\":\"University of Michigan\\u2013Flint\",\"country_code\":\"US\",\"type\":\"education\",\"relationship\":\"child\"},{\"id\":\"https://openalex.org/I2799370151\",\"ror\":\"https://ror.org/05g2hd893\",\"display_name\":\"Beaumont Health\",\"country_code\":\"US\",\"type\":\"nonprofit\",\"relationship\":\"related\"},{\"id\":\"https://openalex.org/I2801799315\",\"ror\":\"https://ror.org/034npj057\",\"display_name\":\"Hurley Medical Center\",\"country_code\":\"US\",\"type\":\"healthcare\",\"relationship\":\"related\"},{\"id\":\"https://openalex.org/I4210114445\",\"ror\":\"https://ror.org/01zcpa714\",\"display_name\":\"Michigan Medicine\",\"country_code\":\"US\",\"type\":\"healthcare\",\"relationship\":\"related\"}],\"counts_by_year\":[{\"year\":2023,\"works_count\":13316,\"cited_by_count\":903049},{\"year\":2022,\"works_count\":452492,\"cited_by_count\":1166629},{\"year\":2021,\"works_count\":19228,\"cited_by_count\":1188121},{\"year\":2020,\"works_count\":20084,\"cited_by_count\":1083318},{\"year\":2019,\"works_count\":18016,\"cited_by_count\":942272},{\"year\":2018,\"works_count\":17015,\"cited_by_count\":851747},{\"year\":2017,\"works_count\":16358,\"cited_by_count\":782692},{\"year\":2016,\"works_count\":15394,\"cited_by_count\":760887},{\"year\":2015,\"works_count\":14501,\"cited_by_count\":739211},{\"year\":2014,\"works_count\":13883,\"cited_by_count\":702218},{\"year\":2013,\"works_count\":13609,\"cited_by_count\":657720},{\"year\":2012,\"works_count\":12407,\"cited_by_count\":598145}],\"roles\":[{\"role\":\"funder\",\"id\":\"https://openalex.org/F4320309652\",\"works_count\":3097},{\"role\":\"institution\",\"id\":\"https://openalex.org/I27837315\",\"works_count\":835892},{\"role\":\"publisher\",\"id\":\"https://openalex.org/P4310316579\",\"works_count\":21320}],\"x_concepts\":[{\"id\":\"https://openalex.org/C41008148\",\"wikidata\":\"https://www.wikidata.org/wiki/Q21198\",\"display_name\":\"Computer science\",\"level\":0,\"score\":59.6},{\"id\":\"https://openalex.org/C86803240\",\"wikidata\":\"https://www.wikidata.org/wiki/Q420\",\"display_name\":\"Biology\",\"level\":0,\"score\":29.1},{\"id\":\"https://openalex.org/C71924100\",\"wikidata\":\"https://www.wikidata.org/wiki/Q11190\",\"display_name\":\"Medicine\",\"level\":0,\"score\":27.0},{\"id\":\"https://openalex.org/C185592680\",\"wikidata\":\"https://www.wikidata.org/wiki/Q2329\",\"display_name\":\"Chemistry\",\"level\":0,\"score\":22.5},{\"id\":\"https://openalex.org/C121332964\",\"wikidata\":\"https://www.wikidata.org/wiki/Q413\",\"display_name\":\"Physics\",\"level\":0,\"score\":20.1}],\"works_api_url\":\"https://api.openalex.org/works?filter=institutions.id:I27837315\",\"updated_date\":\"2023-10-04T09:22:07.464900\",\"created_date\":\"2016-06-24\"}\n",
            "\n"
          ]
        }
      ]
    },
    {
      "cell_type": "code",
      "source": [
        "import requests\n",
        "import json\n",
        "\n",
        "# URL do arquivo JSON\n",
        "url = 'https://api.openalex.org/institutions/I27837315'\n",
        "\n",
        "# fazer uma requisição HTTP ao URL e obter a resposta\n",
        "response = requests.get(url)\n",
        "\n",
        "# verificar se a requisição foi bem-sucedida\n",
        "if response.status_code == 200:\n",
        "    # analisar o conteúdo da resposta JSON\n",
        "    data = json.loads(response.content)\n",
        "\n",
        "    # imprimir o conteúdo do arquivo\n",
        "    print(data)\n",
        "else:\n",
        "    # imprimir uma mensagem de erro se a requisição falhou\n",
        "    print(f'A requisição falhou com código de status {response.status_code}.')\n"
      ],
      "metadata": {
        "colab": {
          "base_uri": "https://localhost:8080/"
        },
        "id": "npeZp_Qxqd3r",
        "outputId": "8caa6d2b-679e-4f1d-b5da-592382e485d5"
      },
      "execution_count": null,
      "outputs": [
        {
          "output_type": "stream",
          "name": "stdout",
          "text": [
            "{'id': 'https://openalex.org/I27837315', 'ror': 'https://ror.org/00jmfr291', 'display_name': 'University of Michigan–Ann Arbor', 'country_code': 'US', 'type': 'education', 'lineage': ['https://openalex.org/I27837315'], 'homepage_url': 'https://www.umich.edu/', 'image_url': 'https://commons.wikimedia.org/w/index.php?title=Special:Redirect/file/University%20of%20Michigan%20logo.svg', 'image_thumbnail_url': 'https://commons.wikimedia.org/w/index.php?title=Special:Redirect/file/University%20of%20Michigan%20logo.svg&width=300', 'display_name_acronyms': ['UM'], 'display_name_alternatives': ['UMich'], 'repositories': [{'id': 'https://openalex.org/S4306400393', 'display_name': 'Deep Blue (University of Michigan)', 'host_organization': 'https://openalex.org/I27837315', 'host_organization_name': 'University of Michigan–Ann Arbor', 'host_organization_lineage': ['https://openalex.org/I27837315']}, {'id': 'https://openalex.org/S4306400708', 'display_name': 'CINECA IRIS Institutional Research Information System (IRIS Istituto Nazionale di Ricerca Metrologica)', 'host_organization': 'https://openalex.org/I27837315', 'host_organization_name': 'University of Michigan–Ann Arbor', 'host_organization_lineage': ['https://openalex.org/I27837315']}], 'works_count': 835892, 'cited_by_count': 15375311, 'summary_stats': {'2yr_mean_citedness': 4.696927661323469, 'h_index': 1011, 'i10_index': 187051}, 'ids': {'openalex': 'https://openalex.org/I27837315', 'ror': 'https://ror.org/00jmfr291', 'mag': '27837315', 'grid': 'grid.214458.e', 'wikipedia': 'https://en.wikipedia.org/wiki/University%20of%20Michigan', 'wikidata': 'https://www.wikidata.org/wiki/Q230492'}, 'geo': {'city': 'Ann Arbor', 'geonames_city_id': '4984247', 'region': 'Michigan', 'country_code': 'US', 'country': 'United States', 'latitude': 42.27756, 'longitude': -83.74088}, 'international': {'display_name': {'ar': 'جامعة ميشيغان', 'arz': 'جامعة ميشيجان', 'ast': 'Universidá de Michigan', 'az': 'Miçiqan Universiteti', 'azb': 'میشیقان بیلیم\\u200cیوردو', 'ba': 'Мичиган университеты', 'be': 'Мічыганскі ўніверсітэт', 'be-tarask': 'Мічыганскі ўнівэрсытэт', 'bg': 'Мичигански университет', 'bn': 'মিশিগান বিশ্ববিদ্যালয়', 'br': 'Skol-veur Michigan', 'ca': 'Universitat de Michigan', 'ckb': 'زانکۆی میشیگەن', 'crh': 'Miçigan universiteti', 'crh-latn': 'Miçigan universiteti', 'cs': 'Michiganská univerzita', 'cy': 'Prifysgol Michigan', 'da': 'University of Michigan', 'de': 'University of Michigan', 'el': 'Πανεπιστήμιο του Μίσιγκαν', 'en': 'University of Michigan', 'en-gb': 'University of Michigan', 'eo': 'Universitato de Miĉigano', 'es': 'Universidad de Míchigan', 'et': 'Michigani Ülikool', 'eu': 'Michigango Unibertsitatea', 'fa': 'دانشگاه میشیگان', 'fi': 'Michiganin yliopisto', 'fr': 'université du Michigan', 'ga': 'Ollscoil Michigan', 'gd': 'Oilthigh Mhichigan', 'gl': 'Universidade de Míchigan', 'gv': 'Ollooscoill Michigan', 'he': 'אוניברסיטת מישיגן', 'hu': 'Michigani Egyetem', 'hy': 'Միչիգանի համալսարան', 'hyw': 'Միշիկընի Համալսարան,', 'id': 'Universitas Michigan', 'io': 'Universitato di Michigan', 'is': 'Michigan-háskóli', 'it': 'Università del Michigan', 'ja': 'ミシガン大学', 'jv': 'Universitas Michigan', 'ka': 'მიჩიგანის უნივერსიტეტი', 'ko': '미시간 대학교', 'kw': 'Pennskol Michigan', 'ky': 'Мичиган Университети', 'la': 'Universitas Michiganensis', 'lb': 'Universitéit vu Michigan', 'lt': 'Mičigano universitetas', 'lv': 'Mičiganas universitāte', 'mk': 'Мичигенски универзитет', 'ml': 'യൂണിവേഴ്സിറ്റി ഓഫ് മിഷിഗൺ', 'mr': 'मिशिगन विद्यापीठ', 'ms': 'Universiti Michigan', 'mt': 'Università ta’ Michigan', 'nb': 'University of Michigan', 'nl': 'Universiteit van Michigan', 'nn': 'University of Michigan', 'pa': 'ਮਿਸ਼ੀਗਨ ਯੂਨੀਵਰਸਿਟੀ', 'pap': 'Universidat di Michigan', 'pl': 'Uniwersytet Michigan', 'pms': 'Università dël Michigan', 'pnb': 'یونیورسٹی آف مشیگن', 'pt': 'Universidade de Michigan', 'ro': 'Universitatea din Michigan', 'ru': 'Мичиганский университет', 'rw': 'Kaminuza ya Michigan', 'sh': 'Univerzitet u Michiganu', 'sl': 'Univerza Michigana', 'sr': 'Универзитет Мичигена', 'sv': 'University of Michigan', 'ta': 'மிச்சிகன் பல்கலைக்கழகம்', 'tg': 'Донишгоҳи Мичиган', 'th': 'มหาวิทยาลัยมิชิแกน', 'tl': 'Unibersidad ng Michigan', 'tr': 'Michigan Üniversitesi', 'tt': 'Мичиган үнивирситите', 'ug': 'مىچىگان ئۇنىۋېرستېتى', 'uk': 'Університет Мічигану', 'ur': 'مشی گن یونیورسٹی', 'vi': 'Đại học Michigan', 'war': 'Unibersidad han Michigan', 'wuu': '密歇根大学', 'xmf': 'მიჩიგანიშ უნივერსიტეტი', 'yue': '密芝根大學', 'zh': '密歇根大学', 'zh-cn': '密歇根大学', 'zh-hans': '密歇根大学', 'zh-hant': '密西根大學', 'zh-hk': '密芝根大學', 'zh-sg': '密歇根大学', 'zh-tw': '密西根大學'}}, 'associated_institutions': [{'id': 'https://openalex.org/I4210104572', 'ror': 'https://ror.org/015tnsz82', 'display_name': 'Michigan Sea Grant', 'country_code': 'US', 'type': 'other', 'relationship': 'child'}, {'id': 'https://openalex.org/I4210163254', 'ror': 'https://ror.org/057mgcy61', 'display_name': 'Michigan Space Grant Consortium', 'country_code': 'US', 'type': 'other', 'relationship': 'child'}, {'id': 'https://openalex.org/I4210130704', 'ror': 'https://ror.org/035wtm547', 'display_name': 'University of Michigan–Dearborn', 'country_code': 'US', 'type': 'education', 'relationship': 'child'}, {'id': 'https://openalex.org/I4210092198', 'ror': 'https://ror.org/01c3xc117', 'display_name': 'University of Michigan–Flint', 'country_code': 'US', 'type': 'education', 'relationship': 'child'}, {'id': 'https://openalex.org/I2799370151', 'ror': 'https://ror.org/05g2hd893', 'display_name': 'Beaumont Health', 'country_code': 'US', 'type': 'nonprofit', 'relationship': 'related'}, {'id': 'https://openalex.org/I2801799315', 'ror': 'https://ror.org/034npj057', 'display_name': 'Hurley Medical Center', 'country_code': 'US', 'type': 'healthcare', 'relationship': 'related'}, {'id': 'https://openalex.org/I4210114445', 'ror': 'https://ror.org/01zcpa714', 'display_name': 'Michigan Medicine', 'country_code': 'US', 'type': 'healthcare', 'relationship': 'related'}], 'counts_by_year': [{'year': 2023, 'works_count': 13316, 'cited_by_count': 903049}, {'year': 2022, 'works_count': 452492, 'cited_by_count': 1166629}, {'year': 2021, 'works_count': 19228, 'cited_by_count': 1188121}, {'year': 2020, 'works_count': 20084, 'cited_by_count': 1083318}, {'year': 2019, 'works_count': 18016, 'cited_by_count': 942272}, {'year': 2018, 'works_count': 17015, 'cited_by_count': 851747}, {'year': 2017, 'works_count': 16358, 'cited_by_count': 782692}, {'year': 2016, 'works_count': 15394, 'cited_by_count': 760887}, {'year': 2015, 'works_count': 14501, 'cited_by_count': 739211}, {'year': 2014, 'works_count': 13883, 'cited_by_count': 702218}, {'year': 2013, 'works_count': 13609, 'cited_by_count': 657720}, {'year': 2012, 'works_count': 12407, 'cited_by_count': 598145}], 'roles': [{'role': 'funder', 'id': 'https://openalex.org/F4320309652', 'works_count': 3097}, {'role': 'institution', 'id': 'https://openalex.org/I27837315', 'works_count': 835892}, {'role': 'publisher', 'id': 'https://openalex.org/P4310316579', 'works_count': 21320}], 'x_concepts': [{'id': 'https://openalex.org/C41008148', 'wikidata': 'https://www.wikidata.org/wiki/Q21198', 'display_name': 'Computer science', 'level': 0, 'score': 59.6}, {'id': 'https://openalex.org/C86803240', 'wikidata': 'https://www.wikidata.org/wiki/Q420', 'display_name': 'Biology', 'level': 0, 'score': 29.1}, {'id': 'https://openalex.org/C71924100', 'wikidata': 'https://www.wikidata.org/wiki/Q11190', 'display_name': 'Medicine', 'level': 0, 'score': 27.0}, {'id': 'https://openalex.org/C185592680', 'wikidata': 'https://www.wikidata.org/wiki/Q2329', 'display_name': 'Chemistry', 'level': 0, 'score': 22.5}, {'id': 'https://openalex.org/C121332964', 'wikidata': 'https://www.wikidata.org/wiki/Q413', 'display_name': 'Physics', 'level': 0, 'score': 20.1}], 'works_api_url': 'https://api.openalex.org/works?filter=institutions.id:I27837315', 'updated_date': '2023-10-04T09:22:07.464900', 'created_date': '2016-06-24'}\n"
          ]
        }
      ]
    },
    {
      "cell_type": "code",
      "source": [
        "print(json.dumps(data, indent = 4))"
      ],
      "metadata": {
        "id": "RS2XfZxD00-K"
      },
      "execution_count": null,
      "outputs": []
    },
    {
      "cell_type": "code",
      "source": [
        "# Extrair conteúdo\n",
        "data['display_name']"
      ],
      "metadata": {
        "colab": {
          "base_uri": "https://localhost:8080/",
          "height": 35
        },
        "id": "SQb7x5Hy1EWP",
        "outputId": "c5bd15ff-1473-49ac-928f-f05128d8f00f"
      },
      "execution_count": null,
      "outputs": [
        {
          "output_type": "execute_result",
          "data": {
            "text/plain": [
              "'University of Michigan–Ann Arbor'"
            ],
            "application/vnd.google.colaboratory.intrinsic+json": {
              "type": "string"
            }
          },
          "metadata": {},
          "execution_count": 115
        }
      ]
    },
    {
      "cell_type": "code",
      "source": [
        "# Extrair atributos\n",
        "print(data['repositories'][0]['id'])"
      ],
      "metadata": {
        "colab": {
          "base_uri": "https://localhost:8080/"
        },
        "id": "9_YQFdyq1Mil",
        "outputId": "ce58923b-c151-45ce-85fd-b8d93ad60954"
      },
      "execution_count": null,
      "outputs": [
        {
          "output_type": "stream",
          "name": "stdout",
          "text": [
            "https://openalex.org/S4306400393\n"
          ]
        }
      ]
    },
    {
      "cell_type": "code",
      "source": [
        "print(data['repositories'][1]['id'])"
      ],
      "metadata": {
        "colab": {
          "base_uri": "https://localhost:8080/"
        },
        "id": "RmwzupOMbHZf",
        "outputId": "554fbc97-e388-45d4-d131-5122dc2fd85d"
      },
      "execution_count": null,
      "outputs": [
        {
          "output_type": "stream",
          "name": "stdout",
          "text": [
            "https://openalex.org/S4306400708\n"
          ]
        }
      ]
    },
    {
      "cell_type": "markdown",
      "source": [
        "### **Página HTML**"
      ],
      "metadata": {
        "id": "9m1hfIFe2yiT"
      }
    },
    {
      "cell_type": "markdown",
      "source": [
        "Vamos ver agora um exemplo em Python para fazer um parser em uma página da Wikipedia usando a biblioteca `BeautifulSoup` para extrair o conteúdo desejado.\n",
        "\n",
        "Suponha que você queira extrair a lista de países da página da Wikipedia sobre a América do Sul: https://pt.wikipedia.org/wiki/Am%C3%A9rica_do_Sul\n",
        "\n",
        "Para fazer isso, podemos usar o seguinte código em Python:"
      ],
      "metadata": {
        "id": "TrChQC2123Os"
      }
    },
    {
      "cell_type": "code",
      "source": [
        "import requests\n",
        "from bs4 import BeautifulSoup\n",
        "\n",
        "# faz a requisição à página da Wikipedia\n",
        "response = requests.get('https://pt.wikipedia.org/wiki/Am%C3%A9rica_do_Sul')\n",
        "\n",
        "# cria um objeto BeautifulSoup para parsear o HTML\n",
        "soup = BeautifulSoup(response.content, 'html.parser')\n",
        "\n",
        "# encontra a tabela com a lista de países\n",
        "tabela_paises = soup.find('table', {'class': 'wikitable sortable'})\n",
        "\n",
        "# encontra as linhas da tabela\n",
        "linhas = tabela_paises.find_all('tr')\n",
        "\n",
        "# percorre as linhas, extraindo o nome do país de cada célula da primeira coluna\n",
        "paises = []\n",
        "for linha in linhas[1:]:\n",
        "    celulas = linha.find_all('td')\n",
        "    nome_pais = celulas[0].text.strip()\n",
        "    paises.append(nome_pais)\n",
        "\n",
        "# imprime a lista de países\n",
        "print(paises)"
      ],
      "metadata": {
        "colab": {
          "base_uri": "https://localhost:8080/"
        },
        "id": "L9rwybT_3Unk",
        "outputId": "b96f9d30-a026-40b8-a81c-83884b2e853d"
      },
      "execution_count": null,
      "outputs": [
        {
          "output_type": "stream",
          "name": "stdout",
          "text": [
            "['Argentina', 'Aruba (\\xa0Países Baixos) *', 'Bolívia', 'Bonaire (\\xa0Países Baixos) **', 'Brasil', 'Chile', 'Colômbia', 'Curaçao (\\xa0Países Baixos) *', 'Equador', 'Guiana', 'Guiana Francesa (\\xa0França) **', 'Ilhas Malvinas (\\xa0Reino Unido)*', 'Ilhas Geórgia do Sul e Sandwich do Sul (\\xa0Reino Unido) *', 'Paraguai', 'Peru', 'Suriname', 'Trinidad e Tobago', 'Uruguai', 'Venezuela']\n"
          ]
        }
      ]
    },
    {
      "cell_type": "markdown",
      "source": [
        "Nesse exemplo, a variável `response` guarda a resposta da requisição à página, e a variável `soup` guarda o objeto `BeautifulSoup` criado a partir do conteúdo HTML da página. Depois, usamos o método `find` para encontrar a tabela com a lista de países, a função `find_all` para encontrar todas as linhas da tabela, e um loop para percorrer as linhas e extrair o nome de cada país da primeira célula de cada linha. Por fim, imprimimos a lista de países."
      ],
      "metadata": {
        "id": "hDAmiNIV34-j"
      }
    },
    {
      "cell_type": "markdown",
      "source": [
        "Suponha que você queira obter o conteúdo da página da Wikipedia em português sobre inteligência artificial: https://pt.wikipedia.org/wiki/Intelig%C3%AAncia_artificial"
      ],
      "metadata": {
        "id": "YVXfbpZQ5waj"
      }
    },
    {
      "cell_type": "code",
      "source": [
        "import requests\n",
        "from bs4 import BeautifulSoup\n",
        "\n",
        "# faz a requisição à página da Wikipedia\n",
        "response = requests.get('https://pt.wikipedia.org/wiki/Intelig%C3%AAncia_artificial')\n",
        "\n",
        "# cria um objeto BeautifulSoup para parsear o HTML\n",
        "soup = BeautifulSoup(response.content, 'html.parser')\n",
        "\n",
        "# encontra a seção do conteúdo da página\n",
        "conteudo = soup.find('div', {'id': 'mw-content-text'})\n",
        "\n",
        "# encontra todos os parágrafos de texto dentro da seção de conteúdo\n",
        "paragrafos = conteudo.find_all('p')"
      ],
      "metadata": {
        "id": "g2hHNWr76HeI"
      },
      "execution_count": null,
      "outputs": []
    },
    {
      "cell_type": "code",
      "source": [
        "# número de parágrafos\n",
        "print(len(paragrafos))"
      ],
      "metadata": {
        "colab": {
          "base_uri": "https://localhost:8080/"
        },
        "id": "z2JI6d5qB8el",
        "outputId": "36ebe347-f486-46c1-c43f-d9af81715a7a"
      },
      "execution_count": null,
      "outputs": [
        {
          "output_type": "stream",
          "name": "stdout",
          "text": [
            "109\n"
          ]
        }
      ]
    },
    {
      "cell_type": "code",
      "source": [
        "# primeiro parágrafo\n",
        "print(paragrafos[0])"
      ],
      "metadata": {
        "colab": {
          "base_uri": "https://localhost:8080/"
        },
        "id": "rCeVopP2BweH",
        "outputId": "9f7364b3-6134-41b5-a390-61cb5b2a29ed"
      },
      "execution_count": null,
      "outputs": [
        {
          "output_type": "stream",
          "name": "stdout",
          "text": [
            "<p><b>Inteligência artificial</b> (de sigla: <b>IA</b>; do <a href=\"/wiki/L%C3%ADngua_inglesa\" title=\"Língua inglesa\">inglês</a>: <i>Artificial Intelligence</i>, de sigla: <b>AI</b>) é um campo de estudo multidisciplinar que abrange varias áreas do conhecimento.<sup class=\"reference\" id=\"cite_ref-1\"><a href=\"#cite_note-1\"><span>[</span>1<span>]</span></a></sup> Embora seu desenvolvimento tenha avançado mais na ciência da computação, sua abordagem interdisciplinar envolve contribuições de diversas disciplinas. Algumas das principais áreas relacionadas à IA incluem:\n",
            "</p>\n"
          ]
        }
      ]
    },
    {
      "cell_type": "code",
      "source": [
        "# primeiro parágrafo - texto\n",
        "print(paragrafos[0].get_text())"
      ],
      "metadata": {
        "colab": {
          "base_uri": "https://localhost:8080/"
        },
        "id": "N2SSaqJSCE_l",
        "outputId": "89a73f09-a089-4d5d-f241-bd8070a4a894"
      },
      "execution_count": null,
      "outputs": [
        {
          "output_type": "stream",
          "name": "stdout",
          "text": [
            "Inteligência artificial (de sigla: IA; do inglês: Artificial Intelligence, de sigla: AI) é um campo de estudo multidisciplinar que abrange varias áreas do conhecimento.[1] Embora seu desenvolvimento tenha avançado mais na ciência da computação, sua abordagem interdisciplinar envolve contribuições de diversas disciplinas. Algumas das principais áreas relacionadas à IA incluem:\n",
            "\n"
          ]
        }
      ]
    },
    {
      "cell_type": "code",
      "source": [
        "# listar todos os parágrafos\n",
        "for p in paragrafos:\n",
        "   print(p.getText())"
      ],
      "metadata": {
        "id": "EOEkVkrxCNfV"
      },
      "execution_count": null,
      "outputs": []
    },
    {
      "cell_type": "code",
      "source": [
        "# obter todo o texto\n",
        "texto = ''\n",
        "\n",
        "for p in paragrafos:\n",
        "   texto += p.getText()\n",
        "\n",
        "print(texto)"
      ],
      "metadata": {
        "id": "9gyXRPcmC-RW"
      },
      "execution_count": null,
      "outputs": []
    },
    {
      "cell_type": "code",
      "source": [
        "# imprime as primeiras n palavras dos parágrafos\n",
        "\n",
        "n_palavras = 10\n",
        "palavras_impressas = 0\n",
        "\n",
        "for p in paragrafos:\n",
        "\n",
        "    # separa as palavras do parágrafo\n",
        "    palavras = p.get_text().split()\n",
        "\n",
        "    palavras_para_imprimir = n_palavras - palavras_impressas\n",
        "    if len(palavras) > palavras_para_imprimir:\n",
        "        palavras = palavras[:palavras_para_imprimir]\n",
        "\n",
        "    print(' '.join(palavras))\n",
        "\n",
        "    palavras_impressas += len(palavras)\n",
        "    if palavras_impressas >= n_palavras:\n",
        "        break"
      ],
      "metadata": {
        "colab": {
          "base_uri": "https://localhost:8080/"
        },
        "id": "KQ6KOFK86trG",
        "outputId": "8de22214-158a-4cb4-da66-140eba2ffa94"
      },
      "execution_count": null,
      "outputs": [
        {
          "output_type": "stream",
          "name": "stdout",
          "text": [
            "Inteligência artificial (de sigla: IA; do inglês: Artificial Intelligence, de\n"
          ]
        }
      ]
    },
    {
      "cell_type": "markdown",
      "source": [
        "Neste exemplo, vamos obter o título e o texto da seção principal de um artigo da Wikipedia em português, utilizando a página sobre a cidade de Nova Iorque (https://pt.wikipedia.org/wiki/Nova_Iorque)."
      ],
      "metadata": {
        "id": "e58egwSK7xzR"
      }
    },
    {
      "cell_type": "code",
      "source": [
        "import requests\n",
        "from bs4 import BeautifulSoup\n",
        "\n",
        "url = 'https://pt.wikipedia.org/wiki/Nova_Iorque'\n",
        "\n",
        "response = requests.get(url)\n",
        "soup = BeautifulSoup(response.content, 'html.parser')\n",
        "\n",
        "# Encontrar o título da página\n",
        "title = soup.find('h1', {'class': 'firstHeading'}).text\n",
        "print(title)"
      ],
      "metadata": {
        "colab": {
          "base_uri": "https://localhost:8080/"
        },
        "id": "KWlLd0pD7pY3",
        "outputId": "14bde9bd-10e7-465e-9000-3b89faf01e97"
      },
      "execution_count": null,
      "outputs": [
        {
          "output_type": "stream",
          "name": "stdout",
          "text": [
            "Nova Iorque\n"
          ]
        }
      ]
    },
    {
      "cell_type": "code",
      "source": [
        "# Encontrar a seção principal\n",
        "content = soup.find('div', {'id': 'mw-content-text'})\n",
        "section = content.find('div', {'class': 'mw-parser-output'})\n",
        "\n",
        "# Encontrar o texto da seção principal\n",
        "text = ''\n",
        "for p in section.find_all('p', recursive=False):\n",
        "    text += p.text\n",
        "    if p.find('a'):\n",
        "        break\n",
        "\n",
        "print(text)"
      ],
      "metadata": {
        "colab": {
          "base_uri": "https://localhost:8080/"
        },
        "id": "dFNr4m3rEfD_",
        "outputId": "0ac81db0-ce3f-44e7-d792-19d5076be335"
      },
      "execution_count": null,
      "outputs": [
        {
          "output_type": "stream",
          "name": "stdout",
          "text": [
            "Nova Iorque (também referida como Nova York), oficialmente Cidade de Nova Iorque (em inglês:  New York City),[6] é a cidade mais populosa do estado de Nova Iorque e dos Estados Unidos.[5] Sua região metropolitana é uma das áreas metropolitanas mais populosas do mundo[7][8][9] e é também a terceira cidade mais populosa da América, atrás de São Paulo e Cidade do México. A cidade exerce um impacto significativo sobre o comércio, finanças, mídia, arte, moda, pesquisa, tecnologia, educação e entretenimento de todo o planeta.\n",
            "\n"
          ]
        }
      ]
    },
    {
      "cell_type": "markdown",
      "source": [
        "#### **Web Scraping**"
      ],
      "metadata": {
        "id": "U0mBV8h-8dun"
      }
    },
    {
      "cell_type": "markdown",
      "source": [
        "**Web scraping** é a prática de coletar automaticamente dados de uma página da web, analisando seu conteúdo HTML. Essa técnica é utilizada para extrair informações específicas de uma página web, como preços de produtos em lojas online, informações de contato de empresas ou dados de preços de ações em sites financeiros."
      ],
      "metadata": {
        "id": "2fRmVCkvDSyD"
      }
    },
    {
      "cell_type": "markdown",
      "source": [
        "https://scrapeops.io/web-scraping-playbook/403-forbidden-error-web-scraping/"
      ],
      "metadata": {
        "id": "YB4Ej0v2M7iS"
      }
    },
    {
      "cell_type": "code",
      "source": [
        "url = 'http://www.imdb.com/chart/top'\n",
        "\n",
        "response = requests.get(url)\n",
        "soup = BeautifulSoup(response.text, 'lxml')\n",
        "\n",
        "# Verifica se a solicitação foi bem-sucedida\n",
        "if not response.status_code == 200:\n",
        "  print(response.text)"
      ],
      "metadata": {
        "colab": {
          "base_uri": "https://localhost:8080/"
        },
        "id": "suQJXXKN7uVD",
        "outputId": "238b1c74-e6bf-4348-81a7-b2a123999548"
      },
      "execution_count": null,
      "outputs": [
        {
          "output_type": "stream",
          "name": "stdout",
          "text": [
            "<html>\r\n",
            "<head><title>403 Forbidden</title></head>\r\n",
            "<body>\r\n",
            "<center><h1>403 Forbidden</h1></center>\r\n",
            "</body>\r\n",
            "</html>\r\n",
            "\n"
          ]
        }
      ]
    },
    {
      "cell_type": "code",
      "source": [
        "url = 'http://www.imdb.com/chart/top'\n",
        "\n",
        "HEADERS = {'User-Agent': 'Mozilla/5.0 (iPad; CPU OS 12_2 like Mac OS X) AppleWebKit/605.1.15 (KHTML, like Gecko) Mobile/15E148'}\n",
        "\n",
        "response = requests.get(url, headers=HEADERS)\n",
        "soup = BeautifulSoup(response.text, 'lxml')\n",
        "\n",
        "# Verifica se a solicitação foi bem-sucedida\n",
        "if response.status_code == 200:\n",
        "  print('Conexão bem-sucedida')"
      ],
      "metadata": {
        "colab": {
          "base_uri": "https://localhost:8080/"
        },
        "id": "AJA2JOilL_Y7",
        "outputId": "602a997a-d4fd-44b4-e8c5-91258d653d9a"
      },
      "execution_count": null,
      "outputs": [
        {
          "output_type": "stream",
          "name": "stdout",
          "text": [
            "Conexão bem-sucedida\n"
          ]
        }
      ]
    },
    {
      "cell_type": "code",
      "source": [
        "import requests\n",
        "import random\n",
        "\n",
        "user_agents_list = [\n",
        "    'Mozilla/5.0 (iPad; CPU OS 12_2 like Mac OS X) AppleWebKit/605.1.15 (KHTML, like Gecko) Mobile/15E148',\n",
        "    'Mozilla/5.0 (Macintosh; Intel Mac OS X 10_15_7) AppleWebKit/537.36 (KHTML, like Gecko) Chrome/99.0.4844.83 Safari/537.36',\n",
        "    'Mozilla/5.0 (Windows NT 10.0; Win64; x64) AppleWebKit/537.36 (KHTML, like Gecko) Chrome/99.0.4844.51 Safari/537.36'\n",
        "]\n",
        "\n",
        "url = 'http://www.imdb.com/chart/top'\n",
        "\n",
        "response = requests.get(url, headers={'User-Agent': random.choice(user_agents_list)})\n",
        "\n",
        "# Verifica se a solicitação foi bem-sucedida\n",
        "if response.status_code == 200:\n",
        "  print('Conexão bem-sucedida')"
      ],
      "metadata": {
        "colab": {
          "base_uri": "https://localhost:8080/"
        },
        "id": "HU72y888OA6K",
        "outputId": "b09506c3-a204-4088-ce91-a6349702893c"
      },
      "execution_count": null,
      "outputs": [
        {
          "output_type": "stream",
          "name": "stdout",
          "text": [
            "Conexão bem-sucedida\n"
          ]
        }
      ]
    },
    {
      "cell_type": "code",
      "source": [
        "import requests\n",
        "\n",
        "HEADERS = {\n",
        "        \"User-Agent\": \"Mozilla/5.0 (Windows NT 10.0; Win64; x64; rv:98.0) Gecko/20100101 Firefox/98.0\",\n",
        "        \"Accept\": \"text/html,application/xhtml+xml,application/xml;q=0.9,image/avif,image/webp,*/*;q=0.8\",\n",
        "        \"Accept-Language\": \"en-US,en;q=0.5\",\n",
        "        \"Accept-Encoding\": \"gzip, deflate\",\n",
        "        \"Connection\": \"keep-alive\",\n",
        "        \"Upgrade-Insecure-Requests\": \"1\",\n",
        "        \"Sec-Fetch-Dest\": \"document\",\n",
        "        \"Sec-Fetch-Mode\": \"navigate\",\n",
        "        \"Sec-Fetch-Site\": \"none\",\n",
        "        \"Sec-Fetch-User\": \"?1\",\n",
        "        \"Cache-Control\": \"max-age=0\",\n",
        "    }\n",
        "\n",
        "url = 'http://www.imdb.com/chart/top'\n",
        "\n",
        "response = requests.get(url, headers=HEADERS)\n",
        "\n",
        "# Verifica se a solicitação foi bem-sucedida\n",
        "if response.status_code == 200:\n",
        "  print('Conexão bem-sucedida')"
      ],
      "metadata": {
        "colab": {
          "base_uri": "https://localhost:8080/"
        },
        "id": "vL8HMONlOnMy",
        "outputId": "d63764f8-5f0a-4ea1-b254-0e03ec50bde1"
      },
      "execution_count": null,
      "outputs": [
        {
          "output_type": "stream",
          "name": "stdout",
          "text": [
            "Conexão bem-sucedida\n"
          ]
        }
      ]
    },
    {
      "cell_type": "markdown",
      "source": [
        "**Notícias de Tecnologia**"
      ],
      "metadata": {
        "id": "201o6gXRfkbB"
      }
    },
    {
      "cell_type": "markdown",
      "source": [
        "Aqui está outro exemplo de web scraping em Python que usa a biblioteca `requests` e a biblioteca `BeautifulSoup` para extrair informações sobre notícias de tecnologia do site TechCrunch:"
      ],
      "metadata": {
        "id": "V8WL4gORFuKT"
      }
    },
    {
      "cell_type": "code",
      "source": [
        "import requests\n",
        "from bs4 import BeautifulSoup\n",
        "\n",
        "url = 'https://techcrunch.com/'\n",
        "\n",
        "response = requests.get(url)\n",
        "\n",
        "soup = BeautifulSoup(response.content, 'html.parser')\n",
        "\n",
        "articles = soup.select('.post-block__title__link')\n",
        "\n",
        "for article in articles:\n",
        "    title = article.text.strip()\n",
        "    link = article['href']\n",
        "    print(f'{title} - {link}')"
      ],
      "metadata": {
        "colab": {
          "base_uri": "https://localhost:8080/"
        },
        "id": "2tQgFHSiFevh",
        "outputId": "188c45df-d5e4-432d-adf1-5a5b57bd0284"
      },
      "execution_count": null,
      "outputs": [
        {
          "output_type": "stream",
          "name": "stdout",
          "text": [
            "Microsoft won’t say if its products were exploited by spyware zero-days - https://techcrunch.com/2023/10/04/microsoft-wont-say-if-its-products-were-exploited-by-spyware-zero-days/\n",
            " - https://techcrunch.com/2023/10/04/microsoft-wont-say-if-its-products-were-exploited-by-spyware-zero-days/\n",
            "Bird lays off staff after Spin acquisition to reduce redundancies - https://techcrunch.com/2023/10/04/bird-lays-off-staff-after-spin-acquisition-to-reduce-redundancies/\n",
            "Patreon launches new features, a redesigned app and a new look - https://techcrunch.com/2023/10/04/patreon-launches-new-features-a-redesigned-app-and-a-new-look/\n",
            "Microsoft won’t say if its products were exploited by spyware zero-days - https://techcrunch.com/2023/10/04/microsoft-wont-say-if-its-products-were-exploited-by-spyware-zero-days/\n",
            "Walmart experiments with generative AI tools that can help you plan a party or decorate - https://techcrunch.com/2023/10/04/walmart-experiments-with-new-generative-ai-tools-that-can-help-you-plan-a-party-or-decorate-a-space/\n",
            "What’s at stake in the Supreme Court’s landmark social media case - https://techcrunch.com/2023/10/04/supreme-court-social-media-case-content-moderation-explained/\n",
            "Three weeks later, investors are still not terribly enthusiastic about the massive Cisco-Splunk deal - https://techcrunch.com/2023/10/04/cisco-splunk-deal-investors-disappointed/\n",
            "Actually, X sees 500M posts per day — not 100M-200M as Musk recently said - https://techcrunch.com/2023/10/04/actually-x-sees-500m-posts-per-day-not-100m-200m-as-musk-recently-said/\n",
            "Keep Labs’ smart storage redefines medication management - https://techcrunch.com/2023/10/04/keep-labs-smart-storage-redefines-medication-management/\n",
            "Apple Watch’s new double tap gesture is now live in the watchOS 10.1 public beta - https://techcrunch.com/2023/10/04/apple-watchs-new-double-tap-gesture-is-now-live-in-the-watchos-10-1-public-beta/\n",
            "Lyca Mobile blames cyberattack for network disruption - https://techcrunch.com/2023/10/04/lyca-mobile-blames-cyberattack-for-network-disruption/\n",
            "The global VC market continues to stumble - https://techcrunch.com/2023/10/04/the-global-vc-market-continues-to-stumble/\n",
            "Defense startup Mach Industries closes $79M Series A at $335M valuation - https://techcrunch.com/2023/10/04/defense-startup-mach-industries-closes-79m-series-a-at-335m-valuation/\n",
            "News app turned X competitor Artifact now lets users generate AI images for their posts - https://techcrunch.com/2023/10/04/news-app-turned-x-competitor-artifact-now-lets-users-generate-ai-images-for-their-posts/\n",
            "Docker launches remote container builds, new debugging tools and more - https://techcrunch.com/2023/10/04/docker-launches-remote-container-builds-new-debugging-tools-and-more/\n",
            "Lemurian Labs is building a new compute paradigm to reduce cost of running AI models - https://techcrunch.com/2023/10/04/lemurian-labs-is-building-a-new-compute-paradigm-to-reduce-cost-of-running-ai-models/\n",
            "At One Ventures’ $375M new fund shows climate tech is still hot - https://techcrunch.com/2023/10/04/at-one-ventures-climate-tech/\n",
            "Google Photos’ AI-powered Magic Editor feature to ship with Pixel 8 and 8 Pro - https://techcrunch.com/2023/10/04/google-photos-ai-powered-magic-editor-feature-to-ship-with-pixel-8-and-8-pro/\n",
            "Pixel 8 Pro runs Google’s generative AI models on-device - https://techcrunch.com/2023/10/04/pixel-8-pro-runs-googles-generative-ai-models-on-device/\n",
            "Google Pixel Event 2023: Everything announced, including the Pixel 8 series, Pixel Watch 2, Pixel Buds Pro, Android 14 - https://techcrunch.com/2023/10/04/google-pixel-event-2023-everything-you-need-to-know/\n",
            "Habyt, an Airbnb-style platform aimed at longer stays and ‘flexible living,’ raises $42M - https://techcrunch.com/2023/10/04/habyt-42-million/\n"
          ]
        }
      ]
    },
    {
      "cell_type": "markdown",
      "source": [
        "Neste exemplo, fazemos uma solicitação HTTP para a página inicial do TechCrunch e usamos a biblioteca `BeautifulSoup` para analisar o conteúdo HTML da página e encontrar os elementos HTML que contêm as informações de título e link de cada artigo.\n",
        "\n",
        "Usamos o método `select()` do `BeautifulSoup` para selecionar os elementos HTML que contêm as informações relevantes e, em seguida, usamos o método `text` e `['href']` para extrair as informações de título e link, respectivamente.\n",
        "\n",
        "Por fim, imprimimos o título e link de cada artigo na tela."
      ],
      "metadata": {
        "id": "dk7jmHHqF-5R"
      }
    },
    {
      "cell_type": "markdown",
      "source": [
        "#### **Expressões Regulares**"
      ],
      "metadata": {
        "id": "a27xt48xLbDo"
      }
    },
    {
      "cell_type": "markdown",
      "source": [
        "Aqui está um exemplo de código em Python que usa a biblioteca `requests` e a biblioteca `BeautifulSoup` para obter o conteúdo de um livro do **Projeto Gutenberg** e contar o número de palavras que terminam com \"mento\":"
      ],
      "metadata": {
        "id": "o3IiW0JIHsn-"
      }
    },
    {
      "cell_type": "markdown",
      "source": [
        "**TESTE**: \"mento\", \"agem\" e \"ção\". Qual ocorre mais?"
      ],
      "metadata": {
        "id": "J5N6TdQckYAT"
      }
    },
    {
      "cell_type": "code",
      "source": [
        "import requests\n",
        "from bs4 import BeautifulSoup\n",
        "import re\n",
        "\n",
        "# URL do livro no Projeto Gutenberg\n",
        "# Dom Casmurro , de Machado de Assis\n",
        "url = 'https://www.gutenberg.org/files/55752/55752-h/55752-h.htm'\n",
        "\n",
        "# Faz a solicitação HTTP para obter o conteúdo HTML da página do livro\n",
        "response = requests.get(url)\n",
        "\n",
        "# Cria um objeto BeautifulSoup para analisar o conteúdo HTML\n",
        "soup = BeautifulSoup(response.content, 'html.parser')\n",
        "\n",
        "# Encontra o elemento HTML que contém o texto do livro\n",
        "book_text = soup.find('body')\n",
        "\n",
        "# Extrai o texto do livro a partir do elemento HTML\n",
        "book = book_text.get_text()\n",
        "\n",
        "# Conta o número de palavras que terminam com \"mento\"\n",
        "words_amento = re.findall(r'\\b\\w+mento\\b', book)\n",
        "count_amento = len(words_amento)\n",
        "\n",
        "print(f'O número de palavras que terminam com \"mento\" é {count_amento}.')"
      ],
      "metadata": {
        "colab": {
          "base_uri": "https://localhost:8080/"
        },
        "id": "Zw2c8MwNHA2p",
        "outputId": "29622159-9991-4fe2-f53f-fa79a6ea38af"
      },
      "execution_count": null,
      "outputs": [
        {
          "output_type": "stream",
          "name": "stdout",
          "text": [
            "O número de palavras que terminam com \"mento\" é 92.\n"
          ]
        }
      ]
    },
    {
      "cell_type": "code",
      "source": [
        "import requests\n",
        "import re\n",
        "\n",
        "# URL do livro no Projeto Gutenberg\n",
        "# Dom Casmurro , de Machado de Assis\n",
        "url = 'https://www.gutenberg.org/cache/epub/55752/pg55752.txt'\n",
        "\n",
        "# Faz o download do arquivo\n",
        "response = requests.get(url)\n",
        "\n",
        "# Abre o arquivo em modo escrita binária e escreve o conteúdo\n",
        "with open('livro.txt', 'wb') as file:\n",
        "    file.write(response.content)\n",
        "\n",
        "# Abre o arquivo do livro em modo leitura\n",
        "with open('livro.txt', 'r') as file:\n",
        "    book = file.read()\n",
        "\n",
        "# Conta o número de palavras que terminam com \"mento\"\n",
        "words_amento = re.findall(r'\\b\\w+mento\\b', book)\n",
        "count_amento = len(words_amento)\n",
        "\n",
        "print(f'O número de palavras que terminam com \"mento\" é {count_amento}.')"
      ],
      "metadata": {
        "colab": {
          "base_uri": "https://localhost:8080/"
        },
        "id": "Ocn1TN4cIGAC",
        "outputId": "14d1f9b7-d69f-4a62-dd30-6ac96677526d"
      },
      "execution_count": null,
      "outputs": [
        {
          "output_type": "stream",
          "name": "stdout",
          "text": [
            "O número de palavras que terminam com \"mento\" é 92.\n"
          ]
        }
      ]
    },
    {
      "cell_type": "markdown",
      "source": [
        "Um exemplo de como extrair todos os anos que aparecem no texto:"
      ],
      "metadata": {
        "id": "_rU93Y00J8Uv"
      }
    },
    {
      "cell_type": "code",
      "source": [
        "import requests\n",
        "import re\n",
        "\n",
        "# URL do livro no Projeto Gutenberg\n",
        "url = 'https://www.gutenberg.org/cache/epub/55752/pg55752.txt'\n",
        "\n",
        "# Faz o download do livro em formato TXT\n",
        "response = requests.get(url)\n",
        "book = response.text\n",
        "\n",
        "# Busca por todas as sequências de quatro dígitos no texto do livro\n",
        "all_years = re.findall(r'\\b\\d{4}\\b', book)\n",
        "\n",
        "# Filtra apenas os anos válidos (entre 1500 e 2023, por exemplo)\n",
        "valid_years = [y for y in all_years if 1500 <= int(y) <= 2023]\n",
        "\n",
        "# Remove anos duplicados\n",
        "unique_years = set(valid_years)\n",
        "\n",
        "# Ordena os anos em ordem crescente\n",
        "sorted_years = sorted(unique_years)\n",
        "\n",
        "print(f'Todos os anos que aparecem no livro são: {sorted_years}.')"
      ],
      "metadata": {
        "colab": {
          "base_uri": "https://localhost:8080/"
        },
        "id": "UcL0KSggJt-1",
        "outputId": "8e861e56-a717-4769-aef5-633ac30a1872"
      },
      "execution_count": null,
      "outputs": [
        {
          "output_type": "stream",
          "name": "stdout",
          "text": [
            "Todos os anos que aparecem no livro são: ['1500', '1824', '1825', '1851', '1857', '1858', '1859', '1860', '1865', '1871', '1872', '1882', '1887', '2001', '2017'].\n"
          ]
        }
      ]
    },
    {
      "cell_type": "markdown",
      "source": [
        "### **Google Drive**"
      ],
      "metadata": {
        "id": "kDHcw6SgS6dN"
      }
    },
    {
      "cell_type": "code",
      "source": [
        "import pandas as pd\n",
        "\n",
        "# Define a URL do arquivo CSV hospedado no Google Drive\n",
        "# Pizzaria.csv - UFABC_PLN\n",
        "url = 'https://docs.google.com/spreadsheets/d/1lEsYaFcs2lirK-QFI-dhQVdizXx0J861c5qwNgx8PFY/export?format=csv'\n",
        "\n",
        "# Carrega o conteúdo do arquivo CSV em um DataFrame do Pandas\n",
        "df = pd.read_csv(url)\n",
        "\n",
        "# Exibe as primeiras linhas do DataFrame\n",
        "print(df.head())\n"
      ],
      "metadata": {
        "colab": {
          "base_uri": "https://localhost:8080/"
        },
        "id": "n5mNnrpI-0_w",
        "outputId": "96d6d87f-b51c-4911-cf64-93e3fd6789f0"
      },
      "execution_count": null,
      "outputs": [
        {
          "output_type": "stream",
          "name": "stdout",
          "text": [
            "   Pedido      Nome             Status\n",
            "0       1     Pedro         que pedido\n",
            "1       2     Maria  Saiu para entrega\n",
            "2       3      alex  saiu para entrega\n",
            "3       4    alexdd          esperando\n",
            "4       1  fernando         que pedido\n"
          ]
        }
      ]
    },
    {
      "cell_type": "code",
      "source": [
        "import pandas as pd\n",
        "\n",
        "# UFABC_PGC\n",
        "# ufsc_tcc_computacao.xlsx\n",
        "\n",
        "# Na URL da planilha que está armazenada no Google Drive, obter o id:\n",
        "#                                    --> id                               --> fim id\n",
        "# https://docs.google.com/spreadsheets/d/1RlBeFCnu3DImX-0zWP3i4rbD0CMowcac/edit?usp=share_link&ouid=115032225044325641900&rtpof=true&sd=true\n",
        "\n",
        "fileid = \"1RlBeFCnu3DImX-0zWP3i4rbD0CMowcac\"\n",
        "\n",
        "# Lendo a planilha do Excel em um DataFrame do Pandas\n",
        "\n",
        "df = pd.read_excel(\n",
        "    \"https://drive.google.com/uc?export=download&id={fileid}\".format(\n",
        "        fileid=fileid\n",
        "    )\n",
        ")\n",
        "\n",
        "# selecionar a coluna 'idade' usando colchetes\n",
        "titulo = df['Title']\n",
        "\n",
        "print(titulo)"
      ],
      "metadata": {
        "id": "5DgAnu-7FOlf",
        "outputId": "7e8482f3-6c36-446c-9852-a9d75929ccdc",
        "colab": {
          "base_uri": "https://localhost:8080/"
        }
      },
      "execution_count": null,
      "outputs": [
        {
          "output_type": "stream",
          "name": "stdout",
          "text": [
            "0      Classificação de Litofácies Utilizando Transfo...\n",
            "1      Classificação de gêneros musicais por análise ...\n",
            "2      Implementing a programming language with a dep...\n",
            "3      Explorando Árvores de Decisão Em Um Fluxo de S...\n",
            "4      Desenvolvimento de um Modelo de Avaliação da O...\n",
            "                             ...                        \n",
            "780    Desenvolvimento de uma abordagem de cooperação...\n",
            "781    Goftester: aprimoramento e implementação da bi...\n",
            "782    Métodos de Autofoco para Holografia Digital In...\n",
            "783    Módulo de jogo de perguntas e respostas online...\n",
            "784    Integração de um tracking magnético a um simul...\n",
            "Name: Title, Length: 785, dtype: object\n"
          ]
        }
      ]
    }
  ]
}
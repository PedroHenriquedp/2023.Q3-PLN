{
  "cells": [
    {
      "cell_type": "markdown",
      "metadata": {
        "id": "DOycdBmh0FBf"
      },
      "source": [
        "# **Processamento de Linguagem Natural [2023.Q3]**\n",
        "Prof. Alexandre Donizeti Alves\n"
      ]
    },
    {
      "cell_type": "markdown",
      "metadata": {
        "id": "79aRKKhlyLFK"
      },
      "source": [
        "## **Grandes Modelos de Linguagem**\n",
        "---\n"
      ]
    },
    {
      "cell_type": "markdown",
      "metadata": {
        "id": "uCtPgR5vxbDb"
      },
      "source": [
        "## LangChain\n",
        "\n"
      ]
    },
    {
      "cell_type": "markdown",
      "metadata": {
        "id": "0P6E9lJxzQPk"
      },
      "source": [
        "https://python.langchain.com/\n",
        "\n"
      ]
    },
    {
      "cell_type": "code",
      "execution_count": null,
      "metadata": {
        "colab": {
          "base_uri": "https://localhost:8080/"
        },
        "id": "bcrn7QRyQXGj",
        "outputId": "660c686d-8482-434c-8930-f7a57a3a5aa6"
      },
      "outputs": [
        {
          "output_type": "stream",
          "name": "stdout",
          "text": [
            "Requirement already satisfied: langchain in /usr/local/lib/python3.10/dist-packages (0.0.335)\n",
            "Requirement already satisfied: PyYAML>=5.3 in /usr/local/lib/python3.10/dist-packages (from langchain) (6.0.1)\n",
            "Requirement already satisfied: SQLAlchemy<3,>=1.4 in /usr/local/lib/python3.10/dist-packages (from langchain) (2.0.23)\n",
            "Requirement already satisfied: aiohttp<4.0.0,>=3.8.3 in /usr/local/lib/python3.10/dist-packages (from langchain) (3.8.6)\n",
            "Requirement already satisfied: anyio<4.0 in /usr/local/lib/python3.10/dist-packages (from langchain) (3.7.1)\n",
            "Requirement already satisfied: async-timeout<5.0.0,>=4.0.0 in /usr/local/lib/python3.10/dist-packages (from langchain) (4.0.3)\n",
            "Requirement already satisfied: dataclasses-json<0.7,>=0.5.7 in /usr/local/lib/python3.10/dist-packages (from langchain) (0.6.2)\n",
            "Requirement already satisfied: jsonpatch<2.0,>=1.33 in /usr/local/lib/python3.10/dist-packages (from langchain) (1.33)\n",
            "Requirement already satisfied: langsmith<0.1.0,>=0.0.63 in /usr/local/lib/python3.10/dist-packages (from langchain) (0.0.64)\n",
            "Requirement already satisfied: numpy<2,>=1 in /usr/local/lib/python3.10/dist-packages (from langchain) (1.23.5)\n",
            "Requirement already satisfied: pydantic<3,>=1 in /usr/local/lib/python3.10/dist-packages (from langchain) (1.10.13)\n",
            "Requirement already satisfied: requests<3,>=2 in /usr/local/lib/python3.10/dist-packages (from langchain) (2.31.0)\n",
            "Requirement already satisfied: tenacity<9.0.0,>=8.1.0 in /usr/local/lib/python3.10/dist-packages (from langchain) (8.2.3)\n",
            "Requirement already satisfied: attrs>=17.3.0 in /usr/local/lib/python3.10/dist-packages (from aiohttp<4.0.0,>=3.8.3->langchain) (23.1.0)\n",
            "Requirement already satisfied: charset-normalizer<4.0,>=2.0 in /usr/local/lib/python3.10/dist-packages (from aiohttp<4.0.0,>=3.8.3->langchain) (3.3.2)\n",
            "Requirement already satisfied: multidict<7.0,>=4.5 in /usr/local/lib/python3.10/dist-packages (from aiohttp<4.0.0,>=3.8.3->langchain) (6.0.4)\n",
            "Requirement already satisfied: yarl<2.0,>=1.0 in /usr/local/lib/python3.10/dist-packages (from aiohttp<4.0.0,>=3.8.3->langchain) (1.9.2)\n",
            "Requirement already satisfied: frozenlist>=1.1.1 in /usr/local/lib/python3.10/dist-packages (from aiohttp<4.0.0,>=3.8.3->langchain) (1.4.0)\n",
            "Requirement already satisfied: aiosignal>=1.1.2 in /usr/local/lib/python3.10/dist-packages (from aiohttp<4.0.0,>=3.8.3->langchain) (1.3.1)\n",
            "Requirement already satisfied: idna>=2.8 in /usr/local/lib/python3.10/dist-packages (from anyio<4.0->langchain) (3.4)\n",
            "Requirement already satisfied: sniffio>=1.1 in /usr/local/lib/python3.10/dist-packages (from anyio<4.0->langchain) (1.3.0)\n",
            "Requirement already satisfied: exceptiongroup in /usr/local/lib/python3.10/dist-packages (from anyio<4.0->langchain) (1.1.3)\n",
            "Requirement already satisfied: marshmallow<4.0.0,>=3.18.0 in /usr/local/lib/python3.10/dist-packages (from dataclasses-json<0.7,>=0.5.7->langchain) (3.20.1)\n",
            "Requirement already satisfied: typing-inspect<1,>=0.4.0 in /usr/local/lib/python3.10/dist-packages (from dataclasses-json<0.7,>=0.5.7->langchain) (0.9.0)\n",
            "Requirement already satisfied: jsonpointer>=1.9 in /usr/local/lib/python3.10/dist-packages (from jsonpatch<2.0,>=1.33->langchain) (2.4)\n",
            "Requirement already satisfied: typing-extensions>=4.2.0 in /usr/local/lib/python3.10/dist-packages (from pydantic<3,>=1->langchain) (4.5.0)\n",
            "Requirement already satisfied: urllib3<3,>=1.21.1 in /usr/local/lib/python3.10/dist-packages (from requests<3,>=2->langchain) (2.0.7)\n",
            "Requirement already satisfied: certifi>=2017.4.17 in /usr/local/lib/python3.10/dist-packages (from requests<3,>=2->langchain) (2023.7.22)\n",
            "Requirement already satisfied: greenlet!=0.4.17 in /usr/local/lib/python3.10/dist-packages (from SQLAlchemy<3,>=1.4->langchain) (3.0.1)\n",
            "Requirement already satisfied: packaging>=17.0 in /usr/local/lib/python3.10/dist-packages (from marshmallow<4.0.0,>=3.18.0->dataclasses-json<0.7,>=0.5.7->langchain) (23.2)\n",
            "Requirement already satisfied: mypy-extensions>=0.3.0 in /usr/local/lib/python3.10/dist-packages (from typing-inspect<1,>=0.4.0->dataclasses-json<0.7,>=0.5.7->langchain) (1.0.0)\n"
          ]
        }
      ],
      "source": [
        "!pip install langchain"
      ]
    },
    {
      "cell_type": "markdown",
      "metadata": {
        "id": "NkGGSdmtta6s"
      },
      "source": [
        "## LLMs\n",
        "\n",
        "LangChain supports several LLM providers, like **OpenAI**, Hugging Face etc.\n",
        "\n",
        "Let's start our exploration of LangChain by learning how to use a few of these different LLM integrations.\n",
        "\n",
        "A generic interface for all LLMs. See all LLM providers:\n",
        "\n",
        "> https://python.langchain.com/docs/integrations/providers/"
      ]
    },
    {
      "cell_type": "code",
      "execution_count": null,
      "metadata": {
        "colab": {
          "base_uri": "https://localhost:8080/"
        },
        "id": "H_dfy6G_aBtY",
        "outputId": "744f30c4-958c-4491-d3f6-f1d26f0eb0b0"
      },
      "outputs": [
        {
          "output_type": "stream",
          "name": "stdout",
          "text": [
            "Requirement already satisfied: openai==0.28.1 in /usr/local/lib/python3.10/dist-packages (0.28.1)\n",
            "Requirement already satisfied: requests>=2.20 in /usr/local/lib/python3.10/dist-packages (from openai==0.28.1) (2.31.0)\n",
            "Requirement already satisfied: tqdm in /usr/local/lib/python3.10/dist-packages (from openai==0.28.1) (4.66.1)\n",
            "Requirement already satisfied: aiohttp in /usr/local/lib/python3.10/dist-packages (from openai==0.28.1) (3.8.6)\n",
            "Requirement already satisfied: charset-normalizer<4,>=2 in /usr/local/lib/python3.10/dist-packages (from requests>=2.20->openai==0.28.1) (3.3.2)\n",
            "Requirement already satisfied: idna<4,>=2.5 in /usr/local/lib/python3.10/dist-packages (from requests>=2.20->openai==0.28.1) (3.4)\n",
            "Requirement already satisfied: urllib3<3,>=1.21.1 in /usr/local/lib/python3.10/dist-packages (from requests>=2.20->openai==0.28.1) (2.0.7)\n",
            "Requirement already satisfied: certifi>=2017.4.17 in /usr/local/lib/python3.10/dist-packages (from requests>=2.20->openai==0.28.1) (2023.7.22)\n",
            "Requirement already satisfied: attrs>=17.3.0 in /usr/local/lib/python3.10/dist-packages (from aiohttp->openai==0.28.1) (23.1.0)\n",
            "Requirement already satisfied: multidict<7.0,>=4.5 in /usr/local/lib/python3.10/dist-packages (from aiohttp->openai==0.28.1) (6.0.4)\n",
            "Requirement already satisfied: async-timeout<5.0,>=4.0.0a3 in /usr/local/lib/python3.10/dist-packages (from aiohttp->openai==0.28.1) (4.0.3)\n",
            "Requirement already satisfied: yarl<2.0,>=1.0 in /usr/local/lib/python3.10/dist-packages (from aiohttp->openai==0.28.1) (1.9.2)\n",
            "Requirement already satisfied: frozenlist>=1.1.1 in /usr/local/lib/python3.10/dist-packages (from aiohttp->openai==0.28.1) (1.4.0)\n",
            "Requirement already satisfied: aiosignal>=1.1.2 in /usr/local/lib/python3.10/dist-packages (from aiohttp->openai==0.28.1) (1.3.1)\n"
          ]
        }
      ],
      "source": [
        "!pip install openai==0.28.1"
      ]
    },
    {
      "cell_type": "code",
      "execution_count": null,
      "metadata": {
        "colab": {
          "base_uri": "https://localhost:8080/"
        },
        "id": "rSawyv61csiO",
        "outputId": "3668e45a-f2da-4822-de51-ee0c94df4a02"
      },
      "outputs": [
        {
          "output_type": "stream",
          "name": "stdout",
          "text": [
            "0.28.1\n"
          ]
        }
      ],
      "source": [
        "#@title Versão da API da OpenAI\n",
        "\n",
        "import openai\n",
        "\n",
        "print(openai.__version__)"
      ]
    },
    {
      "cell_type": "code",
      "execution_count": null,
      "metadata": {
        "colab": {
          "base_uri": "https://localhost:8080/"
        },
        "id": "IvkWzU2feAkO",
        "outputId": "179fc4f2-26ba-48b0-d530-4abca0401a28"
      },
      "outputs": [
        {
          "output_type": "stream",
          "name": "stdout",
          "text": [
            "3.10.12 (main, Jun 11 2023, 05:26:28) [GCC 11.4.0]\n"
          ]
        }
      ],
      "source": [
        "#@title Versão do Python no Google Colab\n",
        "\n",
        "import sys\n",
        "\n",
        "print(sys.version)"
      ]
    },
    {
      "cell_type": "code",
      "execution_count": null,
      "metadata": {
        "colab": {
          "base_uri": "https://localhost:8080/"
        },
        "id": "I_9TO0NGeVMw",
        "outputId": "494c9c29-0d62-457e-fbe8-e6596834c962"
      },
      "outputs": [
        {
          "name": "stdout",
          "output_type": "stream",
          "text": [
            "··········\n"
          ]
        }
      ],
      "source": [
        "from getpass import getpass\n",
        "\n",
        "OPENAI_API_KEY = getpass()"
      ]
    },
    {
      "cell_type": "code",
      "execution_count": null,
      "metadata": {
        "id": "ubeEOujkesfN"
      },
      "outputs": [],
      "source": [
        "from langchain.llms import OpenAI\n",
        "from langchain.prompts import PromptTemplate\n",
        "from langchain.chains import LLMChain"
      ]
    },
    {
      "cell_type": "code",
      "execution_count": null,
      "metadata": {
        "id": "6s721XY7eye6"
      },
      "outputs": [],
      "source": [
        "template = \"\"\"Question: {question}\n",
        "\n",
        "Answer: Let's think step by step.\"\"\"\n",
        "\n",
        "prompt = PromptTemplate(template=template, input_variables=[\"question\"])"
      ]
    },
    {
      "cell_type": "code",
      "execution_count": null,
      "metadata": {
        "id": "T0EGLydye2Cu"
      },
      "outputs": [],
      "source": [
        "llm = OpenAI(openai_api_key = OPENAI_API_KEY)"
      ]
    },
    {
      "cell_type": "code",
      "execution_count": null,
      "metadata": {
        "id": "18kklkilfBYQ"
      },
      "outputs": [],
      "source": [
        "llm_chain = LLMChain(prompt=prompt, llm=llm)"
      ]
    },
    {
      "cell_type": "code",
      "execution_count": null,
      "metadata": {
        "colab": {
          "base_uri": "https://localhost:8080/",
          "height": 53
        },
        "id": "AFVmhdZWfOhg",
        "outputId": "84c2e435-01bf-4132-8e2a-f045329b3ff2"
      },
      "outputs": [
        {
          "output_type": "execute_result",
          "data": {
            "text/plain": [
              "' Ayrton Senna foi um piloto de Fórmula 1. Ele ganhou três títulos de campeão na F1: em 1988, 1990 e 1991.'"
            ],
            "application/vnd.google.colaboratory.intrinsic+json": {
              "type": "string"
            }
          },
          "metadata": {},
          "execution_count": 14
        }
      ],
      "source": [
        "question = \"Quantos títulos Ayrton Senna ganhou na F1? Responda em português\"\n",
        "\n",
        "llm_chain.run(question)"
      ]
    },
    {
      "cell_type": "markdown",
      "metadata": {
        "id": "t-cia1LZfVNj"
      },
      "source": [
        "**Referências**\n",
        "\n",
        "> https://python.langchain.com/docs/integrations/llms/openai\n",
        "\n",
        "> https://python.langchain.com/docs/integrations/platforms/openai"
      ]
    },
    {
      "cell_type": "markdown",
      "metadata": {
        "id": "nidY4aub_ZG3"
      },
      "source": [
        "## # Engenharia de Prompts com LangChain e ChatGPT"
      ]
    },
    {
      "cell_type": "code",
      "execution_count": null,
      "metadata": {
        "id": "eYPZR9YbAHT2"
      },
      "outputs": [],
      "source": [
        "def print_smaller_lines(text, length):\n",
        "    for i in range(0, len(text), length):\n",
        "        print(text[i:i+length])"
      ]
    },
    {
      "cell_type": "code",
      "execution_count": null,
      "metadata": {
        "id": "AiMNFC-A_jmr"
      },
      "outputs": [],
      "source": [
        "from langchain.chat_models import ChatOpenAI"
      ]
    },
    {
      "cell_type": "code",
      "execution_count": null,
      "metadata": {
        "id": "D3St-rk4_bud"
      },
      "outputs": [],
      "source": [
        "llm = ChatOpenAI(openai_api_key = OPENAI_API_KEY, model_name=\"gpt-3.5-turbo\", temperature=0.1, max_tokens=256)"
      ]
    },
    {
      "cell_type": "markdown",
      "metadata": {
        "id": "allRJryt_2zb"
      },
      "source": [
        "**Extração de Informação**"
      ]
    },
    {
      "cell_type": "code",
      "execution_count": null,
      "metadata": {
        "id": "ejsi2yEe_vVN"
      },
      "outputs": [],
      "source": [
        "input_prompt = PromptTemplate(\n",
        "    input_variables=[\"texto\"],\n",
        "    template =\n",
        "    'TEXTO: {texto}\\n' \\\n",
        "    'Dado o texto acima, extraia informações importantes no formato abaixo:\\n' \\\n",
        "    '<CHAVE>: <VALOR>'\\\n",
        "    'Preserve a exata formatação apresentada.'\n",
        ")"
      ]
    },
    {
      "cell_type": "code",
      "execution_count": null,
      "metadata": {
        "id": "s9H8ZqZF_zUo"
      },
      "outputs": [],
      "source": [
        "texto = \"Alan Mathison Turing (Londres, 23 de junho de 1912 — Wilmslow, Cheshire, 7 de junho de 1954)\"\\\n",
        "        \"foi um matemático, cientista da computação, lógico, criptoanalista, filósofo e biólogo teórico \"\\\n",
        "        \"britânico. Turing foi altamente influente no desenvolvimento da moderna ciência da computação \"\\\n",
        "        \"teórica, proporcionando uma formalização dos conceitos de algoritmo e computação com a máquina \"\\\n",
        "        \"de Turing, que pode ser considerada um modelo de um computador de uso geral. Ele é amplamente \"\\\n",
        "        \"considerado o pai da ciência da computação teórica e da inteligência artificial. Apesar dessas \"\\\n",
        "        \"realizações ele nunca foi totalmente reconhecido em seu país de origem durante sua vida por ser \"\\\n",
        "        \"homossexual e porque grande parte de seu trabalho foi coberto pela Lei de Segredos Oficiais.\""
      ]
    },
    {
      "cell_type": "code",
      "execution_count": null,
      "metadata": {
        "id": "pWCeA7hv_5vP"
      },
      "outputs": [],
      "source": [
        "chain = LLMChain(llm=llm, prompt=input_prompt)\n",
        "\n",
        "resultado = chain.run(texto=texto)"
      ]
    },
    {
      "cell_type": "code",
      "execution_count": null,
      "metadata": {
        "colab": {
          "base_uri": "https://localhost:8080/"
        },
        "id": "ZOCFITKN__E8",
        "outputId": "b5752ddd-656c-4ecb-f3f4-d9d02df8ffc4"
      },
      "outputs": [
        {
          "output_type": "stream",
          "name": "stdout",
          "text": [
            "Nome: Alan Mathison Turing\n",
            "Data de nascimento: 23 de junho de 1912\n",
            "Local de nascimento: Londres\n",
            "Data de falecimento: 7 d\n",
            "e junho de 1954\n",
            "Local de falecimento: Wilmslow, Cheshire\n",
            "Profissões: Matemático, cientista da computação, lógico, cripto\n",
            "analista, filósofo e biólogo teórico\n",
            "Contribuições: Desenvolvimento da moderna ciência da computação teórica, formalizaç\n",
            "ão dos conceitos de algoritmo e computação com a máquina de Turing, considerado o pai da ciência da computação teórica e\n",
            " da inteligência artificial\n",
            "Obstáculos enfrentados: Não foi totalmente reconhecido em seu país de origem durante sua vid\n",
            "a devido à sua homossexualidade e porque grande parte de seu trabalho foi coberto pela Lei de Segredos Oficiais.\n"
          ]
        }
      ],
      "source": [
        "print_smaller_lines(resultado, 120)"
      ]
    },
    {
      "cell_type": "markdown",
      "metadata": {
        "id": "GiluDvBjAZLp"
      },
      "source": [
        "**Análise de Sentimentos**"
      ]
    },
    {
      "cell_type": "code",
      "execution_count": null,
      "metadata": {
        "id": "pqiTH0w5AbRO"
      },
      "outputs": [],
      "source": [
        "texto = \"1 - Minha Experiência na loja foi incrível.\"\\\n",
        "        \"2 - Eu acho que podiam melhorar o produto.\"\\\n",
        "        \"3 - O atendimento foi horrível!\"\\\n",
        "        \"4 - Não volto mais.\"\\\n",
        "        \"5 - Recomendo demais a banoffe. É uma delícia!\""
      ]
    },
    {
      "cell_type": "code",
      "execution_count": null,
      "metadata": {
        "id": "Vv8nmE8zAh53"
      },
      "outputs": [],
      "source": [
        "input_prompt1 = PromptTemplate(\n",
        "    input_variables=[\"texto\"],\n",
        "    template =\n",
        "    'Classifique os exemplos a seguir de acordo com as ' \\\n",
        "    'seguintes polaridades Positivo, Negativo e Neutro.\\n' \\\n",
        "    'EXEMPLOS:\\n{texto}'\n",
        ")"
      ]
    },
    {
      "cell_type": "code",
      "execution_count": null,
      "metadata": {
        "id": "8OPVz0_OAm3o"
      },
      "outputs": [],
      "source": [
        "chain = LLMChain(llm=llm, prompt=input_prompt1)\n",
        "\n",
        "resultado = chain.run(texto=texto)"
      ]
    },
    {
      "cell_type": "code",
      "execution_count": null,
      "metadata": {
        "colab": {
          "base_uri": "https://localhost:8080/"
        },
        "id": "ZHrYlixWAoAz",
        "outputId": "38a97a7e-449c-4a67-fa97-4ddef291e4fd"
      },
      "outputs": [
        {
          "output_type": "stream",
          "name": "stdout",
          "text": [
            "1 - Positivo\n",
            "2 - Neutro\n",
            "3 - Negativo\n",
            "4 - Negativo\n",
            "5 - Positivo\n"
          ]
        }
      ],
      "source": [
        "print(resultado)"
      ]
    },
    {
      "cell_type": "code",
      "source": [
        "input_prompt2 = PromptTemplate(\n",
        "    input_variables=[\"texto\"],\n",
        "    template =\n",
        "    'Classifique os exemplos a seguir de acordo com as polaridades Positivo, Negativo e Neutro.'\\\n",
        "    'Utilize o seguinte formato ###DECLARAÇÃO: <DECLARAÇÃO>\\n###POLARIDADE: <POLARIDADE>.\\n' \\\n",
        "    '{texto}'\n",
        ")"
      ],
      "metadata": {
        "id": "Td3OqZKs2bOV"
      },
      "execution_count": null,
      "outputs": []
    },
    {
      "cell_type": "code",
      "source": [
        "chain = LLMChain(llm=llm, prompt=input_prompt2)\n",
        "resultado = chain.run(texto=texto)\n",
        "print(resultado)"
      ],
      "metadata": {
        "colab": {
          "base_uri": "https://localhost:8080/"
        },
        "id": "naXD5QWg2frU",
        "outputId": "9c942674-a696-4cfc-bf15-f1a8a5bf0077"
      },
      "execution_count": null,
      "outputs": [
        {
          "output_type": "stream",
          "name": "stdout",
          "text": [
            "###DECLARAÇÃO: Minha Experiência na loja foi incrível.\n",
            "###POLARIDADE: Positivo.\n",
            "\n",
            "###DECLARAÇÃO: Eu acho que podiam melhorar o produto.\n",
            "###POLARIDADE: Negativo.\n",
            "\n",
            "###DECLARAÇÃO: O atendimento foi horrível!\n",
            "###POLARIDADE: Negativo.\n",
            "\n",
            "###DECLARAÇÃO: Não volto mais.\n",
            "###POLARIDADE: Negativo.\n",
            "\n",
            "###DECLARAÇÃO: Recomendo demais a banoffe. É uma delícia!\n",
            "###POLARIDADE: Positivo.\n"
          ]
        }
      ]
    },
    {
      "cell_type": "markdown",
      "source": [
        "**Perguntas e Respostas**"
      ],
      "metadata": {
        "id": "cmO65a5R2r91"
      }
    },
    {
      "cell_type": "code",
      "source": [
        "llm = ChatOpenAI(openai_api_key = OPENAI_API_KEY, model_name=\"gpt-3.5-turbo\", temperature=0.1, max_tokens=512)"
      ],
      "metadata": {
        "id": "kV6dvAdu2n_Y"
      },
      "execution_count": null,
      "outputs": []
    },
    {
      "cell_type": "code",
      "source": [
        "input_prompt = PromptTemplate(\n",
        "    input_variables=[\"texto\"],\n",
        "    template =\n",
        "    'Dado o texto a seguir: {texto}\\n' \\\n",
        "    'Gere quatro questões e suas respectivas respostas utilizando o template abaixo.\\n'\\\n",
        "    'Preserve a exata formatação do template apresentado:'\\\n",
        "    'PERGUNTA: <pergunta gerada>'\\\n",
        "    'RESPOSTA: <resposta>'\n",
        ")"
      ],
      "metadata": {
        "id": "OxCu3PV23Pm0"
      },
      "execution_count": null,
      "outputs": []
    },
    {
      "cell_type": "code",
      "source": [
        "texto = 'Alan Mathison Turing (Londres, 23 de junho de 1912 — Wilmslow, Cheshire, 7 de junho de 1954) '\\\n",
        "        'foi um matemático, cientista da computação, lógico, criptoanalista, filósofo e biólogo teórico '\\\n",
        "        'britânico. Turing foi altamente influente no desenvolvimento da moderna ciência da computação '\\\n",
        "        'teórica, proporcionando uma formalização dos conceitos de algoritmo e computação com a máquina '\\\n",
        "        'de Turing, que pode ser considerada um modelo de um computador de uso geral. Ele é amplamente '\\\n",
        "        'considerado o pai da ciência da computação teórica e da inteligência artificial. Apesar dessas '\\\n",
        "        'realizações ele nunca foi totalmente reconhecido em seu país de origem durante sua vida por ser '\\\n",
        "        'homossexual e porque grande parte de seu trabalho foi coberto pela Lei de Segredos Oficiais.'"
      ],
      "metadata": {
        "id": "n8fEw0EZ3To2"
      },
      "execution_count": null,
      "outputs": []
    },
    {
      "cell_type": "code",
      "source": [
        "chain = LLMChain(llm=llm, prompt=input_prompt)\n",
        "resultado = chain.run(texto=texto)\n",
        "\n",
        "print_smaller_lines(resultado, 100)"
      ],
      "metadata": {
        "colab": {
          "base_uri": "https://localhost:8080/"
        },
        "id": "isL-NPsc3TqP",
        "outputId": "f98156cc-ea30-4db6-b9e8-7aef00e4d52f"
      },
      "execution_count": null,
      "outputs": [
        {
          "output_type": "stream",
          "name": "stdout",
          "text": [
            "PERGUNTA: Quais são as possíveis penas para um caso de lesão corporal leve sem contexto de violência\n",
            " doméstica?\n",
            "RESPOSTA: No caso de lesão corporal leve sem contexto de violência doméstica, as possíve\n",
            "is penas podem variar de acordo com a gravidade do caso e as circunstâncias específicas. As principa\n",
            "is penas previstas são: detenção de três meses a um ano, pagamento de multa, prestação de serviços à\n",
            " comunidade e suspensão condicional do processo.\n",
            "\n",
            "PERGUNTA: Quais são os critérios utilizados para d\n",
            "eterminar a pena em um caso de lesão corporal leve?\n",
            "RESPOSTA: Os critérios utilizados para determina\n",
            "r a pena em um caso de lesão corporal leve incluem a gravidade da lesão, as circunstâncias do crime,\n",
            " a conduta do agressor, a existência de antecedentes criminais, entre outros fatores. O juiz analisa\n",
            "rá todas essas informações para decidir qual a pena mais adequada ao caso.\n",
            "\n",
            "PERGUNTA: É possível a a\n",
            "plicação de penas alternativas em um caso de lesão corporal leve?\n",
            "RESPOSTA: Sim, é possível a aplica\n",
            "ção de penas alternativas em um caso de lesão corporal leve. Além da detenção e do pagamento de mult\n",
            "a, o juiz pode optar por penas como a prestação de serviços à comunidade, que consiste na realização\n",
            " de atividades não remuneradas em instituições públicas ou entidades assistenciais, ou a suspensão c\n",
            "ondicional do processo, que impõe certas condições ao agressor, como o comparecimento periódico em j\n",
            "uízo e a proibição de frequentar determinados lugares.\n",
            "\n",
            "PERGUNTA: Quais são as consequências para o \n",
            "agressor em um caso de lesão corporal leve?\n",
            "RESPOSTA: As consequências para o agressor em um caso de\n",
            " lesão corporal leve podem incluir a condenação penal, o registro de antecedentes criminais, o pagam\n",
            "ento de multa, a prestação de serviços à comunidade, a suspensão condicional do processo, entre outr\n",
            "as. Além disso, o agressor poderá ser responsabilizado civilmente, sendo obrigado a indenizar a víti\n",
            "ma\n"
          ]
        }
      ]
    },
    {
      "cell_type": "markdown",
      "source": [
        "## Padrão Persona\n",
        "\n",
        "\n",
        "* Introduz ao modelo uma representação fictícia ou não, normalmente a de um especialista em um domínio ou personalidade específica.\n",
        "\n",
        "*   É útil quando não se tem certeza sobre os detalhes exatos da saída esperada, mas você sabe quem procurar para lhe entregar o resultado esperado.\n",
        "\n"
      ],
      "metadata": {
        "id": "Q-gr5vCL3yBd"
      }
    },
    {
      "cell_type": "markdown",
      "source": [
        "**Um advogado especialista**"
      ],
      "metadata": {
        "id": "iKYPiHtK5BA9"
      }
    },
    {
      "cell_type": "code",
      "source": [
        "llm = ChatOpenAI(openai_api_key = OPENAI_API_KEY, model_name=\"gpt-3.5-turbo\", temperature=0.1, max_tokens=512)"
      ],
      "metadata": {
        "id": "augxr9Yw4JIk"
      },
      "execution_count": null,
      "outputs": []
    },
    {
      "cell_type": "code",
      "source": [
        "texto = 'Escreva como se fosse um advogado brasileiro especialista em direito penal.'\\\n",
        "        'Pontue de forma resumida as possíveis penas para um caso de lesão corporal leve '\\\n",
        "        'sem contexto de violência doméstica.'\n",
        "\n",
        "resultado = llm.predict(texto)\n",
        "print_smaller_lines(resultado, 120)"
      ],
      "metadata": {
        "colab": {
          "base_uri": "https://localhost:8080/"
        },
        "id": "qxZznbOr4Qud",
        "outputId": "54ac8365-dc74-4084-d31c-4458b650fce5"
      },
      "execution_count": null,
      "outputs": [
        {
          "output_type": "stream",
          "name": "stdout",
          "text": [
            "Como advogado especialista em direito penal, é importante ressaltar que as penas para um caso de lesão corporal leve sem\n",
            " contexto de violência doméstica podem variar de acordo com as circunstâncias específicas do caso e a legislação vigente\n",
            " no Brasil. No entanto, de forma geral, as possíveis penas podem incluir:\n",
            "\n",
            "1. Pena de detenção: A pena de detenção pode \n",
            "variar de 3 meses a 1 ano, conforme previsto no artigo 129, § 1º, do Código Penal Brasileiro. Essa pena pode ser convert\n",
            "ida em medidas alternativas, como prestação de serviços à comunidade ou pagamento de multa.\n",
            "\n",
            "2. Multa: Além da pena de d\n",
            "etenção, o agressor pode ser condenado ao pagamento de multa, cujo valor será estabelecido pelo juiz, considerando a cap\n",
            "acidade financeira do agressor e a gravidade da lesão.\n",
            "\n",
            "3. Suspensão condicional do processo: Em alguns casos, é possíve\n",
            "l que o juiz suspenda o processo mediante o cumprimento de determinadas condições, como reparação do dano causado à víti\n",
            "ma, comparecimento periódico em juízo, proibição de se aproximar da vítima, entre outras.\n",
            "\n",
            "4. Transação penal: Nos casos\n",
            " de lesão corporal leve, é possível que o Ministério Público ofereça ao agressor a oportunidade de realizar uma transaçã\n",
            "o penal, que consiste em uma proposta de pena alternativa, como a prestação de serviços à comunidade ou a realização de \n",
            "cursos de educação e conscientização.\n",
            "\n",
            "É importante ressaltar que cada caso é único e as penas podem variar de acordo co\n",
            "m as circunstâncias específicas, como a gravidade da lesão, antecedentes criminais do agressor, entre outros fatores. Po\n",
            "rtanto, é fundamental buscar a orientação de um advogado especializado em direito penal para analisar o caso e garantir \n",
            "a melhor defesa possível.\n"
          ]
        }
      ]
    },
    {
      "cell_type": "markdown",
      "source": [
        "**Referência:**\n",
        "\n",
        "**Tutorial Prompting and Fine-Tuning Pre-trained Generative Language Models**\n",
        "\n",
        "*Johny Moreira, Altigran da Silva, Luciano Barbosa*\n",
        "\n",
        "SIMPÓSIO BRASILEIRO DE BANCO DE DADOS [SBBD]\n",
        "\n",
        "2023\n",
        "\n",
        ">\n",
        "\n",
        "Disponível em: https://github.com/guardiaum/tutorial-sbbd2023\n"
      ],
      "metadata": {
        "id": "LR4xsBFH52hc"
      }
    }
  ],
  "metadata": {
    "colab": {
      "provenance": []
    },
    "kernelspec": {
      "display_name": "Python 3",
      "name": "python3"
    },
    "language_info": {
      "name": "python"
    }
  },
  "nbformat": 4,
  "nbformat_minor": 0
}